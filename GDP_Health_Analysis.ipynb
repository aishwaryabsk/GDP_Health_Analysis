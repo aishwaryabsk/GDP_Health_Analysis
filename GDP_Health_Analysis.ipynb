{
 "cells": [
  {
   "attachments": {},
   "cell_type": "markdown",
   "metadata": {},
   "source": [
    "# Predicting GDP using health, population, and nutrition metrics\n",
    "\n",
    "We are using the Health Nutrition and Population Dataset from Kaggle (https://www.kaggle.com/datasets/theworldbank/health-nutrition-and-population-statistics). For each country and year from 1960-2016, the dataset contains metrics about population dynamics, nutrition, reproductive health, health financing, medical resources and usage, immunization, infectious diseases, HIV/AIDS, DALY, population projections and lending. \n",
    "We are using a separate Kaggle dataset to get information about GDP of a country for every year in 1960-2016. Later in the notebook, we join the two.\n",
    "<br>\n",
    "\n",
    "We plan on creating models that predict/classify a country's GDP based off of these metrics."
   ]
  },
  {
   "cell_type": "markdown",
   "metadata": {},
   "source": [
    "## Data Exploration"
   ]
  },
  {
   "cell_type": "code",
   "execution_count": 76,
   "metadata": {},
   "outputs": [],
   "source": [
    "import pandas as pd\n",
    "import matplotlib.pyplot as plt\n",
    "import seaborn as sns\n",
    "import numpy as np\n",
    "import pandas as pd\n",
    "\n",
    "# Read CSV file with low_memory=False\n",
    "nutr_df = pd.read_csv(\"./data.csv\", low_memory=False)\n",
    "gdp_df = pd.read_csv(\"./gdp.csv\", low_memory=False)"
   ]
  },
  {
   "cell_type": "markdown",
   "metadata": {},
   "source": [
    "As you can see below, nutr_df (which represents the Health, Population, and Nutrition dataset) contains columns for each year from 1960-2016.\n",
    "<br>\n",
    "Each country in the world has around 200 rows. Each row contains data regarding a particular indicator, such as \"Cause of death, by non-communicable diseases (% of total)\""
   ]
  },
  {
   "cell_type": "code",
   "execution_count": 77,
   "metadata": {},
   "outputs": [
    {
     "data": {
      "text/html": [
       "<div>\n",
       "<style scoped>\n",
       "    .dataframe tbody tr th:only-of-type {\n",
       "        vertical-align: middle;\n",
       "    }\n",
       "\n",
       "    .dataframe tbody tr th {\n",
       "        vertical-align: top;\n",
       "    }\n",
       "\n",
       "    .dataframe thead th {\n",
       "        text-align: right;\n",
       "    }\n",
       "</style>\n",
       "<table border=\"1\" class=\"dataframe\">\n",
       "  <thead>\n",
       "    <tr style=\"text-align: right;\">\n",
       "      <th></th>\n",
       "      <th>Country Name</th>\n",
       "      <th>Country Code</th>\n",
       "      <th>Indicator Name</th>\n",
       "      <th>Indicator Code</th>\n",
       "      <th>1960</th>\n",
       "      <th>1961</th>\n",
       "      <th>1962</th>\n",
       "      <th>1963</th>\n",
       "      <th>1964</th>\n",
       "      <th>1965</th>\n",
       "      <th>...</th>\n",
       "      <th>2007</th>\n",
       "      <th>2008</th>\n",
       "      <th>2009</th>\n",
       "      <th>2010</th>\n",
       "      <th>2011</th>\n",
       "      <th>2012</th>\n",
       "      <th>2013</th>\n",
       "      <th>2014</th>\n",
       "      <th>2015</th>\n",
       "      <th>Unnamed: 60</th>\n",
       "    </tr>\n",
       "  </thead>\n",
       "  <tbody>\n",
       "    <tr>\n",
       "      <th>0</th>\n",
       "      <td>Arab World</td>\n",
       "      <td>ARB</td>\n",
       "      <td>% of females ages 15-49 having comprehensive c...</td>\n",
       "      <td>SH.HIV.KNOW.FE.ZS</td>\n",
       "      <td>NaN</td>\n",
       "      <td>NaN</td>\n",
       "      <td>NaN</td>\n",
       "      <td>NaN</td>\n",
       "      <td>NaN</td>\n",
       "      <td>NaN</td>\n",
       "      <td>...</td>\n",
       "      <td>NaN</td>\n",
       "      <td>NaN</td>\n",
       "      <td>NaN</td>\n",
       "      <td>NaN</td>\n",
       "      <td>NaN</td>\n",
       "      <td>NaN</td>\n",
       "      <td>NaN</td>\n",
       "      <td>NaN</td>\n",
       "      <td>NaN</td>\n",
       "      <td>NaN</td>\n",
       "    </tr>\n",
       "    <tr>\n",
       "      <th>1</th>\n",
       "      <td>Arab World</td>\n",
       "      <td>ARB</td>\n",
       "      <td>% of males ages 15-49 having comprehensive cor...</td>\n",
       "      <td>SH.HIV.KNOW.MA.ZS</td>\n",
       "      <td>NaN</td>\n",
       "      <td>NaN</td>\n",
       "      <td>NaN</td>\n",
       "      <td>NaN</td>\n",
       "      <td>NaN</td>\n",
       "      <td>NaN</td>\n",
       "      <td>...</td>\n",
       "      <td>NaN</td>\n",
       "      <td>NaN</td>\n",
       "      <td>NaN</td>\n",
       "      <td>NaN</td>\n",
       "      <td>NaN</td>\n",
       "      <td>NaN</td>\n",
       "      <td>NaN</td>\n",
       "      <td>NaN</td>\n",
       "      <td>NaN</td>\n",
       "      <td>NaN</td>\n",
       "    </tr>\n",
       "    <tr>\n",
       "      <th>2</th>\n",
       "      <td>Arab World</td>\n",
       "      <td>ARB</td>\n",
       "      <td>Adolescent fertility rate (births per 1,000 wo...</td>\n",
       "      <td>SP.ADO.TFRT</td>\n",
       "      <td>133.555013</td>\n",
       "      <td>134.159119</td>\n",
       "      <td>134.857912</td>\n",
       "      <td>134.504576</td>\n",
       "      <td>134.105211</td>\n",
       "      <td>133.569626</td>\n",
       "      <td>...</td>\n",
       "      <td>49.999851</td>\n",
       "      <td>49.887046</td>\n",
       "      <td>49.781207</td>\n",
       "      <td>49.672975</td>\n",
       "      <td>49.536047</td>\n",
       "      <td>49.383745</td>\n",
       "      <td>48.796558</td>\n",
       "      <td>48.196418</td>\n",
       "      <td>NaN</td>\n",
       "      <td>NaN</td>\n",
       "    </tr>\n",
       "    <tr>\n",
       "      <th>3</th>\n",
       "      <td>Arab World</td>\n",
       "      <td>ARB</td>\n",
       "      <td>Adults (ages 15+) and children (0-14 years) li...</td>\n",
       "      <td>SH.HIV.TOTL</td>\n",
       "      <td>NaN</td>\n",
       "      <td>NaN</td>\n",
       "      <td>NaN</td>\n",
       "      <td>NaN</td>\n",
       "      <td>NaN</td>\n",
       "      <td>NaN</td>\n",
       "      <td>...</td>\n",
       "      <td>NaN</td>\n",
       "      <td>NaN</td>\n",
       "      <td>NaN</td>\n",
       "      <td>NaN</td>\n",
       "      <td>NaN</td>\n",
       "      <td>NaN</td>\n",
       "      <td>NaN</td>\n",
       "      <td>NaN</td>\n",
       "      <td>NaN</td>\n",
       "      <td>NaN</td>\n",
       "    </tr>\n",
       "    <tr>\n",
       "      <th>4</th>\n",
       "      <td>Arab World</td>\n",
       "      <td>ARB</td>\n",
       "      <td>Adults (ages 15+) and children (ages 0-14) new...</td>\n",
       "      <td>SH.HIV.INCD.TL</td>\n",
       "      <td>NaN</td>\n",
       "      <td>NaN</td>\n",
       "      <td>NaN</td>\n",
       "      <td>NaN</td>\n",
       "      <td>NaN</td>\n",
       "      <td>NaN</td>\n",
       "      <td>...</td>\n",
       "      <td>NaN</td>\n",
       "      <td>NaN</td>\n",
       "      <td>NaN</td>\n",
       "      <td>NaN</td>\n",
       "      <td>NaN</td>\n",
       "      <td>NaN</td>\n",
       "      <td>NaN</td>\n",
       "      <td>NaN</td>\n",
       "      <td>NaN</td>\n",
       "      <td>NaN</td>\n",
       "    </tr>\n",
       "  </tbody>\n",
       "</table>\n",
       "<p>5 rows × 61 columns</p>\n",
       "</div>"
      ],
      "text/plain": [
       "  Country Name Country Code  \\\n",
       "0   Arab World          ARB   \n",
       "1   Arab World          ARB   \n",
       "2   Arab World          ARB   \n",
       "3   Arab World          ARB   \n",
       "4   Arab World          ARB   \n",
       "\n",
       "                                      Indicator Name     Indicator Code  \\\n",
       "0  % of females ages 15-49 having comprehensive c...  SH.HIV.KNOW.FE.ZS   \n",
       "1  % of males ages 15-49 having comprehensive cor...  SH.HIV.KNOW.MA.ZS   \n",
       "2  Adolescent fertility rate (births per 1,000 wo...        SP.ADO.TFRT   \n",
       "3  Adults (ages 15+) and children (0-14 years) li...        SH.HIV.TOTL   \n",
       "4  Adults (ages 15+) and children (ages 0-14) new...     SH.HIV.INCD.TL   \n",
       "\n",
       "         1960        1961        1962        1963        1964        1965  \\\n",
       "0         NaN         NaN         NaN         NaN         NaN         NaN   \n",
       "1         NaN         NaN         NaN         NaN         NaN         NaN   \n",
       "2  133.555013  134.159119  134.857912  134.504576  134.105211  133.569626   \n",
       "3         NaN         NaN         NaN         NaN         NaN         NaN   \n",
       "4         NaN         NaN         NaN         NaN         NaN         NaN   \n",
       "\n",
       "   ...       2007       2008       2009       2010       2011       2012  \\\n",
       "0  ...        NaN        NaN        NaN        NaN        NaN        NaN   \n",
       "1  ...        NaN        NaN        NaN        NaN        NaN        NaN   \n",
       "2  ...  49.999851  49.887046  49.781207  49.672975  49.536047  49.383745   \n",
       "3  ...        NaN        NaN        NaN        NaN        NaN        NaN   \n",
       "4  ...        NaN        NaN        NaN        NaN        NaN        NaN   \n",
       "\n",
       "        2013       2014  2015  Unnamed: 60  \n",
       "0        NaN        NaN   NaN          NaN  \n",
       "1        NaN        NaN   NaN          NaN  \n",
       "2  48.796558  48.196418   NaN          NaN  \n",
       "3        NaN        NaN   NaN          NaN  \n",
       "4        NaN        NaN   NaN          NaN  \n",
       "\n",
       "[5 rows x 61 columns]"
      ]
     },
     "execution_count": 77,
     "metadata": {},
     "output_type": "execute_result"
    }
   ],
   "source": [
    "nutr_df.head(5)"
   ]
  },
  {
   "cell_type": "markdown",
   "metadata": {},
   "source": [
    "To better understand the indicators we are working with, they are printed below. It is quite impressive how comprehensive this dataset is."
   ]
  },
  {
   "cell_type": "code",
   "execution_count": 79,
   "metadata": {},
   "outputs": [
    {
     "name": "stdout",
     "output_type": "stream",
     "text": [
      "['% of females ages 15-49 having comprehensive correct knowledge about HIV (2 prevent ways and reject 3 misconceptions)', '% of males ages 15-49 having comprehensive correct knowledge about HIV (2 prevent ways and reject 3 misconceptions)', 'Adolescent fertility rate (births per 1,000 women ages 15-19)', 'Adults (ages 15+) and children (0-14 years) living with HIV', 'Adults (ages 15+) and children (ages 0-14) newly infected with HIV', 'Adults (ages 15+) living with HIV', 'Adults (ages 15+) newly infected with HIV', 'Age at first marriage, female', 'Age at first marriage, male', 'Age dependency ratio (% of working-age population)', 'Age dependency ratio, old', 'Age dependency ratio, young', 'Age population, age 0, female, interpolated', 'Age population, age 0, male, interpolated', 'Age population, age 01, female, interpolated', 'Age population, age 01, male, interpolated', 'Age population, age 02, female, interpolated', 'Age population, age 02, male, interpolated', 'Age population, age 03, female, interpolated', 'Age population, age 03, male, interpolated', 'Age population, age 04, female, interpolated', 'Age population, age 04, male, interpolated', 'Age population, age 05, female, interpolated', 'Age population, age 05, male, interpolated', 'Age population, age 06, female, interpolated', 'Age population, age 06, male, interpolated', 'Age population, age 07, female, interpolated', 'Age population, age 07, male, interpolated', 'Age population, age 08, female, interpolated', 'Age population, age 08, male, interpolated', 'Age population, age 09, female, interpolated', 'Age population, age 09, male, interpolated', 'Age population, age 10, female, interpolated', 'Age population, age 10, male, interpolated', 'Age population, age 11, female, interpolated', 'Age population, age 11, male, interpolated', 'Age population, age 12, female, interpolated', 'Age population, age 12, male, interpolated', 'Age population, age 13, female, interpolated', 'Age population, age 13, male, interpolated', 'Age population, age 14, female, interpolated', 'Age population, age 14, male, interpolated', 'Age population, age 15, female, interpolated', 'Age population, age 15, male, interpolated', 'Age population, age 16, female, interpolated', 'Age population, age 16, male, interpolated', 'Age population, age 17, female, interpolated', 'Age population, age 17, male, interpolated', 'Age population, age 18, female, interpolated', 'Age population, age 18, male, interpolated', 'Age population, age 19, female, interpolated', 'Age population, age 19, male, interpolated', 'Age population, age 20, female, interpolated', 'Age population, age 20, male, interpolated', 'Age population, age 21, female, interpolated', 'Age population, age 21, male, interpolated', 'Age population, age 22, female, interpolated', 'Age population, age 22, male, interpolated', 'Age population, age 23, female, interpolated', 'Age population, age 23, male, interpolated', 'Age population, age 24, female, interpolated', 'Age population, age 24, male, interpolated', 'Age population, age 25, female, interpolated', 'Age population, age 25, male, interpolated', 'AIDS estimated deaths (UNAIDS estimates)', 'Antiretroviral therapy coverage (% of people living with HIV)', 'Antiretroviral therapy coverage for PMTCT (% of pregnant women living with HIV)', 'ARI treatment (% of children under 5 taken to a health provider)', 'Birth rate, crude (per 1,000 people)', 'Births attended by skilled health staff (% of total)', 'Cause of death, by communicable diseases and maternal, prenatal and nutrition conditions (% of total)', 'Cause of death, by injury (% of total)', 'Cause of death, by non-communicable diseases (% of total)', 'Children (0-14) living with HIV', 'Children (ages 0-14) newly infected with HIV', 'Children orphaned by HIV/AIDS', 'Children with fever receiving antimalarial drugs (% of children under age 5 with fever)', 'Community health workers (per 1,000 people)', 'Completeness of birth registration (%)', 'Completeness of birth registration, rural (%)', 'Completeness of birth registration, urban (%)', 'Completeness of death registration with cause-of-death information (%)', 'Comprehensive correct knowledge of HIV/AIDS, ages 15-24, female (2 prevent ways and reject 3 misconceptions)', 'Comprehensive correct knowledge of HIV/AIDS, ages 15-24, male (2 prevent ways and reject 3 misconceptions)', 'Condom use with non regular partner, % adults(15-49), female', 'Condom use with non regular partner, % adults(15-49), male', 'Condom use, population ages 15-24, female (% of females ages 15-24)', 'Condom use, population ages 15-24, male (% of males ages 15-24)', 'Consumption of iodized salt (% of households)', 'Contraceptive prevalence, any methods (% of women ages 15-49)', 'Contraceptive prevalence, modern methods (% of women ages 15-49)', 'Death rate, crude (per 1,000 people)', 'Demand for family planning satisfied by any methods (% of married women with demand for family planning)', 'Demand for family planning satisfied by modern methods (% of married women with demand for family planning)', 'Diabetes prevalence (% of population ages 20 to 79)', 'Diarrhea treatment (% of children under 5 receiving oral rehydration and continued feeding)', 'Diarrhea treatment (% of children under 5 who received ORS packet)', 'Exclusive breastfeeding (% of children under 6 months)', 'External resources for health (% of total expenditure on health)', 'Female headed households (% of households with a female head)', 'Female population 00-04', 'Female population 05-09', 'Female population 10-14', 'Female population 15-19', 'Female population 20-24', 'Female population 25-29', 'Female population 30-34', 'Female population 35-39', 'Female population 40-44', 'Female population 45-49', 'Female population 50-54', 'Female population 55-59', 'Female population 60-64', 'Female population 65-69', 'Female population 70-74', 'Female population 75-79', 'Female population 80+', 'Fertility rate, total (births per woman)', 'GNI per capita, Atlas method (current US$)', 'Health expenditure per capita (current US$)', 'Health expenditure per capita, PPP', 'Health expenditure, private (% of GDP)', 'Health expenditure, private (% of total health expenditure)', 'Health expenditure, public (% of GDP)', 'Health expenditure, public (% of government expenditure)', 'Health expenditure, public (% of total health expenditure)', 'Health expenditure, total (% of GDP)', 'Health expenditure, total (current US$)', 'Hospital beds (per 1,000 people)', 'Immunization, BCG (% of one-year-old children)', 'Immunization, DPT (% of children ages 12-23 months)', 'Immunization, HepB3 (% of one-year-old children)', 'Immunization, Hib3 (% of children ages 12-23 months)', 'Immunization, measles (% of children ages 12-23 months)', 'Immunization, Pol3 (% of one-year-old children)', 'Improved sanitation facilities (% of population with access)', 'Improved sanitation facilities, rural (% of rural population with access)', 'Improved sanitation facilities, urban (% of urban population with access)', 'Improved water source (% of population with access)', 'Improved water source, rural (% of rural population with access)', 'Improved water source, urban (% of urban population with access)', 'Incidence of HIV (% of uninfected population ages 15-49)', 'Incidence of tuberculosis (per 100,000 people)', 'Infant and young child feeding practices, all 3 IYCF (% children ages 6-23 months)', 'Labor force, female (% of total labor force)', 'Labor force, total', 'Life expectancy at birth, female (years)', 'Life expectancy at birth, male (years)', 'Life expectancy at birth, total (years)', 'Lifetime risk of maternal death (%)', 'Lifetime risk of maternal death (1 in: rate varies by country)', 'Literacy rate, adult female (% of females ages 15 and above)', 'Literacy rate, adult male (% of males ages 15 and above)', 'Literacy rate, adult total (% of people ages 15 and above)', 'Literacy rate, youth male (% of males ages 15-24)', 'Literacy rate, youth total (% of people ages 15-24)', 'Low-birthweight babies (% of births)', 'Malaria cases reported', 'Male population 00-04', 'Male population 05-09', 'Male population 10-14', 'Male population 15-19', 'Male population 20-24', 'Male population 25-29', 'Male population 30-34', 'Male population 35-39', 'Male population 40-44', 'Male population 45-49', 'Male population 50-54', 'Male population 55-59', 'Male population 60-64', 'Male population 65-69', 'Male population 70-74', 'Male population 75-79', 'Male population 80+', 'Malnutrition prevalence, height for age (% of children under 5)', 'Malnutrition prevalence, height for age, female (% of children under 5)', 'Malnutrition prevalence, height for age, male (% of children under 5)', 'Malnutrition prevalence, weight for age (% of children under 5)', 'Malnutrition prevalence, weight for age, female (% of children under 5)', 'Malnutrition prevalence, weight for age, male (% of children under 5)', 'Maternal leave benefits (% of wages paid in covered period)', 'Maternal mortality ratio (modeled estimate, per 100,000 live births)', 'Maternal mortality ratio (national estimate, per 100,000 live births)', 'Mortality caused by road traffic injury (per 100,000 people)', 'Mortality rate, adult, female (per 1,000 female adults)', 'Mortality rate, adult, male (per 1,000 male adults)', 'Mortality rate, infant (per 1,000 live births)', 'Mortality rate, infant, female (per 1,000 live births)', 'Mortality rate, infant, male (per 1,000 live births)', 'Mortality rate, neonatal (per 1,000 live births)', 'Mortality rate, under-5 (per 1,000)', 'Mortality rate, under-5, female (per 1,000)', 'Mortality rate, under-5, male (per 1,000)', 'Net migration', 'Newborns protected against tetanus (%)', 'Number of infant deaths', 'Number of maternal deaths', 'Number of neonatal deaths', 'Number of people who are undernourished', 'Number of surgical procedures (per 100,000 population)', 'Number of under-five deaths', 'Number of weeks of maternity leave', 'Nurses and midwives (per 1,000 people)', 'Out-of-pocket health expenditure (% of private expenditure on health)', 'Out-of-pocket health expenditure (% of total expenditure on health)', 'People practicing open defecation (% of population)', 'People practicing open defecation, rural (% of rural population)', 'People practicing open defecation, urban (% of urban population)', 'Physicians (per 1,000 people)', 'Population ages 00-04, female (% of female population)', 'Population ages 00-04, male (% of male population)', 'Population ages 00-14 (% of total)', 'Population ages 00-14, female (% of total)', 'Population ages 00-14, male (% of total)', 'Population ages 00-14, total', 'Population ages 0-14, female', 'Population ages 0-14, male', 'Population ages 05-09, female (% of female population)', 'Population ages 05-09, male (% of male population)', 'Population ages 10-14, female (% of female population)', 'Population ages 15-19, female (% of female population)', 'Population ages 15-19, male (% of male population)', 'Population ages 15-64 (% of total)', 'Population ages 15-64, female', 'Population ages 15-64, female (% of total)', 'Population ages 15-64, male', 'Population ages 15-64, male (% of total)', 'Population ages 15-64, total', 'Population ages 20-24, female (% of female population)', 'Population ages 20-24, male (% of male population)', 'Population ages 25-29, female (% of female population)', 'Population ages 25-29, male (% of male population)', 'Population ages 30-34, female (% of female population)', 'Population ages 30-34, male (% of male population)', 'Population ages 35-39, female (% of female population)', 'Population ages 35-39, male (% of male population)', 'Population ages 40-44, female (% of female population)', 'Population ages 40-44, male (% of male population)', 'Population ages 45-49, female (% of female population)', 'Population ages 45-49, male (% of male population)', 'Population ages 50-54, female (% of female population)', 'Population ages 50-54, male (% of male population)', 'Population ages 55-59, female (% of female population)', 'Population ages 55-59, male (% of male population)', 'Population ages 60-64, female (% of female population)', 'Population ages 60-64, male (% of male population)', 'Population ages 65 and above (% of total)', 'Population ages 65 and above, female', 'Population ages 65 and above, female (% of total)', 'Population ages 65 and above, male', 'Population ages 65 and above, male (% of total)', 'Population ages 65 and above, total', 'Population ages 65-69, female (% of female population)', 'Population ages 65-69, male (% of male population)', 'Population ages 70-74, female (% of female population)', 'Population ages 70-74, male (% of male population)', 'Population ages 75-79, female (% of female population)', 'Population ages 75-79, male (% of male population)', 'Population ages 80 and older, female (% of female population)', 'Population ages 80 and older, male (% of male population)', 'Population ages10-14, male (% of male population)', 'Population growth (annual %)', 'Population, female', 'Population, female (% of total)', 'Population, male', 'Population, male (% of total)', 'Population, total', 'Postnatal care coverage (% mothers)', 'Poverty headcount ratio at national poverty line (% of population)', 'Pregnant women receiving prenatal care (%)', 'Pregnant women receiving prenatal care of at least four visits (% of pregnant women)', 'Prevalence of anemia among children (% of children under 5)', 'Prevalence of anemia among non-pregnant women (% of women ages 15-49)', 'Prevalence of anemia among pregnant women (%)', 'Prevalence of anemia among women of reproductive age (% of women ages 15-49)', 'Prevalence of HIV, female (% ages 15-24)', 'Prevalence of HIV, male (% ages 15-24)', 'Prevalence of HIV, total (% of population ages 15-49)', 'Prevalence of overweight (% of adults)', 'Prevalence of overweight (% of children under 5)', 'Prevalence of overweight, female (% of children under 5)', 'Prevalence of overweight, female (% of female adults)', 'Prevalence of overweight, male (% of children under 5)', 'Prevalence of overweight, male (% of male adults)', 'Prevalence of severe wasting, weight for height (% of children under 5)', 'Prevalence of severe wasting, weight for height, female (% of children under 5)', 'Prevalence of severe wasting, weight for height, male (% of children under 5)', 'Prevalence of syphilis (% of women attending antenatal care)', 'Prevalence of tuberculosis (per 100,000 population)', 'Prevalence of undernourishment (% of population)', 'Prevalence of wasting (% of children under 5)', 'Prevalence of wasting, female (% of children under 5)', 'Prevalence of wasting, male (% of children under 5)', 'Primary completion rate, female (% of relevant age group)', 'Primary completion rate, male (% of relevant age group)', 'Primary completion rate, total (% of relevant age group)', 'Public spending on education, total (% of GDP)', 'Ratio of school attendance of orphans to school attendance of non-orphans ages 10-14', 'Ratio of young literate females to males (% ages 15-24)', 'Risk of catastrophic expenditure for surgical care (% of people at risk)', 'Risk of impoverishing expenditure for surgical care (% of people at risk)', 'Rural population', 'Rural population (% of total population)', 'Rural population growth (annual %)', 'Rural poverty headcount ratio at national poverty lines (% of rural population)', 'School enrollment, primary (% gross)', 'School enrollment, primary (% net)', 'School enrollment, primary, female (% gross)', 'School enrollment, primary, female (% net)', 'School enrollment, primary, male (% gross)', 'School enrollment, primary, male (% net)', 'School enrollment, secondary (% gross)', 'School enrollment, secondary (% net)', 'School enrollment, secondary, female (% gross)', 'School enrollment, secondary, female (% net)', 'School enrollment, secondary, male (% gross)', 'School enrollment, secondary, male (% net)', 'School enrollment, tertiary (% gross)', 'School enrollment, tertiary, female (% gross)', 'Sex ratio at birth (male births per female births)', 'Share of women employed in the nonagricultural sector (% of total nonagricultural employment)', 'Smoking prevalence, females (% of adults)', 'Smoking prevalence, males (% of adults)', 'Specialist surgical workforce (per 100,000 population)', 'Survival to age 65, female (% of cohort)', 'Survival to age 65, male (% of cohort)', 'Teenage mothers (% of women ages 15-19 who have had children or are currently pregnant)', 'Tuberculosis case detection rate (all forms)', 'Tuberculosis death rate (per 100,000 people)', 'Tuberculosis treatment success rate (% of new cases)', 'Unemployment, female (% of female labor force)', 'Unemployment, male (% of male labor force)', 'Unemployment, total (% of total labor force)', 'Unmet need for contraception (% of married women ages 15-49)', 'Urban population', 'Urban population (% of total)', 'Urban population growth (annual %)', 'Urban poverty headcount ratio at national poverty lines (% of urban population)', 'Use of any antimalarial drug (% of pregnant women)', 'Use of insecticide-treated bed nets (% of under-5 population)', 'Use of Intermittent Preventive Treatment of malaria, 2+ doses of SP/Fansidar (% of pregnant women)', 'Vitamin A supplementation coverage rate (% of children ages 6-59 months)', 'Wanted fertility rate (births per woman)', \"Women's share of population ages 15+ living with HIV (%)\"]\n"
     ]
    }
   ],
   "source": [
    "print(nutr_df['Indicator Name'].unique().tolist())"
   ]
  },
  {
   "cell_type": "markdown",
   "metadata": {},
   "source": [
    "### Exploring Null Values Per Year\n",
    "\n",
    "We want to see the distribution of null values across the dataset. "
   ]
  },
  {
   "cell_type": "code",
   "execution_count": 7,
   "metadata": {},
   "outputs": [],
   "source": [
    "#get the null counts for each year\n",
    "null_year_df = pd.DataFrame()\n",
    "years=[]\n",
    "null_counts=[]\n",
    "for year in range(1960, 2016):\n",
    "  years.append(str(year))\n",
    "  null_counts.append(nutr_df[str(year)].isna().sum())\n",
    "\n",
    "null_year_df['year']=years\n",
    "null_year_df['null_count']=null_counts"
   ]
  },
  {
   "cell_type": "code",
   "execution_count": 81,
   "metadata": {},
   "outputs": [
    {
     "name": "stderr",
     "output_type": "stream",
     "text": [
      "/var/folders/3s/6h63ktl15h541pj1y1mgy8vw0000gn/T/ipykernel_57715/794625356.py:7: UserWarning:\n",
      "\n",
      "FixedFormatter should only be used together with FixedLocator\n",
      "\n"
     ]
    },
    {
     "data": {
      "image/png": "[encoded data removed]",
      "text/plain": [
       "<Figure size 576x432 with 1 Axes>"
      ]
     },
     "metadata": {},
     "output_type": "display_data"
    }
   ],
   "source": [
    "fig, ax = plt.subplots()\n",
    "sns.lineplot(data=null_year_df, x='year', y='null_count')\n",
    "xticks=ax.xaxis.get_major_ticks()\n",
    "for i in range(len(xticks)):\n",
    "    if i%5!=0:\n",
    "        xticks[i].set_visible(False)\n",
    "ax.set_xticklabels( years, rotation=45 )  \n",
    "plt.title('Nan/Null Counts Per Year in Health Nutrition Population Dataset')      \n",
    "plt.ylabel('nan count')\n",
    "plt.show()"
   ]
  },
  {
   "cell_type": "markdown",
   "metadata": {},
   "source": [
    "The graph above indicates that there are a number of null values in the early years, notably before 1987. This makes sense because data collection was not as simple and prevalent prior to the digital age"
   ]
  },
  {
   "cell_type": "code",
   "execution_count": 88,
   "metadata": {},
   "outputs": [
    {
     "data": {
      "text/plain": [
       "89010"
      ]
     },
     "execution_count": 88,
     "metadata": {},
     "output_type": "execute_result"
    }
   ],
   "source": [
    "num_nulls = nutr_df.isna().any(axis=1).sum()\n",
    "num_nulls"
   ]
  },
  {
   "cell_type": "code",
   "execution_count": 13,
   "metadata": {},
   "outputs": [
    {
     "data": {
      "text/plain": [
       "0"
      ]
     },
     "execution_count": 13,
     "metadata": {},
     "output_type": "execute_result"
    }
   ],
   "source": [
    "num_dups = nutr_df.duplicated().sum()\n",
    "num_dups"
   ]
  },
  {
   "cell_type": "code",
   "execution_count": 92,
   "metadata": {},
   "outputs": [
    {
     "name": "stdout",
     "output_type": "stream",
     "text": [
      "1.0\n"
     ]
    }
   ],
   "source": [
    "print(num_nulls/len(nutr_df))"
   ]
  },
  {
   "attachments": {},
   "cell_type": "markdown",
   "metadata": {},
   "source": [
    "Across all columns, there are 89010 NaNs and 0 duplicates. The number of rows with NaN values is equal to the number of rows in the dataset! Therefore it does not make sense to use dropna() on the dataframe"
   ]
  },
  {
   "attachments": {},
   "cell_type": "markdown",
   "metadata": {},
   "source": [
    "Some of the indicators are in terms of numbers, not percentages, so we will drop any Indicator name that does not contains the words 'rate', '%', 'per', or 'ratio'.\n",
    "The reason for doing this is because larger countries will have larger raw numbers for certain metrics, causing incorrect correlations."
   ]
  },
  {
   "cell_type": "code",
   "execution_count": 14,
   "metadata": {},
   "outputs": [],
   "source": [
    "nutr_df = nutr_df[(nutr_df['Indicator Name'].str.contains('%')) | (nutr_df['Indicator Name'].str.contains('rate')) | (nutr_df['Indicator Name'].str.contains('per')) | (nutr_df['Indicator Name'].str.contains('ratio'))]\n",
    "#df = df[df['Indicator Code'].str.contains('rate|per')]\n"
   ]
  },
  {
   "cell_type": "markdown",
   "metadata": {},
   "source": [
    "### Pivoting the table\n",
    "We will pivot the indicators to the columns and years to the rows. \n",
    "There are two motivators for pivoting the table like this:\n",
    "1. \n",
    "\n",
    "We are pivoting indicators to columns to make future steps in training the model more straightforward. Having the indicators in columns will allow us to easily project the table to indicators of interest. We are pivoting the years to the rows to make it easier to remove None and Nan values by year rather than by row. In our EDA, we see that most rows contain at least one None/Nan value in the columns of early years since not much data was collected then."
   ]
  },
  {
   "cell_type": "code",
   "execution_count": 15,
   "metadata": {},
   "outputs": [
    {
     "name": "stderr",
     "output_type": "stream",
     "text": [
      "/Users/aashvimanakiwala/opt/anaconda3/lib/python3.9/site-packages/pandas/core/frame.py:4906: SettingWithCopyWarning: \n",
      "A value is trying to be set on a copy of a slice from a DataFrame\n",
      "\n",
      "See the caveats in the documentation: https://pandas.pydata.org/pandas-docs/stable/user_guide/indexing.html#returning-a-view-versus-a-copy\n",
      "  return super().drop(\n"
     ]
    }
   ],
   "source": [
    "nutr_df.columns\n",
    "nutr_df.drop(\"Unnamed: 60\", axis=1, inplace=True)"
   ]
  },
  {
   "cell_type": "code",
   "execution_count": 16,
   "metadata": {},
   "outputs": [
    {
     "data": {
      "text/html": [
       "<div>\n",
       "<style scoped>\n",
       "    .dataframe tbody tr th:only-of-type {\n",
       "        vertical-align: middle;\n",
       "    }\n",
       "\n",
       "    .dataframe tbody tr th {\n",
       "        vertical-align: top;\n",
       "    }\n",
       "\n",
       "    .dataframe thead th {\n",
       "        text-align: right;\n",
       "    }\n",
       "</style>\n",
       "<table border=\"1\" class=\"dataframe\">\n",
       "  <thead>\n",
       "    <tr style=\"text-align: right;\">\n",
       "      <th></th>\n",
       "      <th>Country Name</th>\n",
       "      <th>Country Code</th>\n",
       "      <th>Indicator Name</th>\n",
       "      <th>Indicator Code</th>\n",
       "      <th>Year</th>\n",
       "      <th>Value</th>\n",
       "    </tr>\n",
       "  </thead>\n",
       "  <tbody>\n",
       "    <tr>\n",
       "      <th>0</th>\n",
       "      <td>Arab World</td>\n",
       "      <td>ARB</td>\n",
       "      <td>% of females ages 15-49 having comprehensive c...</td>\n",
       "      <td>SH.HIV.KNOW.FE.ZS</td>\n",
       "      <td>1960</td>\n",
       "      <td>NaN</td>\n",
       "    </tr>\n",
       "    <tr>\n",
       "      <th>1</th>\n",
       "      <td>Arab World</td>\n",
       "      <td>ARB</td>\n",
       "      <td>% of males ages 15-49 having comprehensive cor...</td>\n",
       "      <td>SH.HIV.KNOW.MA.ZS</td>\n",
       "      <td>1960</td>\n",
       "      <td>NaN</td>\n",
       "    </tr>\n",
       "    <tr>\n",
       "      <th>2</th>\n",
       "      <td>Arab World</td>\n",
       "      <td>ARB</td>\n",
       "      <td>Adolescent fertility rate (births per 1,000 wo...</td>\n",
       "      <td>SP.ADO.TFRT</td>\n",
       "      <td>1960</td>\n",
       "      <td>133.555013</td>\n",
       "    </tr>\n",
       "    <tr>\n",
       "      <th>3</th>\n",
       "      <td>Arab World</td>\n",
       "      <td>ARB</td>\n",
       "      <td>Age dependency ratio (% of working-age populat...</td>\n",
       "      <td>SP.POP.DPND</td>\n",
       "      <td>1960</td>\n",
       "      <td>87.799235</td>\n",
       "    </tr>\n",
       "    <tr>\n",
       "      <th>4</th>\n",
       "      <td>Arab World</td>\n",
       "      <td>ARB</td>\n",
       "      <td>Antiretroviral therapy coverage (% of people l...</td>\n",
       "      <td>SH.HIV.ARTC.ZS</td>\n",
       "      <td>1960</td>\n",
       "      <td>NaN</td>\n",
       "    </tr>\n",
       "  </tbody>\n",
       "</table>\n",
       "</div>"
      ],
      "text/plain": [
       "  Country Name Country Code  \\\n",
       "0   Arab World          ARB   \n",
       "1   Arab World          ARB   \n",
       "2   Arab World          ARB   \n",
       "3   Arab World          ARB   \n",
       "4   Arab World          ARB   \n",
       "\n",
       "                                      Indicator Name     Indicator Code  Year  \\\n",
       "0  % of females ages 15-49 having comprehensive c...  SH.HIV.KNOW.FE.ZS  1960   \n",
       "1  % of males ages 15-49 having comprehensive cor...  SH.HIV.KNOW.MA.ZS  1960   \n",
       "2  Adolescent fertility rate (births per 1,000 wo...        SP.ADO.TFRT  1960   \n",
       "3  Age dependency ratio (% of working-age populat...        SP.POP.DPND  1960   \n",
       "4  Antiretroviral therapy coverage (% of people l...     SH.HIV.ARTC.ZS  1960   \n",
       "\n",
       "        Value  \n",
       "0         NaN  \n",
       "1         NaN  \n",
       "2  133.555013  \n",
       "3   87.799235  \n",
       "4         NaN  "
      ]
     },
     "execution_count": 16,
     "metadata": {},
     "output_type": "execute_result"
    }
   ],
   "source": [
    "melt_nutr_df = nutr_df.melt(id_vars=[\"Country Name\", \"Country Code\", \"Indicator Name\", \"Indicator Code\"], var_name=\"Year\", value_name=\"Value\")\n",
    "melt_nutr_df.head(5)"
   ]
  },
  {
   "cell_type": "code",
   "execution_count": 17,
   "metadata": {},
   "outputs": [
    {
     "data": {
      "text/html": [
       "<div>\n",
       "<style scoped>\n",
       "    .dataframe tbody tr th:only-of-type {\n",
       "        vertical-align: middle;\n",
       "    }\n",
       "\n",
       "    .dataframe tbody tr th {\n",
       "        vertical-align: top;\n",
       "    }\n",
       "\n",
       "    .dataframe thead th {\n",
       "        text-align: right;\n",
       "    }\n",
       "</style>\n",
       "<table border=\"1\" class=\"dataframe\">\n",
       "  <thead>\n",
       "    <tr style=\"text-align: right;\">\n",
       "      <th>Indicator Code</th>\n",
       "      <th>Country Code</th>\n",
       "      <th>Year</th>\n",
       "      <th>NY.GNP.PCAP.CD</th>\n",
       "      <th>SE.ADT.1524.LT.FM.ZS</th>\n",
       "      <th>SE.ADT.1524.LT.MA.ZS</th>\n",
       "      <th>SE.ADT.1524.LT.ZS</th>\n",
       "      <th>SE.ADT.LITR.FE.ZS</th>\n",
       "      <th>SE.ADT.LITR.MA.ZS</th>\n",
       "      <th>SE.ADT.LITR.ZS</th>\n",
       "      <th>SE.PRM.CMPT.FE.ZS</th>\n",
       "      <th>...</th>\n",
       "      <th>SP.POP.TOTL.MA.ZS</th>\n",
       "      <th>SP.REG.BRTH.RU.ZS</th>\n",
       "      <th>SP.REG.BRTH.UR.ZS</th>\n",
       "      <th>SP.REG.BRTH.ZS</th>\n",
       "      <th>SP.REG.DTHS.ZS</th>\n",
       "      <th>SP.RUR.TOTL.ZG</th>\n",
       "      <th>SP.RUR.TOTL.ZS</th>\n",
       "      <th>SP.URB.GROW</th>\n",
       "      <th>SP.URB.TOTL.IN.ZS</th>\n",
       "      <th>SP.UWT.TFRT</th>\n",
       "    </tr>\n",
       "  </thead>\n",
       "  <tbody>\n",
       "    <tr>\n",
       "      <th>0</th>\n",
       "      <td>ABW</td>\n",
       "      <td>1960</td>\n",
       "      <td>NaN</td>\n",
       "      <td>NaN</td>\n",
       "      <td>NaN</td>\n",
       "      <td>NaN</td>\n",
       "      <td>NaN</td>\n",
       "      <td>NaN</td>\n",
       "      <td>NaN</td>\n",
       "      <td>NaN</td>\n",
       "      <td>...</td>\n",
       "      <td>49.022285</td>\n",
       "      <td>NaN</td>\n",
       "      <td>NaN</td>\n",
       "      <td>NaN</td>\n",
       "      <td>NaN</td>\n",
       "      <td>3.163869</td>\n",
       "      <td>49.224</td>\n",
       "      <td>3.106802</td>\n",
       "      <td>50.776</td>\n",
       "      <td>NaN</td>\n",
       "    </tr>\n",
       "    <tr>\n",
       "      <th>1</th>\n",
       "      <td>ABW</td>\n",
       "      <td>1961</td>\n",
       "      <td>NaN</td>\n",
       "      <td>NaN</td>\n",
       "      <td>NaN</td>\n",
       "      <td>NaN</td>\n",
       "      <td>NaN</td>\n",
       "      <td>NaN</td>\n",
       "      <td>NaN</td>\n",
       "      <td>NaN</td>\n",
       "      <td>...</td>\n",
       "      <td>49.037612</td>\n",
       "      <td>NaN</td>\n",
       "      <td>NaN</td>\n",
       "      <td>NaN</td>\n",
       "      <td>NaN</td>\n",
       "      <td>2.271351</td>\n",
       "      <td>49.239</td>\n",
       "      <td>2.206183</td>\n",
       "      <td>50.761</td>\n",
       "      <td>NaN</td>\n",
       "    </tr>\n",
       "    <tr>\n",
       "      <th>2</th>\n",
       "      <td>ABW</td>\n",
       "      <td>1962</td>\n",
       "      <td>NaN</td>\n",
       "      <td>NaN</td>\n",
       "      <td>NaN</td>\n",
       "      <td>NaN</td>\n",
       "      <td>NaN</td>\n",
       "      <td>NaN</td>\n",
       "      <td>NaN</td>\n",
       "      <td>NaN</td>\n",
       "      <td>...</td>\n",
       "      <td>49.032476</td>\n",
       "      <td>NaN</td>\n",
       "      <td>NaN</td>\n",
       "      <td>NaN</td>\n",
       "      <td>NaN</td>\n",
       "      <td>1.447561</td>\n",
       "      <td>49.254</td>\n",
       "      <td>1.386975</td>\n",
       "      <td>50.746</td>\n",
       "      <td>NaN</td>\n",
       "    </tr>\n",
       "    <tr>\n",
       "      <th>3</th>\n",
       "      <td>ABW</td>\n",
       "      <td>1963</td>\n",
       "      <td>NaN</td>\n",
       "      <td>NaN</td>\n",
       "      <td>NaN</td>\n",
       "      <td>NaN</td>\n",
       "      <td>NaN</td>\n",
       "      <td>NaN</td>\n",
       "      <td>NaN</td>\n",
       "      <td>NaN</td>\n",
       "      <td>...</td>\n",
       "      <td>49.014939</td>\n",
       "      <td>NaN</td>\n",
       "      <td>NaN</td>\n",
       "      <td>NaN</td>\n",
       "      <td>NaN</td>\n",
       "      <td>0.866460</td>\n",
       "      <td>49.270</td>\n",
       "      <td>0.802881</td>\n",
       "      <td>50.730</td>\n",
       "      <td>NaN</td>\n",
       "    </tr>\n",
       "    <tr>\n",
       "      <th>4</th>\n",
       "      <td>ABW</td>\n",
       "      <td>1964</td>\n",
       "      <td>NaN</td>\n",
       "      <td>NaN</td>\n",
       "      <td>NaN</td>\n",
       "      <td>NaN</td>\n",
       "      <td>NaN</td>\n",
       "      <td>NaN</td>\n",
       "      <td>NaN</td>\n",
       "      <td>NaN</td>\n",
       "      <td>...</td>\n",
       "      <td>48.994371</td>\n",
       "      <td>NaN</td>\n",
       "      <td>NaN</td>\n",
       "      <td>NaN</td>\n",
       "      <td>NaN</td>\n",
       "      <td>0.613827</td>\n",
       "      <td>49.285</td>\n",
       "      <td>0.554748</td>\n",
       "      <td>50.715</td>\n",
       "      <td>NaN</td>\n",
       "    </tr>\n",
       "  </tbody>\n",
       "</table>\n",
       "<p>5 rows × 219 columns</p>\n",
       "</div>"
      ],
      "text/plain": [
       "Indicator Code Country Code  Year  NY.GNP.PCAP.CD  SE.ADT.1524.LT.FM.ZS  \\\n",
       "0                       ABW  1960             NaN                   NaN   \n",
       "1                       ABW  1961             NaN                   NaN   \n",
       "2                       ABW  1962             NaN                   NaN   \n",
       "3                       ABW  1963             NaN                   NaN   \n",
       "4                       ABW  1964             NaN                   NaN   \n",
       "\n",
       "Indicator Code  SE.ADT.1524.LT.MA.ZS  SE.ADT.1524.LT.ZS  SE.ADT.LITR.FE.ZS  \\\n",
       "0                                NaN                NaN                NaN   \n",
       "1                                NaN                NaN                NaN   \n",
       "2                                NaN                NaN                NaN   \n",
       "3                                NaN                NaN                NaN   \n",
       "4                                NaN                NaN                NaN   \n",
       "\n",
       "Indicator Code  SE.ADT.LITR.MA.ZS  SE.ADT.LITR.ZS  SE.PRM.CMPT.FE.ZS  ...  \\\n",
       "0                             NaN             NaN                NaN  ...   \n",
       "1                             NaN             NaN                NaN  ...   \n",
       "2                             NaN             NaN                NaN  ...   \n",
       "3                             NaN             NaN                NaN  ...   \n",
       "4                             NaN             NaN                NaN  ...   \n",
       "\n",
       "Indicator Code  SP.POP.TOTL.MA.ZS  SP.REG.BRTH.RU.ZS  SP.REG.BRTH.UR.ZS  \\\n",
       "0                       49.022285                NaN                NaN   \n",
       "1                       49.037612                NaN                NaN   \n",
       "2                       49.032476                NaN                NaN   \n",
       "3                       49.014939                NaN                NaN   \n",
       "4                       48.994371                NaN                NaN   \n",
       "\n",
       "Indicator Code  SP.REG.BRTH.ZS  SP.REG.DTHS.ZS  SP.RUR.TOTL.ZG  \\\n",
       "0                          NaN             NaN        3.163869   \n",
       "1                          NaN             NaN        2.271351   \n",
       "2                          NaN             NaN        1.447561   \n",
       "3                          NaN             NaN        0.866460   \n",
       "4                          NaN             NaN        0.613827   \n",
       "\n",
       "Indicator Code  SP.RUR.TOTL.ZS  SP.URB.GROW  SP.URB.TOTL.IN.ZS  SP.UWT.TFRT  \n",
       "0                       49.224     3.106802             50.776          NaN  \n",
       "1                       49.239     2.206183             50.761          NaN  \n",
       "2                       49.254     1.386975             50.746          NaN  \n",
       "3                       49.270     0.802881             50.730          NaN  \n",
       "4                       49.285     0.554748             50.715          NaN  \n",
       "\n",
       "[5 rows x 219 columns]"
      ]
     },
     "execution_count": 17,
     "metadata": {},
     "output_type": "execute_result"
    }
   ],
   "source": [
    "pivoted_df = melt_nutr_df.pivot_table(index=['Country Code', 'Year'], columns='Indicator Code', values='Value').reset_index()\n",
    "\n",
    "pivoted_df.head(5)\n"
   ]
  },
  {
   "attachments": {},
   "cell_type": "markdown",
   "metadata": {},
   "source": [
    "We will also pivot population table."
   ]
  },
  {
   "cell_type": "code",
   "execution_count": 18,
   "metadata": {},
   "outputs": [
    {
     "data": {
      "text/html": [
       "<div>\n",
       "<style scoped>\n",
       "    .dataframe tbody tr th:only-of-type {\n",
       "        vertical-align: middle;\n",
       "    }\n",
       "\n",
       "    .dataframe tbody tr th {\n",
       "        vertical-align: top;\n",
       "    }\n",
       "\n",
       "    .dataframe thead th {\n",
       "        text-align: right;\n",
       "    }\n",
       "</style>\n",
       "<table border=\"1\" class=\"dataframe\">\n",
       "  <thead>\n",
       "    <tr style=\"text-align: right;\">\n",
       "      <th>Indicator Code</th>\n",
       "      <th>Country Code</th>\n",
       "      <th>Year</th>\n",
       "      <th>NY.GNP.PCAP.CD</th>\n",
       "      <th>SE.ADT.1524.LT.FM.ZS</th>\n",
       "      <th>SE.ADT.1524.LT.MA.ZS</th>\n",
       "      <th>SE.ADT.1524.LT.ZS</th>\n",
       "      <th>SE.ADT.LITR.FE.ZS</th>\n",
       "      <th>SE.ADT.LITR.MA.ZS</th>\n",
       "      <th>SE.ADT.LITR.ZS</th>\n",
       "      <th>SE.PRM.CMPT.FE.ZS</th>\n",
       "      <th>...</th>\n",
       "      <th>SP.POP.TOTL.MA.ZS</th>\n",
       "      <th>SP.REG.BRTH.RU.ZS</th>\n",
       "      <th>SP.REG.BRTH.UR.ZS</th>\n",
       "      <th>SP.REG.BRTH.ZS</th>\n",
       "      <th>SP.REG.DTHS.ZS</th>\n",
       "      <th>SP.RUR.TOTL.ZG</th>\n",
       "      <th>SP.RUR.TOTL.ZS</th>\n",
       "      <th>SP.URB.GROW</th>\n",
       "      <th>SP.URB.TOTL.IN.ZS</th>\n",
       "      <th>SP.UWT.TFRT</th>\n",
       "    </tr>\n",
       "  </thead>\n",
       "  <tbody>\n",
       "    <tr>\n",
       "      <th>0</th>\n",
       "      <td>ABW</td>\n",
       "      <td>1960</td>\n",
       "      <td>NaN</td>\n",
       "      <td>NaN</td>\n",
       "      <td>NaN</td>\n",
       "      <td>NaN</td>\n",
       "      <td>NaN</td>\n",
       "      <td>NaN</td>\n",
       "      <td>NaN</td>\n",
       "      <td>NaN</td>\n",
       "      <td>...</td>\n",
       "      <td>49.022285</td>\n",
       "      <td>NaN</td>\n",
       "      <td>NaN</td>\n",
       "      <td>NaN</td>\n",
       "      <td>NaN</td>\n",
       "      <td>3.163869</td>\n",
       "      <td>49.224</td>\n",
       "      <td>3.106802</td>\n",
       "      <td>50.776</td>\n",
       "      <td>NaN</td>\n",
       "    </tr>\n",
       "    <tr>\n",
       "      <th>1</th>\n",
       "      <td>ABW</td>\n",
       "      <td>1961</td>\n",
       "      <td>NaN</td>\n",
       "      <td>NaN</td>\n",
       "      <td>NaN</td>\n",
       "      <td>NaN</td>\n",
       "      <td>NaN</td>\n",
       "      <td>NaN</td>\n",
       "      <td>NaN</td>\n",
       "      <td>NaN</td>\n",
       "      <td>...</td>\n",
       "      <td>49.037612</td>\n",
       "      <td>NaN</td>\n",
       "      <td>NaN</td>\n",
       "      <td>NaN</td>\n",
       "      <td>NaN</td>\n",
       "      <td>2.271351</td>\n",
       "      <td>49.239</td>\n",
       "      <td>2.206183</td>\n",
       "      <td>50.761</td>\n",
       "      <td>NaN</td>\n",
       "    </tr>\n",
       "    <tr>\n",
       "      <th>2</th>\n",
       "      <td>ABW</td>\n",
       "      <td>1962</td>\n",
       "      <td>NaN</td>\n",
       "      <td>NaN</td>\n",
       "      <td>NaN</td>\n",
       "      <td>NaN</td>\n",
       "      <td>NaN</td>\n",
       "      <td>NaN</td>\n",
       "      <td>NaN</td>\n",
       "      <td>NaN</td>\n",
       "      <td>...</td>\n",
       "      <td>49.032476</td>\n",
       "      <td>NaN</td>\n",
       "      <td>NaN</td>\n",
       "      <td>NaN</td>\n",
       "      <td>NaN</td>\n",
       "      <td>1.447561</td>\n",
       "      <td>49.254</td>\n",
       "      <td>1.386975</td>\n",
       "      <td>50.746</td>\n",
       "      <td>NaN</td>\n",
       "    </tr>\n",
       "    <tr>\n",
       "      <th>3</th>\n",
       "      <td>ABW</td>\n",
       "      <td>1963</td>\n",
       "      <td>NaN</td>\n",
       "      <td>NaN</td>\n",
       "      <td>NaN</td>\n",
       "      <td>NaN</td>\n",
       "      <td>NaN</td>\n",
       "      <td>NaN</td>\n",
       "      <td>NaN</td>\n",
       "      <td>NaN</td>\n",
       "      <td>...</td>\n",
       "      <td>49.014939</td>\n",
       "      <td>NaN</td>\n",
       "      <td>NaN</td>\n",
       "      <td>NaN</td>\n",
       "      <td>NaN</td>\n",
       "      <td>0.866460</td>\n",
       "      <td>49.270</td>\n",
       "      <td>0.802881</td>\n",
       "      <td>50.730</td>\n",
       "      <td>NaN</td>\n",
       "    </tr>\n",
       "    <tr>\n",
       "      <th>4</th>\n",
       "      <td>ABW</td>\n",
       "      <td>1964</td>\n",
       "      <td>NaN</td>\n",
       "      <td>NaN</td>\n",
       "      <td>NaN</td>\n",
       "      <td>NaN</td>\n",
       "      <td>NaN</td>\n",
       "      <td>NaN</td>\n",
       "      <td>NaN</td>\n",
       "      <td>NaN</td>\n",
       "      <td>...</td>\n",
       "      <td>48.994371</td>\n",
       "      <td>NaN</td>\n",
       "      <td>NaN</td>\n",
       "      <td>NaN</td>\n",
       "      <td>NaN</td>\n",
       "      <td>0.613827</td>\n",
       "      <td>49.285</td>\n",
       "      <td>0.554748</td>\n",
       "      <td>50.715</td>\n",
       "      <td>NaN</td>\n",
       "    </tr>\n",
       "  </tbody>\n",
       "</table>\n",
       "<p>5 rows × 219 columns</p>\n",
       "</div>"
      ],
      "text/plain": [
       "Indicator Code Country Code  Year  NY.GNP.PCAP.CD  SE.ADT.1524.LT.FM.ZS  \\\n",
       "0                       ABW  1960             NaN                   NaN   \n",
       "1                       ABW  1961             NaN                   NaN   \n",
       "2                       ABW  1962             NaN                   NaN   \n",
       "3                       ABW  1963             NaN                   NaN   \n",
       "4                       ABW  1964             NaN                   NaN   \n",
       "\n",
       "Indicator Code  SE.ADT.1524.LT.MA.ZS  SE.ADT.1524.LT.ZS  SE.ADT.LITR.FE.ZS  \\\n",
       "0                                NaN                NaN                NaN   \n",
       "1                                NaN                NaN                NaN   \n",
       "2                                NaN                NaN                NaN   \n",
       "3                                NaN                NaN                NaN   \n",
       "4                                NaN                NaN                NaN   \n",
       "\n",
       "Indicator Code  SE.ADT.LITR.MA.ZS  SE.ADT.LITR.ZS  SE.PRM.CMPT.FE.ZS  ...  \\\n",
       "0                             NaN             NaN                NaN  ...   \n",
       "1                             NaN             NaN                NaN  ...   \n",
       "2                             NaN             NaN                NaN  ...   \n",
       "3                             NaN             NaN                NaN  ...   \n",
       "4                             NaN             NaN                NaN  ...   \n",
       "\n",
       "Indicator Code  SP.POP.TOTL.MA.ZS  SP.REG.BRTH.RU.ZS  SP.REG.BRTH.UR.ZS  \\\n",
       "0                       49.022285                NaN                NaN   \n",
       "1                       49.037612                NaN                NaN   \n",
       "2                       49.032476                NaN                NaN   \n",
       "3                       49.014939                NaN                NaN   \n",
       "4                       48.994371                NaN                NaN   \n",
       "\n",
       "Indicator Code  SP.REG.BRTH.ZS  SP.REG.DTHS.ZS  SP.RUR.TOTL.ZG  \\\n",
       "0                          NaN             NaN        3.163869   \n",
       "1                          NaN             NaN        2.271351   \n",
       "2                          NaN             NaN        1.447561   \n",
       "3                          NaN             NaN        0.866460   \n",
       "4                          NaN             NaN        0.613827   \n",
       "\n",
       "Indicator Code  SP.RUR.TOTL.ZS  SP.URB.GROW  SP.URB.TOTL.IN.ZS  SP.UWT.TFRT  \n",
       "0                       49.224     3.106802             50.776          NaN  \n",
       "1                       49.239     2.206183             50.761          NaN  \n",
       "2                       49.254     1.386975             50.746          NaN  \n",
       "3                       49.270     0.802881             50.730          NaN  \n",
       "4                       49.285     0.554748             50.715          NaN  \n",
       "\n",
       "[5 rows x 219 columns]"
      ]
     },
     "execution_count": 18,
     "metadata": {},
     "output_type": "execute_result"
    }
   ],
   "source": [
    "pivoted_df.head(5)"
   ]
  },
  {
   "cell_type": "code",
   "execution_count": 19,
   "metadata": {},
   "outputs": [
    {
     "name": "stdout",
     "output_type": "stream",
     "text": [
      "Number of rows where Value is null: 1994589\n"
     ]
    }
   ],
   "source": [
    "num_null = melt_nutr_df[\"Value\"].isnull().sum()\n",
    "print(\"Number of rows where Value is null:\", num_null)"
   ]
  },
  {
   "cell_type": "code",
   "execution_count": 20,
   "metadata": {},
   "outputs": [],
   "source": [
    "melt_nutr_df.dropna(subset=['Value'], inplace=True)\n"
   ]
  },
  {
   "cell_type": "markdown",
   "metadata": {},
   "source": [
    "### Exploring the GDP Dataset"
   ]
  },
  {
   "cell_type": "code",
   "execution_count": 82,
   "metadata": {},
   "outputs": [],
   "source": [
    "null_year_df_gdp = pd.DataFrame()\n",
    "years=[]\n",
    "null_counts=[]\n",
    "for year in range(1960, 2016):\n",
    "  years.append(str(year))\n",
    "  null_counts.append(gdp_df[str(year)].isna().sum())\n",
    "\n",
    "null_year_df_gdp['year']=years\n",
    "null_year_df_gdp['null_count']=null_counts"
   ]
  },
  {
   "cell_type": "code",
   "execution_count": 83,
   "metadata": {},
   "outputs": [
    {
     "name": "stderr",
     "output_type": "stream",
     "text": [
      "/var/folders/3s/6h63ktl15h541pj1y1mgy8vw0000gn/T/ipykernel_57715/3581963290.py:7: UserWarning:\n",
      "\n",
      "FixedFormatter should only be used together with FixedLocator\n",
      "\n"
     ]
    },
    {
     "data": {
      "image/png": "[encoded data removed]",
      "text/plain": [
       "<Figure size 576x432 with 1 Axes>"
      ]
     },
     "metadata": {},
     "output_type": "display_data"
    }
   ],
   "source": [
    "fig, ax = plt.subplots()\n",
    "sns.lineplot(data=null_year_df_gdp, x='year', y='null_count')\n",
    "xticks=ax.xaxis.get_major_ticks()\n",
    "for i in range(len(xticks)):\n",
    "    if i%5!=0:\n",
    "        xticks[i].set_visible(False)\n",
    "ax.set_xticklabels( years, rotation=45 )   \n",
    "plt.title('Nan/Null Counts Per Year in GDP Dataset')      \n",
    "plt.ylabel('nan count')     \n",
    "plt.show()"
   ]
  },
  {
   "cell_type": "markdown",
   "metadata": {},
   "source": [
    "## Correlation Matrix\n",
    "In the following cells, we will determine which indicators have the greatest impact on a country's GDP. This will be done though by finding the correlation between the GDP and each indicator."
   ]
  },
  {
   "attachments": {},
   "cell_type": "markdown",
   "metadata": {},
   "source": [
    "melt_nutr_df does not contain the GDP of the countries, so we will use another dataset on countries and their GDP values by years and join it with melt_nutr_df on country code.\n",
    "\n",
    "There are a lot of NaN values for some years (earlier ones) was just not collected. We will remove NaN values since there is not a better way to deal with them.\n",
    "We will also rename the value columns to make it clear which values are from nutritional datasets and which indicate the gdp of the country for the specific year."
   ]
  },
  {
   "attachments": {},
   "cell_type": "markdown",
   "metadata": {},
   "source": [
    "pivoting gdp"
   ]
  },
  {
   "cell_type": "code",
   "execution_count": 21,
   "metadata": {},
   "outputs": [
    {
     "data": {
      "text/html": [
       "<div>\n",
       "<style scoped>\n",
       "    .dataframe tbody tr th:only-of-type {\n",
       "        vertical-align: middle;\n",
       "    }\n",
       "\n",
       "    .dataframe tbody tr th {\n",
       "        vertical-align: top;\n",
       "    }\n",
       "\n",
       "    .dataframe thead th {\n",
       "        text-align: right;\n",
       "    }\n",
       "</style>\n",
       "<table border=\"1\" class=\"dataframe\">\n",
       "  <thead>\n",
       "    <tr style=\"text-align: right;\">\n",
       "      <th>Indicator Code</th>\n",
       "      <th>Country Code</th>\n",
       "      <th>Year</th>\n",
       "      <th>NY.GNP.PCAP.CD</th>\n",
       "      <th>SE.ADT.1524.LT.FM.ZS</th>\n",
       "      <th>SE.ADT.1524.LT.MA.ZS</th>\n",
       "      <th>SE.ADT.1524.LT.ZS</th>\n",
       "      <th>SE.ADT.LITR.FE.ZS</th>\n",
       "      <th>SE.ADT.LITR.MA.ZS</th>\n",
       "      <th>SE.ADT.LITR.ZS</th>\n",
       "      <th>SE.PRM.CMPT.FE.ZS</th>\n",
       "      <th>...</th>\n",
       "      <th>SP.POP.TOTL.MA.ZS</th>\n",
       "      <th>SP.REG.BRTH.RU.ZS</th>\n",
       "      <th>SP.REG.BRTH.UR.ZS</th>\n",
       "      <th>SP.REG.BRTH.ZS</th>\n",
       "      <th>SP.REG.DTHS.ZS</th>\n",
       "      <th>SP.RUR.TOTL.ZG</th>\n",
       "      <th>SP.RUR.TOTL.ZS</th>\n",
       "      <th>SP.URB.GROW</th>\n",
       "      <th>SP.URB.TOTL.IN.ZS</th>\n",
       "      <th>SP.UWT.TFRT</th>\n",
       "    </tr>\n",
       "  </thead>\n",
       "  <tbody>\n",
       "    <tr>\n",
       "      <th>0</th>\n",
       "      <td>ABW</td>\n",
       "      <td>1960</td>\n",
       "      <td>NaN</td>\n",
       "      <td>NaN</td>\n",
       "      <td>NaN</td>\n",
       "      <td>NaN</td>\n",
       "      <td>NaN</td>\n",
       "      <td>NaN</td>\n",
       "      <td>NaN</td>\n",
       "      <td>NaN</td>\n",
       "      <td>...</td>\n",
       "      <td>49.022285</td>\n",
       "      <td>NaN</td>\n",
       "      <td>NaN</td>\n",
       "      <td>NaN</td>\n",
       "      <td>NaN</td>\n",
       "      <td>3.163869</td>\n",
       "      <td>49.224</td>\n",
       "      <td>3.106802</td>\n",
       "      <td>50.776</td>\n",
       "      <td>NaN</td>\n",
       "    </tr>\n",
       "    <tr>\n",
       "      <th>1</th>\n",
       "      <td>ABW</td>\n",
       "      <td>1961</td>\n",
       "      <td>NaN</td>\n",
       "      <td>NaN</td>\n",
       "      <td>NaN</td>\n",
       "      <td>NaN</td>\n",
       "      <td>NaN</td>\n",
       "      <td>NaN</td>\n",
       "      <td>NaN</td>\n",
       "      <td>NaN</td>\n",
       "      <td>...</td>\n",
       "      <td>49.037612</td>\n",
       "      <td>NaN</td>\n",
       "      <td>NaN</td>\n",
       "      <td>NaN</td>\n",
       "      <td>NaN</td>\n",
       "      <td>2.271351</td>\n",
       "      <td>49.239</td>\n",
       "      <td>2.206183</td>\n",
       "      <td>50.761</td>\n",
       "      <td>NaN</td>\n",
       "    </tr>\n",
       "    <tr>\n",
       "      <th>2</th>\n",
       "      <td>ABW</td>\n",
       "      <td>1962</td>\n",
       "      <td>NaN</td>\n",
       "      <td>NaN</td>\n",
       "      <td>NaN</td>\n",
       "      <td>NaN</td>\n",
       "      <td>NaN</td>\n",
       "      <td>NaN</td>\n",
       "      <td>NaN</td>\n",
       "      <td>NaN</td>\n",
       "      <td>...</td>\n",
       "      <td>49.032476</td>\n",
       "      <td>NaN</td>\n",
       "      <td>NaN</td>\n",
       "      <td>NaN</td>\n",
       "      <td>NaN</td>\n",
       "      <td>1.447561</td>\n",
       "      <td>49.254</td>\n",
       "      <td>1.386975</td>\n",
       "      <td>50.746</td>\n",
       "      <td>NaN</td>\n",
       "    </tr>\n",
       "    <tr>\n",
       "      <th>3</th>\n",
       "      <td>ABW</td>\n",
       "      <td>1963</td>\n",
       "      <td>NaN</td>\n",
       "      <td>NaN</td>\n",
       "      <td>NaN</td>\n",
       "      <td>NaN</td>\n",
       "      <td>NaN</td>\n",
       "      <td>NaN</td>\n",
       "      <td>NaN</td>\n",
       "      <td>NaN</td>\n",
       "      <td>...</td>\n",
       "      <td>49.014939</td>\n",
       "      <td>NaN</td>\n",
       "      <td>NaN</td>\n",
       "      <td>NaN</td>\n",
       "      <td>NaN</td>\n",
       "      <td>0.866460</td>\n",
       "      <td>49.270</td>\n",
       "      <td>0.802881</td>\n",
       "      <td>50.730</td>\n",
       "      <td>NaN</td>\n",
       "    </tr>\n",
       "    <tr>\n",
       "      <th>4</th>\n",
       "      <td>ABW</td>\n",
       "      <td>1964</td>\n",
       "      <td>NaN</td>\n",
       "      <td>NaN</td>\n",
       "      <td>NaN</td>\n",
       "      <td>NaN</td>\n",
       "      <td>NaN</td>\n",
       "      <td>NaN</td>\n",
       "      <td>NaN</td>\n",
       "      <td>NaN</td>\n",
       "      <td>...</td>\n",
       "      <td>48.994371</td>\n",
       "      <td>NaN</td>\n",
       "      <td>NaN</td>\n",
       "      <td>NaN</td>\n",
       "      <td>NaN</td>\n",
       "      <td>0.613827</td>\n",
       "      <td>49.285</td>\n",
       "      <td>0.554748</td>\n",
       "      <td>50.715</td>\n",
       "      <td>NaN</td>\n",
       "    </tr>\n",
       "  </tbody>\n",
       "</table>\n",
       "<p>5 rows × 219 columns</p>\n",
       "</div>"
      ],
      "text/plain": [
       "Indicator Code Country Code  Year  NY.GNP.PCAP.CD  SE.ADT.1524.LT.FM.ZS  \\\n",
       "0                       ABW  1960             NaN                   NaN   \n",
       "1                       ABW  1961             NaN                   NaN   \n",
       "2                       ABW  1962             NaN                   NaN   \n",
       "3                       ABW  1963             NaN                   NaN   \n",
       "4                       ABW  1964             NaN                   NaN   \n",
       "\n",
       "Indicator Code  SE.ADT.1524.LT.MA.ZS  SE.ADT.1524.LT.ZS  SE.ADT.LITR.FE.ZS  \\\n",
       "0                                NaN                NaN                NaN   \n",
       "1                                NaN                NaN                NaN   \n",
       "2                                NaN                NaN                NaN   \n",
       "3                                NaN                NaN                NaN   \n",
       "4                                NaN                NaN                NaN   \n",
       "\n",
       "Indicator Code  SE.ADT.LITR.MA.ZS  SE.ADT.LITR.ZS  SE.PRM.CMPT.FE.ZS  ...  \\\n",
       "0                             NaN             NaN                NaN  ...   \n",
       "1                             NaN             NaN                NaN  ...   \n",
       "2                             NaN             NaN                NaN  ...   \n",
       "3                             NaN             NaN                NaN  ...   \n",
       "4                             NaN             NaN                NaN  ...   \n",
       "\n",
       "Indicator Code  SP.POP.TOTL.MA.ZS  SP.REG.BRTH.RU.ZS  SP.REG.BRTH.UR.ZS  \\\n",
       "0                       49.022285                NaN                NaN   \n",
       "1                       49.037612                NaN                NaN   \n",
       "2                       49.032476                NaN                NaN   \n",
       "3                       49.014939                NaN                NaN   \n",
       "4                       48.994371                NaN                NaN   \n",
       "\n",
       "Indicator Code  SP.REG.BRTH.ZS  SP.REG.DTHS.ZS  SP.RUR.TOTL.ZG  \\\n",
       "0                          NaN             NaN        3.163869   \n",
       "1                          NaN             NaN        2.271351   \n",
       "2                          NaN             NaN        1.447561   \n",
       "3                          NaN             NaN        0.866460   \n",
       "4                          NaN             NaN        0.613827   \n",
       "\n",
       "Indicator Code  SP.RUR.TOTL.ZS  SP.URB.GROW  SP.URB.TOTL.IN.ZS  SP.UWT.TFRT  \n",
       "0                       49.224     3.106802             50.776          NaN  \n",
       "1                       49.239     2.206183             50.761          NaN  \n",
       "2                       49.254     1.386975             50.746          NaN  \n",
       "3                       49.270     0.802881             50.730          NaN  \n",
       "4                       49.285     0.554748             50.715          NaN  \n",
       "\n",
       "[5 rows x 219 columns]"
      ]
     },
     "execution_count": 21,
     "metadata": {},
     "output_type": "execute_result"
    }
   ],
   "source": [
    "melt_gdp_df = gdp_df.melt(id_vars=[\"Country Name\", \"Code\"], var_name=\"Year\", value_name=\"Value\")\n",
    "melt_gdp_df.head(5)\n",
    "pivoted_df.head(5)"
   ]
  },
  {
   "cell_type": "code",
   "execution_count": 22,
   "metadata": {},
   "outputs": [],
   "source": [
    "#drop country name because this is available from nutritional dataset\n",
    "melt_gdp_df = melt_gdp_df.drop(columns=['Country Name'])"
   ]
  },
  {
   "cell_type": "code",
   "execution_count": 23,
   "metadata": {},
   "outputs": [],
   "source": [
    "#merge the two tables to get country's gdp for the given year\n",
    "merged_gdp = pd.merge(pivoted_df, melt_gdp_df, left_on=['Country Code', 'Year'], right_on=['Code', 'Year'])\n",
    "#rename columns\n",
    "merged_gdp = merged_gdp.rename(columns={'Value': 'gdp_country'})\n",
    "#get rid of NaN\n",
    "merged_gdp.dropna(subset=['gdp_country'], inplace=True)\n"
   ]
  },
  {
   "cell_type": "code",
   "execution_count": 24,
   "metadata": {},
   "outputs": [
    {
     "data": {
      "text/plain": [
       "Country Code             object\n",
       "Year                     object\n",
       "NY.GNP.PCAP.CD          float64\n",
       "SE.ADT.1524.LT.FM.ZS    float64\n",
       "SE.ADT.1524.LT.MA.ZS    float64\n",
       "                         ...   \n",
       "SP.URB.GROW             float64\n",
       "SP.URB.TOTL.IN.ZS       float64\n",
       "SP.UWT.TFRT             float64\n",
       "Code                     object\n",
       "gdp_country             float64\n",
       "Length: 221, dtype: object"
      ]
     },
     "execution_count": 24,
     "metadata": {},
     "output_type": "execute_result"
    }
   ],
   "source": [
    "merged_gdp.dtypes"
   ]
  },
  {
   "cell_type": "code",
   "execution_count": 25,
   "metadata": {},
   "outputs": [
    {
     "data": {
      "text/html": [
       "<div>\n",
       "<style scoped>\n",
       "    .dataframe tbody tr th:only-of-type {\n",
       "        vertical-align: middle;\n",
       "    }\n",
       "\n",
       "    .dataframe tbody tr th {\n",
       "        vertical-align: top;\n",
       "    }\n",
       "\n",
       "    .dataframe thead th {\n",
       "        text-align: right;\n",
       "    }\n",
       "</style>\n",
       "<table border=\"1\" class=\"dataframe\">\n",
       "  <thead>\n",
       "    <tr style=\"text-align: right;\">\n",
       "      <th></th>\n",
       "      <th>Country Code</th>\n",
       "      <th>Year</th>\n",
       "      <th>NY.GNP.PCAP.CD</th>\n",
       "      <th>SE.ADT.1524.LT.FM.ZS</th>\n",
       "      <th>SE.ADT.1524.LT.MA.ZS</th>\n",
       "      <th>SE.ADT.1524.LT.ZS</th>\n",
       "      <th>SE.ADT.LITR.FE.ZS</th>\n",
       "      <th>SE.ADT.LITR.MA.ZS</th>\n",
       "      <th>SE.ADT.LITR.ZS</th>\n",
       "      <th>SE.PRM.CMPT.FE.ZS</th>\n",
       "      <th>...</th>\n",
       "      <th>SP.REG.BRTH.UR.ZS</th>\n",
       "      <th>SP.REG.BRTH.ZS</th>\n",
       "      <th>SP.REG.DTHS.ZS</th>\n",
       "      <th>SP.RUR.TOTL.ZG</th>\n",
       "      <th>SP.RUR.TOTL.ZS</th>\n",
       "      <th>SP.URB.GROW</th>\n",
       "      <th>SP.URB.TOTL.IN.ZS</th>\n",
       "      <th>SP.UWT.TFRT</th>\n",
       "      <th>Code</th>\n",
       "      <th>gdp_country</th>\n",
       "    </tr>\n",
       "  </thead>\n",
       "  <tbody>\n",
       "    <tr>\n",
       "      <th>26</th>\n",
       "      <td>ABW</td>\n",
       "      <td>1986</td>\n",
       "      <td>NaN</td>\n",
       "      <td>NaN</td>\n",
       "      <td>NaN</td>\n",
       "      <td>NaN</td>\n",
       "      <td>NaN</td>\n",
       "      <td>NaN</td>\n",
       "      <td>NaN</td>\n",
       "      <td>NaN</td>\n",
       "      <td>...</td>\n",
       "      <td>NaN</td>\n",
       "      <td>NaN</td>\n",
       "      <td>NaN</td>\n",
       "      <td>-0.580604</td>\n",
       "      <td>49.620</td>\n",
       "      <td>-0.641159</td>\n",
       "      <td>50.380</td>\n",
       "      <td>NaN</td>\n",
       "      <td>ABW</td>\n",
       "      <td>4.054634e+08</td>\n",
       "    </tr>\n",
       "    <tr>\n",
       "      <th>27</th>\n",
       "      <td>ABW</td>\n",
       "      <td>1987</td>\n",
       "      <td>NaN</td>\n",
       "      <td>NaN</td>\n",
       "      <td>NaN</td>\n",
       "      <td>NaN</td>\n",
       "      <td>NaN</td>\n",
       "      <td>NaN</td>\n",
       "      <td>NaN</td>\n",
       "      <td>NaN</td>\n",
       "      <td>...</td>\n",
       "      <td>NaN</td>\n",
       "      <td>NaN</td>\n",
       "      <td>NaN</td>\n",
       "      <td>-1.269118</td>\n",
       "      <td>49.635</td>\n",
       "      <td>-1.330100</td>\n",
       "      <td>50.365</td>\n",
       "      <td>NaN</td>\n",
       "      <td>ABW</td>\n",
       "      <td>4.876025e+08</td>\n",
       "    </tr>\n",
       "    <tr>\n",
       "      <th>28</th>\n",
       "      <td>ABW</td>\n",
       "      <td>1988</td>\n",
       "      <td>NaN</td>\n",
       "      <td>NaN</td>\n",
       "      <td>NaN</td>\n",
       "      <td>NaN</td>\n",
       "      <td>NaN</td>\n",
       "      <td>NaN</td>\n",
       "      <td>NaN</td>\n",
       "      <td>NaN</td>\n",
       "      <td>...</td>\n",
       "      <td>NaN</td>\n",
       "      <td>NaN</td>\n",
       "      <td>NaN</td>\n",
       "      <td>-1.202958</td>\n",
       "      <td>49.650</td>\n",
       "      <td>-1.263447</td>\n",
       "      <td>50.350</td>\n",
       "      <td>NaN</td>\n",
       "      <td>ABW</td>\n",
       "      <td>5.964236e+08</td>\n",
       "    </tr>\n",
       "    <tr>\n",
       "      <th>29</th>\n",
       "      <td>ABW</td>\n",
       "      <td>1989</td>\n",
       "      <td>NaN</td>\n",
       "      <td>NaN</td>\n",
       "      <td>NaN</td>\n",
       "      <td>NaN</td>\n",
       "      <td>NaN</td>\n",
       "      <td>NaN</td>\n",
       "      <td>NaN</td>\n",
       "      <td>NaN</td>\n",
       "      <td>...</td>\n",
       "      <td>NaN</td>\n",
       "      <td>NaN</td>\n",
       "      <td>NaN</td>\n",
       "      <td>-0.042878</td>\n",
       "      <td>49.665</td>\n",
       "      <td>-0.104112</td>\n",
       "      <td>50.335</td>\n",
       "      <td>NaN</td>\n",
       "      <td>ABW</td>\n",
       "      <td>6.953044e+08</td>\n",
       "    </tr>\n",
       "    <tr>\n",
       "      <th>30</th>\n",
       "      <td>ABW</td>\n",
       "      <td>1990</td>\n",
       "      <td>NaN</td>\n",
       "      <td>NaN</td>\n",
       "      <td>NaN</td>\n",
       "      <td>NaN</td>\n",
       "      <td>NaN</td>\n",
       "      <td>NaN</td>\n",
       "      <td>NaN</td>\n",
       "      <td>NaN</td>\n",
       "      <td>...</td>\n",
       "      <td>NaN</td>\n",
       "      <td>NaN</td>\n",
       "      <td>NaN</td>\n",
       "      <td>1.843551</td>\n",
       "      <td>49.681</td>\n",
       "      <td>1.780922</td>\n",
       "      <td>50.319</td>\n",
       "      <td>NaN</td>\n",
       "      <td>ABW</td>\n",
       "      <td>7.648871e+08</td>\n",
       "    </tr>\n",
       "  </tbody>\n",
       "</table>\n",
       "<p>5 rows × 221 columns</p>\n",
       "</div>"
      ],
      "text/plain": [
       "   Country Code  Year  NY.GNP.PCAP.CD  SE.ADT.1524.LT.FM.ZS  \\\n",
       "26          ABW  1986             NaN                   NaN   \n",
       "27          ABW  1987             NaN                   NaN   \n",
       "28          ABW  1988             NaN                   NaN   \n",
       "29          ABW  1989             NaN                   NaN   \n",
       "30          ABW  1990             NaN                   NaN   \n",
       "\n",
       "    SE.ADT.1524.LT.MA.ZS  SE.ADT.1524.LT.ZS  SE.ADT.LITR.FE.ZS  \\\n",
       "26                   NaN                NaN                NaN   \n",
       "27                   NaN                NaN                NaN   \n",
       "28                   NaN                NaN                NaN   \n",
       "29                   NaN                NaN                NaN   \n",
       "30                   NaN                NaN                NaN   \n",
       "\n",
       "    SE.ADT.LITR.MA.ZS  SE.ADT.LITR.ZS  SE.PRM.CMPT.FE.ZS  ...  \\\n",
       "26                NaN             NaN                NaN  ...   \n",
       "27                NaN             NaN                NaN  ...   \n",
       "28                NaN             NaN                NaN  ...   \n",
       "29                NaN             NaN                NaN  ...   \n",
       "30                NaN             NaN                NaN  ...   \n",
       "\n",
       "    SP.REG.BRTH.UR.ZS  SP.REG.BRTH.ZS  SP.REG.DTHS.ZS  SP.RUR.TOTL.ZG  \\\n",
       "26                NaN             NaN             NaN       -0.580604   \n",
       "27                NaN             NaN             NaN       -1.269118   \n",
       "28                NaN             NaN             NaN       -1.202958   \n",
       "29                NaN             NaN             NaN       -0.042878   \n",
       "30                NaN             NaN             NaN        1.843551   \n",
       "\n",
       "    SP.RUR.TOTL.ZS  SP.URB.GROW  SP.URB.TOTL.IN.ZS  SP.UWT.TFRT  Code  \\\n",
       "26          49.620    -0.641159             50.380          NaN   ABW   \n",
       "27          49.635    -1.330100             50.365          NaN   ABW   \n",
       "28          49.650    -1.263447             50.350          NaN   ABW   \n",
       "29          49.665    -0.104112             50.335          NaN   ABW   \n",
       "30          49.681     1.780922             50.319          NaN   ABW   \n",
       "\n",
       "     gdp_country  \n",
       "26  4.054634e+08  \n",
       "27  4.876025e+08  \n",
       "28  5.964236e+08  \n",
       "29  6.953044e+08  \n",
       "30  7.648871e+08  \n",
       "\n",
       "[5 rows x 221 columns]"
      ]
     },
     "execution_count": 25,
     "metadata": {},
     "output_type": "execute_result"
    }
   ],
   "source": [
    "merged_gdp.head(5)\n"
   ]
  },
  {
   "attachments": {},
   "cell_type": "markdown",
   "metadata": {},
   "source": [
    "Some columns contain object types. Specifically, 'Indicator Name'is the columns we are interested in. We will use label encoding to map values to type int so we can use the columns in correlation matrix."
   ]
  },
  {
   "cell_type": "code",
   "execution_count": 26,
   "metadata": {},
   "outputs": [],
   "source": [
    "from sklearn.preprocessing import LabelEncoder\n",
    "#drop because there exists 'Country Code' which is a duplicate\n",
    "corr_gdp = merged_gdp.drop(columns=['Code'])"
   ]
  },
  {
   "cell_type": "code",
   "execution_count": 27,
   "metadata": {},
   "outputs": [
    {
     "data": {
      "text/html": [
       "<div>\n",
       "<style scoped>\n",
       "    .dataframe tbody tr th:only-of-type {\n",
       "        vertical-align: middle;\n",
       "    }\n",
       "\n",
       "    .dataframe tbody tr th {\n",
       "        vertical-align: top;\n",
       "    }\n",
       "\n",
       "    .dataframe thead th {\n",
       "        text-align: right;\n",
       "    }\n",
       "</style>\n",
       "<table border=\"1\" class=\"dataframe\">\n",
       "  <thead>\n",
       "    <tr style=\"text-align: right;\">\n",
       "      <th></th>\n",
       "      <th>Country Code</th>\n",
       "      <th>Year</th>\n",
       "      <th>NY.GNP.PCAP.CD</th>\n",
       "      <th>SE.ADT.1524.LT.FM.ZS</th>\n",
       "      <th>SE.ADT.1524.LT.MA.ZS</th>\n",
       "      <th>SE.ADT.1524.LT.ZS</th>\n",
       "      <th>SE.ADT.LITR.FE.ZS</th>\n",
       "      <th>SE.ADT.LITR.MA.ZS</th>\n",
       "      <th>SE.ADT.LITR.ZS</th>\n",
       "      <th>SE.PRM.CMPT.FE.ZS</th>\n",
       "      <th>...</th>\n",
       "      <th>SP.REG.BRTH.RU.ZS</th>\n",
       "      <th>SP.REG.BRTH.UR.ZS</th>\n",
       "      <th>SP.REG.BRTH.ZS</th>\n",
       "      <th>SP.REG.DTHS.ZS</th>\n",
       "      <th>SP.RUR.TOTL.ZG</th>\n",
       "      <th>SP.RUR.TOTL.ZS</th>\n",
       "      <th>SP.URB.GROW</th>\n",
       "      <th>SP.URB.TOTL.IN.ZS</th>\n",
       "      <th>SP.UWT.TFRT</th>\n",
       "      <th>gdp_country</th>\n",
       "    </tr>\n",
       "  </thead>\n",
       "  <tbody>\n",
       "    <tr>\n",
       "      <th>26</th>\n",
       "      <td>0</td>\n",
       "      <td>1986</td>\n",
       "      <td>NaN</td>\n",
       "      <td>NaN</td>\n",
       "      <td>NaN</td>\n",
       "      <td>NaN</td>\n",
       "      <td>NaN</td>\n",
       "      <td>NaN</td>\n",
       "      <td>NaN</td>\n",
       "      <td>NaN</td>\n",
       "      <td>...</td>\n",
       "      <td>NaN</td>\n",
       "      <td>NaN</td>\n",
       "      <td>NaN</td>\n",
       "      <td>NaN</td>\n",
       "      <td>-0.580604</td>\n",
       "      <td>49.620</td>\n",
       "      <td>-0.641159</td>\n",
       "      <td>50.380</td>\n",
       "      <td>NaN</td>\n",
       "      <td>4.054634e+08</td>\n",
       "    </tr>\n",
       "    <tr>\n",
       "      <th>27</th>\n",
       "      <td>0</td>\n",
       "      <td>1987</td>\n",
       "      <td>NaN</td>\n",
       "      <td>NaN</td>\n",
       "      <td>NaN</td>\n",
       "      <td>NaN</td>\n",
       "      <td>NaN</td>\n",
       "      <td>NaN</td>\n",
       "      <td>NaN</td>\n",
       "      <td>NaN</td>\n",
       "      <td>...</td>\n",
       "      <td>NaN</td>\n",
       "      <td>NaN</td>\n",
       "      <td>NaN</td>\n",
       "      <td>NaN</td>\n",
       "      <td>-1.269118</td>\n",
       "      <td>49.635</td>\n",
       "      <td>-1.330100</td>\n",
       "      <td>50.365</td>\n",
       "      <td>NaN</td>\n",
       "      <td>4.876025e+08</td>\n",
       "    </tr>\n",
       "    <tr>\n",
       "      <th>28</th>\n",
       "      <td>0</td>\n",
       "      <td>1988</td>\n",
       "      <td>NaN</td>\n",
       "      <td>NaN</td>\n",
       "      <td>NaN</td>\n",
       "      <td>NaN</td>\n",
       "      <td>NaN</td>\n",
       "      <td>NaN</td>\n",
       "      <td>NaN</td>\n",
       "      <td>NaN</td>\n",
       "      <td>...</td>\n",
       "      <td>NaN</td>\n",
       "      <td>NaN</td>\n",
       "      <td>NaN</td>\n",
       "      <td>NaN</td>\n",
       "      <td>-1.202958</td>\n",
       "      <td>49.650</td>\n",
       "      <td>-1.263447</td>\n",
       "      <td>50.350</td>\n",
       "      <td>NaN</td>\n",
       "      <td>5.964236e+08</td>\n",
       "    </tr>\n",
       "    <tr>\n",
       "      <th>29</th>\n",
       "      <td>0</td>\n",
       "      <td>1989</td>\n",
       "      <td>NaN</td>\n",
       "      <td>NaN</td>\n",
       "      <td>NaN</td>\n",
       "      <td>NaN</td>\n",
       "      <td>NaN</td>\n",
       "      <td>NaN</td>\n",
       "      <td>NaN</td>\n",
       "      <td>NaN</td>\n",
       "      <td>...</td>\n",
       "      <td>NaN</td>\n",
       "      <td>NaN</td>\n",
       "      <td>NaN</td>\n",
       "      <td>NaN</td>\n",
       "      <td>-0.042878</td>\n",
       "      <td>49.665</td>\n",
       "      <td>-0.104112</td>\n",
       "      <td>50.335</td>\n",
       "      <td>NaN</td>\n",
       "      <td>6.953044e+08</td>\n",
       "    </tr>\n",
       "    <tr>\n",
       "      <th>30</th>\n",
       "      <td>0</td>\n",
       "      <td>1990</td>\n",
       "      <td>NaN</td>\n",
       "      <td>NaN</td>\n",
       "      <td>NaN</td>\n",
       "      <td>NaN</td>\n",
       "      <td>NaN</td>\n",
       "      <td>NaN</td>\n",
       "      <td>NaN</td>\n",
       "      <td>NaN</td>\n",
       "      <td>...</td>\n",
       "      <td>NaN</td>\n",
       "      <td>NaN</td>\n",
       "      <td>NaN</td>\n",
       "      <td>NaN</td>\n",
       "      <td>1.843551</td>\n",
       "      <td>49.681</td>\n",
       "      <td>1.780922</td>\n",
       "      <td>50.319</td>\n",
       "      <td>NaN</td>\n",
       "      <td>7.648871e+08</td>\n",
       "    </tr>\n",
       "  </tbody>\n",
       "</table>\n",
       "<p>5 rows × 220 columns</p>\n",
       "</div>"
      ],
      "text/plain": [
       "    Country Code  Year  NY.GNP.PCAP.CD  SE.ADT.1524.LT.FM.ZS  \\\n",
       "26             0  1986             NaN                   NaN   \n",
       "27             0  1987             NaN                   NaN   \n",
       "28             0  1988             NaN                   NaN   \n",
       "29             0  1989             NaN                   NaN   \n",
       "30             0  1990             NaN                   NaN   \n",
       "\n",
       "    SE.ADT.1524.LT.MA.ZS  SE.ADT.1524.LT.ZS  SE.ADT.LITR.FE.ZS  \\\n",
       "26                   NaN                NaN                NaN   \n",
       "27                   NaN                NaN                NaN   \n",
       "28                   NaN                NaN                NaN   \n",
       "29                   NaN                NaN                NaN   \n",
       "30                   NaN                NaN                NaN   \n",
       "\n",
       "    SE.ADT.LITR.MA.ZS  SE.ADT.LITR.ZS  SE.PRM.CMPT.FE.ZS  ...  \\\n",
       "26                NaN             NaN                NaN  ...   \n",
       "27                NaN             NaN                NaN  ...   \n",
       "28                NaN             NaN                NaN  ...   \n",
       "29                NaN             NaN                NaN  ...   \n",
       "30                NaN             NaN                NaN  ...   \n",
       "\n",
       "    SP.REG.BRTH.RU.ZS  SP.REG.BRTH.UR.ZS  SP.REG.BRTH.ZS  SP.REG.DTHS.ZS  \\\n",
       "26                NaN                NaN             NaN             NaN   \n",
       "27                NaN                NaN             NaN             NaN   \n",
       "28                NaN                NaN             NaN             NaN   \n",
       "29                NaN                NaN             NaN             NaN   \n",
       "30                NaN                NaN             NaN             NaN   \n",
       "\n",
       "    SP.RUR.TOTL.ZG  SP.RUR.TOTL.ZS  SP.URB.GROW  SP.URB.TOTL.IN.ZS  \\\n",
       "26       -0.580604          49.620    -0.641159             50.380   \n",
       "27       -1.269118          49.635    -1.330100             50.365   \n",
       "28       -1.202958          49.650    -1.263447             50.350   \n",
       "29       -0.042878          49.665    -0.104112             50.335   \n",
       "30        1.843551          49.681     1.780922             50.319   \n",
       "\n",
       "    SP.UWT.TFRT   gdp_country  \n",
       "26          NaN  4.054634e+08  \n",
       "27          NaN  4.876025e+08  \n",
       "28          NaN  5.964236e+08  \n",
       "29          NaN  6.953044e+08  \n",
       "30          NaN  7.648871e+08  \n",
       "\n",
       "[5 rows x 220 columns]"
      ]
     },
     "execution_count": 27,
     "metadata": {},
     "output_type": "execute_result"
    }
   ],
   "source": [
    "le = LabelEncoder()\n",
    "\n",
    "#fitting encoder on the country codes and transform them to int\n",
    "corr_gdp['Country Code'] = le.fit_transform(corr_gdp['Country Code'])\n",
    "corr_gdp.head(5)"
   ]
  },
  {
   "cell_type": "code",
   "execution_count": 28,
   "metadata": {},
   "outputs": [],
   "source": [
    "correlation_matrix = corr_gdp.corr()[\"gdp_country\"][0:-1]\n"
   ]
  },
  {
   "cell_type": "code",
   "execution_count": 29,
   "metadata": {},
   "outputs": [
    {
     "data": {
      "text/plain": [
       "Country Code            0.066568\n",
       "NY.GNP.PCAP.CD          0.202071\n",
       "SE.ADT.1524.LT.FM.ZS    0.082912\n",
       "SE.ADT.1524.LT.MA.ZS    0.080140\n",
       "SE.ADT.1524.LT.ZS       0.075641\n",
       "Name: gdp_country, dtype: float64"
      ]
     },
     "execution_count": 29,
     "metadata": {},
     "output_type": "execute_result"
    }
   ],
   "source": [
    "correlation_matrix.head(5)"
   ]
  },
  {
   "attachments": {},
   "cell_type": "markdown",
   "metadata": {},
   "source": [
    "The plot is too big to visualize, so we will find the absolute value of each value in correlation matrix and pick the most influential ones."
   ]
  },
  {
   "cell_type": "code",
   "execution_count": 30,
   "metadata": {},
   "outputs": [
    {
     "name": "stdout",
     "output_type": "stream",
     "text": [
      "Empty DataFrame\n",
      "Columns: [gdp_country]\n",
      "Index: []\n"
     ]
    }
   ],
   "source": [
    "corr_df = correlation_matrix.to_frame()\n",
    "mask = corr_df.isnull().any(axis=1)\n",
    "rows_with_nan = corr_df[mask]\n",
    "print(rows_with_nan)"
   ]
  },
  {
   "attachments": {},
   "cell_type": "markdown",
   "metadata": {},
   "source": [
    "We will sort the gdp values to make graphs easier to interpret. corr_df contains a gdp_country column, which is the absolute correlation of a particular attribute and its country's GDP. gdp_country_original has the raw value"
   ]
  },
  {
   "cell_type": "code",
   "execution_count": 31,
   "metadata": {},
   "outputs": [],
   "source": [
    "corr_df['gdp_country_original'] = corr_df['gdp_country'].copy()\n",
    "corr_df['gdp_country'] = corr_df['gdp_country'].apply(lambda x:abs(x))\n",
    "\n",
    "#unstacked = abs_val_corr.unstack()\n",
    "sorted_corr = corr_df.sort_values(by='gdp_country', kind=\"quicksort\", ascending=False)\n"
   ]
  },
  {
   "cell_type": "code",
   "execution_count": 32,
   "metadata": {},
   "outputs": [
    {
     "data": {
      "text/html": [
       "<div>\n",
       "<style scoped>\n",
       "    .dataframe tbody tr th:only-of-type {\n",
       "        vertical-align: middle;\n",
       "    }\n",
       "\n",
       "    .dataframe tbody tr th {\n",
       "        vertical-align: top;\n",
       "    }\n",
       "\n",
       "    .dataframe thead th {\n",
       "        text-align: right;\n",
       "    }\n",
       "</style>\n",
       "<table border=\"1\" class=\"dataframe\">\n",
       "  <thead>\n",
       "    <tr style=\"text-align: right;\">\n",
       "      <th></th>\n",
       "      <th>gdp_country</th>\n",
       "      <th>gdp_country_original</th>\n",
       "    </tr>\n",
       "  </thead>\n",
       "  <tbody>\n",
       "    <tr>\n",
       "      <th>SH.FPL.SATI.ZS</th>\n",
       "      <td>0.340277</td>\n",
       "      <td>0.340277</td>\n",
       "    </tr>\n",
       "    <tr>\n",
       "      <th>SP.POP.80UP.FE.5Y</th>\n",
       "      <td>0.320896</td>\n",
       "      <td>0.320896</td>\n",
       "    </tr>\n",
       "    <tr>\n",
       "      <th>SP.POP.80UP.MA.5Y</th>\n",
       "      <td>0.320179</td>\n",
       "      <td>0.320179</td>\n",
       "    </tr>\n",
       "    <tr>\n",
       "      <th>SH.XPD.PCAP.PP.KD</th>\n",
       "      <td>0.310141</td>\n",
       "      <td>0.310141</td>\n",
       "    </tr>\n",
       "    <tr>\n",
       "      <th>SH.XPD.PCAP</th>\n",
       "      <td>0.291871</td>\n",
       "      <td>0.291871</td>\n",
       "    </tr>\n",
       "    <tr>\n",
       "      <th>...</th>\n",
       "      <td>...</td>\n",
       "      <td>...</td>\n",
       "    </tr>\n",
       "    <tr>\n",
       "      <th>SH.STA.OWGH.FE.ZS</th>\n",
       "      <td>0.004889</td>\n",
       "      <td>0.004889</td>\n",
       "    </tr>\n",
       "    <tr>\n",
       "      <th>SH.STA.OWGH.MA.ZS</th>\n",
       "      <td>0.004379</td>\n",
       "      <td>-0.004379</td>\n",
       "    </tr>\n",
       "    <tr>\n",
       "      <th>SH.STA.BFED.ZS</th>\n",
       "      <td>0.004190</td>\n",
       "      <td>0.004190</td>\n",
       "    </tr>\n",
       "    <tr>\n",
       "      <th>SH.STA.DIAB.ZS</th>\n",
       "      <td>0.002568</td>\n",
       "      <td>-0.002568</td>\n",
       "    </tr>\n",
       "    <tr>\n",
       "      <th>SH.TBS.DTEC.ZS</th>\n",
       "      <td>0.001042</td>\n",
       "      <td>-0.001042</td>\n",
       "    </tr>\n",
       "  </tbody>\n",
       "</table>\n",
       "<p>218 rows × 2 columns</p>\n",
       "</div>"
      ],
      "text/plain": [
       "                   gdp_country  gdp_country_original\n",
       "SH.FPL.SATI.ZS        0.340277              0.340277\n",
       "SP.POP.80UP.FE.5Y     0.320896              0.320896\n",
       "SP.POP.80UP.MA.5Y     0.320179              0.320179\n",
       "SH.XPD.PCAP.PP.KD     0.310141              0.310141\n",
       "SH.XPD.PCAP           0.291871              0.291871\n",
       "...                        ...                   ...\n",
       "SH.STA.OWGH.FE.ZS     0.004889              0.004889\n",
       "SH.STA.OWGH.MA.ZS     0.004379             -0.004379\n",
       "SH.STA.BFED.ZS        0.004190              0.004190\n",
       "SH.STA.DIAB.ZS        0.002568             -0.002568\n",
       "SH.TBS.DTEC.ZS        0.001042             -0.001042\n",
       "\n",
       "[218 rows x 2 columns]"
      ]
     },
     "execution_count": 32,
     "metadata": {},
     "output_type": "execute_result"
    }
   ],
   "source": [
    "sorted_corr"
   ]
  },
  {
   "cell_type": "code",
   "execution_count": 33,
   "metadata": {},
   "outputs": [],
   "source": [
    "sorted_corr_filtered = sorted_corr[sorted_corr['gdp_country'] > 0.25]\n"
   ]
  },
  {
   "cell_type": "code",
   "execution_count": 34,
   "metadata": {},
   "outputs": [
    {
     "data": {
      "text/html": [
       "<div>\n",
       "<style scoped>\n",
       "    .dataframe tbody tr th:only-of-type {\n",
       "        vertical-align: middle;\n",
       "    }\n",
       "\n",
       "    .dataframe tbody tr th {\n",
       "        vertical-align: top;\n",
       "    }\n",
       "\n",
       "    .dataframe thead th {\n",
       "        text-align: right;\n",
       "    }\n",
       "</style>\n",
       "<table border=\"1\" class=\"dataframe\">\n",
       "  <thead>\n",
       "    <tr style=\"text-align: right;\">\n",
       "      <th></th>\n",
       "      <th>gdp_country</th>\n",
       "      <th>gdp_country_original</th>\n",
       "    </tr>\n",
       "  </thead>\n",
       "  <tbody>\n",
       "    <tr>\n",
       "      <th>SH.FPL.SATI.ZS</th>\n",
       "      <td>0.340277</td>\n",
       "      <td>0.340277</td>\n",
       "    </tr>\n",
       "    <tr>\n",
       "      <th>SP.POP.80UP.FE.5Y</th>\n",
       "      <td>0.320896</td>\n",
       "      <td>0.320896</td>\n",
       "    </tr>\n",
       "    <tr>\n",
       "      <th>SP.POP.80UP.MA.5Y</th>\n",
       "      <td>0.320179</td>\n",
       "      <td>0.320179</td>\n",
       "    </tr>\n",
       "    <tr>\n",
       "      <th>SH.XPD.PCAP.PP.KD</th>\n",
       "      <td>0.310141</td>\n",
       "      <td>0.310141</td>\n",
       "    </tr>\n",
       "    <tr>\n",
       "      <th>SH.XPD.PCAP</th>\n",
       "      <td>0.291871</td>\n",
       "      <td>0.291871</td>\n",
       "    </tr>\n",
       "  </tbody>\n",
       "</table>\n",
       "</div>"
      ],
      "text/plain": [
       "                   gdp_country  gdp_country_original\n",
       "SH.FPL.SATI.ZS        0.340277              0.340277\n",
       "SP.POP.80UP.FE.5Y     0.320896              0.320896\n",
       "SP.POP.80UP.MA.5Y     0.320179              0.320179\n",
       "SH.XPD.PCAP.PP.KD     0.310141              0.310141\n",
       "SH.XPD.PCAP           0.291871              0.291871"
      ]
     },
     "execution_count": 34,
     "metadata": {},
     "output_type": "execute_result"
    }
   ],
   "source": [
    "sorted_corr_filtered.head(5)"
   ]
  },
  {
   "cell_type": "code",
   "execution_count": 35,
   "metadata": {},
   "outputs": [],
   "source": [
    "sorted_corr_filtered = sorted_corr_filtered.dropna(axis=1, how='any')"
   ]
  },
  {
   "attachments": {},
   "cell_type": "markdown",
   "metadata": {},
   "source": [
    "We need the indicator codes to be a column:"
   ]
  },
  {
   "cell_type": "code",
   "execution_count": 36,
   "metadata": {},
   "outputs": [],
   "source": [
    "sort_melted = sorted_corr_filtered[['gdp_country_original']].T.melt(var_name='Indicator Code', value_name='Correlation')"
   ]
  },
  {
   "cell_type": "code",
   "execution_count": 37,
   "metadata": {},
   "outputs": [
    {
     "data": {
      "text/html": [
       "<div>\n",
       "<style scoped>\n",
       "    .dataframe tbody tr th:only-of-type {\n",
       "        vertical-align: middle;\n",
       "    }\n",
       "\n",
       "    .dataframe tbody tr th {\n",
       "        vertical-align: top;\n",
       "    }\n",
       "\n",
       "    .dataframe thead th {\n",
       "        text-align: right;\n",
       "    }\n",
       "</style>\n",
       "<table border=\"1\" class=\"dataframe\">\n",
       "  <thead>\n",
       "    <tr style=\"text-align: right;\">\n",
       "      <th></th>\n",
       "      <th>SH.FPL.SATI.ZS</th>\n",
       "      <th>SP.POP.80UP.FE.5Y</th>\n",
       "      <th>SP.POP.80UP.MA.5Y</th>\n",
       "      <th>SH.XPD.PCAP.PP.KD</th>\n",
       "      <th>SH.XPD.PCAP</th>\n",
       "      <th>SH.XPD.TOTL.ZS</th>\n",
       "      <th>SP.POP.7579.MA.5Y</th>\n",
       "      <th>SH.XPD.OOPC.ZS</th>\n",
       "      <th>SI.POV.NAHC</th>\n",
       "      <th>SP.POP.1014.FE.5Y</th>\n",
       "      <th>...</th>\n",
       "      <th>SP.POP.5559.FE.5Y</th>\n",
       "      <th>SP.POP.7579.FE.5Y</th>\n",
       "      <th>SP.POP.1014.MA.5Y</th>\n",
       "      <th>SP.POP.5054.FE.5Y</th>\n",
       "      <th>SP.POP.0509.FE.5Y</th>\n",
       "      <th>SP.POP.4549.MA.5Y</th>\n",
       "      <th>SP.POP.6064.FE.5Y</th>\n",
       "      <th>SP.POP.4549.FE.5Y</th>\n",
       "      <th>SP.POP.0509.MA.5Y</th>\n",
       "      <th>SH.SGR.PROC.P5</th>\n",
       "    </tr>\n",
       "  </thead>\n",
       "  <tbody>\n",
       "    <tr>\n",
       "      <th>gdp_country_original</th>\n",
       "      <td>0.340277</td>\n",
       "      <td>0.320896</td>\n",
       "      <td>0.320179</td>\n",
       "      <td>0.310141</td>\n",
       "      <td>0.291871</td>\n",
       "      <td>0.291433</td>\n",
       "      <td>0.288302</td>\n",
       "      <td>-0.287451</td>\n",
       "      <td>-0.275036</td>\n",
       "      <td>-0.273026</td>\n",
       "      <td>...</td>\n",
       "      <td>0.264199</td>\n",
       "      <td>0.262825</td>\n",
       "      <td>-0.262764</td>\n",
       "      <td>0.261764</td>\n",
       "      <td>-0.258239</td>\n",
       "      <td>0.256213</td>\n",
       "      <td>0.255979</td>\n",
       "      <td>0.254984</td>\n",
       "      <td>-0.254969</td>\n",
       "      <td>0.253091</td>\n",
       "    </tr>\n",
       "  </tbody>\n",
       "</table>\n",
       "<p>1 rows × 26 columns</p>\n",
       "</div>"
      ],
      "text/plain": [
       "                      SH.FPL.SATI.ZS  SP.POP.80UP.FE.5Y  SP.POP.80UP.MA.5Y  \\\n",
       "gdp_country_original        0.340277           0.320896           0.320179   \n",
       "\n",
       "                      SH.XPD.PCAP.PP.KD  SH.XPD.PCAP  SH.XPD.TOTL.ZS  \\\n",
       "gdp_country_original           0.310141     0.291871        0.291433   \n",
       "\n",
       "                      SP.POP.7579.MA.5Y  SH.XPD.OOPC.ZS  SI.POV.NAHC  \\\n",
       "gdp_country_original           0.288302       -0.287451    -0.275036   \n",
       "\n",
       "                      SP.POP.1014.FE.5Y  ...  SP.POP.5559.FE.5Y  \\\n",
       "gdp_country_original          -0.273026  ...           0.264199   \n",
       "\n",
       "                      SP.POP.7579.FE.5Y  SP.POP.1014.MA.5Y  SP.POP.5054.FE.5Y  \\\n",
       "gdp_country_original           0.262825          -0.262764           0.261764   \n",
       "\n",
       "                      SP.POP.0509.FE.5Y  SP.POP.4549.MA.5Y  SP.POP.6064.FE.5Y  \\\n",
       "gdp_country_original          -0.258239           0.256213           0.255979   \n",
       "\n",
       "                      SP.POP.4549.FE.5Y  SP.POP.0509.MA.5Y  SH.SGR.PROC.P5  \n",
       "gdp_country_original           0.254984          -0.254969        0.253091  \n",
       "\n",
       "[1 rows x 26 columns]"
      ]
     },
     "execution_count": 37,
     "metadata": {},
     "output_type": "execute_result"
    }
   ],
   "source": [
    "sorted_corr_filtered[['gdp_country_original']].T"
   ]
  },
  {
   "attachments": {},
   "cell_type": "markdown",
   "metadata": {},
   "source": [
    "Right now, the columns are in terms of Indicator Codes, which have no meaning to us. We will map the codes to the name of the indicators to make more sense of the results."
   ]
  },
  {
   "cell_type": "code",
   "execution_count": 38,
   "metadata": {},
   "outputs": [],
   "source": [
    "indicators_df =  melt_nutr_df[['Indicator Code', 'Indicator Name']]\n",
    "indicator_dict = dict(zip(indicators_df['Indicator Code'], indicators_df['Indicator Name']))\n",
    "correlation_ind_names = sorted_corr_filtered.T.rename(columns=indicator_dict)\n",
    "correlation_ind_names = correlation_ind_names.T[['gdp_country_original']].T.melt(var_name='Indicator Name', value_name='Correlation')"
   ]
  },
  {
   "cell_type": "code",
   "execution_count": 39,
   "metadata": {},
   "outputs": [
    {
     "data": {
      "text/html": [
       "<div>\n",
       "<style scoped>\n",
       "    .dataframe tbody tr th:only-of-type {\n",
       "        vertical-align: middle;\n",
       "    }\n",
       "\n",
       "    .dataframe tbody tr th {\n",
       "        vertical-align: top;\n",
       "    }\n",
       "\n",
       "    .dataframe thead th {\n",
       "        text-align: right;\n",
       "    }\n",
       "</style>\n",
       "<table border=\"1\" class=\"dataframe\">\n",
       "  <thead>\n",
       "    <tr style=\"text-align: right;\">\n",
       "      <th></th>\n",
       "      <th>Indicator Name</th>\n",
       "      <th>Correlation</th>\n",
       "    </tr>\n",
       "  </thead>\n",
       "  <tbody>\n",
       "    <tr>\n",
       "      <th>0</th>\n",
       "      <td>Demand for family planning satisfied by any me...</td>\n",
       "      <td>0.340277</td>\n",
       "    </tr>\n",
       "    <tr>\n",
       "      <th>1</th>\n",
       "      <td>Population ages 80 and older, female (% of fem...</td>\n",
       "      <td>0.320896</td>\n",
       "    </tr>\n",
       "    <tr>\n",
       "      <th>2</th>\n",
       "      <td>Population ages 80 and older, male (% of male ...</td>\n",
       "      <td>0.320179</td>\n",
       "    </tr>\n",
       "    <tr>\n",
       "      <th>3</th>\n",
       "      <td>Health expenditure per capita, PPP</td>\n",
       "      <td>0.310141</td>\n",
       "    </tr>\n",
       "    <tr>\n",
       "      <th>4</th>\n",
       "      <td>Health expenditure per capita (current US$)</td>\n",
       "      <td>0.291871</td>\n",
       "    </tr>\n",
       "  </tbody>\n",
       "</table>\n",
       "</div>"
      ],
      "text/plain": [
       "                                      Indicator Name  Correlation\n",
       "0  Demand for family planning satisfied by any me...     0.340277\n",
       "1  Population ages 80 and older, female (% of fem...     0.320896\n",
       "2  Population ages 80 and older, male (% of male ...     0.320179\n",
       "3                 Health expenditure per capita, PPP     0.310141\n",
       "4        Health expenditure per capita (current US$)     0.291871"
      ]
     },
     "execution_count": 39,
     "metadata": {},
     "output_type": "execute_result"
    }
   ],
   "source": [
    "correlation_ind_names.head(5)"
   ]
  },
  {
   "cell_type": "code",
   "execution_count": 40,
   "metadata": {},
   "outputs": [
    {
     "data": {
      "image/png": "[encoded data removed]",
      "text/plain": [
       "<Figure size 2160x1440 with 1 Axes>"
      ]
     },
     "metadata": {
      "needs_background": "light"
     },
     "output_type": "display_data"
    }
   ],
   "source": [
    "plt.figure(figsize=(30, 20))\n",
    "ax = sns.barplot(x='Indicator Name', y ='Correlation', data = correlation_ind_names[correlation_ind_names['Correlation'] > 0])\n",
    "plt.title('Indicator Name and Correlation to GDP')\n",
    "ax.set_xticklabels(ax.get_xticklabels(), rotation=45, ha=\"right\")\n",
    "\n",
    "plt.xlabel('Indicator Name')\n",
    "plt.ylabel('Correlation')\n",
    "\n",
    "plt.show()"
   ]
  },
  {
   "cell_type": "code",
   "execution_count": 41,
   "metadata": {},
   "outputs": [
    {
     "data": {
      "image/png": "[encoded data removed]",
      "text/plain": [
       "<Figure size 1440x720 with 1 Axes>"
      ]
     },
     "metadata": {
      "needs_background": "light"
     },
     "output_type": "display_data"
    }
   ],
   "source": [
    "plt.figure(figsize=(20, 10))\n",
    "\n",
    "ax = sns.barplot(x='Indicator Name', y ='Correlation', data =correlation_ind_names[correlation_ind_names['Correlation'] <=0], palette=sns.color_palette(\"husl\", 8))\n",
    "plt.title('Indicator Code and Correlation to GDP')\n",
    "ax.set_xticklabels(ax.get_xticklabels(), rotation=45, ha=\"right\")\n",
    "\n",
    "plt.xlabel('Indicator Name')\n",
    "plt.ylabel('Correlation')\n",
    "\n",
    "plt.show()"
   ]
  },
  {
   "attachments": {},
   "cell_type": "markdown",
   "metadata": {},
   "source": [
    "## Conclusion from gdp-country statitics: Correlation Matrix"
   ]
  },
  {
   "attachments": {},
   "cell_type": "markdown",
   "metadata": {},
   "source": [
    "#### Positive Correlations"
   ]
  },
  {
   "attachments": {},
   "cell_type": "markdown",
   "metadata": {},
   "source": [
    "Highest positive correlation was revealed to be demand for family planning satisfied by any methods. We would expect this to be positively correlated with gdp because when families are able to use family planning, they have more income they are able to invest into education and infrastructure."
   ]
  },
  {
   "attachments": {},
   "cell_type": "markdown",
   "metadata": {},
   "source": [
    "Many factors appear to involve population percentages of certain aged female and male populations. The population of specific ages can increase number of people who are able to work which increases the labor force of the country. The age that is most highly positively correlated with gdp is 80+, indicating that people in the country are healthier. "
   ]
  },
  {
   "attachments": {},
   "cell_type": "markdown",
   "metadata": {},
   "source": [
    "Health expenditure is also moderately correlated with gdp. This is expected because spending mroe on health leads to less premature deaths, which increases the working age and leads to a decrease in illnesses. Number of surgical procedures was also moderately correlated with gdp. This could be explaine by surgeries implying better healthcare available for people, so they are able to be sick less."
   ]
  },
  {
   "attachments": {},
   "cell_type": "markdown",
   "metadata": {},
   "source": [
    "#### Negative Correlations"
   ]
  },
  {
   "attachments": {},
   "cell_type": "markdown",
   "metadata": {},
   "source": [
    "Out of pocket health expenditure has a moderate negative correlation with gdp. This is expected because out-of-pocket expenditure may indicate poverty in the country so that the country is not able to cover some health services. Poeple would be spending a lot of their own money on health care and therefore will have no money left to invest into the country. "
   ]
  },
  {
   "attachments": {},
   "cell_type": "markdown",
   "metadata": {},
   "source": [
    "Poverty headcount ratio at national poverty line also have a moderate negative correlation with gdp. This is expected because when country does not have as many resources to give to people, more people will suffer from lower income and therefore poverty. "
   ]
  },
  {
   "attachments": {},
   "cell_type": "markdown",
   "metadata": {},
   "source": [
    "The last factors that had a moderate negative correlation with gdp were population ages younger than 19. This is expected because younger people do not have working expereince and some are too young to work. The country has to spend morer money into educating the children. Moreover, when a family grows, they will spend more income to take care of children rather than investing money and time into country's economic growth."
   ]
  },
  {
   "attachments": {},
   "cell_type": "markdown",
   "metadata": {},
   "source": [
    "# Correlation Matrix: all variables"
   ]
  },
  {
   "cell_type": "code",
   "execution_count": 42,
   "metadata": {},
   "outputs": [],
   "source": [
    "correlation_matrix = corr_gdp.corr()"
   ]
  },
  {
   "cell_type": "code",
   "execution_count": 43,
   "metadata": {},
   "outputs": [],
   "source": [
    "corr_abs = correlation_matrix.abs()\n",
    "\n",
    "#selecting upper triable of correlation matrix\n",
    "upper = corr_abs.where(np.triu(np.ones(corr_abs.shape), k=1).astype(bool))\n",
    "\n",
    "#will drop features that are highly correlated with each other:\n",
    "to_drop = [column for column in upper.columns if any(upper[column] > 0.95)]\n",
    "\n",
    "corr_gdp.drop(to_drop, axis=1, inplace=True)"
   ]
  },
  {
   "cell_type": "code",
   "execution_count": 44,
   "metadata": {},
   "outputs": [
    {
     "data": {
      "text/html": [
       "<div>\n",
       "<style scoped>\n",
       "    .dataframe tbody tr th:only-of-type {\n",
       "        vertical-align: middle;\n",
       "    }\n",
       "\n",
       "    .dataframe tbody tr th {\n",
       "        vertical-align: top;\n",
       "    }\n",
       "\n",
       "    .dataframe thead th {\n",
       "        text-align: right;\n",
       "    }\n",
       "</style>\n",
       "<table border=\"1\" class=\"dataframe\">\n",
       "  <thead>\n",
       "    <tr style=\"text-align: right;\">\n",
       "      <th></th>\n",
       "      <th>Country Code</th>\n",
       "      <th>Year</th>\n",
       "      <th>NY.GNP.PCAP.CD</th>\n",
       "      <th>SE.ADT.1524.LT.FM.ZS</th>\n",
       "      <th>SE.ADT.1524.LT.MA.ZS</th>\n",
       "      <th>SE.ADT.LITR.FE.ZS</th>\n",
       "      <th>SE.PRM.CMPT.FE.ZS</th>\n",
       "      <th>SE.PRM.CMPT.MA.ZS</th>\n",
       "      <th>SE.PRM.ENRR</th>\n",
       "      <th>SE.PRM.NENR</th>\n",
       "      <th>...</th>\n",
       "      <th>SP.POP.GROW</th>\n",
       "      <th>SP.POP.TOTL.FE.ZS</th>\n",
       "      <th>SP.REG.BRTH.RU.ZS</th>\n",
       "      <th>SP.REG.BRTH.UR.ZS</th>\n",
       "      <th>SP.REG.DTHS.ZS</th>\n",
       "      <th>SP.RUR.TOTL.ZG</th>\n",
       "      <th>SP.RUR.TOTL.ZS</th>\n",
       "      <th>SP.URB.GROW</th>\n",
       "      <th>SP.UWT.TFRT</th>\n",
       "      <th>gdp_country</th>\n",
       "    </tr>\n",
       "  </thead>\n",
       "  <tbody>\n",
       "    <tr>\n",
       "      <th>26</th>\n",
       "      <td>0</td>\n",
       "      <td>1986</td>\n",
       "      <td>NaN</td>\n",
       "      <td>NaN</td>\n",
       "      <td>NaN</td>\n",
       "      <td>NaN</td>\n",
       "      <td>NaN</td>\n",
       "      <td>NaN</td>\n",
       "      <td>NaN</td>\n",
       "      <td>NaN</td>\n",
       "      <td>...</td>\n",
       "      <td>-0.611117</td>\n",
       "      <td>51.166911</td>\n",
       "      <td>NaN</td>\n",
       "      <td>NaN</td>\n",
       "      <td>NaN</td>\n",
       "      <td>-0.580604</td>\n",
       "      <td>49.620</td>\n",
       "      <td>-0.641159</td>\n",
       "      <td>NaN</td>\n",
       "      <td>4.054634e+08</td>\n",
       "    </tr>\n",
       "    <tr>\n",
       "      <th>27</th>\n",
       "      <td>0</td>\n",
       "      <td>1987</td>\n",
       "      <td>NaN</td>\n",
       "      <td>NaN</td>\n",
       "      <td>NaN</td>\n",
       "      <td>NaN</td>\n",
       "      <td>NaN</td>\n",
       "      <td>NaN</td>\n",
       "      <td>NaN</td>\n",
       "      <td>NaN</td>\n",
       "      <td>...</td>\n",
       "      <td>-1.299836</td>\n",
       "      <td>51.053610</td>\n",
       "      <td>NaN</td>\n",
       "      <td>NaN</td>\n",
       "      <td>NaN</td>\n",
       "      <td>-1.269118</td>\n",
       "      <td>49.635</td>\n",
       "      <td>-1.330100</td>\n",
       "      <td>NaN</td>\n",
       "      <td>4.876025e+08</td>\n",
       "    </tr>\n",
       "    <tr>\n",
       "      <th>28</th>\n",
       "      <td>0</td>\n",
       "      <td>1988</td>\n",
       "      <td>NaN</td>\n",
       "      <td>NaN</td>\n",
       "      <td>NaN</td>\n",
       "      <td>NaN</td>\n",
       "      <td>NaN</td>\n",
       "      <td>NaN</td>\n",
       "      <td>NaN</td>\n",
       "      <td>NaN</td>\n",
       "      <td>...</td>\n",
       "      <td>-1.233418</td>\n",
       "      <td>50.919331</td>\n",
       "      <td>NaN</td>\n",
       "      <td>NaN</td>\n",
       "      <td>NaN</td>\n",
       "      <td>-1.202958</td>\n",
       "      <td>49.650</td>\n",
       "      <td>-1.263447</td>\n",
       "      <td>NaN</td>\n",
       "      <td>5.964236e+08</td>\n",
       "    </tr>\n",
       "    <tr>\n",
       "      <th>29</th>\n",
       "      <td>0</td>\n",
       "      <td>1989</td>\n",
       "      <td>NaN</td>\n",
       "      <td>NaN</td>\n",
       "      <td>NaN</td>\n",
       "      <td>NaN</td>\n",
       "      <td>NaN</td>\n",
       "      <td>NaN</td>\n",
       "      <td>NaN</td>\n",
       "      <td>NaN</td>\n",
       "      <td>...</td>\n",
       "      <td>-0.073705</td>\n",
       "      <td>50.784834</td>\n",
       "      <td>NaN</td>\n",
       "      <td>NaN</td>\n",
       "      <td>NaN</td>\n",
       "      <td>-0.042878</td>\n",
       "      <td>49.665</td>\n",
       "      <td>-0.104112</td>\n",
       "      <td>NaN</td>\n",
       "      <td>6.953044e+08</td>\n",
       "    </tr>\n",
       "    <tr>\n",
       "      <th>30</th>\n",
       "      <td>0</td>\n",
       "      <td>1990</td>\n",
       "      <td>NaN</td>\n",
       "      <td>NaN</td>\n",
       "      <td>NaN</td>\n",
       "      <td>NaN</td>\n",
       "      <td>NaN</td>\n",
       "      <td>NaN</td>\n",
       "      <td>NaN</td>\n",
       "      <td>NaN</td>\n",
       "      <td>...</td>\n",
       "      <td>1.812032</td>\n",
       "      <td>50.672588</td>\n",
       "      <td>NaN</td>\n",
       "      <td>NaN</td>\n",
       "      <td>NaN</td>\n",
       "      <td>1.843551</td>\n",
       "      <td>49.681</td>\n",
       "      <td>1.780922</td>\n",
       "      <td>NaN</td>\n",
       "      <td>7.648871e+08</td>\n",
       "    </tr>\n",
       "  </tbody>\n",
       "</table>\n",
       "<p>5 rows × 134 columns</p>\n",
       "</div>"
      ],
      "text/plain": [
       "    Country Code  Year  NY.GNP.PCAP.CD  SE.ADT.1524.LT.FM.ZS  \\\n",
       "26             0  1986             NaN                   NaN   \n",
       "27             0  1987             NaN                   NaN   \n",
       "28             0  1988             NaN                   NaN   \n",
       "29             0  1989             NaN                   NaN   \n",
       "30             0  1990             NaN                   NaN   \n",
       "\n",
       "    SE.ADT.1524.LT.MA.ZS  SE.ADT.LITR.FE.ZS  SE.PRM.CMPT.FE.ZS  \\\n",
       "26                   NaN                NaN                NaN   \n",
       "27                   NaN                NaN                NaN   \n",
       "28                   NaN                NaN                NaN   \n",
       "29                   NaN                NaN                NaN   \n",
       "30                   NaN                NaN                NaN   \n",
       "\n",
       "    SE.PRM.CMPT.MA.ZS  SE.PRM.ENRR  SE.PRM.NENR  ...  SP.POP.GROW  \\\n",
       "26                NaN          NaN          NaN  ...    -0.611117   \n",
       "27                NaN          NaN          NaN  ...    -1.299836   \n",
       "28                NaN          NaN          NaN  ...    -1.233418   \n",
       "29                NaN          NaN          NaN  ...    -0.073705   \n",
       "30                NaN          NaN          NaN  ...     1.812032   \n",
       "\n",
       "    SP.POP.TOTL.FE.ZS  SP.REG.BRTH.RU.ZS  SP.REG.BRTH.UR.ZS  SP.REG.DTHS.ZS  \\\n",
       "26          51.166911                NaN                NaN             NaN   \n",
       "27          51.053610                NaN                NaN             NaN   \n",
       "28          50.919331                NaN                NaN             NaN   \n",
       "29          50.784834                NaN                NaN             NaN   \n",
       "30          50.672588                NaN                NaN             NaN   \n",
       "\n",
       "    SP.RUR.TOTL.ZG  SP.RUR.TOTL.ZS  SP.URB.GROW  SP.UWT.TFRT   gdp_country  \n",
       "26       -0.580604          49.620    -0.641159          NaN  4.054634e+08  \n",
       "27       -1.269118          49.635    -1.330100          NaN  4.876025e+08  \n",
       "28       -1.202958          49.650    -1.263447          NaN  5.964236e+08  \n",
       "29       -0.042878          49.665    -0.104112          NaN  6.953044e+08  \n",
       "30        1.843551          49.681     1.780922          NaN  7.648871e+08  \n",
       "\n",
       "[5 rows x 134 columns]"
      ]
     },
     "execution_count": 44,
     "metadata": {},
     "output_type": "execute_result"
    }
   ],
   "source": [
    "corr_gdp.head()"
   ]
  },
  {
   "cell_type": "markdown",
   "metadata": {},
   "source": [
    "## Null values per feature"
   ]
  },
  {
   "cell_type": "code",
   "execution_count": 45,
   "metadata": {},
   "outputs": [],
   "source": [
    "nan_feature_df = pd.DataFrame()\n",
    "features=[]\n",
    "nan_counts=[]\n",
    "for feature in corr_gdp.columns:\n",
    "  features.append(str(feature))\n",
    "  nan_counts.append(corr_gdp[feature].isna().sum())\n",
    "\n",
    "nan_feature_df['feature']=features\n",
    "nan_feature_df['nan_count']=nan_counts"
   ]
  },
  {
   "cell_type": "code",
   "execution_count": 46,
   "metadata": {},
   "outputs": [
    {
     "data": {
      "image/png": "[encoded data removed]",
      "text/plain": [
       "<Figure size 864x576 with 1 Axes>"
      ]
     },
     "metadata": {
      "needs_background": "light"
     },
     "output_type": "display_data"
    }
   ],
   "source": [
    "fig, ax = plt.subplots(figsize=(12,8))\n",
    "nan_feature_df = nan_feature_df.sort_values(by = 'nan_count', ascending=False)\n",
    "nan_feature_df = nan_feature_df.head(20)\n",
    "sns.barplot(data=nan_feature_df, x='feature', y='nan_count')\n",
    "xticks=ax.xaxis.get_major_ticks()\n",
    "# for i in range(len(xticks)):\n",
    "#     if i%5!=0:\n",
    "#         xticks[i].set_visible(False)\n",
    "ax.set_xticklabels( nan_feature_df['feature'], rotation=45 )        \n",
    "\n",
    "plt.show()"
   ]
  },
  {
   "cell_type": "markdown",
   "metadata": {},
   "source": [
    "here is a graph of the percentage of nan values per feature"
   ]
  },
  {
   "cell_type": "code",
   "execution_count": null,
   "metadata": {},
   "outputs": [],
   "source": []
  },
  {
   "cell_type": "markdown",
   "metadata": {},
   "source": [
    "## Imputing Nan values"
   ]
  },
  {
   "cell_type": "markdown",
   "metadata": {},
   "source": [
    "As you can see in the graph above, there are a number of Nan values for each feature. To deal with this, we will be using K nearest neighbor imputing to assign Nan values an expected value based on how similar its other features are with data"
   ]
  },
  {
   "cell_type": "code",
   "execution_count": 47,
   "metadata": {},
   "outputs": [
    {
     "ename": "NameError",
     "evalue": "name 'KNNImputer' is not defined",
     "output_type": "error",
     "traceback": [
      "\u001b[0;31m---------------------------------------------------------------------------\u001b[0m",
      "\u001b[0;31mNameError\u001b[0m                                 Traceback (most recent call last)",
      "\u001b[0;32m/var/folders/3s/6h63ktl15h541pj1y1mgy8vw0000gn/T/ipykernel_57715/504100901.py\u001b[0m in \u001b[0;36m<module>\u001b[0;34m\u001b[0m\n\u001b[1;32m      1\u001b[0m \u001b[0;31m# Create a KNNImputer object\u001b[0m\u001b[0;34m\u001b[0m\u001b[0;34m\u001b[0m\u001b[0m\n\u001b[0;32m----> 2\u001b[0;31m \u001b[0mimputer\u001b[0m \u001b[0;34m=\u001b[0m \u001b[0mKNNImputer\u001b[0m\u001b[0;34m(\u001b[0m\u001b[0;34m)\u001b[0m\u001b[0;34m\u001b[0m\u001b[0;34m\u001b[0m\u001b[0m\n\u001b[0m\u001b[1;32m      3\u001b[0m \u001b[0;34m\u001b[0m\u001b[0m\n\u001b[1;32m      4\u001b[0m \u001b[0;31m# Create a parameter grid to search over\u001b[0m\u001b[0;34m\u001b[0m\u001b[0;34m\u001b[0m\u001b[0m\n\u001b[1;32m      5\u001b[0m \u001b[0mparam_grid\u001b[0m \u001b[0;34m=\u001b[0m \u001b[0;34m{\u001b[0m\u001b[0;34m'n_neighbors'\u001b[0m\u001b[0;34m:\u001b[0m \u001b[0;34m[\u001b[0m\u001b[0;36m3\u001b[0m\u001b[0;34m,\u001b[0m \u001b[0;36m5\u001b[0m\u001b[0;34m,\u001b[0m \u001b[0;36m7\u001b[0m\u001b[0;34m,\u001b[0m \u001b[0;36m9\u001b[0m\u001b[0;34m]\u001b[0m\u001b[0;34m}\u001b[0m\u001b[0;34m\u001b[0m\u001b[0;34m\u001b[0m\u001b[0m\n",
      "\u001b[0;31mNameError\u001b[0m: name 'KNNImputer' is not defined"
     ]
    }
   ],
   "source": [
    "# Create a KNNImputer object\n",
    "imputer = KNNImputer()\n",
    "\n",
    "# Create a parameter grid to search over\n",
    "param_grid = {'n_neighbors': [3, 5, 7, 9]}\n",
    "\n",
    "# Create a GridSearchCV object\n",
    "grid_search = GridSearchCV(imputer, param_grid, cv=5)\n",
    "\n",
    "# Fit the GridSearchCV object to the data\n",
    "grid_search.fit(X)\n",
    "\n",
    "# Print the best parameter setting\n",
    "print(grid_search.best_params_)"
   ]
  },
  {
   "cell_type": "code",
   "execution_count": 49,
   "metadata": {},
   "outputs": [],
   "source": [
    "from sklearn.datasets import load_iris\n",
    "from sklearn.feature_selection import SelectKBest\n",
    "from sklearn.feature_selection import chi2\n",
    "from sklearn.model_selection import train_test_split\n",
    "\n",
    "import numpy as np\n",
    "from sklearn.impute import KNNImputer\n",
    "\n",
    "X_train, X_test, y_train, y_test = train_test_split(corr_gdp.drop('gdp_country', axis=1), corr_gdp['gdp_country'], test_size=0.2, random_state=42)\n",
    "\n",
    "# Instantiate the KNNImputer class with k=5\n",
    "imputer = KNNImputer(n_neighbors=5)\n",
    "\n",
    "# Fit the imputer to the data\n",
    "X_train_imputed = imputer.fit_transform(X_train)\n",
    "X_test_imputed = imputer.transform(X_test)"
   ]
  },
  {
   "cell_type": "markdown",
   "metadata": {},
   "source": [
    "There are a number of Nan values in each row. We need to "
   ]
  },
  {
   "attachments": {},
   "cell_type": "markdown",
   "metadata": {},
   "source": [
    "## Linear Regression\n",
    "\n",
    "Define a linear regression model using the correlations of indicators as features and GDP as the label"
   ]
  },
  {
   "cell_type": "code",
   "execution_count": 50,
   "metadata": {},
   "outputs": [],
   "source": [
    "# TO-DO: Import required libraries\n",
    "from sklearn.linear_model import LinearRegression\n",
    "\n",
    "# TO-DO: Initialize model with default parameters and fit it on the training set\n",
    "reg = LinearRegression()\n",
    "reg.fit(X_train_imputed, y_train)\n",
    "\n",
    "# TO-DO: Use the model to predict on the test set and save these predictions as `y_pred`\n",
    "y_pred_log = reg.predict(X_test_imputed)"
   ]
  },
  {
   "cell_type": "code",
   "execution_count": 51,
   "metadata": {},
   "outputs": [],
   "source": [
    "from sklearn.metrics import r2_score\n",
    "from sklearn.metrics import mean_squared_error\n",
    "\n",
    "#get metrics to evaluate performance\n",
    "lin_reg_score = r2_score(y_test, y_pred_log)\n",
    "mse_score = mean_squared_error(y_test, y_pred_log)"
   ]
  },
  {
   "cell_type": "code",
   "execution_count": 52,
   "metadata": {},
   "outputs": [
    {
     "name": "stdout",
     "output_type": "stream",
     "text": [
      "0.31195759599073325\n",
      "1.3888780102453136e+25\n"
     ]
    }
   ],
   "source": [
    "print(lin_reg_score)\n",
    "print(mse_score)"
   ]
  },
  {
   "cell_type": "markdown",
   "metadata": {},
   "source": [
    "## Random Forest Regressor"
   ]
  },
  {
   "cell_type": "code",
   "execution_count": 53,
   "metadata": {},
   "outputs": [],
   "source": [
    "# TO-DO: Import required libraries\n",
    "import sklearn\n",
    "from sklearn.ensemble import RandomForestRegressor\n",
    "\n",
    "# TO-DO: Initialize model with default parameters and fit it on the training set\n",
    "reg_rf = RandomForestRegressor()\n",
    "reg_rf.fit(X_train_imputed, y_train)\n",
    "\n",
    "# TO-DO: Use the model to predict on the test set and save these predictions as `y_pred`\n",
    "y_pred_rfr = reg_rf.predict(X_test_imputed)"
   ]
  },
  {
   "cell_type": "code",
   "execution_count": 55,
   "metadata": {},
   "outputs": [
    {
     "name": "stdout",
     "output_type": "stream",
     "text": [
      "0.8938097956460792\n",
      "2.1435486951270858e+24\n"
     ]
    }
   ],
   "source": [
    "\n",
    "# TO-DO: Find the R-squared score and store the value in `rfr_score`\n",
    "rfr_score = r2_score(y_test, y_pred_rfr)\n",
    "mse_score = mean_squared_error(y_test, y_pred_rfr)\n",
    "print(rfr_score)\n",
    "print(mse_score)"
   ]
  },
  {
   "cell_type": "markdown",
   "metadata": {},
   "source": [
    "## Support Vector Machine"
   ]
  },
  {
   "cell_type": "markdown",
   "metadata": {},
   "source": [
    "Unlike the regression models above, we will create a classification to classify the GDP \"category\" that a country will fall into. Categories are created by splitting the GDPs into four quartiles - low, low-medium, high-medium, and high. Because this data is so high dimensional, PCA will be used to reduce the number of dimensions"
   ]
  },
  {
   "cell_type": "markdown",
   "metadata": {},
   "source": [
    "### PCA"
   ]
  },
  {
   "cell_type": "code",
   "execution_count": 65,
   "metadata": {},
   "outputs": [
    {
     "data": {
      "text/plain": [
       "PCA()"
      ]
     },
     "execution_count": 65,
     "metadata": {},
     "output_type": "execute_result"
    }
   ],
   "source": [
    "from sklearn.preprocessing import StandardScaler\n",
    "from sklearn.decomposition import PCA\n",
    "\n",
    "scaler = StandardScaler()\n",
    "X_train_scale = scaler.fit_transform(X_train_imputed)\n",
    "X_test_scale = scaler.transform(X_test_imputed)\n",
    "\n",
    "# TO-DO: Instantiate and Fit PCA\n",
    "pca = PCA()\n",
    "pca.fit(X_train_scale)"
   ]
  },
  {
   "cell_type": "code",
   "execution_count": 68,
   "metadata": {},
   "outputs": [],
   "source": [
    "explained_variance_ratios=pca.explained_variance_ratio_\n",
    "cum_evr = np.cumsum(explained_variance_ratios) "
   ]
  },
  {
   "cell_type": "code",
   "execution_count": 69,
   "metadata": {},
   "outputs": [
    {
     "data": {
      "image/png": "[encoded data removed]",
      "text/plain": [
       "<Figure size 432x288 with 1 Axes>"
      ]
     },
     "metadata": {
      "needs_background": "light"
     },
     "output_type": "display_data"
    }
   ],
   "source": [
    "plot=sns.lineplot(x = [x for x in range(1,len(cum_evr)+1)], y=cum_evr)\n",
    "plot2=sns.lineplot(x = [x for x in range(1,len(cum_evr)+1)], y = [0.8 for y in range(len(cum_evr))])\n",
    "plot.set(xlabel =\"Number of Components\", ylabel = \"Cumulative Explained Variance Ratio\", title ='Cumulative Explained Variance Ratio over Number of Components')\n",
    "\n",
    "sns.set(rc={'figure.figsize':(8,6)})"
   ]
  },
  {
   "cell_type": "code",
   "execution_count": 70,
   "metadata": {},
   "outputs": [],
   "source": [
    "n = 30\n",
    "pca = PCA(n_components=n)\n",
    "X_train_pca = pca.fit_transform(X_train_scale)\n",
    "X_test_pca = pca.transform(X_test_scale)"
   ]
  },
  {
   "cell_type": "code",
   "execution_count": 75,
   "metadata": {},
   "outputs": [
    {
     "name": "stdout",
     "output_type": "stream",
     "text": [
      "Accuracy: 0.729\n"
     ]
    }
   ],
   "source": [
    "from sklearn.preprocessing import LabelEncoder\n",
    "from sklearn.svm import SVC\n",
    "from sklearn.metrics import accuracy_score\n",
    "\n",
    "corr_df_classification = corr_df.copy()\n",
    "\n",
    "# Create GDP categories based on quartiles\n",
    "y_train_buckets = pd.qcut(y_train, q=4, labels=[\"Low\", \"Medium-Low\", \"Medium-High\", \"High\"])\n",
    "y_test_buckets = pd.qcut(y_test, q=4, labels=[\"Low\", \"Medium-Low\", \"Medium-High\", \"High\"])\n",
    "\n",
    "# Convert the GDP category labels to numerical values\n",
    "label_encoder = LabelEncoder()\n",
    "y_train_buckets = label_encoder.fit_transform(y_train_buckets)\n",
    "y_test_buckets = label_encoder.fit_transform(y_test_buckets)\n",
    "\n",
    "# Create an SVM classifier with a linear kernel\n",
    "clf = SVC(kernel='rbf')\n",
    "\n",
    "# Train the classifier on the training data\n",
    "clf.fit(X_train_pca, y_train_buckets)\n",
    "\n",
    "# Make predictions on the test data\n",
    "y_pred_svc = clf.predict(X_test_pca)\n",
    "\n",
    "# Convert the numerical category labels back to string labels\n",
    "y_test_str = label_encoder.inverse_transform(y_test_buckets)\n",
    "y_pred_str = label_encoder.inverse_transform(y_pred_svc)\n",
    "\n",
    "# Calculate the accuracy of the classifier\n",
    "accuracy = accuracy_score(y_test_buckets, y_pred_svc)\n",
    "\n",
    "# Print the accuracy\n",
    "print(f\"Accuracy: {accuracy:.3f}\")"
   ]
  },
  {
   "cell_type": "markdown",
   "metadata": {},
   "source": [
    "the sigmoid kernel above had an accuracy of around 28%. Linear was around 50%, and rbf was the highest, with 73%"
   ]
  },
  {
   "cell_type": "markdown",
   "metadata": {},
   "source": [
    "## Map visualization"
   ]
  },
  {
   "cell_type": "code",
   "execution_count": 57,
   "metadata": {},
   "outputs": [
    {
     "name": "stdout",
     "output_type": "stream",
     "text": [
      "Collecting plotly\n",
      "  Downloading plotly-5.14.1-py2.py3-none-any.whl (15.3 MB)\n",
      "\u001b[K     |████████████████████████████████| 15.3 MB 985 kB/s eta 0:00:01\n",
      "\u001b[?25hRequirement already satisfied: packaging in /Users/aashvimanakiwala/opt/anaconda3/lib/python3.9/site-packages (from plotly) (21.0)\n",
      "Collecting tenacity>=6.2.0\n",
      "  Downloading tenacity-8.2.2-py3-none-any.whl (24 kB)\n",
      "Requirement already satisfied: pyparsing>=2.0.2 in /Users/aashvimanakiwala/opt/anaconda3/lib/python3.9/site-packages (from packaging->plotly) (3.0.4)\n",
      "Installing collected packages: tenacity, plotly\n",
      "Successfully installed plotly-5.14.1 tenacity-8.2.2\n"
     ]
    }
   ],
   "source": [
    "!pip install plotly"
   ]
  },
  {
   "cell_type": "code",
   "execution_count": 64,
   "metadata": {},
   "outputs": [
    {
     "data": {
      "application/vnd.plotly.v1+json": {
       "config": {
        "plotlyServerURL": "https://plot.ly"
       },
       "data": [
        {
         "coloraxis": "coloraxis",
         "geo": "geo",
         "hovertemplate": "<b>%{hovertext}</b><br><br>Country Code=%{location}<br>gdp_country=%{z}<extra></extra>",
         "hovertext": [],
         "locations": [],
         "name": "",
         "type": "choropleth",
         "z": []
        }
       ],
       "layout": {
        "coloraxis": {
         "colorbar": {
          "title": {
           "text": "gdp_country"
          }
         },
         "colorscale": [
          [
           0,
           "#0d0887"
          ],
          [
           0.1111111111111111,
           "#46039f"
          ],
          [
           0.2222222222222222,
           "#7201a8"
          ],
          [
           0.3333333333333333,
           "#9c179e"
          ],
          [
           0.4444444444444444,
           "#bd3786"
          ],
          [
           0.5555555555555556,
           "#d8576b"
          ],
          [
           0.6666666666666666,
           "#ed7953"
          ],
          [
           0.7777777777777778,
           "#fb9f3a"
          ],
          [
           0.8888888888888888,
           "#fdca26"
          ],
          [
           1,
           "#f0f921"
          ]
         ]
        },
        "geo": {
         "center": {},
         "domain": {
          "x": [
           0,
           1
          ],
          "y": [
           0,
           1
          ]
         },
         "projection": {
          "type": "natural earth"
         }
        },
        "legend": {
         "tracegroupgap": 0
        },
        "margin": {
         "t": 60
        },
        "template": {
         "data": {
          "bar": [
           {
            "error_x": {
             "color": "#2a3f5f"
            },
            "error_y": {
             "color": "#2a3f5f"
            },
            "marker": {
             "line": {
              "color": "#E5ECF6",
              "width": 0.5
             },
             "pattern": {
              "fillmode": "overlay",
              "size": 10,
              "solidity": 0.2
             }
            },
            "type": "bar"
           }
          ],
          "barpolar": [
           {
            "marker": {
             "line": {
              "color": "#E5ECF6",
              "width": 0.5
             },
             "pattern": {
              "fillmode": "overlay",
              "size": 10,
              "solidity": 0.2
             }
            },
            "type": "barpolar"
           }
          ],
          "carpet": [
           {
            "aaxis": {
             "endlinecolor": "#2a3f5f",
             "gridcolor": "white",
             "linecolor": "white",
             "minorgridcolor": "white",
             "startlinecolor": "#2a3f5f"
            },
            "baxis": {
             "endlinecolor": "#2a3f5f",
             "gridcolor": "white",
             "linecolor": "white",
             "minorgridcolor": "white",
             "startlinecolor": "#2a3f5f"
            },
            "type": "carpet"
           }
          ],
          "choropleth": [
           {
            "colorbar": {
             "outlinewidth": 0,
             "ticks": ""
            },
            "type": "choropleth"
           }
          ],
          "contour": [
           {
            "colorbar": {
             "outlinewidth": 0,
             "ticks": ""
            },
            "colorscale": [
             [
              0,
              "#0d0887"
             ],
             [
              0.1111111111111111,
              "#46039f"
             ],
             [
              0.2222222222222222,
              "#7201a8"
             ],
             [
              0.3333333333333333,
              "#9c179e"
             ],
             [
              0.4444444444444444,
              "#bd3786"
             ],
             [
              0.5555555555555556,
              "#d8576b"
             ],
             [
              0.6666666666666666,
              "#ed7953"
             ],
             [
              0.7777777777777778,
              "#fb9f3a"
             ],
             [
              0.8888888888888888,
              "#fdca26"
             ],
             [
              1,
              "#f0f921"
             ]
            ],
            "type": "contour"
           }
          ],
          "contourcarpet": [
           {
            "colorbar": {
             "outlinewidth": 0,
             "ticks": ""
            },
            "type": "contourcarpet"
           }
          ],
          "heatmap": [
           {
            "colorbar": {
             "outlinewidth": 0,
             "ticks": ""
            },
            "colorscale": [
             [
              0,
              "#0d0887"
             ],
             [
              0.1111111111111111,
              "#46039f"
             ],
             [
              0.2222222222222222,
              "#7201a8"
             ],
             [
              0.3333333333333333,
              "#9c179e"
             ],
             [
              0.4444444444444444,
              "#bd3786"
             ],
             [
              0.5555555555555556,
              "#d8576b"
             ],
             [
              0.6666666666666666,
              "#ed7953"
             ],
             [
              0.7777777777777778,
              "#fb9f3a"
             ],
             [
              0.8888888888888888,
              "#fdca26"
             ],
             [
              1,
              "#f0f921"
             ]
            ],
            "type": "heatmap"
           }
          ],
          "heatmapgl": [
           {
            "colorbar": {
             "outlinewidth": 0,
             "ticks": ""
            },
            "colorscale": [
             [
              0,
              "#0d0887"
             ],
             [
              0.1111111111111111,
              "#46039f"
             ],
             [
              0.2222222222222222,
              "#7201a8"
             ],
             [
              0.3333333333333333,
              "#9c179e"
             ],
             [
              0.4444444444444444,
              "#bd3786"
             ],
             [
              0.5555555555555556,
              "#d8576b"
             ],
             [
              0.6666666666666666,
              "#ed7953"
             ],
             [
              0.7777777777777778,
              "#fb9f3a"
             ],
             [
              0.8888888888888888,
              "#fdca26"
             ],
             [
              1,
              "#f0f921"
             ]
            ],
            "type": "heatmapgl"
           }
          ],
          "histogram": [
           {
            "marker": {
             "pattern": {
              "fillmode": "overlay",
              "size": 10,
              "solidity": 0.2
             }
            },
            "type": "histogram"
           }
          ],
          "histogram2d": [
           {
            "colorbar": {
             "outlinewidth": 0,
             "ticks": ""
            },
            "colorscale": [
             [
              0,
              "#0d0887"
             ],
             [
              0.1111111111111111,
              "#46039f"
             ],
             [
              0.2222222222222222,
              "#7201a8"
             ],
             [
              0.3333333333333333,
              "#9c179e"
             ],
             [
              0.4444444444444444,
              "#bd3786"
             ],
             [
              0.5555555555555556,
              "#d8576b"
             ],
             [
              0.6666666666666666,
              "#ed7953"
             ],
             [
              0.7777777777777778,
              "#fb9f3a"
             ],
             [
              0.8888888888888888,
              "#fdca26"
             ],
             [
              1,
              "#f0f921"
             ]
            ],
            "type": "histogram2d"
           }
          ],
          "histogram2dcontour": [
           {
            "colorbar": {
             "outlinewidth": 0,
             "ticks": ""
            },
            "colorscale": [
             [
              0,
              "#0d0887"
             ],
             [
              0.1111111111111111,
              "#46039f"
             ],
             [
              0.2222222222222222,
              "#7201a8"
             ],
             [
              0.3333333333333333,
              "#9c179e"
             ],
             [
              0.4444444444444444,
              "#bd3786"
             ],
             [
              0.5555555555555556,
              "#d8576b"
             ],
             [
              0.6666666666666666,
              "#ed7953"
             ],
             [
              0.7777777777777778,
              "#fb9f3a"
             ],
             [
              0.8888888888888888,
              "#fdca26"
             ],
             [
              1,
              "#f0f921"
             ]
            ],
            "type": "histogram2dcontour"
           }
          ],
          "mesh3d": [
           {
            "colorbar": {
             "outlinewidth": 0,
             "ticks": ""
            },
            "type": "mesh3d"
           }
          ],
          "parcoords": [
           {
            "line": {
             "colorbar": {
              "outlinewidth": 0,
              "ticks": ""
             }
            },
            "type": "parcoords"
           }
          ],
          "pie": [
           {
            "automargin": true,
            "type": "pie"
           }
          ],
          "scatter": [
           {
            "fillpattern": {
             "fillmode": "overlay",
             "size": 10,
             "solidity": 0.2
            },
            "type": "scatter"
           }
          ],
          "scatter3d": [
           {
            "line": {
             "colorbar": {
              "outlinewidth": 0,
              "ticks": ""
             }
            },
            "marker": {
             "colorbar": {
              "outlinewidth": 0,
              "ticks": ""
             }
            },
            "type": "scatter3d"
           }
          ],
          "scattercarpet": [
           {
            "marker": {
             "colorbar": {
              "outlinewidth": 0,
              "ticks": ""
             }
            },
            "type": "scattercarpet"
           }
          ],
          "scattergeo": [
           {
            "marker": {
             "colorbar": {
              "outlinewidth": 0,
              "ticks": ""
             }
            },
            "type": "scattergeo"
           }
          ],
          "scattergl": [
           {
            "marker": {
             "colorbar": {
              "outlinewidth": 0,
              "ticks": ""
             }
            },
            "type": "scattergl"
           }
          ],
          "scattermapbox": [
           {
            "marker": {
             "colorbar": {
              "outlinewidth": 0,
              "ticks": ""
             }
            },
            "type": "scattermapbox"
           }
          ],
          "scatterpolar": [
           {
            "marker": {
             "colorbar": {
              "outlinewidth": 0,
              "ticks": ""
             }
            },
            "type": "scatterpolar"
           }
          ],
          "scatterpolargl": [
           {
            "marker": {
             "colorbar": {
              "outlinewidth": 0,
              "ticks": ""
             }
            },
            "type": "scatterpolargl"
           }
          ],
          "scatterternary": [
           {
            "marker": {
             "colorbar": {
              "outlinewidth": 0,
              "ticks": ""
             }
            },
            "type": "scatterternary"
           }
          ],
          "surface": [
           {
            "colorbar": {
             "outlinewidth": 0,
             "ticks": ""
            },
            "colorscale": [
             [
              0,
              "#0d0887"
             ],
             [
              0.1111111111111111,
              "#46039f"
             ],
             [
              0.2222222222222222,
              "#7201a8"
             ],
             [
              0.3333333333333333,
              "#9c179e"
             ],
             [
              0.4444444444444444,
              "#bd3786"
             ],
             [
              0.5555555555555556,
              "#d8576b"
             ],
             [
              0.6666666666666666,
              "#ed7953"
             ],
             [
              0.7777777777777778,
              "#fb9f3a"
             ],
             [
              0.8888888888888888,
              "#fdca26"
             ],
             [
              1,
              "#f0f921"
             ]
            ],
            "type": "surface"
           }
          ],
          "table": [
           {
            "cells": {
             "fill": {
              "color": "#EBF0F8"
             },
             "line": {
              "color": "white"
             }
            },
            "header": {
             "fill": {
              "color": "#C8D4E3"
             },
             "line": {
              "color": "white"
             }
            },
            "type": "table"
           }
          ]
         },
         "layout": {
          "annotationdefaults": {
           "arrowcolor": "#2a3f5f",
           "arrowhead": 0,
           "arrowwidth": 1
          },
          "autotypenumbers": "strict",
          "coloraxis": {
           "colorbar": {
            "outlinewidth": 0,
            "ticks": ""
           }
          },
          "colorscale": {
           "diverging": [
            [
             0,
             "#8e0152"
            ],
            [
             0.1,
             "#c51b7d"
            ],
            [
             0.2,
             "#de77ae"
            ],
            [
             0.3,
             "#f1b6da"
            ],
            [
             0.4,
             "#fde0ef"
            ],
            [
             0.5,
             "#f7f7f7"
            ],
            [
             0.6,
             "#e6f5d0"
            ],
            [
             0.7,
             "#b8e186"
            ],
            [
             0.8,
             "#7fbc41"
            ],
            [
             0.9,
             "#4d9221"
            ],
            [
             1,
             "#276419"
            ]
           ],
           "sequential": [
            [
             0,
             "#0d0887"
            ],
            [
             0.1111111111111111,
             "#46039f"
            ],
            [
             0.2222222222222222,
             "#7201a8"
            ],
            [
             0.3333333333333333,
             "#9c179e"
            ],
            [
             0.4444444444444444,
             "#bd3786"
            ],
            [
             0.5555555555555556,
             "#d8576b"
            ],
            [
             0.6666666666666666,
             "#ed7953"
            ],
            [
             0.7777777777777778,
             "#fb9f3a"
            ],
            [
             0.8888888888888888,
             "#fdca26"
            ],
            [
             1,
             "#f0f921"
            ]
           ],
           "sequentialminus": [
            [
             0,
             "#0d0887"
            ],
            [
             0.1111111111111111,
             "#46039f"
            ],
            [
             0.2222222222222222,
             "#7201a8"
            ],
            [
             0.3333333333333333,
             "#9c179e"
            ],
            [
             0.4444444444444444,
             "#bd3786"
            ],
            [
             0.5555555555555556,
             "#d8576b"
            ],
            [
             0.6666666666666666,
             "#ed7953"
            ],
            [
             0.7777777777777778,
             "#fb9f3a"
            ],
            [
             0.8888888888888888,
             "#fdca26"
            ],
            [
             1,
             "#f0f921"
            ]
           ]
          },
          "colorway": [
           "#636efa",
           "#EF553B",
           "#00cc96",
           "#ab63fa",
           "#FFA15A",
           "#19d3f3",
           "#FF6692",
           "#B6E880",
           "#FF97FF",
           "#FECB52"
          ],
          "font": {
           "color": "#2a3f5f"
          },
          "geo": {
           "bgcolor": "white",
           "lakecolor": "white",
           "landcolor": "#E5ECF6",
           "showlakes": true,
           "showland": true,
           "subunitcolor": "white"
          },
          "hoverlabel": {
           "align": "left"
          },
          "hovermode": "closest",
          "mapbox": {
           "style": "light"
          },
          "paper_bgcolor": "white",
          "plot_bgcolor": "#E5ECF6",
          "polar": {
           "angularaxis": {
            "gridcolor": "white",
            "linecolor": "white",
            "ticks": ""
           },
           "bgcolor": "#E5ECF6",
           "radialaxis": {
            "gridcolor": "white",
            "linecolor": "white",
            "ticks": ""
           }
          },
          "scene": {
           "xaxis": {
            "backgroundcolor": "#E5ECF6",
            "gridcolor": "white",
            "gridwidth": 2,
            "linecolor": "white",
            "showbackground": true,
            "ticks": "",
            "zerolinecolor": "white"
           },
           "yaxis": {
            "backgroundcolor": "#E5ECF6",
            "gridcolor": "white",
            "gridwidth": 2,
            "linecolor": "white",
            "showbackground": true,
            "ticks": "",
            "zerolinecolor": "white"
           },
           "zaxis": {
            "backgroundcolor": "#E5ECF6",
            "gridcolor": "white",
            "gridwidth": 2,
            "linecolor": "white",
            "showbackground": true,
            "ticks": "",
            "zerolinecolor": "white"
           }
          },
          "shapedefaults": {
           "line": {
            "color": "#2a3f5f"
           }
          },
          "ternary": {
           "aaxis": {
            "gridcolor": "white",
            "linecolor": "white",
            "ticks": ""
           },
           "baxis": {
            "gridcolor": "white",
            "linecolor": "white",
            "ticks": ""
           },
           "bgcolor": "#E5ECF6",
           "caxis": {
            "gridcolor": "white",
            "linecolor": "white",
            "ticks": ""
           }
          },
          "title": {
           "x": 0.05
          },
          "xaxis": {
           "automargin": true,
           "gridcolor": "white",
           "linecolor": "white",
           "ticks": "",
           "title": {
            "standoff": 15
           },
           "zerolinecolor": "white",
           "zerolinewidth": 2
          },
          "yaxis": {
           "automargin": true,
           "gridcolor": "white",
           "linecolor": "white",
           "ticks": "",
           "title": {
            "standoff": 15
           },
           "zerolinecolor": "white",
           "zerolinewidth": 2
          }
         }
        }
       }
      }
     },
     "metadata": {},
     "output_type": "display_data"
    }
   ],
   "source": [
    "import plotly.express as px\n",
    "fig = px.choropleth(corr_gdp[corr_gdp['Year']==2015], locations=\"Country Code\", color='gdp_country', hover_name='Country Code', projection='natural earth')\n",
    "fig.show()"
   ]
  },
  {
   "cell_type": "code",
   "execution_count": null,
   "metadata": {},
   "outputs": [
    {
     "ename": "ValueError",
     "evalue": "Unknown label type: 'continuous'",
     "output_type": "error",
     "traceback": [
      "\u001b[0;31m---------------------------------------------------------------------------\u001b[0m",
      "\u001b[0;31mValueError\u001b[0m                                Traceback (most recent call last)",
      "\u001b[0;32m/var/folders/3s/6h63ktl15h541pj1y1mgy8vw0000gn/T/ipykernel_54309/1581375796.py\u001b[0m in \u001b[0;36m<module>\u001b[0;34m\u001b[0m\n\u001b[1;32m      6\u001b[0m \u001b[0;34m\u001b[0m\u001b[0m\n\u001b[1;32m      7\u001b[0m \u001b[0;31m# Train the classifier on the training data\u001b[0m\u001b[0;34m\u001b[0m\u001b[0;34m\u001b[0m\u001b[0m\n\u001b[0;32m----> 8\u001b[0;31m \u001b[0mclf\u001b[0m\u001b[0;34m.\u001b[0m\u001b[0mfit\u001b[0m\u001b[0;34m(\u001b[0m\u001b[0mX_train_imputed\u001b[0m\u001b[0;34m,\u001b[0m \u001b[0my_train\u001b[0m\u001b[0;34m)\u001b[0m\u001b[0;34m\u001b[0m\u001b[0;34m\u001b[0m\u001b[0m\n\u001b[0m\u001b[1;32m      9\u001b[0m \u001b[0;34m\u001b[0m\u001b[0m\n\u001b[1;32m     10\u001b[0m \u001b[0;31m# Make predictions on the test data\u001b[0m\u001b[0;34m\u001b[0m\u001b[0;34m\u001b[0m\u001b[0m\n",
      "\u001b[0;32m~/opt/anaconda3/lib/python3.9/site-packages/sklearn/svm/_base.py\u001b[0m in \u001b[0;36mfit\u001b[0;34m(self, X, y, sample_weight)\u001b[0m\n\u001b[1;32m    171\u001b[0m                                        accept_large_sparse=False)\n\u001b[1;32m    172\u001b[0m \u001b[0;34m\u001b[0m\u001b[0m\n\u001b[0;32m--> 173\u001b[0;31m         \u001b[0my\u001b[0m \u001b[0;34m=\u001b[0m \u001b[0mself\u001b[0m\u001b[0;34m.\u001b[0m\u001b[0m_validate_targets\u001b[0m\u001b[0;34m(\u001b[0m\u001b[0my\u001b[0m\u001b[0;34m)\u001b[0m\u001b[0;34m\u001b[0m\u001b[0;34m\u001b[0m\u001b[0m\n\u001b[0m\u001b[1;32m    174\u001b[0m \u001b[0;34m\u001b[0m\u001b[0m\n\u001b[1;32m    175\u001b[0m         sample_weight = np.asarray([]\n",
      "\u001b[0;32m~/opt/anaconda3/lib/python3.9/site-packages/sklearn/svm/_base.py\u001b[0m in \u001b[0;36m_validate_targets\u001b[0;34m(self, y)\u001b[0m\n\u001b[1;32m    551\u001b[0m     \u001b[0;32mdef\u001b[0m \u001b[0m_validate_targets\u001b[0m\u001b[0;34m(\u001b[0m\u001b[0mself\u001b[0m\u001b[0;34m,\u001b[0m \u001b[0my\u001b[0m\u001b[0;34m)\u001b[0m\u001b[0;34m:\u001b[0m\u001b[0;34m\u001b[0m\u001b[0;34m\u001b[0m\u001b[0m\n\u001b[1;32m    552\u001b[0m         \u001b[0my_\u001b[0m \u001b[0;34m=\u001b[0m \u001b[0mcolumn_or_1d\u001b[0m\u001b[0;34m(\u001b[0m\u001b[0my\u001b[0m\u001b[0;34m,\u001b[0m \u001b[0mwarn\u001b[0m\u001b[0;34m=\u001b[0m\u001b[0;32mTrue\u001b[0m\u001b[0;34m)\u001b[0m\u001b[0;34m\u001b[0m\u001b[0;34m\u001b[0m\u001b[0m\n\u001b[0;32m--> 553\u001b[0;31m         \u001b[0mcheck_classification_targets\u001b[0m\u001b[0;34m(\u001b[0m\u001b[0my\u001b[0m\u001b[0;34m)\u001b[0m\u001b[0;34m\u001b[0m\u001b[0;34m\u001b[0m\u001b[0m\n\u001b[0m\u001b[1;32m    554\u001b[0m         \u001b[0mcls\u001b[0m\u001b[0;34m,\u001b[0m \u001b[0my\u001b[0m \u001b[0;34m=\u001b[0m \u001b[0mnp\u001b[0m\u001b[0;34m.\u001b[0m\u001b[0munique\u001b[0m\u001b[0;34m(\u001b[0m\u001b[0my_\u001b[0m\u001b[0;34m,\u001b[0m \u001b[0mreturn_inverse\u001b[0m\u001b[0;34m=\u001b[0m\u001b[0;32mTrue\u001b[0m\u001b[0;34m)\u001b[0m\u001b[0;34m\u001b[0m\u001b[0;34m\u001b[0m\u001b[0m\n\u001b[1;32m    555\u001b[0m         self.class_weight_ = compute_class_weight(self.class_weight,\n",
      "\u001b[0;32m~/opt/anaconda3/lib/python3.9/site-packages/sklearn/utils/multiclass.py\u001b[0m in \u001b[0;36mcheck_classification_targets\u001b[0;34m(y)\u001b[0m\n\u001b[1;32m    181\u001b[0m     if y_type not in ['binary', 'multiclass', 'multiclass-multioutput',\n\u001b[1;32m    182\u001b[0m                       'multilabel-indicator', 'multilabel-sequences']:\n\u001b[0;32m--> 183\u001b[0;31m         \u001b[0;32mraise\u001b[0m \u001b[0mValueError\u001b[0m\u001b[0;34m(\u001b[0m\u001b[0;34m\"Unknown label type: %r\"\u001b[0m \u001b[0;34m%\u001b[0m \u001b[0my_type\u001b[0m\u001b[0;34m)\u001b[0m\u001b[0;34m\u001b[0m\u001b[0;34m\u001b[0m\u001b[0m\n\u001b[0m\u001b[1;32m    184\u001b[0m \u001b[0;34m\u001b[0m\u001b[0m\n\u001b[1;32m    185\u001b[0m \u001b[0;34m\u001b[0m\u001b[0m\n",
      "\u001b[0;31mValueError\u001b[0m: Unknown label type: 'continuous'"
     ]
    }
   ],
   "source": [
    "from sklearn.svm import SVC\n",
    "from sklearn.metrics import accuracy_score\n",
    "\n",
    "# Create an SVM classifier with a linear kernel\n",
    "clf = SVC(kernel='linear')\n",
    "\n",
    "# Train the classifier on the training data\n",
    "clf.fit(X_train_imputed, y_train)\n",
    "\n",
    "# Make predictions on the test data\n",
    "y_pred = clf.predict(X_test)\n",
    "\n",
    "# Calculate the accuracy of the classifier\n",
    "accuracy = accuracy_score(y_test, y_pred)\n",
    "\n",
    "# Print the accuracy\n",
    "print(f\"Accuracy: {accuracy:.3f}\")"
   ]
  },
  {
   "cell_type": "code",
   "execution_count": null,
   "metadata": {},
   "outputs": [],
   "source": [
    "from sklearn.linear_model import LinearRegression\n",
    "from sklearn.model_selection import train_test_split\n",
    "\n",
    "# Identify the indicators with high correlation with GDP\n",
    "corr_75th_percentile = np.percentile(abs(sort_melted['Correlation']), 75)\n",
    "high_corr_features = sort_melted[abs(sort_melted['Correlation']) > corr_75th_percentile]['Indicator Code']"
   ]
  },
  {
   "cell_type": "code",
   "execution_count": null,
   "metadata": {},
   "outputs": [
    {
     "ename": "ImportError",
     "evalue": "cannot import name 'HistGradientBoostingRegressor' from 'sklearn.ensemble' (/Users/aashvimanakiwala/opt/anaconda3/lib/python3.9/site-packages/sklearn/ensemble/__init__.py)",
     "output_type": "error",
     "traceback": [
      "\u001b[0;31m---------------------------------------------------------------------------\u001b[0m",
      "\u001b[0;31mImportError\u001b[0m                               Traceback (most recent call last)",
      "\u001b[0;32m/var/folders/3s/6h63ktl15h541pj1y1mgy8vw0000gn/T/ipykernel_54309/1776287189.py\u001b[0m in \u001b[0;36m<module>\u001b[0;34m\u001b[0m\n\u001b[0;32m----> 1\u001b[0;31m \u001b[0;32mfrom\u001b[0m \u001b[0msklearn\u001b[0m\u001b[0;34m.\u001b[0m\u001b[0mensemble\u001b[0m \u001b[0;32mimport\u001b[0m \u001b[0mHistGradientBoostingRegressor\u001b[0m\u001b[0;34m\u001b[0m\u001b[0;34m\u001b[0m\u001b[0m\n\u001b[0m\u001b[1;32m      2\u001b[0m \u001b[0;32mfrom\u001b[0m \u001b[0msklearn\u001b[0m\u001b[0;34m.\u001b[0m\u001b[0mmodel_selection\u001b[0m \u001b[0;32mimport\u001b[0m \u001b[0mtrain_test_split\u001b[0m\u001b[0;34m\u001b[0m\u001b[0;34m\u001b[0m\u001b[0m\n\u001b[1;32m      3\u001b[0m \u001b[0;32mfrom\u001b[0m \u001b[0msklearn\u001b[0m\u001b[0;34m.\u001b[0m\u001b[0mimpute\u001b[0m \u001b[0;32mimport\u001b[0m \u001b[0mSimpleImputer\u001b[0m\u001b[0;34m\u001b[0m\u001b[0;34m\u001b[0m\u001b[0m\n\u001b[1;32m      4\u001b[0m \u001b[0;34m\u001b[0m\u001b[0m\n\u001b[1;32m      5\u001b[0m \u001b[0;31m# Split the data into training and testing sets\u001b[0m\u001b[0;34m\u001b[0m\u001b[0;34m\u001b[0m\u001b[0m\n",
      "\u001b[0;31mImportError\u001b[0m: cannot import name 'HistGradientBoostingRegressor' from 'sklearn.ensemble' (/Users/aashvimanakiwala/opt/anaconda3/lib/python3.9/site-packages/sklearn/ensemble/__init__.py)"
     ]
    }
   ],
   "source": [
    "from sklearn.ensemble import HistGradientBoostingRegressor\n",
    "from sklearn.model_selection import train_test_split\n",
    "from sklearn.impute import SimpleImputer\n",
    "\n",
    "# Split the data into training and testing sets\n",
    "X_train, X_test, y_train, y_test = train_test_split(corr_gdp.drop('gdp_country', axis=1), corr_gdp['gdp_country'], test_size=0.2, random_state=42)\n",
    "\n",
    "# Impute missing values in the training and testing data\n",
    "imputer = SimpleImputer()\n",
    "X_train_imputed = imputer.fit_transform(X_train)\n",
    "X_test_imputed = imputer.transform(X_test)\n",
    "\n",
    "# Define the HistGradientBoostingRegressor model\n",
    "model = HistGradientBoostingRegressor()\n",
    "\n",
    "# Train the model using the imputed training data\n",
    "model.fit(X_train_imputed, y_train)\n",
    "\n",
    "# Evaluate the performance of the model on the imputed testing data\n",
    "score = model.score(X_test_imputed, y_test)\n",
    "print(\"R-squared:\", score)"
   ]
  },
  {
   "cell_type": "code",
   "execution_count": null,
   "metadata": {},
   "outputs": [
    {
     "data": {
      "image/png": "[encoded data removed]",
      "text/plain": [
       "<Figure size 640x480 with 1 Axes>"
      ]
     },
     "metadata": {},
     "output_type": "display_data"
    }
   ],
   "source": [
    "import matplotlib.pyplot as plt\n",
    "import seaborn as sns\n",
    "\n",
    "# Predict GDP using the trained model on the testing data\n",
    "y_pred = model.predict(X_test_imputed)\n",
    "\n",
    "# Create a scatter plot of actual vs predicted GDP values\n",
    "sns.scatterplot(x=y_test, y=y_pred)\n",
    "plt.xlabel('Actual GDP')\n",
    "plt.ylabel('Predicted GDP')\n",
    "plt.title('Actual vs Predicted GDP')\n",
    "plt.show()"
   ]
  },
  {
   "cell_type": "markdown",
   "metadata": {},
   "source": [
    "## Random Forest Regressor"
   ]
  },
  {
   "cell_type": "markdown",
   "metadata": {},
   "source": [
    "## Clustering\n",
    "\n",
    "Our last approach will be to use clustering to classify what bracket of GDP a country falls in. While this will not give an accurate GDP like the prediction models above, this fits the purpose of our project, which is to predict the welfare of a nation based on its socioeconomic and cultural metrics. It suffices to group certain ranges of GDPs and predict what group a particular country falls under"
   ]
  },
  {
   "cell_type": "code",
   "execution_count": null,
   "metadata": {},
   "outputs": [],
   "source": [
    "from sklearn.decomposition import PCA\n",
    "from sklearn.preprocessing import StandardScaler"
   ]
  },
  {
   "cell_type": "code",
   "execution_count": null,
   "metadata": {},
   "outputs": [],
   "source": [
    "# Extract the features we want to include in the PCA\n",
    "X = melt_nutr_df[['Year', 'Value']]"
   ]
  },
  {
   "cell_type": "code",
   "execution_count": null,
   "metadata": {},
   "outputs": [
    {
     "name": "stdout",
     "output_type": "stream",
     "text": [
      "[0.51810576 0.48189424]\n"
     ]
    }
   ],
   "source": [
    "# Standardize the features by subtracting the mean and scaling to unit variance\n",
    "scaler = StandardScaler()\n",
    "X_std = scaler.fit_transform(X)\n",
    "\n",
    "# Create a PCA object with 2 components\n",
    "pca = PCA(n_components=2)\n",
    "\n",
    "# Fit the PCA model to the standardized data\n",
    "pca.fit(X_std)\n",
    "\n",
    "# Transform the data to the new coordinate system\n",
    "X_pca = pca.transform(X_std)\n",
    "\n",
    "# Create a new DataFrame with the transformed data and the country labels\n",
    "df_pca = pd.DataFrame(X_pca, columns=['PC1', 'PC2'])\n",
    "df_pca['Country'] = melt_nutr_df['Country Name']\n",
    "\n",
    "# Print the explained variance of each principal component\n",
    "print(pca.explained_variance_ratio_)"
   ]
  },
  {
   "cell_type": "code",
   "execution_count": null,
   "metadata": {},
   "outputs": [],
   "source": [
    "import seaborn as sns\n",
    "import matplotlib.pyplot as plt"
   ]
  },
  {
   "cell_type": "code",
   "execution_count": null,
   "metadata": {},
   "outputs": [
    {
     "data": {
      "text/html": [
       "<div>\n",
       "<style scoped>\n",
       "    .dataframe tbody tr th:only-of-type {\n",
       "        vertical-align: middle;\n",
       "    }\n",
       "\n",
       "    .dataframe tbody tr th {\n",
       "        vertical-align: top;\n",
       "    }\n",
       "\n",
       "    .dataframe thead th {\n",
       "        text-align: right;\n",
       "    }\n",
       "</style>\n",
       "<table border=\"1\" class=\"dataframe\">\n",
       "  <thead>\n",
       "    <tr style=\"text-align: right;\">\n",
       "      <th></th>\n",
       "      <th>Indicator Name</th>\n",
       "      <th>Country Name</th>\n",
       "      <th>Value</th>\n",
       "    </tr>\n",
       "  </thead>\n",
       "  <tbody>\n",
       "    <tr>\n",
       "      <th>0</th>\n",
       "      <td>% of females ages 15-49 having comprehensive c...</td>\n",
       "      <td>Afghanistan</td>\n",
       "      <td>1.500000</td>\n",
       "    </tr>\n",
       "    <tr>\n",
       "      <th>1</th>\n",
       "      <td>% of females ages 15-49 having comprehensive c...</td>\n",
       "      <td>Albania</td>\n",
       "      <td>11.333333</td>\n",
       "    </tr>\n",
       "    <tr>\n",
       "      <th>2</th>\n",
       "      <td>% of females ages 15-49 having comprehensive c...</td>\n",
       "      <td>Algeria</td>\n",
       "      <td>10.700000</td>\n",
       "    </tr>\n",
       "    <tr>\n",
       "      <th>3</th>\n",
       "      <td>% of females ages 15-49 having comprehensive c...</td>\n",
       "      <td>Argentina</td>\n",
       "      <td>45.300000</td>\n",
       "    </tr>\n",
       "    <tr>\n",
       "      <th>4</th>\n",
       "      <td>% of females ages 15-49 having comprehensive c...</td>\n",
       "      <td>Armenia</td>\n",
       "      <td>19.033333</td>\n",
       "    </tr>\n",
       "    <tr>\n",
       "      <th>...</th>\n",
       "      <td>...</td>\n",
       "      <td>...</td>\n",
       "      <td>...</td>\n",
       "    </tr>\n",
       "    <tr>\n",
       "      <th>41798</th>\n",
       "      <td>Women's share of population ages 15+ living wi...</td>\n",
       "      <td>Vietnam</td>\n",
       "      <td>19.073451</td>\n",
       "    </tr>\n",
       "    <tr>\n",
       "      <th>41799</th>\n",
       "      <td>Women's share of population ages 15+ living wi...</td>\n",
       "      <td>World</td>\n",
       "      <td>49.354686</td>\n",
       "    </tr>\n",
       "    <tr>\n",
       "      <th>41800</th>\n",
       "      <td>Women's share of population ages 15+ living wi...</td>\n",
       "      <td>Yemen, Rep.</td>\n",
       "      <td>32.095671</td>\n",
       "    </tr>\n",
       "    <tr>\n",
       "      <th>41801</th>\n",
       "      <td>Women's share of population ages 15+ living wi...</td>\n",
       "      <td>Zambia</td>\n",
       "      <td>56.782600</td>\n",
       "    </tr>\n",
       "    <tr>\n",
       "      <th>41802</th>\n",
       "      <td>Women's share of population ages 15+ living wi...</td>\n",
       "      <td>Zimbabwe</td>\n",
       "      <td>57.110083</td>\n",
       "    </tr>\n",
       "  </tbody>\n",
       "</table>\n",
       "<p>41803 rows × 3 columns</p>\n",
       "</div>"
      ],
      "text/plain": [
       "                                          Indicator Name Country Name  \\\n",
       "0      % of females ages 15-49 having comprehensive c...  Afghanistan   \n",
       "1      % of females ages 15-49 having comprehensive c...      Albania   \n",
       "2      % of females ages 15-49 having comprehensive c...      Algeria   \n",
       "3      % of females ages 15-49 having comprehensive c...    Argentina   \n",
       "4      % of females ages 15-49 having comprehensive c...      Armenia   \n",
       "...                                                  ...          ...   \n",
       "41798  Women's share of population ages 15+ living wi...      Vietnam   \n",
       "41799  Women's share of population ages 15+ living wi...        World   \n",
       "41800  Women's share of population ages 15+ living wi...  Yemen, Rep.   \n",
       "41801  Women's share of population ages 15+ living wi...       Zambia   \n",
       "41802  Women's share of population ages 15+ living wi...     Zimbabwe   \n",
       "\n",
       "           Value  \n",
       "0       1.500000  \n",
       "1      11.333333  \n",
       "2      10.700000  \n",
       "3      45.300000  \n",
       "4      19.033333  \n",
       "...          ...  \n",
       "41798  19.073451  \n",
       "41799  49.354686  \n",
       "41800  32.095671  \n",
       "41801  56.782600  \n",
       "41802  57.110083  \n",
       "\n",
       "[41803 rows x 3 columns]"
      ]
     },
     "execution_count": 134,
     "metadata": {},
     "output_type": "execute_result"
    }
   ],
   "source": [
    "# Aggregate the values for duplicate entries\n",
    "melt_nutr_df_avg = melt_nutr_df.groupby(['Indicator Name', 'Country Name'])['Value'].mean().reset_index()\n",
    "melt_nutr_df_avg"
   ]
  }
 ],
 "metadata": {
  "interpreter": {
   "hash": "a76aa15ad5f66d07f8fa7b36d7189cac16456af6103f36d68dbd7eed65094372"
  },
  "kernelspec": {
   "display_name": "Python 3.9.7",
   "language": "python",
   "name": "python3"
  },
  "language_info": {
   "codemirror_mode": {
    "name": "ipython",
    "version": 3
   },
   "file_extension": ".py",
   "mimetype": "text/x-python",
   "name": "python",
   "nbconvert_exporter": "python",
   "pygments_lexer": "ipython3",
   "version": "3.9.7"
  },
  "orig_nbformat": 4,
  "vscode": {
   "interpreter": {
    "hash": "7e1998ff7f8aa20ada591c520b972326324e5ea05489af9e422744c7c09f6dad"
   }
  }
 },
 "nbformat": 4,
 "nbformat_minor": 2
}

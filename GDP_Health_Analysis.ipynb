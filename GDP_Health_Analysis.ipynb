{
 "cells": [
  {
   "attachments": {},
   "cell_type": "markdown",
   "metadata": {},
   "source": [
    "# Nutritional Dataset\n",
    "## Data Exploration"
   ]
  },
  {
   "cell_type": "code",
   "execution_count": 1,
   "metadata": {},
   "outputs": [],
   "source": [
    "import pandas as pd\n",
    "import matplotlib.pyplot as plt\n",
    "import seaborn as sns\n",
    "import numpy as np\n",
    "import pandas as pd\n",
    "#from pandas.io.json import json_normalize\n",
    "\n",
    "\n",
    "# Read CSV file with low_memory=False\n",
    "nutr_df = pd.read_csv(\"./data.csv\", low_memory=False)\n",
    "gdp_df = pd.read_csv(\"./gdp.csv\", low_memory=False)"
   ]
  },
  {
   "cell_type": "code",
   "execution_count": 2,
   "metadata": {},
   "outputs": [
    {
     "data": {
      "text/html": [
       "<div>\n",
       "<style scoped>\n",
       "    .dataframe tbody tr th:only-of-type {\n",
       "        vertical-align: middle;\n",
       "    }\n",
       "\n",
       "    .dataframe tbody tr th {\n",
       "        vertical-align: top;\n",
       "    }\n",
       "\n",
       "    .dataframe thead th {\n",
       "        text-align: right;\n",
       "    }\n",
       "</style>\n",
       "<table border=\"1\" class=\"dataframe\">\n",
       "  <thead>\n",
       "    <tr style=\"text-align: right;\">\n",
       "      <th></th>\n",
       "      <th>1960</th>\n",
       "      <th>1961</th>\n",
       "      <th>1962</th>\n",
       "      <th>1963</th>\n",
       "      <th>1964</th>\n",
       "      <th>1965</th>\n",
       "      <th>1966</th>\n",
       "      <th>1967</th>\n",
       "      <th>1968</th>\n",
       "      <th>1969</th>\n",
       "      <th>...</th>\n",
       "      <th>2007</th>\n",
       "      <th>2008</th>\n",
       "      <th>2009</th>\n",
       "      <th>2010</th>\n",
       "      <th>2011</th>\n",
       "      <th>2012</th>\n",
       "      <th>2013</th>\n",
       "      <th>2014</th>\n",
       "      <th>2015</th>\n",
       "      <th>Unnamed: 60</th>\n",
       "    </tr>\n",
       "  </thead>\n",
       "  <tbody>\n",
       "    <tr>\n",
       "      <th>count</th>\n",
       "      <td>3.548200e+04</td>\n",
       "      <td>3.532500e+04</td>\n",
       "      <td>3.588900e+04</td>\n",
       "      <td>3.545200e+04</td>\n",
       "      <td>3.548300e+04</td>\n",
       "      <td>3.560300e+04</td>\n",
       "      <td>3.553800e+04</td>\n",
       "      <td>3.602200e+04</td>\n",
       "      <td>3.557700e+04</td>\n",
       "      <td>3.563000e+04</td>\n",
       "      <td>...</td>\n",
       "      <td>5.425500e+04</td>\n",
       "      <td>5.387800e+04</td>\n",
       "      <td>5.443700e+04</td>\n",
       "      <td>5.709900e+04</td>\n",
       "      <td>5.492200e+04</td>\n",
       "      <td>5.492700e+04</td>\n",
       "      <td>5.292400e+04</td>\n",
       "      <td>5.219900e+04</td>\n",
       "      <td>4.306800e+04</td>\n",
       "      <td>0.0</td>\n",
       "    </tr>\n",
       "    <tr>\n",
       "      <th>mean</th>\n",
       "      <td>4.398856e+06</td>\n",
       "      <td>4.477329e+06</td>\n",
       "      <td>4.483279e+06</td>\n",
       "      <td>4.634875e+06</td>\n",
       "      <td>4.727806e+06</td>\n",
       "      <td>4.810557e+06</td>\n",
       "      <td>4.923225e+06</td>\n",
       "      <td>4.958680e+06</td>\n",
       "      <td>5.126162e+06</td>\n",
       "      <td>5.229267e+06</td>\n",
       "      <td>...</td>\n",
       "      <td>1.066701e+08</td>\n",
       "      <td>1.178440e+08</td>\n",
       "      <td>1.194416e+08</td>\n",
       "      <td>1.202183e+08</td>\n",
       "      <td>1.354606e+08</td>\n",
       "      <td>1.381746e+08</td>\n",
       "      <td>1.470674e+08</td>\n",
       "      <td>1.534580e+08</td>\n",
       "      <td>9.105685e+06</td>\n",
       "      <td>NaN</td>\n",
       "    </tr>\n",
       "    <tr>\n",
       "      <th>std</th>\n",
       "      <td>4.948245e+07</td>\n",
       "      <td>5.013205e+07</td>\n",
       "      <td>5.054473e+07</td>\n",
       "      <td>5.192122e+07</td>\n",
       "      <td>5.297849e+07</td>\n",
       "      <td>5.401988e+07</td>\n",
       "      <td>5.526006e+07</td>\n",
       "      <td>5.607026e+07</td>\n",
       "      <td>5.763263e+07</td>\n",
       "      <td>5.887277e+07</td>\n",
       "      <td>...</td>\n",
       "      <td>1.017662e+10</td>\n",
       "      <td>1.077350e+10</td>\n",
       "      <td>1.114136e+10</td>\n",
       "      <td>1.132855e+10</td>\n",
       "      <td>1.212198e+10</td>\n",
       "      <td>1.255757e+10</td>\n",
       "      <td>1.312843e+10</td>\n",
       "      <td>1.388442e+10</td>\n",
       "      <td>1.112609e+08</td>\n",
       "      <td>NaN</td>\n",
       "    </tr>\n",
       "    <tr>\n",
       "      <th>min</th>\n",
       "      <td>-2.374024e+00</td>\n",
       "      <td>-2.498824e+00</td>\n",
       "      <td>-3.826648e+06</td>\n",
       "      <td>-3.206682e+00</td>\n",
       "      <td>-3.078607e+00</td>\n",
       "      <td>-2.978527e+00</td>\n",
       "      <td>-3.072258e+00</td>\n",
       "      <td>-4.094255e+06</td>\n",
       "      <td>-4.263603e+00</td>\n",
       "      <td>-4.645452e+00</td>\n",
       "      <td>...</td>\n",
       "      <td>-2.272986e+07</td>\n",
       "      <td>-7.720454e+00</td>\n",
       "      <td>-7.829848e+00</td>\n",
       "      <td>-9.816607e+00</td>\n",
       "      <td>-8.166639e+00</td>\n",
       "      <td>-1.578482e+07</td>\n",
       "      <td>-7.726345e+00</td>\n",
       "      <td>-7.709485e+00</td>\n",
       "      <td>-7.784170e+00</td>\n",
       "      <td>NaN</td>\n",
       "    </tr>\n",
       "    <tr>\n",
       "      <th>25%</th>\n",
       "      <td>1.907975e+01</td>\n",
       "      <td>2.130000e+01</td>\n",
       "      <td>1.790000e+01</td>\n",
       "      <td>2.228200e+01</td>\n",
       "      <td>2.236877e+01</td>\n",
       "      <td>2.013357e+01</td>\n",
       "      <td>2.196439e+01</td>\n",
       "      <td>1.779723e+01</td>\n",
       "      <td>2.226600e+01</td>\n",
       "      <td>2.237234e+01</td>\n",
       "      <td>...</td>\n",
       "      <td>1.360000e+01</td>\n",
       "      <td>1.351170e+01</td>\n",
       "      <td>1.377504e+01</td>\n",
       "      <td>1.326888e+01</td>\n",
       "      <td>1.410000e+01</td>\n",
       "      <td>1.257937e+01</td>\n",
       "      <td>1.393631e+01</td>\n",
       "      <td>1.387011e+01</td>\n",
       "      <td>1.490000e+01</td>\n",
       "      <td>NaN</td>\n",
       "    </tr>\n",
       "    <tr>\n",
       "      <th>50%</th>\n",
       "      <td>5.282000e+03</td>\n",
       "      <td>5.794000e+03</td>\n",
       "      <td>5.158000e+03</td>\n",
       "      <td>5.945000e+03</td>\n",
       "      <td>6.065000e+03</td>\n",
       "      <td>5.998000e+03</td>\n",
       "      <td>6.240000e+03</td>\n",
       "      <td>5.767000e+03</td>\n",
       "      <td>6.438000e+03</td>\n",
       "      <td>6.529500e+03</td>\n",
       "      <td>...</td>\n",
       "      <td>9.608101e+01</td>\n",
       "      <td>9.699493e+01</td>\n",
       "      <td>9.670839e+01</td>\n",
       "      <td>9.155791e+01</td>\n",
       "      <td>9.633862e+01</td>\n",
       "      <td>9.610010e+01</td>\n",
       "      <td>9.900000e+01</td>\n",
       "      <td>9.896778e+01</td>\n",
       "      <td>2.206000e+03</td>\n",
       "      <td>NaN</td>\n",
       "    </tr>\n",
       "    <tr>\n",
       "      <th>75%</th>\n",
       "      <td>9.993525e+04</td>\n",
       "      <td>1.034000e+05</td>\n",
       "      <td>1.025840e+05</td>\n",
       "      <td>1.078488e+05</td>\n",
       "      <td>1.107500e+05</td>\n",
       "      <td>1.125765e+05</td>\n",
       "      <td>1.156312e+05</td>\n",
       "      <td>1.151888e+05</td>\n",
       "      <td>1.211970e+05</td>\n",
       "      <td>1.243615e+05</td>\n",
       "      <td>...</td>\n",
       "      <td>8.397350e+04</td>\n",
       "      <td>8.621775e+04</td>\n",
       "      <td>8.342100e+04</td>\n",
       "      <td>6.758400e+04</td>\n",
       "      <td>8.207750e+04</td>\n",
       "      <td>8.399800e+04</td>\n",
       "      <td>9.839350e+04</td>\n",
       "      <td>1.037375e+05</td>\n",
       "      <td>1.802958e+05</td>\n",
       "      <td>NaN</td>\n",
       "    </tr>\n",
       "    <tr>\n",
       "      <th>max</th>\n",
       "      <td>3.035056e+09</td>\n",
       "      <td>3.076121e+09</td>\n",
       "      <td>3.129064e+09</td>\n",
       "      <td>3.193947e+09</td>\n",
       "      <td>3.259355e+09</td>\n",
       "      <td>3.326054e+09</td>\n",
       "      <td>3.395866e+09</td>\n",
       "      <td>3.465297e+09</td>\n",
       "      <td>3.535512e+09</td>\n",
       "      <td>3.609910e+09</td>\n",
       "      <td>...</td>\n",
       "      <td>2.253595e+12</td>\n",
       "      <td>2.358301e+12</td>\n",
       "      <td>2.451062e+12</td>\n",
       "      <td>2.546451e+12</td>\n",
       "      <td>2.646913e+12</td>\n",
       "      <td>2.750543e+12</td>\n",
       "      <td>2.833419e+12</td>\n",
       "      <td>2.985748e+12</td>\n",
       "      <td>7.346633e+09</td>\n",
       "      <td>NaN</td>\n",
       "    </tr>\n",
       "  </tbody>\n",
       "</table>\n",
       "<p>8 rows × 57 columns</p>\n",
       "</div>"
      ],
      "text/plain": [
       "               1960          1961          1962          1963          1964  \\\n",
       "count  3.548200e+04  3.532500e+04  3.588900e+04  3.545200e+04  3.548300e+04   \n",
       "mean   4.398856e+06  4.477329e+06  4.483279e+06  4.634875e+06  4.727806e+06   \n",
       "std    4.948245e+07  5.013205e+07  5.054473e+07  5.192122e+07  5.297849e+07   \n",
       "min   -2.374024e+00 -2.498824e+00 -3.826648e+06 -3.206682e+00 -3.078607e+00   \n",
       "25%    1.907975e+01  2.130000e+01  1.790000e+01  2.228200e+01  2.236877e+01   \n",
       "50%    5.282000e+03  5.794000e+03  5.158000e+03  5.945000e+03  6.065000e+03   \n",
       "75%    9.993525e+04  1.034000e+05  1.025840e+05  1.078488e+05  1.107500e+05   \n",
       "max    3.035056e+09  3.076121e+09  3.129064e+09  3.193947e+09  3.259355e+09   \n",
       "\n",
       "               1965          1966          1967          1968          1969  \\\n",
       "count  3.560300e+04  3.553800e+04  3.602200e+04  3.557700e+04  3.563000e+04   \n",
       "mean   4.810557e+06  4.923225e+06  4.958680e+06  5.126162e+06  5.229267e+06   \n",
       "std    5.401988e+07  5.526006e+07  5.607026e+07  5.763263e+07  5.887277e+07   \n",
       "min   -2.978527e+00 -3.072258e+00 -4.094255e+06 -4.263603e+00 -4.645452e+00   \n",
       "25%    2.013357e+01  2.196439e+01  1.779723e+01  2.226600e+01  2.237234e+01   \n",
       "50%    5.998000e+03  6.240000e+03  5.767000e+03  6.438000e+03  6.529500e+03   \n",
       "75%    1.125765e+05  1.156312e+05  1.151888e+05  1.211970e+05  1.243615e+05   \n",
       "max    3.326054e+09  3.395866e+09  3.465297e+09  3.535512e+09  3.609910e+09   \n",
       "\n",
       "       ...          2007          2008          2009          2010  \\\n",
       "count  ...  5.425500e+04  5.387800e+04  5.443700e+04  5.709900e+04   \n",
       "mean   ...  1.066701e+08  1.178440e+08  1.194416e+08  1.202183e+08   \n",
       "std    ...  1.017662e+10  1.077350e+10  1.114136e+10  1.132855e+10   \n",
       "min    ... -2.272986e+07 -7.720454e+00 -7.829848e+00 -9.816607e+00   \n",
       "25%    ...  1.360000e+01  1.351170e+01  1.377504e+01  1.326888e+01   \n",
       "50%    ...  9.608101e+01  9.699493e+01  9.670839e+01  9.155791e+01   \n",
       "75%    ...  8.397350e+04  8.621775e+04  8.342100e+04  6.758400e+04   \n",
       "max    ...  2.253595e+12  2.358301e+12  2.451062e+12  2.546451e+12   \n",
       "\n",
       "               2011          2012          2013          2014          2015  \\\n",
       "count  5.492200e+04  5.492700e+04  5.292400e+04  5.219900e+04  4.306800e+04   \n",
       "mean   1.354606e+08  1.381746e+08  1.470674e+08  1.534580e+08  9.105685e+06   \n",
       "std    1.212198e+10  1.255757e+10  1.312843e+10  1.388442e+10  1.112609e+08   \n",
       "min   -8.166639e+00 -1.578482e+07 -7.726345e+00 -7.709485e+00 -7.784170e+00   \n",
       "25%    1.410000e+01  1.257937e+01  1.393631e+01  1.387011e+01  1.490000e+01   \n",
       "50%    9.633862e+01  9.610010e+01  9.900000e+01  9.896778e+01  2.206000e+03   \n",
       "75%    8.207750e+04  8.399800e+04  9.839350e+04  1.037375e+05  1.802958e+05   \n",
       "max    2.646913e+12  2.750543e+12  2.833419e+12  2.985748e+12  7.346633e+09   \n",
       "\n",
       "       Unnamed: 60  \n",
       "count          0.0  \n",
       "mean           NaN  \n",
       "std            NaN  \n",
       "min            NaN  \n",
       "25%            NaN  \n",
       "50%            NaN  \n",
       "75%            NaN  \n",
       "max            NaN  \n",
       "\n",
       "[8 rows x 57 columns]"
      ]
     },
     "execution_count": 2,
     "metadata": {},
     "output_type": "execute_result"
    }
   ],
   "source": [
    "nutr_df.describe()"
   ]
  },
  {
   "cell_type": "code",
   "execution_count": 3,
   "metadata": {},
   "outputs": [
    {
     "data": {
      "text/html": [
       "<div>\n",
       "<style scoped>\n",
       "    .dataframe tbody tr th:only-of-type {\n",
       "        vertical-align: middle;\n",
       "    }\n",
       "\n",
       "    .dataframe tbody tr th {\n",
       "        vertical-align: top;\n",
       "    }\n",
       "\n",
       "    .dataframe thead th {\n",
       "        text-align: right;\n",
       "    }\n",
       "</style>\n",
       "<table border=\"1\" class=\"dataframe\">\n",
       "  <thead>\n",
       "    <tr style=\"text-align: right;\">\n",
       "      <th></th>\n",
       "      <th>Country Name</th>\n",
       "      <th>Code</th>\n",
       "      <th>1960</th>\n",
       "      <th>1961</th>\n",
       "      <th>1962</th>\n",
       "      <th>1963</th>\n",
       "      <th>1964</th>\n",
       "      <th>1965</th>\n",
       "      <th>1966</th>\n",
       "      <th>1967</th>\n",
       "      <th>...</th>\n",
       "      <th>2012</th>\n",
       "      <th>2013</th>\n",
       "      <th>2014</th>\n",
       "      <th>2015</th>\n",
       "      <th>2016</th>\n",
       "      <th>2017</th>\n",
       "      <th>2018</th>\n",
       "      <th>2019</th>\n",
       "      <th>2020</th>\n",
       "      <th>Unnamed: 65</th>\n",
       "    </tr>\n",
       "  </thead>\n",
       "  <tbody>\n",
       "    <tr>\n",
       "      <th>0</th>\n",
       "      <td>Aruba</td>\n",
       "      <td>ABW</td>\n",
       "      <td>NaN</td>\n",
       "      <td>NaN</td>\n",
       "      <td>NaN</td>\n",
       "      <td>NaN</td>\n",
       "      <td>NaN</td>\n",
       "      <td>NaN</td>\n",
       "      <td>NaN</td>\n",
       "      <td>NaN</td>\n",
       "      <td>...</td>\n",
       "      <td>2.534637e+09</td>\n",
       "      <td>2.727850e+09</td>\n",
       "      <td>2.790849e+09</td>\n",
       "      <td>2.962905e+09</td>\n",
       "      <td>2.983637e+09</td>\n",
       "      <td>3.092430e+09</td>\n",
       "      <td>3.202189e+09</td>\n",
       "      <td>NaN</td>\n",
       "      <td>NaN</td>\n",
       "      <td>NaN</td>\n",
       "    </tr>\n",
       "    <tr>\n",
       "      <th>1</th>\n",
       "      <td>Africa Eastern and Southern</td>\n",
       "      <td>AFE</td>\n",
       "      <td>1.931311e+10</td>\n",
       "      <td>1.972349e+10</td>\n",
       "      <td>2.149392e+10</td>\n",
       "      <td>2.573321e+10</td>\n",
       "      <td>2.352744e+10</td>\n",
       "      <td>2.681057e+10</td>\n",
       "      <td>2.915216e+10</td>\n",
       "      <td>3.017317e+10</td>\n",
       "      <td>...</td>\n",
       "      <td>9.505214e+11</td>\n",
       "      <td>9.642424e+11</td>\n",
       "      <td>9.848071e+11</td>\n",
       "      <td>9.199300e+11</td>\n",
       "      <td>8.733549e+11</td>\n",
       "      <td>9.853557e+11</td>\n",
       "      <td>1.012853e+12</td>\n",
       "      <td>1.009910e+12</td>\n",
       "      <td>9.207923e+11</td>\n",
       "      <td>NaN</td>\n",
       "    </tr>\n",
       "    <tr>\n",
       "      <th>2</th>\n",
       "      <td>Afghanistan</td>\n",
       "      <td>AFG</td>\n",
       "      <td>5.377778e+08</td>\n",
       "      <td>5.488889e+08</td>\n",
       "      <td>5.466667e+08</td>\n",
       "      <td>7.511112e+08</td>\n",
       "      <td>8.000000e+08</td>\n",
       "      <td>1.006667e+09</td>\n",
       "      <td>1.400000e+09</td>\n",
       "      <td>1.673333e+09</td>\n",
       "      <td>...</td>\n",
       "      <td>1.990732e+10</td>\n",
       "      <td>2.014640e+10</td>\n",
       "      <td>2.049713e+10</td>\n",
       "      <td>1.913421e+10</td>\n",
       "      <td>1.811656e+10</td>\n",
       "      <td>1.875347e+10</td>\n",
       "      <td>1.805323e+10</td>\n",
       "      <td>1.879945e+10</td>\n",
       "      <td>2.011614e+10</td>\n",
       "      <td>NaN</td>\n",
       "    </tr>\n",
       "    <tr>\n",
       "      <th>3</th>\n",
       "      <td>Africa Western and Central</td>\n",
       "      <td>AFW</td>\n",
       "      <td>1.040428e+10</td>\n",
       "      <td>1.112805e+10</td>\n",
       "      <td>1.194335e+10</td>\n",
       "      <td>1.267652e+10</td>\n",
       "      <td>1.383858e+10</td>\n",
       "      <td>1.486247e+10</td>\n",
       "      <td>1.583285e+10</td>\n",
       "      <td>1.442643e+10</td>\n",
       "      <td>...</td>\n",
       "      <td>7.275714e+11</td>\n",
       "      <td>8.207876e+11</td>\n",
       "      <td>8.649666e+11</td>\n",
       "      <td>7.607297e+11</td>\n",
       "      <td>6.905430e+11</td>\n",
       "      <td>6.837416e+11</td>\n",
       "      <td>7.416916e+11</td>\n",
       "      <td>7.945725e+11</td>\n",
       "      <td>7.845876e+11</td>\n",
       "      <td>NaN</td>\n",
       "    </tr>\n",
       "    <tr>\n",
       "      <th>4</th>\n",
       "      <td>Angola</td>\n",
       "      <td>AGO</td>\n",
       "      <td>NaN</td>\n",
       "      <td>NaN</td>\n",
       "      <td>NaN</td>\n",
       "      <td>NaN</td>\n",
       "      <td>NaN</td>\n",
       "      <td>NaN</td>\n",
       "      <td>NaN</td>\n",
       "      <td>NaN</td>\n",
       "      <td>...</td>\n",
       "      <td>1.280529e+11</td>\n",
       "      <td>1.367099e+11</td>\n",
       "      <td>1.457122e+11</td>\n",
       "      <td>1.161936e+11</td>\n",
       "      <td>1.011239e+11</td>\n",
       "      <td>1.221238e+11</td>\n",
       "      <td>1.013532e+11</td>\n",
       "      <td>8.941719e+10</td>\n",
       "      <td>5.837598e+10</td>\n",
       "      <td>NaN</td>\n",
       "    </tr>\n",
       "  </tbody>\n",
       "</table>\n",
       "<p>5 rows × 64 columns</p>\n",
       "</div>"
      ],
      "text/plain": [
       "                  Country Name Code          1960          1961          1962  \\\n",
       "0                        Aruba  ABW           NaN           NaN           NaN   \n",
       "1  Africa Eastern and Southern  AFE  1.931311e+10  1.972349e+10  2.149392e+10   \n",
       "2                  Afghanistan  AFG  5.377778e+08  5.488889e+08  5.466667e+08   \n",
       "3   Africa Western and Central  AFW  1.040428e+10  1.112805e+10  1.194335e+10   \n",
       "4                       Angola  AGO           NaN           NaN           NaN   \n",
       "\n",
       "           1963          1964          1965          1966          1967  ...  \\\n",
       "0           NaN           NaN           NaN           NaN           NaN  ...   \n",
       "1  2.573321e+10  2.352744e+10  2.681057e+10  2.915216e+10  3.017317e+10  ...   \n",
       "2  7.511112e+08  8.000000e+08  1.006667e+09  1.400000e+09  1.673333e+09  ...   \n",
       "3  1.267652e+10  1.383858e+10  1.486247e+10  1.583285e+10  1.442643e+10  ...   \n",
       "4           NaN           NaN           NaN           NaN           NaN  ...   \n",
       "\n",
       "           2012          2013          2014          2015          2016  \\\n",
       "0  2.534637e+09  2.727850e+09  2.790849e+09  2.962905e+09  2.983637e+09   \n",
       "1  9.505214e+11  9.642424e+11  9.848071e+11  9.199300e+11  8.733549e+11   \n",
       "2  1.990732e+10  2.014640e+10  2.049713e+10  1.913421e+10  1.811656e+10   \n",
       "3  7.275714e+11  8.207876e+11  8.649666e+11  7.607297e+11  6.905430e+11   \n",
       "4  1.280529e+11  1.367099e+11  1.457122e+11  1.161936e+11  1.011239e+11   \n",
       "\n",
       "           2017          2018          2019          2020  Unnamed: 65  \n",
       "0  3.092430e+09  3.202189e+09           NaN           NaN          NaN  \n",
       "1  9.853557e+11  1.012853e+12  1.009910e+12  9.207923e+11          NaN  \n",
       "2  1.875347e+10  1.805323e+10  1.879945e+10  2.011614e+10          NaN  \n",
       "3  6.837416e+11  7.416916e+11  7.945725e+11  7.845876e+11          NaN  \n",
       "4  1.221238e+11  1.013532e+11  8.941719e+10  5.837598e+10          NaN  \n",
       "\n",
       "[5 rows x 64 columns]"
      ]
     },
     "execution_count": 3,
     "metadata": {},
     "output_type": "execute_result"
    }
   ],
   "source": [
    "gdp_df.head(5)"
   ]
  },
  {
   "attachments": {},
   "cell_type": "markdown",
   "metadata": {},
   "source": [
    "Display the types of the nutritional database"
   ]
  },
  {
   "cell_type": "code",
   "execution_count": 4,
   "metadata": {},
   "outputs": [
    {
     "data": {
      "text/plain": [
       "Country Name       object\n",
       "Country Code       object\n",
       "Indicator Name     object\n",
       "Indicator Code     object\n",
       "1960              float64\n",
       "                   ...   \n",
       "2012              float64\n",
       "2013              float64\n",
       "2014              float64\n",
       "2015              float64\n",
       "Unnamed: 60       float64\n",
       "Length: 61, dtype: object"
      ]
     },
     "execution_count": 4,
     "metadata": {},
     "output_type": "execute_result"
    }
   ],
   "source": [
    "nutr_df.dtypes"
   ]
  },
  {
   "attachments": {},
   "cell_type": "markdown",
   "metadata": {},
   "source": [
    "Display the types of the GDP database"
   ]
  },
  {
   "cell_type": "code",
   "execution_count": 5,
   "metadata": {},
   "outputs": [
    {
     "data": {
      "text/plain": [
       "Country Name     object\n",
       "Code             object\n",
       "1960            float64\n",
       "1961            float64\n",
       "1962            float64\n",
       "                 ...   \n",
       "2017            float64\n",
       "2018            float64\n",
       "2019            float64\n",
       "2020            float64\n",
       "Unnamed: 65     float64\n",
       "Length: 64, dtype: object"
      ]
     },
     "execution_count": 5,
     "metadata": {},
     "output_type": "execute_result"
    }
   ],
   "source": [
    "gdp_df.dtypes"
   ]
  },
  {
   "cell_type": "code",
   "execution_count": 6,
   "metadata": {},
   "outputs": [
    {
     "data": {
      "text/html": [
       "<div>\n",
       "<style scoped>\n",
       "    .dataframe tbody tr th:only-of-type {\n",
       "        vertical-align: middle;\n",
       "    }\n",
       "\n",
       "    .dataframe tbody tr th {\n",
       "        vertical-align: top;\n",
       "    }\n",
       "\n",
       "    .dataframe thead th {\n",
       "        text-align: right;\n",
       "    }\n",
       "</style>\n",
       "<table border=\"1\" class=\"dataframe\">\n",
       "  <thead>\n",
       "    <tr style=\"text-align: right;\">\n",
       "      <th></th>\n",
       "      <th>Country Name</th>\n",
       "      <th>Country Code</th>\n",
       "      <th>Indicator Name</th>\n",
       "      <th>Indicator Code</th>\n",
       "      <th>1960</th>\n",
       "      <th>1961</th>\n",
       "      <th>1962</th>\n",
       "      <th>1963</th>\n",
       "      <th>1964</th>\n",
       "      <th>1965</th>\n",
       "      <th>...</th>\n",
       "      <th>2007</th>\n",
       "      <th>2008</th>\n",
       "      <th>2009</th>\n",
       "      <th>2010</th>\n",
       "      <th>2011</th>\n",
       "      <th>2012</th>\n",
       "      <th>2013</th>\n",
       "      <th>2014</th>\n",
       "      <th>2015</th>\n",
       "      <th>Unnamed: 60</th>\n",
       "    </tr>\n",
       "  </thead>\n",
       "  <tbody>\n",
       "    <tr>\n",
       "      <th>0</th>\n",
       "      <td>Arab World</td>\n",
       "      <td>ARB</td>\n",
       "      <td>% of females ages 15-49 having comprehensive c...</td>\n",
       "      <td>SH.HIV.KNOW.FE.ZS</td>\n",
       "      <td>NaN</td>\n",
       "      <td>NaN</td>\n",
       "      <td>NaN</td>\n",
       "      <td>NaN</td>\n",
       "      <td>NaN</td>\n",
       "      <td>NaN</td>\n",
       "      <td>...</td>\n",
       "      <td>NaN</td>\n",
       "      <td>NaN</td>\n",
       "      <td>NaN</td>\n",
       "      <td>NaN</td>\n",
       "      <td>NaN</td>\n",
       "      <td>NaN</td>\n",
       "      <td>NaN</td>\n",
       "      <td>NaN</td>\n",
       "      <td>NaN</td>\n",
       "      <td>NaN</td>\n",
       "    </tr>\n",
       "    <tr>\n",
       "      <th>1</th>\n",
       "      <td>Arab World</td>\n",
       "      <td>ARB</td>\n",
       "      <td>% of males ages 15-49 having comprehensive cor...</td>\n",
       "      <td>SH.HIV.KNOW.MA.ZS</td>\n",
       "      <td>NaN</td>\n",
       "      <td>NaN</td>\n",
       "      <td>NaN</td>\n",
       "      <td>NaN</td>\n",
       "      <td>NaN</td>\n",
       "      <td>NaN</td>\n",
       "      <td>...</td>\n",
       "      <td>NaN</td>\n",
       "      <td>NaN</td>\n",
       "      <td>NaN</td>\n",
       "      <td>NaN</td>\n",
       "      <td>NaN</td>\n",
       "      <td>NaN</td>\n",
       "      <td>NaN</td>\n",
       "      <td>NaN</td>\n",
       "      <td>NaN</td>\n",
       "      <td>NaN</td>\n",
       "    </tr>\n",
       "    <tr>\n",
       "      <th>2</th>\n",
       "      <td>Arab World</td>\n",
       "      <td>ARB</td>\n",
       "      <td>Adolescent fertility rate (births per 1,000 wo...</td>\n",
       "      <td>SP.ADO.TFRT</td>\n",
       "      <td>133.555013</td>\n",
       "      <td>134.159119</td>\n",
       "      <td>134.857912</td>\n",
       "      <td>134.504576</td>\n",
       "      <td>134.105211</td>\n",
       "      <td>133.569626</td>\n",
       "      <td>...</td>\n",
       "      <td>49.999851</td>\n",
       "      <td>49.887046</td>\n",
       "      <td>49.781207</td>\n",
       "      <td>49.672975</td>\n",
       "      <td>49.536047</td>\n",
       "      <td>49.383745</td>\n",
       "      <td>48.796558</td>\n",
       "      <td>48.196418</td>\n",
       "      <td>NaN</td>\n",
       "      <td>NaN</td>\n",
       "    </tr>\n",
       "    <tr>\n",
       "      <th>3</th>\n",
       "      <td>Arab World</td>\n",
       "      <td>ARB</td>\n",
       "      <td>Adults (ages 15+) and children (0-14 years) li...</td>\n",
       "      <td>SH.HIV.TOTL</td>\n",
       "      <td>NaN</td>\n",
       "      <td>NaN</td>\n",
       "      <td>NaN</td>\n",
       "      <td>NaN</td>\n",
       "      <td>NaN</td>\n",
       "      <td>NaN</td>\n",
       "      <td>...</td>\n",
       "      <td>NaN</td>\n",
       "      <td>NaN</td>\n",
       "      <td>NaN</td>\n",
       "      <td>NaN</td>\n",
       "      <td>NaN</td>\n",
       "      <td>NaN</td>\n",
       "      <td>NaN</td>\n",
       "      <td>NaN</td>\n",
       "      <td>NaN</td>\n",
       "      <td>NaN</td>\n",
       "    </tr>\n",
       "    <tr>\n",
       "      <th>4</th>\n",
       "      <td>Arab World</td>\n",
       "      <td>ARB</td>\n",
       "      <td>Adults (ages 15+) and children (ages 0-14) new...</td>\n",
       "      <td>SH.HIV.INCD.TL</td>\n",
       "      <td>NaN</td>\n",
       "      <td>NaN</td>\n",
       "      <td>NaN</td>\n",
       "      <td>NaN</td>\n",
       "      <td>NaN</td>\n",
       "      <td>NaN</td>\n",
       "      <td>...</td>\n",
       "      <td>NaN</td>\n",
       "      <td>NaN</td>\n",
       "      <td>NaN</td>\n",
       "      <td>NaN</td>\n",
       "      <td>NaN</td>\n",
       "      <td>NaN</td>\n",
       "      <td>NaN</td>\n",
       "      <td>NaN</td>\n",
       "      <td>NaN</td>\n",
       "      <td>NaN</td>\n",
       "    </tr>\n",
       "    <tr>\n",
       "      <th>...</th>\n",
       "      <td>...</td>\n",
       "      <td>...</td>\n",
       "      <td>...</td>\n",
       "      <td>...</td>\n",
       "      <td>...</td>\n",
       "      <td>...</td>\n",
       "      <td>...</td>\n",
       "      <td>...</td>\n",
       "      <td>...</td>\n",
       "      <td>...</td>\n",
       "      <td>...</td>\n",
       "      <td>...</td>\n",
       "      <td>...</td>\n",
       "      <td>...</td>\n",
       "      <td>...</td>\n",
       "      <td>...</td>\n",
       "      <td>...</td>\n",
       "      <td>...</td>\n",
       "      <td>...</td>\n",
       "      <td>...</td>\n",
       "      <td>...</td>\n",
       "    </tr>\n",
       "    <tr>\n",
       "      <th>89005</th>\n",
       "      <td>Zimbabwe</td>\n",
       "      <td>ZWE</td>\n",
       "      <td>Use of insecticide-treated bed nets (% of unde...</td>\n",
       "      <td>SH.MLR.NETS.ZS</td>\n",
       "      <td>NaN</td>\n",
       "      <td>NaN</td>\n",
       "      <td>NaN</td>\n",
       "      <td>NaN</td>\n",
       "      <td>NaN</td>\n",
       "      <td>NaN</td>\n",
       "      <td>...</td>\n",
       "      <td>NaN</td>\n",
       "      <td>NaN</td>\n",
       "      <td>17.300000</td>\n",
       "      <td>NaN</td>\n",
       "      <td>9.700000</td>\n",
       "      <td>NaN</td>\n",
       "      <td>NaN</td>\n",
       "      <td>26.800000</td>\n",
       "      <td>NaN</td>\n",
       "      <td>NaN</td>\n",
       "    </tr>\n",
       "    <tr>\n",
       "      <th>89006</th>\n",
       "      <td>Zimbabwe</td>\n",
       "      <td>ZWE</td>\n",
       "      <td>Use of Intermittent Preventive Treatment of ma...</td>\n",
       "      <td>SH.MLR.SPF2.ZS</td>\n",
       "      <td>NaN</td>\n",
       "      <td>NaN</td>\n",
       "      <td>NaN</td>\n",
       "      <td>NaN</td>\n",
       "      <td>NaN</td>\n",
       "      <td>NaN</td>\n",
       "      <td>...</td>\n",
       "      <td>NaN</td>\n",
       "      <td>NaN</td>\n",
       "      <td>13.900000</td>\n",
       "      <td>NaN</td>\n",
       "      <td>7.300000</td>\n",
       "      <td>NaN</td>\n",
       "      <td>NaN</td>\n",
       "      <td>12.900000</td>\n",
       "      <td>NaN</td>\n",
       "      <td>NaN</td>\n",
       "    </tr>\n",
       "    <tr>\n",
       "      <th>89007</th>\n",
       "      <td>Zimbabwe</td>\n",
       "      <td>ZWE</td>\n",
       "      <td>Vitamin A supplementation coverage rate (% of ...</td>\n",
       "      <td>SN.ITK.VITA.ZS</td>\n",
       "      <td>NaN</td>\n",
       "      <td>NaN</td>\n",
       "      <td>NaN</td>\n",
       "      <td>NaN</td>\n",
       "      <td>NaN</td>\n",
       "      <td>NaN</td>\n",
       "      <td>...</td>\n",
       "      <td>83.000000</td>\n",
       "      <td>0.000000</td>\n",
       "      <td>77.000000</td>\n",
       "      <td>49.000000</td>\n",
       "      <td>47.000000</td>\n",
       "      <td>61.000000</td>\n",
       "      <td>34.000000</td>\n",
       "      <td>32.000000</td>\n",
       "      <td>NaN</td>\n",
       "      <td>NaN</td>\n",
       "    </tr>\n",
       "    <tr>\n",
       "      <th>89008</th>\n",
       "      <td>Zimbabwe</td>\n",
       "      <td>ZWE</td>\n",
       "      <td>Wanted fertility rate (births per woman)</td>\n",
       "      <td>SP.DYN.WFRT</td>\n",
       "      <td>NaN</td>\n",
       "      <td>NaN</td>\n",
       "      <td>NaN</td>\n",
       "      <td>NaN</td>\n",
       "      <td>NaN</td>\n",
       "      <td>NaN</td>\n",
       "      <td>...</td>\n",
       "      <td>NaN</td>\n",
       "      <td>NaN</td>\n",
       "      <td>NaN</td>\n",
       "      <td>NaN</td>\n",
       "      <td>3.500000</td>\n",
       "      <td>NaN</td>\n",
       "      <td>NaN</td>\n",
       "      <td>NaN</td>\n",
       "      <td>NaN</td>\n",
       "      <td>NaN</td>\n",
       "    </tr>\n",
       "    <tr>\n",
       "      <th>89009</th>\n",
       "      <td>Zimbabwe</td>\n",
       "      <td>ZWE</td>\n",
       "      <td>Women's share of population ages 15+ living wi...</td>\n",
       "      <td>SH.DYN.AIDS.FE.ZS</td>\n",
       "      <td>NaN</td>\n",
       "      <td>NaN</td>\n",
       "      <td>NaN</td>\n",
       "      <td>NaN</td>\n",
       "      <td>NaN</td>\n",
       "      <td>NaN</td>\n",
       "      <td>...</td>\n",
       "      <td>58.586086</td>\n",
       "      <td>58.760796</td>\n",
       "      <td>58.812421</td>\n",
       "      <td>58.825943</td>\n",
       "      <td>58.899308</td>\n",
       "      <td>58.939080</td>\n",
       "      <td>58.900126</td>\n",
       "      <td>58.822335</td>\n",
       "      <td>58.855551</td>\n",
       "      <td>NaN</td>\n",
       "    </tr>\n",
       "  </tbody>\n",
       "</table>\n",
       "<p>89010 rows × 61 columns</p>\n",
       "</div>"
      ],
      "text/plain": [
       "      Country Name Country Code  \\\n",
       "0       Arab World          ARB   \n",
       "1       Arab World          ARB   \n",
       "2       Arab World          ARB   \n",
       "3       Arab World          ARB   \n",
       "4       Arab World          ARB   \n",
       "...            ...          ...   \n",
       "89005     Zimbabwe          ZWE   \n",
       "89006     Zimbabwe          ZWE   \n",
       "89007     Zimbabwe          ZWE   \n",
       "89008     Zimbabwe          ZWE   \n",
       "89009     Zimbabwe          ZWE   \n",
       "\n",
       "                                          Indicator Name     Indicator Code  \\\n",
       "0      % of females ages 15-49 having comprehensive c...  SH.HIV.KNOW.FE.ZS   \n",
       "1      % of males ages 15-49 having comprehensive cor...  SH.HIV.KNOW.MA.ZS   \n",
       "2      Adolescent fertility rate (births per 1,000 wo...        SP.ADO.TFRT   \n",
       "3      Adults (ages 15+) and children (0-14 years) li...        SH.HIV.TOTL   \n",
       "4      Adults (ages 15+) and children (ages 0-14) new...     SH.HIV.INCD.TL   \n",
       "...                                                  ...                ...   \n",
       "89005  Use of insecticide-treated bed nets (% of unde...     SH.MLR.NETS.ZS   \n",
       "89006  Use of Intermittent Preventive Treatment of ma...     SH.MLR.SPF2.ZS   \n",
       "89007  Vitamin A supplementation coverage rate (% of ...     SN.ITK.VITA.ZS   \n",
       "89008           Wanted fertility rate (births per woman)        SP.DYN.WFRT   \n",
       "89009  Women's share of population ages 15+ living wi...  SH.DYN.AIDS.FE.ZS   \n",
       "\n",
       "             1960        1961        1962        1963        1964        1965  \\\n",
       "0             NaN         NaN         NaN         NaN         NaN         NaN   \n",
       "1             NaN         NaN         NaN         NaN         NaN         NaN   \n",
       "2      133.555013  134.159119  134.857912  134.504576  134.105211  133.569626   \n",
       "3             NaN         NaN         NaN         NaN         NaN         NaN   \n",
       "4             NaN         NaN         NaN         NaN         NaN         NaN   \n",
       "...           ...         ...         ...         ...         ...         ...   \n",
       "89005         NaN         NaN         NaN         NaN         NaN         NaN   \n",
       "89006         NaN         NaN         NaN         NaN         NaN         NaN   \n",
       "89007         NaN         NaN         NaN         NaN         NaN         NaN   \n",
       "89008         NaN         NaN         NaN         NaN         NaN         NaN   \n",
       "89009         NaN         NaN         NaN         NaN         NaN         NaN   \n",
       "\n",
       "       ...       2007       2008       2009       2010       2011       2012  \\\n",
       "0      ...        NaN        NaN        NaN        NaN        NaN        NaN   \n",
       "1      ...        NaN        NaN        NaN        NaN        NaN        NaN   \n",
       "2      ...  49.999851  49.887046  49.781207  49.672975  49.536047  49.383745   \n",
       "3      ...        NaN        NaN        NaN        NaN        NaN        NaN   \n",
       "4      ...        NaN        NaN        NaN        NaN        NaN        NaN   \n",
       "...    ...        ...        ...        ...        ...        ...        ...   \n",
       "89005  ...        NaN        NaN  17.300000        NaN   9.700000        NaN   \n",
       "89006  ...        NaN        NaN  13.900000        NaN   7.300000        NaN   \n",
       "89007  ...  83.000000   0.000000  77.000000  49.000000  47.000000  61.000000   \n",
       "89008  ...        NaN        NaN        NaN        NaN   3.500000        NaN   \n",
       "89009  ...  58.586086  58.760796  58.812421  58.825943  58.899308  58.939080   \n",
       "\n",
       "            2013       2014       2015  Unnamed: 60  \n",
       "0            NaN        NaN        NaN          NaN  \n",
       "1            NaN        NaN        NaN          NaN  \n",
       "2      48.796558  48.196418        NaN          NaN  \n",
       "3            NaN        NaN        NaN          NaN  \n",
       "4            NaN        NaN        NaN          NaN  \n",
       "...          ...        ...        ...          ...  \n",
       "89005        NaN  26.800000        NaN          NaN  \n",
       "89006        NaN  12.900000        NaN          NaN  \n",
       "89007  34.000000  32.000000        NaN          NaN  \n",
       "89008        NaN        NaN        NaN          NaN  \n",
       "89009  58.900126  58.822335  58.855551          NaN  \n",
       "\n",
       "[89010 rows x 61 columns]"
      ]
     },
     "execution_count": 6,
     "metadata": {},
     "output_type": "execute_result"
    }
   ],
   "source": [
    "nutr_df"
   ]
  },
  {
   "cell_type": "code",
   "execution_count": 7,
   "metadata": {},
   "outputs": [],
   "source": [
    "#get the null counts for each year\n",
    "null_year_df = pd.DataFrame()\n",
    "years=[]\n",
    "null_counts=[]\n",
    "for year in range(1960, 2016):\n",
    "  years.append(str(year))\n",
    "  null_counts.append(nutr_df[str(year)].isna().sum())\n",
    "\n",
    "null_year_df['year']=years\n",
    "null_year_df['null_count']=null_counts"
   ]
  },
  {
   "cell_type": "code",
   "execution_count": 8,
   "metadata": {},
   "outputs": [
    {
     "name": "stderr",
     "output_type": "stream",
     "text": [
      "/var/folders/3s/6h63ktl15h541pj1y1mgy8vw0000gn/T/ipykernel_57715/2392892120.py:7: UserWarning: FixedFormatter should only be used together with FixedLocator\n",
      "  ax.set_xticklabels( years, rotation=45 )\n"
     ]
    },
    {
     "data": {
      "image/png": "[encoded data removed]",
      "text/plain": [
       "<Figure size 432x288 with 1 Axes>"
      ]
     },
     "metadata": {
      "needs_background": "light"
     },
     "output_type": "display_data"
    }
   ],
   "source": [
    "fig, ax = plt.subplots()\n",
    "sns.lineplot(data=null_year_df, x='year', y='null_count')\n",
    "xticks=ax.xaxis.get_major_ticks()\n",
    "for i in range(len(xticks)):\n",
    "    if i%5!=0:\n",
    "        xticks[i].set_visible(False)\n",
    "ax.set_xticklabels( years, rotation=45 )        \n",
    "plt.show()"
   ]
  },
  {
   "cell_type": "code",
   "execution_count": 9,
   "metadata": {},
   "outputs": [],
   "source": [
    "null_year_df_gdp = pd.DataFrame()\n",
    "years=[]\n",
    "null_counts=[]\n",
    "for year in range(1960, 2016):\n",
    "  years.append(str(year))\n",
    "  null_counts.append(gdp_df[str(year)].isna().sum())\n",
    "\n",
    "null_year_df_gdp['year']=years\n",
    "null_year_df_gdp['null_count']=null_counts"
   ]
  },
  {
   "attachments": {},
   "cell_type": "markdown",
   "metadata": {},
   "source": [
    "Determine the amount of null values per year"
   ]
  },
  {
   "cell_type": "code",
   "execution_count": 10,
   "metadata": {},
   "outputs": [
    {
     "name": "stderr",
     "output_type": "stream",
     "text": [
      "/var/folders/3s/6h63ktl15h541pj1y1mgy8vw0000gn/T/ipykernel_57715/3799848019.py:7: UserWarning: FixedFormatter should only be used together with FixedLocator\n",
      "  ax.set_xticklabels( years, rotation=45 )\n"
     ]
    },
    {
     "data": {
      "image/png": "[encoded data removed]",
      "text/plain": [
       "<Figure size 432x288 with 1 Axes>"
      ]
     },
     "metadata": {
      "needs_background": "light"
     },
     "output_type": "display_data"
    }
   ],
   "source": [
    "fig, ax = plt.subplots()\n",
    "sns.lineplot(data=null_year_df_gdp, x='year', y='null_count')\n",
    "xticks=ax.xaxis.get_major_ticks()\n",
    "for i in range(len(xticks)):\n",
    "    if i%5!=0:\n",
    "        xticks[i].set_visible(False)\n",
    "ax.set_xticklabels( years, rotation=45 )        \n",
    "plt.show()"
   ]
  },
  {
   "cell_type": "code",
   "execution_count": 11,
   "metadata": {},
   "outputs": [
    {
     "name": "stdout",
     "output_type": "stream",
     "text": [
      "Index(['Country Name', 'Country Code', 'Indicator Name', 'Indicator Code',\n",
      "       '1960', '1961', '1962', '1963', '1964', '1965', '1966', '1967', '1968',\n",
      "       '1969', '1970', '1971', '1972', '1973', '1974', '1975', '1976', '1977',\n",
      "       '1978', '1979', '1980', '1981', '1982', '1983', '1984', '1985', '1986',\n",
      "       '1987', '1988', '1989', '1990', '1991', '1992', '1993', '1994', '1995',\n",
      "       '1996', '1997', '1998', '1999', '2000', '2001', '2002', '2003', '2004',\n",
      "       '2005', '2006', '2007', '2008', '2009', '2010', '2011', '2012', '2013',\n",
      "       '2014', '2015', 'Unnamed: 60'],\n",
      "      dtype='object')\n"
     ]
    }
   ],
   "source": [
    "print(nutr_df.columns)"
   ]
  },
  {
   "cell_type": "code",
   "execution_count": 12,
   "metadata": {},
   "outputs": [
    {
     "data": {
      "text/plain": [
       "89010"
      ]
     },
     "execution_count": 12,
     "metadata": {},
     "output_type": "execute_result"
    }
   ],
   "source": [
    "num_nulls = nutr_df.isna().any(axis=1).sum()\n",
    "num_nulls"
   ]
  },
  {
   "cell_type": "code",
   "execution_count": 13,
   "metadata": {},
   "outputs": [
    {
     "data": {
      "text/plain": [
       "0"
      ]
     },
     "execution_count": 13,
     "metadata": {},
     "output_type": "execute_result"
    }
   ],
   "source": [
    "num_dups = nutr_df.duplicated().sum()\n",
    "num_dups"
   ]
  },
  {
   "attachments": {},
   "cell_type": "markdown",
   "metadata": {},
   "source": [
    "There are 89010 nulls and 0 duplicates."
   ]
  },
  {
   "attachments": {},
   "cell_type": "markdown",
   "metadata": {},
   "source": [
    "The plot shows count of null values by years. There were a lot of null values before 1990, which could be explained by people not having access to some data or not monitoring the data at all. There is also an increase in null values in the 2015 data."
   ]
  },
  {
   "attachments": {},
   "cell_type": "markdown",
   "metadata": {},
   "source": [
    "Some of the indicators are in terms of numbers, not %, so we will drop any Indicator name that does not contains the words 'rate' or '%' or 'per'."
   ]
  },
  {
   "cell_type": "code",
   "execution_count": 14,
   "metadata": {},
   "outputs": [],
   "source": [
    "nutr_df = nutr_df[(nutr_df['Indicator Name'].str.contains('%')) | (nutr_df['Indicator Name'].str.contains('rate')) | (nutr_df['Indicator Name'].str.contains('per'))]\n",
    "#df = df[df['Indicator Code'].str.contains('rate|per')]\n"
   ]
  },
  {
   "cell_type": "markdown",
   "metadata": {},
   "source": [
    "### Pivoting the table\n",
    "\n",
    "We will pivot the indicators to the columns and years to the rows. \n",
    "We are pivoting indicators to columns to make future steps in training the model more straightforward. Having the indicators in columns will allow us to easily project the table to indicators of interest. We are pivoting the years to the rows to make it easier to remove None and Nan values by year rather than by row. In our EDA, we see that most rows contain at least one None/Nan value in the columns of early years since not much data was collected then."
   ]
  },
  {
   "cell_type": "code",
   "execution_count": 15,
   "metadata": {},
   "outputs": [
    {
     "name": "stderr",
     "output_type": "stream",
     "text": [
      "/Users/aashvimanakiwala/opt/anaconda3/lib/python3.9/site-packages/pandas/core/frame.py:4906: SettingWithCopyWarning: \n",
      "A value is trying to be set on a copy of a slice from a DataFrame\n",
      "\n",
      "See the caveats in the documentation: https://pandas.pydata.org/pandas-docs/stable/user_guide/indexing.html#returning-a-view-versus-a-copy\n",
      "  return super().drop(\n"
     ]
    }
   ],
   "source": [
    "nutr_df.columns\n",
    "nutr_df.drop(\"Unnamed: 60\", axis=1, inplace=True)"
   ]
  },
  {
   "cell_type": "code",
   "execution_count": 16,
   "metadata": {},
   "outputs": [
    {
     "data": {
      "text/html": [
       "<div>\n",
       "<style scoped>\n",
       "    .dataframe tbody tr th:only-of-type {\n",
       "        vertical-align: middle;\n",
       "    }\n",
       "\n",
       "    .dataframe tbody tr th {\n",
       "        vertical-align: top;\n",
       "    }\n",
       "\n",
       "    .dataframe thead th {\n",
       "        text-align: right;\n",
       "    }\n",
       "</style>\n",
       "<table border=\"1\" class=\"dataframe\">\n",
       "  <thead>\n",
       "    <tr style=\"text-align: right;\">\n",
       "      <th></th>\n",
       "      <th>Country Name</th>\n",
       "      <th>Country Code</th>\n",
       "      <th>Indicator Name</th>\n",
       "      <th>Indicator Code</th>\n",
       "      <th>Year</th>\n",
       "      <th>Value</th>\n",
       "    </tr>\n",
       "  </thead>\n",
       "  <tbody>\n",
       "    <tr>\n",
       "      <th>0</th>\n",
       "      <td>Arab World</td>\n",
       "      <td>ARB</td>\n",
       "      <td>% of females ages 15-49 having comprehensive c...</td>\n",
       "      <td>SH.HIV.KNOW.FE.ZS</td>\n",
       "      <td>1960</td>\n",
       "      <td>NaN</td>\n",
       "    </tr>\n",
       "    <tr>\n",
       "      <th>1</th>\n",
       "      <td>Arab World</td>\n",
       "      <td>ARB</td>\n",
       "      <td>% of males ages 15-49 having comprehensive cor...</td>\n",
       "      <td>SH.HIV.KNOW.MA.ZS</td>\n",
       "      <td>1960</td>\n",
       "      <td>NaN</td>\n",
       "    </tr>\n",
       "    <tr>\n",
       "      <th>2</th>\n",
       "      <td>Arab World</td>\n",
       "      <td>ARB</td>\n",
       "      <td>Adolescent fertility rate (births per 1,000 wo...</td>\n",
       "      <td>SP.ADO.TFRT</td>\n",
       "      <td>1960</td>\n",
       "      <td>133.555013</td>\n",
       "    </tr>\n",
       "    <tr>\n",
       "      <th>3</th>\n",
       "      <td>Arab World</td>\n",
       "      <td>ARB</td>\n",
       "      <td>Age dependency ratio (% of working-age populat...</td>\n",
       "      <td>SP.POP.DPND</td>\n",
       "      <td>1960</td>\n",
       "      <td>87.799235</td>\n",
       "    </tr>\n",
       "    <tr>\n",
       "      <th>4</th>\n",
       "      <td>Arab World</td>\n",
       "      <td>ARB</td>\n",
       "      <td>Antiretroviral therapy coverage (% of people l...</td>\n",
       "      <td>SH.HIV.ARTC.ZS</td>\n",
       "      <td>1960</td>\n",
       "      <td>NaN</td>\n",
       "    </tr>\n",
       "  </tbody>\n",
       "</table>\n",
       "</div>"
      ],
      "text/plain": [
       "  Country Name Country Code  \\\n",
       "0   Arab World          ARB   \n",
       "1   Arab World          ARB   \n",
       "2   Arab World          ARB   \n",
       "3   Arab World          ARB   \n",
       "4   Arab World          ARB   \n",
       "\n",
       "                                      Indicator Name     Indicator Code  Year  \\\n",
       "0  % of females ages 15-49 having comprehensive c...  SH.HIV.KNOW.FE.ZS  1960   \n",
       "1  % of males ages 15-49 having comprehensive cor...  SH.HIV.KNOW.MA.ZS  1960   \n",
       "2  Adolescent fertility rate (births per 1,000 wo...        SP.ADO.TFRT  1960   \n",
       "3  Age dependency ratio (% of working-age populat...        SP.POP.DPND  1960   \n",
       "4  Antiretroviral therapy coverage (% of people l...     SH.HIV.ARTC.ZS  1960   \n",
       "\n",
       "        Value  \n",
       "0         NaN  \n",
       "1         NaN  \n",
       "2  133.555013  \n",
       "3   87.799235  \n",
       "4         NaN  "
      ]
     },
     "execution_count": 16,
     "metadata": {},
     "output_type": "execute_result"
    }
   ],
   "source": [
    "melt_nutr_df = nutr_df.melt(id_vars=[\"Country Name\", \"Country Code\", \"Indicator Name\", \"Indicator Code\"], var_name=\"Year\", value_name=\"Value\")\n",
    "melt_nutr_df.head(5)"
   ]
  },
  {
   "cell_type": "code",
   "execution_count": 17,
   "metadata": {},
   "outputs": [
    {
     "data": {
      "text/html": [
       "<div>\n",
       "<style scoped>\n",
       "    .dataframe tbody tr th:only-of-type {\n",
       "        vertical-align: middle;\n",
       "    }\n",
       "\n",
       "    .dataframe tbody tr th {\n",
       "        vertical-align: top;\n",
       "    }\n",
       "\n",
       "    .dataframe thead th {\n",
       "        text-align: right;\n",
       "    }\n",
       "</style>\n",
       "<table border=\"1\" class=\"dataframe\">\n",
       "  <thead>\n",
       "    <tr style=\"text-align: right;\">\n",
       "      <th>Indicator Code</th>\n",
       "      <th>Country Code</th>\n",
       "      <th>Year</th>\n",
       "      <th>NY.GNP.PCAP.CD</th>\n",
       "      <th>SE.ADT.1524.LT.FM.ZS</th>\n",
       "      <th>SE.ADT.1524.LT.MA.ZS</th>\n",
       "      <th>SE.ADT.1524.LT.ZS</th>\n",
       "      <th>SE.ADT.LITR.FE.ZS</th>\n",
       "      <th>SE.ADT.LITR.MA.ZS</th>\n",
       "      <th>SE.ADT.LITR.ZS</th>\n",
       "      <th>SE.PRM.CMPT.FE.ZS</th>\n",
       "      <th>...</th>\n",
       "      <th>SP.POP.TOTL.MA.ZS</th>\n",
       "      <th>SP.REG.BRTH.RU.ZS</th>\n",
       "      <th>SP.REG.BRTH.UR.ZS</th>\n",
       "      <th>SP.REG.BRTH.ZS</th>\n",
       "      <th>SP.REG.DTHS.ZS</th>\n",
       "      <th>SP.RUR.TOTL.ZG</th>\n",
       "      <th>SP.RUR.TOTL.ZS</th>\n",
       "      <th>SP.URB.GROW</th>\n",
       "      <th>SP.URB.TOTL.IN.ZS</th>\n",
       "      <th>SP.UWT.TFRT</th>\n",
       "    </tr>\n",
       "  </thead>\n",
       "  <tbody>\n",
       "    <tr>\n",
       "      <th>0</th>\n",
       "      <td>ABW</td>\n",
       "      <td>1960</td>\n",
       "      <td>NaN</td>\n",
       "      <td>NaN</td>\n",
       "      <td>NaN</td>\n",
       "      <td>NaN</td>\n",
       "      <td>NaN</td>\n",
       "      <td>NaN</td>\n",
       "      <td>NaN</td>\n",
       "      <td>NaN</td>\n",
       "      <td>...</td>\n",
       "      <td>49.022285</td>\n",
       "      <td>NaN</td>\n",
       "      <td>NaN</td>\n",
       "      <td>NaN</td>\n",
       "      <td>NaN</td>\n",
       "      <td>3.163869</td>\n",
       "      <td>49.224</td>\n",
       "      <td>3.106802</td>\n",
       "      <td>50.776</td>\n",
       "      <td>NaN</td>\n",
       "    </tr>\n",
       "    <tr>\n",
       "      <th>1</th>\n",
       "      <td>ABW</td>\n",
       "      <td>1961</td>\n",
       "      <td>NaN</td>\n",
       "      <td>NaN</td>\n",
       "      <td>NaN</td>\n",
       "      <td>NaN</td>\n",
       "      <td>NaN</td>\n",
       "      <td>NaN</td>\n",
       "      <td>NaN</td>\n",
       "      <td>NaN</td>\n",
       "      <td>...</td>\n",
       "      <td>49.037612</td>\n",
       "      <td>NaN</td>\n",
       "      <td>NaN</td>\n",
       "      <td>NaN</td>\n",
       "      <td>NaN</td>\n",
       "      <td>2.271351</td>\n",
       "      <td>49.239</td>\n",
       "      <td>2.206183</td>\n",
       "      <td>50.761</td>\n",
       "      <td>NaN</td>\n",
       "    </tr>\n",
       "    <tr>\n",
       "      <th>2</th>\n",
       "      <td>ABW</td>\n",
       "      <td>1962</td>\n",
       "      <td>NaN</td>\n",
       "      <td>NaN</td>\n",
       "      <td>NaN</td>\n",
       "      <td>NaN</td>\n",
       "      <td>NaN</td>\n",
       "      <td>NaN</td>\n",
       "      <td>NaN</td>\n",
       "      <td>NaN</td>\n",
       "      <td>...</td>\n",
       "      <td>49.032476</td>\n",
       "      <td>NaN</td>\n",
       "      <td>NaN</td>\n",
       "      <td>NaN</td>\n",
       "      <td>NaN</td>\n",
       "      <td>1.447561</td>\n",
       "      <td>49.254</td>\n",
       "      <td>1.386975</td>\n",
       "      <td>50.746</td>\n",
       "      <td>NaN</td>\n",
       "    </tr>\n",
       "    <tr>\n",
       "      <th>3</th>\n",
       "      <td>ABW</td>\n",
       "      <td>1963</td>\n",
       "      <td>NaN</td>\n",
       "      <td>NaN</td>\n",
       "      <td>NaN</td>\n",
       "      <td>NaN</td>\n",
       "      <td>NaN</td>\n",
       "      <td>NaN</td>\n",
       "      <td>NaN</td>\n",
       "      <td>NaN</td>\n",
       "      <td>...</td>\n",
       "      <td>49.014939</td>\n",
       "      <td>NaN</td>\n",
       "      <td>NaN</td>\n",
       "      <td>NaN</td>\n",
       "      <td>NaN</td>\n",
       "      <td>0.866460</td>\n",
       "      <td>49.270</td>\n",
       "      <td>0.802881</td>\n",
       "      <td>50.730</td>\n",
       "      <td>NaN</td>\n",
       "    </tr>\n",
       "    <tr>\n",
       "      <th>4</th>\n",
       "      <td>ABW</td>\n",
       "      <td>1964</td>\n",
       "      <td>NaN</td>\n",
       "      <td>NaN</td>\n",
       "      <td>NaN</td>\n",
       "      <td>NaN</td>\n",
       "      <td>NaN</td>\n",
       "      <td>NaN</td>\n",
       "      <td>NaN</td>\n",
       "      <td>NaN</td>\n",
       "      <td>...</td>\n",
       "      <td>48.994371</td>\n",
       "      <td>NaN</td>\n",
       "      <td>NaN</td>\n",
       "      <td>NaN</td>\n",
       "      <td>NaN</td>\n",
       "      <td>0.613827</td>\n",
       "      <td>49.285</td>\n",
       "      <td>0.554748</td>\n",
       "      <td>50.715</td>\n",
       "      <td>NaN</td>\n",
       "    </tr>\n",
       "  </tbody>\n",
       "</table>\n",
       "<p>5 rows × 219 columns</p>\n",
       "</div>"
      ],
      "text/plain": [
       "Indicator Code Country Code  Year  NY.GNP.PCAP.CD  SE.ADT.1524.LT.FM.ZS  \\\n",
       "0                       ABW  1960             NaN                   NaN   \n",
       "1                       ABW  1961             NaN                   NaN   \n",
       "2                       ABW  1962             NaN                   NaN   \n",
       "3                       ABW  1963             NaN                   NaN   \n",
       "4                       ABW  1964             NaN                   NaN   \n",
       "\n",
       "Indicator Code  SE.ADT.1524.LT.MA.ZS  SE.ADT.1524.LT.ZS  SE.ADT.LITR.FE.ZS  \\\n",
       "0                                NaN                NaN                NaN   \n",
       "1                                NaN                NaN                NaN   \n",
       "2                                NaN                NaN                NaN   \n",
       "3                                NaN                NaN                NaN   \n",
       "4                                NaN                NaN                NaN   \n",
       "\n",
       "Indicator Code  SE.ADT.LITR.MA.ZS  SE.ADT.LITR.ZS  SE.PRM.CMPT.FE.ZS  ...  \\\n",
       "0                             NaN             NaN                NaN  ...   \n",
       "1                             NaN             NaN                NaN  ...   \n",
       "2                             NaN             NaN                NaN  ...   \n",
       "3                             NaN             NaN                NaN  ...   \n",
       "4                             NaN             NaN                NaN  ...   \n",
       "\n",
       "Indicator Code  SP.POP.TOTL.MA.ZS  SP.REG.BRTH.RU.ZS  SP.REG.BRTH.UR.ZS  \\\n",
       "0                       49.022285                NaN                NaN   \n",
       "1                       49.037612                NaN                NaN   \n",
       "2                       49.032476                NaN                NaN   \n",
       "3                       49.014939                NaN                NaN   \n",
       "4                       48.994371                NaN                NaN   \n",
       "\n",
       "Indicator Code  SP.REG.BRTH.ZS  SP.REG.DTHS.ZS  SP.RUR.TOTL.ZG  \\\n",
       "0                          NaN             NaN        3.163869   \n",
       "1                          NaN             NaN        2.271351   \n",
       "2                          NaN             NaN        1.447561   \n",
       "3                          NaN             NaN        0.866460   \n",
       "4                          NaN             NaN        0.613827   \n",
       "\n",
       "Indicator Code  SP.RUR.TOTL.ZS  SP.URB.GROW  SP.URB.TOTL.IN.ZS  SP.UWT.TFRT  \n",
       "0                       49.224     3.106802             50.776          NaN  \n",
       "1                       49.239     2.206183             50.761          NaN  \n",
       "2                       49.254     1.386975             50.746          NaN  \n",
       "3                       49.270     0.802881             50.730          NaN  \n",
       "4                       49.285     0.554748             50.715          NaN  \n",
       "\n",
       "[5 rows x 219 columns]"
      ]
     },
     "execution_count": 17,
     "metadata": {},
     "output_type": "execute_result"
    }
   ],
   "source": [
    "pivoted_df = melt_nutr_df.pivot_table(index=['Country Code', 'Year'], columns='Indicator Code', values='Value').reset_index()\n",
    "\n",
    "pivoted_df.head(5)\n"
   ]
  },
  {
   "attachments": {},
   "cell_type": "markdown",
   "metadata": {},
   "source": [
    "We will also pivot population table."
   ]
  },
  {
   "cell_type": "code",
   "execution_count": 18,
   "metadata": {},
   "outputs": [
    {
     "data": {
      "text/html": [
       "<div>\n",
       "<style scoped>\n",
       "    .dataframe tbody tr th:only-of-type {\n",
       "        vertical-align: middle;\n",
       "    }\n",
       "\n",
       "    .dataframe tbody tr th {\n",
       "        vertical-align: top;\n",
       "    }\n",
       "\n",
       "    .dataframe thead th {\n",
       "        text-align: right;\n",
       "    }\n",
       "</style>\n",
       "<table border=\"1\" class=\"dataframe\">\n",
       "  <thead>\n",
       "    <tr style=\"text-align: right;\">\n",
       "      <th>Indicator Code</th>\n",
       "      <th>Country Code</th>\n",
       "      <th>Year</th>\n",
       "      <th>NY.GNP.PCAP.CD</th>\n",
       "      <th>SE.ADT.1524.LT.FM.ZS</th>\n",
       "      <th>SE.ADT.1524.LT.MA.ZS</th>\n",
       "      <th>SE.ADT.1524.LT.ZS</th>\n",
       "      <th>SE.ADT.LITR.FE.ZS</th>\n",
       "      <th>SE.ADT.LITR.MA.ZS</th>\n",
       "      <th>SE.ADT.LITR.ZS</th>\n",
       "      <th>SE.PRM.CMPT.FE.ZS</th>\n",
       "      <th>...</th>\n",
       "      <th>SP.POP.TOTL.MA.ZS</th>\n",
       "      <th>SP.REG.BRTH.RU.ZS</th>\n",
       "      <th>SP.REG.BRTH.UR.ZS</th>\n",
       "      <th>SP.REG.BRTH.ZS</th>\n",
       "      <th>SP.REG.DTHS.ZS</th>\n",
       "      <th>SP.RUR.TOTL.ZG</th>\n",
       "      <th>SP.RUR.TOTL.ZS</th>\n",
       "      <th>SP.URB.GROW</th>\n",
       "      <th>SP.URB.TOTL.IN.ZS</th>\n",
       "      <th>SP.UWT.TFRT</th>\n",
       "    </tr>\n",
       "  </thead>\n",
       "  <tbody>\n",
       "    <tr>\n",
       "      <th>0</th>\n",
       "      <td>ABW</td>\n",
       "      <td>1960</td>\n",
       "      <td>NaN</td>\n",
       "      <td>NaN</td>\n",
       "      <td>NaN</td>\n",
       "      <td>NaN</td>\n",
       "      <td>NaN</td>\n",
       "      <td>NaN</td>\n",
       "      <td>NaN</td>\n",
       "      <td>NaN</td>\n",
       "      <td>...</td>\n",
       "      <td>49.022285</td>\n",
       "      <td>NaN</td>\n",
       "      <td>NaN</td>\n",
       "      <td>NaN</td>\n",
       "      <td>NaN</td>\n",
       "      <td>3.163869</td>\n",
       "      <td>49.224</td>\n",
       "      <td>3.106802</td>\n",
       "      <td>50.776</td>\n",
       "      <td>NaN</td>\n",
       "    </tr>\n",
       "    <tr>\n",
       "      <th>1</th>\n",
       "      <td>ABW</td>\n",
       "      <td>1961</td>\n",
       "      <td>NaN</td>\n",
       "      <td>NaN</td>\n",
       "      <td>NaN</td>\n",
       "      <td>NaN</td>\n",
       "      <td>NaN</td>\n",
       "      <td>NaN</td>\n",
       "      <td>NaN</td>\n",
       "      <td>NaN</td>\n",
       "      <td>...</td>\n",
       "      <td>49.037612</td>\n",
       "      <td>NaN</td>\n",
       "      <td>NaN</td>\n",
       "      <td>NaN</td>\n",
       "      <td>NaN</td>\n",
       "      <td>2.271351</td>\n",
       "      <td>49.239</td>\n",
       "      <td>2.206183</td>\n",
       "      <td>50.761</td>\n",
       "      <td>NaN</td>\n",
       "    </tr>\n",
       "    <tr>\n",
       "      <th>2</th>\n",
       "      <td>ABW</td>\n",
       "      <td>1962</td>\n",
       "      <td>NaN</td>\n",
       "      <td>NaN</td>\n",
       "      <td>NaN</td>\n",
       "      <td>NaN</td>\n",
       "      <td>NaN</td>\n",
       "      <td>NaN</td>\n",
       "      <td>NaN</td>\n",
       "      <td>NaN</td>\n",
       "      <td>...</td>\n",
       "      <td>49.032476</td>\n",
       "      <td>NaN</td>\n",
       "      <td>NaN</td>\n",
       "      <td>NaN</td>\n",
       "      <td>NaN</td>\n",
       "      <td>1.447561</td>\n",
       "      <td>49.254</td>\n",
       "      <td>1.386975</td>\n",
       "      <td>50.746</td>\n",
       "      <td>NaN</td>\n",
       "    </tr>\n",
       "    <tr>\n",
       "      <th>3</th>\n",
       "      <td>ABW</td>\n",
       "      <td>1963</td>\n",
       "      <td>NaN</td>\n",
       "      <td>NaN</td>\n",
       "      <td>NaN</td>\n",
       "      <td>NaN</td>\n",
       "      <td>NaN</td>\n",
       "      <td>NaN</td>\n",
       "      <td>NaN</td>\n",
       "      <td>NaN</td>\n",
       "      <td>...</td>\n",
       "      <td>49.014939</td>\n",
       "      <td>NaN</td>\n",
       "      <td>NaN</td>\n",
       "      <td>NaN</td>\n",
       "      <td>NaN</td>\n",
       "      <td>0.866460</td>\n",
       "      <td>49.270</td>\n",
       "      <td>0.802881</td>\n",
       "      <td>50.730</td>\n",
       "      <td>NaN</td>\n",
       "    </tr>\n",
       "    <tr>\n",
       "      <th>4</th>\n",
       "      <td>ABW</td>\n",
       "      <td>1964</td>\n",
       "      <td>NaN</td>\n",
       "      <td>NaN</td>\n",
       "      <td>NaN</td>\n",
       "      <td>NaN</td>\n",
       "      <td>NaN</td>\n",
       "      <td>NaN</td>\n",
       "      <td>NaN</td>\n",
       "      <td>NaN</td>\n",
       "      <td>...</td>\n",
       "      <td>48.994371</td>\n",
       "      <td>NaN</td>\n",
       "      <td>NaN</td>\n",
       "      <td>NaN</td>\n",
       "      <td>NaN</td>\n",
       "      <td>0.613827</td>\n",
       "      <td>49.285</td>\n",
       "      <td>0.554748</td>\n",
       "      <td>50.715</td>\n",
       "      <td>NaN</td>\n",
       "    </tr>\n",
       "  </tbody>\n",
       "</table>\n",
       "<p>5 rows × 219 columns</p>\n",
       "</div>"
      ],
      "text/plain": [
       "Indicator Code Country Code  Year  NY.GNP.PCAP.CD  SE.ADT.1524.LT.FM.ZS  \\\n",
       "0                       ABW  1960             NaN                   NaN   \n",
       "1                       ABW  1961             NaN                   NaN   \n",
       "2                       ABW  1962             NaN                   NaN   \n",
       "3                       ABW  1963             NaN                   NaN   \n",
       "4                       ABW  1964             NaN                   NaN   \n",
       "\n",
       "Indicator Code  SE.ADT.1524.LT.MA.ZS  SE.ADT.1524.LT.ZS  SE.ADT.LITR.FE.ZS  \\\n",
       "0                                NaN                NaN                NaN   \n",
       "1                                NaN                NaN                NaN   \n",
       "2                                NaN                NaN                NaN   \n",
       "3                                NaN                NaN                NaN   \n",
       "4                                NaN                NaN                NaN   \n",
       "\n",
       "Indicator Code  SE.ADT.LITR.MA.ZS  SE.ADT.LITR.ZS  SE.PRM.CMPT.FE.ZS  ...  \\\n",
       "0                             NaN             NaN                NaN  ...   \n",
       "1                             NaN             NaN                NaN  ...   \n",
       "2                             NaN             NaN                NaN  ...   \n",
       "3                             NaN             NaN                NaN  ...   \n",
       "4                             NaN             NaN                NaN  ...   \n",
       "\n",
       "Indicator Code  SP.POP.TOTL.MA.ZS  SP.REG.BRTH.RU.ZS  SP.REG.BRTH.UR.ZS  \\\n",
       "0                       49.022285                NaN                NaN   \n",
       "1                       49.037612                NaN                NaN   \n",
       "2                       49.032476                NaN                NaN   \n",
       "3                       49.014939                NaN                NaN   \n",
       "4                       48.994371                NaN                NaN   \n",
       "\n",
       "Indicator Code  SP.REG.BRTH.ZS  SP.REG.DTHS.ZS  SP.RUR.TOTL.ZG  \\\n",
       "0                          NaN             NaN        3.163869   \n",
       "1                          NaN             NaN        2.271351   \n",
       "2                          NaN             NaN        1.447561   \n",
       "3                          NaN             NaN        0.866460   \n",
       "4                          NaN             NaN        0.613827   \n",
       "\n",
       "Indicator Code  SP.RUR.TOTL.ZS  SP.URB.GROW  SP.URB.TOTL.IN.ZS  SP.UWT.TFRT  \n",
       "0                       49.224     3.106802             50.776          NaN  \n",
       "1                       49.239     2.206183             50.761          NaN  \n",
       "2                       49.254     1.386975             50.746          NaN  \n",
       "3                       49.270     0.802881             50.730          NaN  \n",
       "4                       49.285     0.554748             50.715          NaN  \n",
       "\n",
       "[5 rows x 219 columns]"
      ]
     },
     "execution_count": 18,
     "metadata": {},
     "output_type": "execute_result"
    }
   ],
   "source": [
    "pivoted_df.head(5)"
   ]
  },
  {
   "cell_type": "code",
   "execution_count": 19,
   "metadata": {},
   "outputs": [
    {
     "name": "stdout",
     "output_type": "stream",
     "text": [
      "Number of rows where Value is null: 1994589\n"
     ]
    }
   ],
   "source": [
    "num_null = melt_nutr_df[\"Value\"].isnull().sum()\n",
    "print(\"Number of rows where Value is null:\", num_null)"
   ]
  },
  {
   "cell_type": "code",
   "execution_count": 20,
   "metadata": {},
   "outputs": [],
   "source": [
    "melt_nutr_df.dropna(subset=['Value'], inplace=True)\n"
   ]
  },
  {
   "cell_type": "markdown",
   "metadata": {},
   "source": [
    "## Correlation Matrix\n",
    "In the following cells, we will determine which indicators have the greatest impact on a country's GDP. This will be done though by finding the correlation between the GDP and each indicator."
   ]
  },
  {
   "attachments": {},
   "cell_type": "markdown",
   "metadata": {},
   "source": [
    "melt_nutr_df does not contain the GDP of the countries, so we will use another dataset on countries and their GDP values by years and join it with melt_nutr_df on country code.\n",
    "\n",
    "There are a lot of NaN values for some years (earlier ones) was just not collected. We will remove NaN values since there is not a better way to deal with them.\n",
    "We will also rename the value columns to make it clear which values are from nutritional datasets and which indicate the gdp of the country for the specific year."
   ]
  },
  {
   "attachments": {},
   "cell_type": "markdown",
   "metadata": {},
   "source": [
    "pivoting gdp"
   ]
  },
  {
   "cell_type": "code",
   "execution_count": 21,
   "metadata": {},
   "outputs": [
    {
     "data": {
      "text/html": [
       "<div>\n",
       "<style scoped>\n",
       "    .dataframe tbody tr th:only-of-type {\n",
       "        vertical-align: middle;\n",
       "    }\n",
       "\n",
       "    .dataframe tbody tr th {\n",
       "        vertical-align: top;\n",
       "    }\n",
       "\n",
       "    .dataframe thead th {\n",
       "        text-align: right;\n",
       "    }\n",
       "</style>\n",
       "<table border=\"1\" class=\"dataframe\">\n",
       "  <thead>\n",
       "    <tr style=\"text-align: right;\">\n",
       "      <th>Indicator Code</th>\n",
       "      <th>Country Code</th>\n",
       "      <th>Year</th>\n",
       "      <th>NY.GNP.PCAP.CD</th>\n",
       "      <th>SE.ADT.1524.LT.FM.ZS</th>\n",
       "      <th>SE.ADT.1524.LT.MA.ZS</th>\n",
       "      <th>SE.ADT.1524.LT.ZS</th>\n",
       "      <th>SE.ADT.LITR.FE.ZS</th>\n",
       "      <th>SE.ADT.LITR.MA.ZS</th>\n",
       "      <th>SE.ADT.LITR.ZS</th>\n",
       "      <th>SE.PRM.CMPT.FE.ZS</th>\n",
       "      <th>...</th>\n",
       "      <th>SP.POP.TOTL.MA.ZS</th>\n",
       "      <th>SP.REG.BRTH.RU.ZS</th>\n",
       "      <th>SP.REG.BRTH.UR.ZS</th>\n",
       "      <th>SP.REG.BRTH.ZS</th>\n",
       "      <th>SP.REG.DTHS.ZS</th>\n",
       "      <th>SP.RUR.TOTL.ZG</th>\n",
       "      <th>SP.RUR.TOTL.ZS</th>\n",
       "      <th>SP.URB.GROW</th>\n",
       "      <th>SP.URB.TOTL.IN.ZS</th>\n",
       "      <th>SP.UWT.TFRT</th>\n",
       "    </tr>\n",
       "  </thead>\n",
       "  <tbody>\n",
       "    <tr>\n",
       "      <th>0</th>\n",
       "      <td>ABW</td>\n",
       "      <td>1960</td>\n",
       "      <td>NaN</td>\n",
       "      <td>NaN</td>\n",
       "      <td>NaN</td>\n",
       "      <td>NaN</td>\n",
       "      <td>NaN</td>\n",
       "      <td>NaN</td>\n",
       "      <td>NaN</td>\n",
       "      <td>NaN</td>\n",
       "      <td>...</td>\n",
       "      <td>49.022285</td>\n",
       "      <td>NaN</td>\n",
       "      <td>NaN</td>\n",
       "      <td>NaN</td>\n",
       "      <td>NaN</td>\n",
       "      <td>3.163869</td>\n",
       "      <td>49.224</td>\n",
       "      <td>3.106802</td>\n",
       "      <td>50.776</td>\n",
       "      <td>NaN</td>\n",
       "    </tr>\n",
       "    <tr>\n",
       "      <th>1</th>\n",
       "      <td>ABW</td>\n",
       "      <td>1961</td>\n",
       "      <td>NaN</td>\n",
       "      <td>NaN</td>\n",
       "      <td>NaN</td>\n",
       "      <td>NaN</td>\n",
       "      <td>NaN</td>\n",
       "      <td>NaN</td>\n",
       "      <td>NaN</td>\n",
       "      <td>NaN</td>\n",
       "      <td>...</td>\n",
       "      <td>49.037612</td>\n",
       "      <td>NaN</td>\n",
       "      <td>NaN</td>\n",
       "      <td>NaN</td>\n",
       "      <td>NaN</td>\n",
       "      <td>2.271351</td>\n",
       "      <td>49.239</td>\n",
       "      <td>2.206183</td>\n",
       "      <td>50.761</td>\n",
       "      <td>NaN</td>\n",
       "    </tr>\n",
       "    <tr>\n",
       "      <th>2</th>\n",
       "      <td>ABW</td>\n",
       "      <td>1962</td>\n",
       "      <td>NaN</td>\n",
       "      <td>NaN</td>\n",
       "      <td>NaN</td>\n",
       "      <td>NaN</td>\n",
       "      <td>NaN</td>\n",
       "      <td>NaN</td>\n",
       "      <td>NaN</td>\n",
       "      <td>NaN</td>\n",
       "      <td>...</td>\n",
       "      <td>49.032476</td>\n",
       "      <td>NaN</td>\n",
       "      <td>NaN</td>\n",
       "      <td>NaN</td>\n",
       "      <td>NaN</td>\n",
       "      <td>1.447561</td>\n",
       "      <td>49.254</td>\n",
       "      <td>1.386975</td>\n",
       "      <td>50.746</td>\n",
       "      <td>NaN</td>\n",
       "    </tr>\n",
       "    <tr>\n",
       "      <th>3</th>\n",
       "      <td>ABW</td>\n",
       "      <td>1963</td>\n",
       "      <td>NaN</td>\n",
       "      <td>NaN</td>\n",
       "      <td>NaN</td>\n",
       "      <td>NaN</td>\n",
       "      <td>NaN</td>\n",
       "      <td>NaN</td>\n",
       "      <td>NaN</td>\n",
       "      <td>NaN</td>\n",
       "      <td>...</td>\n",
       "      <td>49.014939</td>\n",
       "      <td>NaN</td>\n",
       "      <td>NaN</td>\n",
       "      <td>NaN</td>\n",
       "      <td>NaN</td>\n",
       "      <td>0.866460</td>\n",
       "      <td>49.270</td>\n",
       "      <td>0.802881</td>\n",
       "      <td>50.730</td>\n",
       "      <td>NaN</td>\n",
       "    </tr>\n",
       "    <tr>\n",
       "      <th>4</th>\n",
       "      <td>ABW</td>\n",
       "      <td>1964</td>\n",
       "      <td>NaN</td>\n",
       "      <td>NaN</td>\n",
       "      <td>NaN</td>\n",
       "      <td>NaN</td>\n",
       "      <td>NaN</td>\n",
       "      <td>NaN</td>\n",
       "      <td>NaN</td>\n",
       "      <td>NaN</td>\n",
       "      <td>...</td>\n",
       "      <td>48.994371</td>\n",
       "      <td>NaN</td>\n",
       "      <td>NaN</td>\n",
       "      <td>NaN</td>\n",
       "      <td>NaN</td>\n",
       "      <td>0.613827</td>\n",
       "      <td>49.285</td>\n",
       "      <td>0.554748</td>\n",
       "      <td>50.715</td>\n",
       "      <td>NaN</td>\n",
       "    </tr>\n",
       "  </tbody>\n",
       "</table>\n",
       "<p>5 rows × 219 columns</p>\n",
       "</div>"
      ],
      "text/plain": [
       "Indicator Code Country Code  Year  NY.GNP.PCAP.CD  SE.ADT.1524.LT.FM.ZS  \\\n",
       "0                       ABW  1960             NaN                   NaN   \n",
       "1                       ABW  1961             NaN                   NaN   \n",
       "2                       ABW  1962             NaN                   NaN   \n",
       "3                       ABW  1963             NaN                   NaN   \n",
       "4                       ABW  1964             NaN                   NaN   \n",
       "\n",
       "Indicator Code  SE.ADT.1524.LT.MA.ZS  SE.ADT.1524.LT.ZS  SE.ADT.LITR.FE.ZS  \\\n",
       "0                                NaN                NaN                NaN   \n",
       "1                                NaN                NaN                NaN   \n",
       "2                                NaN                NaN                NaN   \n",
       "3                                NaN                NaN                NaN   \n",
       "4                                NaN                NaN                NaN   \n",
       "\n",
       "Indicator Code  SE.ADT.LITR.MA.ZS  SE.ADT.LITR.ZS  SE.PRM.CMPT.FE.ZS  ...  \\\n",
       "0                             NaN             NaN                NaN  ...   \n",
       "1                             NaN             NaN                NaN  ...   \n",
       "2                             NaN             NaN                NaN  ...   \n",
       "3                             NaN             NaN                NaN  ...   \n",
       "4                             NaN             NaN                NaN  ...   \n",
       "\n",
       "Indicator Code  SP.POP.TOTL.MA.ZS  SP.REG.BRTH.RU.ZS  SP.REG.BRTH.UR.ZS  \\\n",
       "0                       49.022285                NaN                NaN   \n",
       "1                       49.037612                NaN                NaN   \n",
       "2                       49.032476                NaN                NaN   \n",
       "3                       49.014939                NaN                NaN   \n",
       "4                       48.994371                NaN                NaN   \n",
       "\n",
       "Indicator Code  SP.REG.BRTH.ZS  SP.REG.DTHS.ZS  SP.RUR.TOTL.ZG  \\\n",
       "0                          NaN             NaN        3.163869   \n",
       "1                          NaN             NaN        2.271351   \n",
       "2                          NaN             NaN        1.447561   \n",
       "3                          NaN             NaN        0.866460   \n",
       "4                          NaN             NaN        0.613827   \n",
       "\n",
       "Indicator Code  SP.RUR.TOTL.ZS  SP.URB.GROW  SP.URB.TOTL.IN.ZS  SP.UWT.TFRT  \n",
       "0                       49.224     3.106802             50.776          NaN  \n",
       "1                       49.239     2.206183             50.761          NaN  \n",
       "2                       49.254     1.386975             50.746          NaN  \n",
       "3                       49.270     0.802881             50.730          NaN  \n",
       "4                       49.285     0.554748             50.715          NaN  \n",
       "\n",
       "[5 rows x 219 columns]"
      ]
     },
     "execution_count": 21,
     "metadata": {},
     "output_type": "execute_result"
    }
   ],
   "source": [
    "melt_gdp_df = gdp_df.melt(id_vars=[\"Country Name\", \"Code\"], var_name=\"Year\", value_name=\"Value\")\n",
    "melt_gdp_df.head(5)\n",
    "pivoted_df.head(5)"
   ]
  },
  {
   "cell_type": "code",
   "execution_count": 22,
   "metadata": {},
   "outputs": [],
   "source": [
    "#drop country name because this is available from nutritional dataset\n",
    "melt_gdp_df = melt_gdp_df.drop(columns=['Country Name'])"
   ]
  },
  {
   "cell_type": "code",
   "execution_count": 23,
   "metadata": {},
   "outputs": [],
   "source": [
    "#merge the two tables to get country's gdp for the given year\n",
    "merged_gdp = pd.merge(pivoted_df, melt_gdp_df, left_on=['Country Code', 'Year'], right_on=['Code', 'Year'])\n",
    "#rename columns\n",
    "merged_gdp = merged_gdp.rename(columns={'Value': 'gdp_country'})\n",
    "#get rid of NaN\n",
    "merged_gdp.dropna(subset=['gdp_country'], inplace=True)\n"
   ]
  },
  {
   "cell_type": "code",
   "execution_count": 24,
   "metadata": {},
   "outputs": [
    {
     "data": {
      "text/plain": [
       "Country Code             object\n",
       "Year                     object\n",
       "NY.GNP.PCAP.CD          float64\n",
       "SE.ADT.1524.LT.FM.ZS    float64\n",
       "SE.ADT.1524.LT.MA.ZS    float64\n",
       "                         ...   \n",
       "SP.URB.GROW             float64\n",
       "SP.URB.TOTL.IN.ZS       float64\n",
       "SP.UWT.TFRT             float64\n",
       "Code                     object\n",
       "gdp_country             float64\n",
       "Length: 221, dtype: object"
      ]
     },
     "execution_count": 24,
     "metadata": {},
     "output_type": "execute_result"
    }
   ],
   "source": [
    "merged_gdp.dtypes"
   ]
  },
  {
   "cell_type": "code",
   "execution_count": 25,
   "metadata": {},
   "outputs": [
    {
     "data": {
      "text/html": [
       "<div>\n",
       "<style scoped>\n",
       "    .dataframe tbody tr th:only-of-type {\n",
       "        vertical-align: middle;\n",
       "    }\n",
       "\n",
       "    .dataframe tbody tr th {\n",
       "        vertical-align: top;\n",
       "    }\n",
       "\n",
       "    .dataframe thead th {\n",
       "        text-align: right;\n",
       "    }\n",
       "</style>\n",
       "<table border=\"1\" class=\"dataframe\">\n",
       "  <thead>\n",
       "    <tr style=\"text-align: right;\">\n",
       "      <th></th>\n",
       "      <th>Country Code</th>\n",
       "      <th>Year</th>\n",
       "      <th>NY.GNP.PCAP.CD</th>\n",
       "      <th>SE.ADT.1524.LT.FM.ZS</th>\n",
       "      <th>SE.ADT.1524.LT.MA.ZS</th>\n",
       "      <th>SE.ADT.1524.LT.ZS</th>\n",
       "      <th>SE.ADT.LITR.FE.ZS</th>\n",
       "      <th>SE.ADT.LITR.MA.ZS</th>\n",
       "      <th>SE.ADT.LITR.ZS</th>\n",
       "      <th>SE.PRM.CMPT.FE.ZS</th>\n",
       "      <th>...</th>\n",
       "      <th>SP.REG.BRTH.UR.ZS</th>\n",
       "      <th>SP.REG.BRTH.ZS</th>\n",
       "      <th>SP.REG.DTHS.ZS</th>\n",
       "      <th>SP.RUR.TOTL.ZG</th>\n",
       "      <th>SP.RUR.TOTL.ZS</th>\n",
       "      <th>SP.URB.GROW</th>\n",
       "      <th>SP.URB.TOTL.IN.ZS</th>\n",
       "      <th>SP.UWT.TFRT</th>\n",
       "      <th>Code</th>\n",
       "      <th>gdp_country</th>\n",
       "    </tr>\n",
       "  </thead>\n",
       "  <tbody>\n",
       "    <tr>\n",
       "      <th>26</th>\n",
       "      <td>ABW</td>\n",
       "      <td>1986</td>\n",
       "      <td>NaN</td>\n",
       "      <td>NaN</td>\n",
       "      <td>NaN</td>\n",
       "      <td>NaN</td>\n",
       "      <td>NaN</td>\n",
       "      <td>NaN</td>\n",
       "      <td>NaN</td>\n",
       "      <td>NaN</td>\n",
       "      <td>...</td>\n",
       "      <td>NaN</td>\n",
       "      <td>NaN</td>\n",
       "      <td>NaN</td>\n",
       "      <td>-0.580604</td>\n",
       "      <td>49.620</td>\n",
       "      <td>-0.641159</td>\n",
       "      <td>50.380</td>\n",
       "      <td>NaN</td>\n",
       "      <td>ABW</td>\n",
       "      <td>4.054634e+08</td>\n",
       "    </tr>\n",
       "    <tr>\n",
       "      <th>27</th>\n",
       "      <td>ABW</td>\n",
       "      <td>1987</td>\n",
       "      <td>NaN</td>\n",
       "      <td>NaN</td>\n",
       "      <td>NaN</td>\n",
       "      <td>NaN</td>\n",
       "      <td>NaN</td>\n",
       "      <td>NaN</td>\n",
       "      <td>NaN</td>\n",
       "      <td>NaN</td>\n",
       "      <td>...</td>\n",
       "      <td>NaN</td>\n",
       "      <td>NaN</td>\n",
       "      <td>NaN</td>\n",
       "      <td>-1.269118</td>\n",
       "      <td>49.635</td>\n",
       "      <td>-1.330100</td>\n",
       "      <td>50.365</td>\n",
       "      <td>NaN</td>\n",
       "      <td>ABW</td>\n",
       "      <td>4.876025e+08</td>\n",
       "    </tr>\n",
       "    <tr>\n",
       "      <th>28</th>\n",
       "      <td>ABW</td>\n",
       "      <td>1988</td>\n",
       "      <td>NaN</td>\n",
       "      <td>NaN</td>\n",
       "      <td>NaN</td>\n",
       "      <td>NaN</td>\n",
       "      <td>NaN</td>\n",
       "      <td>NaN</td>\n",
       "      <td>NaN</td>\n",
       "      <td>NaN</td>\n",
       "      <td>...</td>\n",
       "      <td>NaN</td>\n",
       "      <td>NaN</td>\n",
       "      <td>NaN</td>\n",
       "      <td>-1.202958</td>\n",
       "      <td>49.650</td>\n",
       "      <td>-1.263447</td>\n",
       "      <td>50.350</td>\n",
       "      <td>NaN</td>\n",
       "      <td>ABW</td>\n",
       "      <td>5.964236e+08</td>\n",
       "    </tr>\n",
       "    <tr>\n",
       "      <th>29</th>\n",
       "      <td>ABW</td>\n",
       "      <td>1989</td>\n",
       "      <td>NaN</td>\n",
       "      <td>NaN</td>\n",
       "      <td>NaN</td>\n",
       "      <td>NaN</td>\n",
       "      <td>NaN</td>\n",
       "      <td>NaN</td>\n",
       "      <td>NaN</td>\n",
       "      <td>NaN</td>\n",
       "      <td>...</td>\n",
       "      <td>NaN</td>\n",
       "      <td>NaN</td>\n",
       "      <td>NaN</td>\n",
       "      <td>-0.042878</td>\n",
       "      <td>49.665</td>\n",
       "      <td>-0.104112</td>\n",
       "      <td>50.335</td>\n",
       "      <td>NaN</td>\n",
       "      <td>ABW</td>\n",
       "      <td>6.953044e+08</td>\n",
       "    </tr>\n",
       "    <tr>\n",
       "      <th>30</th>\n",
       "      <td>ABW</td>\n",
       "      <td>1990</td>\n",
       "      <td>NaN</td>\n",
       "      <td>NaN</td>\n",
       "      <td>NaN</td>\n",
       "      <td>NaN</td>\n",
       "      <td>NaN</td>\n",
       "      <td>NaN</td>\n",
       "      <td>NaN</td>\n",
       "      <td>NaN</td>\n",
       "      <td>...</td>\n",
       "      <td>NaN</td>\n",
       "      <td>NaN</td>\n",
       "      <td>NaN</td>\n",
       "      <td>1.843551</td>\n",
       "      <td>49.681</td>\n",
       "      <td>1.780922</td>\n",
       "      <td>50.319</td>\n",
       "      <td>NaN</td>\n",
       "      <td>ABW</td>\n",
       "      <td>7.648871e+08</td>\n",
       "    </tr>\n",
       "  </tbody>\n",
       "</table>\n",
       "<p>5 rows × 221 columns</p>\n",
       "</div>"
      ],
      "text/plain": [
       "   Country Code  Year  NY.GNP.PCAP.CD  SE.ADT.1524.LT.FM.ZS  \\\n",
       "26          ABW  1986             NaN                   NaN   \n",
       "27          ABW  1987             NaN                   NaN   \n",
       "28          ABW  1988             NaN                   NaN   \n",
       "29          ABW  1989             NaN                   NaN   \n",
       "30          ABW  1990             NaN                   NaN   \n",
       "\n",
       "    SE.ADT.1524.LT.MA.ZS  SE.ADT.1524.LT.ZS  SE.ADT.LITR.FE.ZS  \\\n",
       "26                   NaN                NaN                NaN   \n",
       "27                   NaN                NaN                NaN   \n",
       "28                   NaN                NaN                NaN   \n",
       "29                   NaN                NaN                NaN   \n",
       "30                   NaN                NaN                NaN   \n",
       "\n",
       "    SE.ADT.LITR.MA.ZS  SE.ADT.LITR.ZS  SE.PRM.CMPT.FE.ZS  ...  \\\n",
       "26                NaN             NaN                NaN  ...   \n",
       "27                NaN             NaN                NaN  ...   \n",
       "28                NaN             NaN                NaN  ...   \n",
       "29                NaN             NaN                NaN  ...   \n",
       "30                NaN             NaN                NaN  ...   \n",
       "\n",
       "    SP.REG.BRTH.UR.ZS  SP.REG.BRTH.ZS  SP.REG.DTHS.ZS  SP.RUR.TOTL.ZG  \\\n",
       "26                NaN             NaN             NaN       -0.580604   \n",
       "27                NaN             NaN             NaN       -1.269118   \n",
       "28                NaN             NaN             NaN       -1.202958   \n",
       "29                NaN             NaN             NaN       -0.042878   \n",
       "30                NaN             NaN             NaN        1.843551   \n",
       "\n",
       "    SP.RUR.TOTL.ZS  SP.URB.GROW  SP.URB.TOTL.IN.ZS  SP.UWT.TFRT  Code  \\\n",
       "26          49.620    -0.641159             50.380          NaN   ABW   \n",
       "27          49.635    -1.330100             50.365          NaN   ABW   \n",
       "28          49.650    -1.263447             50.350          NaN   ABW   \n",
       "29          49.665    -0.104112             50.335          NaN   ABW   \n",
       "30          49.681     1.780922             50.319          NaN   ABW   \n",
       "\n",
       "     gdp_country  \n",
       "26  4.054634e+08  \n",
       "27  4.876025e+08  \n",
       "28  5.964236e+08  \n",
       "29  6.953044e+08  \n",
       "30  7.648871e+08  \n",
       "\n",
       "[5 rows x 221 columns]"
      ]
     },
     "execution_count": 25,
     "metadata": {},
     "output_type": "execute_result"
    }
   ],
   "source": [
    "merged_gdp.head(5)\n"
   ]
  },
  {
   "attachments": {},
   "cell_type": "markdown",
   "metadata": {},
   "source": [
    "Some columns contain object types. Specifically, 'Indicator Name'is the columns we are interested in. We will use label encoding to map values to type int so we can use the columns in correlation matrix."
   ]
  },
  {
   "cell_type": "code",
   "execution_count": 26,
   "metadata": {},
   "outputs": [],
   "source": [
    "from sklearn.preprocessing import LabelEncoder\n",
    "#drop because there exists 'Country Code' which is a duplicate\n",
    "corr_gdp = merged_gdp.drop(columns=['Code'])"
   ]
  },
  {
   "cell_type": "code",
   "execution_count": 27,
   "metadata": {},
   "outputs": [
    {
     "data": {
      "text/html": [
       "<div>\n",
       "<style scoped>\n",
       "    .dataframe tbody tr th:only-of-type {\n",
       "        vertical-align: middle;\n",
       "    }\n",
       "\n",
       "    .dataframe tbody tr th {\n",
       "        vertical-align: top;\n",
       "    }\n",
       "\n",
       "    .dataframe thead th {\n",
       "        text-align: right;\n",
       "    }\n",
       "</style>\n",
       "<table border=\"1\" class=\"dataframe\">\n",
       "  <thead>\n",
       "    <tr style=\"text-align: right;\">\n",
       "      <th></th>\n",
       "      <th>Country Code</th>\n",
       "      <th>Year</th>\n",
       "      <th>NY.GNP.PCAP.CD</th>\n",
       "      <th>SE.ADT.1524.LT.FM.ZS</th>\n",
       "      <th>SE.ADT.1524.LT.MA.ZS</th>\n",
       "      <th>SE.ADT.1524.LT.ZS</th>\n",
       "      <th>SE.ADT.LITR.FE.ZS</th>\n",
       "      <th>SE.ADT.LITR.MA.ZS</th>\n",
       "      <th>SE.ADT.LITR.ZS</th>\n",
       "      <th>SE.PRM.CMPT.FE.ZS</th>\n",
       "      <th>...</th>\n",
       "      <th>SP.REG.BRTH.RU.ZS</th>\n",
       "      <th>SP.REG.BRTH.UR.ZS</th>\n",
       "      <th>SP.REG.BRTH.ZS</th>\n",
       "      <th>SP.REG.DTHS.ZS</th>\n",
       "      <th>SP.RUR.TOTL.ZG</th>\n",
       "      <th>SP.RUR.TOTL.ZS</th>\n",
       "      <th>SP.URB.GROW</th>\n",
       "      <th>SP.URB.TOTL.IN.ZS</th>\n",
       "      <th>SP.UWT.TFRT</th>\n",
       "      <th>gdp_country</th>\n",
       "    </tr>\n",
       "  </thead>\n",
       "  <tbody>\n",
       "    <tr>\n",
       "      <th>26</th>\n",
       "      <td>0</td>\n",
       "      <td>1986</td>\n",
       "      <td>NaN</td>\n",
       "      <td>NaN</td>\n",
       "      <td>NaN</td>\n",
       "      <td>NaN</td>\n",
       "      <td>NaN</td>\n",
       "      <td>NaN</td>\n",
       "      <td>NaN</td>\n",
       "      <td>NaN</td>\n",
       "      <td>...</td>\n",
       "      <td>NaN</td>\n",
       "      <td>NaN</td>\n",
       "      <td>NaN</td>\n",
       "      <td>NaN</td>\n",
       "      <td>-0.580604</td>\n",
       "      <td>49.620</td>\n",
       "      <td>-0.641159</td>\n",
       "      <td>50.380</td>\n",
       "      <td>NaN</td>\n",
       "      <td>4.054634e+08</td>\n",
       "    </tr>\n",
       "    <tr>\n",
       "      <th>27</th>\n",
       "      <td>0</td>\n",
       "      <td>1987</td>\n",
       "      <td>NaN</td>\n",
       "      <td>NaN</td>\n",
       "      <td>NaN</td>\n",
       "      <td>NaN</td>\n",
       "      <td>NaN</td>\n",
       "      <td>NaN</td>\n",
       "      <td>NaN</td>\n",
       "      <td>NaN</td>\n",
       "      <td>...</td>\n",
       "      <td>NaN</td>\n",
       "      <td>NaN</td>\n",
       "      <td>NaN</td>\n",
       "      <td>NaN</td>\n",
       "      <td>-1.269118</td>\n",
       "      <td>49.635</td>\n",
       "      <td>-1.330100</td>\n",
       "      <td>50.365</td>\n",
       "      <td>NaN</td>\n",
       "      <td>4.876025e+08</td>\n",
       "    </tr>\n",
       "    <tr>\n",
       "      <th>28</th>\n",
       "      <td>0</td>\n",
       "      <td>1988</td>\n",
       "      <td>NaN</td>\n",
       "      <td>NaN</td>\n",
       "      <td>NaN</td>\n",
       "      <td>NaN</td>\n",
       "      <td>NaN</td>\n",
       "      <td>NaN</td>\n",
       "      <td>NaN</td>\n",
       "      <td>NaN</td>\n",
       "      <td>...</td>\n",
       "      <td>NaN</td>\n",
       "      <td>NaN</td>\n",
       "      <td>NaN</td>\n",
       "      <td>NaN</td>\n",
       "      <td>-1.202958</td>\n",
       "      <td>49.650</td>\n",
       "      <td>-1.263447</td>\n",
       "      <td>50.350</td>\n",
       "      <td>NaN</td>\n",
       "      <td>5.964236e+08</td>\n",
       "    </tr>\n",
       "    <tr>\n",
       "      <th>29</th>\n",
       "      <td>0</td>\n",
       "      <td>1989</td>\n",
       "      <td>NaN</td>\n",
       "      <td>NaN</td>\n",
       "      <td>NaN</td>\n",
       "      <td>NaN</td>\n",
       "      <td>NaN</td>\n",
       "      <td>NaN</td>\n",
       "      <td>NaN</td>\n",
       "      <td>NaN</td>\n",
       "      <td>...</td>\n",
       "      <td>NaN</td>\n",
       "      <td>NaN</td>\n",
       "      <td>NaN</td>\n",
       "      <td>NaN</td>\n",
       "      <td>-0.042878</td>\n",
       "      <td>49.665</td>\n",
       "      <td>-0.104112</td>\n",
       "      <td>50.335</td>\n",
       "      <td>NaN</td>\n",
       "      <td>6.953044e+08</td>\n",
       "    </tr>\n",
       "    <tr>\n",
       "      <th>30</th>\n",
       "      <td>0</td>\n",
       "      <td>1990</td>\n",
       "      <td>NaN</td>\n",
       "      <td>NaN</td>\n",
       "      <td>NaN</td>\n",
       "      <td>NaN</td>\n",
       "      <td>NaN</td>\n",
       "      <td>NaN</td>\n",
       "      <td>NaN</td>\n",
       "      <td>NaN</td>\n",
       "      <td>...</td>\n",
       "      <td>NaN</td>\n",
       "      <td>NaN</td>\n",
       "      <td>NaN</td>\n",
       "      <td>NaN</td>\n",
       "      <td>1.843551</td>\n",
       "      <td>49.681</td>\n",
       "      <td>1.780922</td>\n",
       "      <td>50.319</td>\n",
       "      <td>NaN</td>\n",
       "      <td>7.648871e+08</td>\n",
       "    </tr>\n",
       "  </tbody>\n",
       "</table>\n",
       "<p>5 rows × 220 columns</p>\n",
       "</div>"
      ],
      "text/plain": [
       "    Country Code  Year  NY.GNP.PCAP.CD  SE.ADT.1524.LT.FM.ZS  \\\n",
       "26             0  1986             NaN                   NaN   \n",
       "27             0  1987             NaN                   NaN   \n",
       "28             0  1988             NaN                   NaN   \n",
       "29             0  1989             NaN                   NaN   \n",
       "30             0  1990             NaN                   NaN   \n",
       "\n",
       "    SE.ADT.1524.LT.MA.ZS  SE.ADT.1524.LT.ZS  SE.ADT.LITR.FE.ZS  \\\n",
       "26                   NaN                NaN                NaN   \n",
       "27                   NaN                NaN                NaN   \n",
       "28                   NaN                NaN                NaN   \n",
       "29                   NaN                NaN                NaN   \n",
       "30                   NaN                NaN                NaN   \n",
       "\n",
       "    SE.ADT.LITR.MA.ZS  SE.ADT.LITR.ZS  SE.PRM.CMPT.FE.ZS  ...  \\\n",
       "26                NaN             NaN                NaN  ...   \n",
       "27                NaN             NaN                NaN  ...   \n",
       "28                NaN             NaN                NaN  ...   \n",
       "29                NaN             NaN                NaN  ...   \n",
       "30                NaN             NaN                NaN  ...   \n",
       "\n",
       "    SP.REG.BRTH.RU.ZS  SP.REG.BRTH.UR.ZS  SP.REG.BRTH.ZS  SP.REG.DTHS.ZS  \\\n",
       "26                NaN                NaN             NaN             NaN   \n",
       "27                NaN                NaN             NaN             NaN   \n",
       "28                NaN                NaN             NaN             NaN   \n",
       "29                NaN                NaN             NaN             NaN   \n",
       "30                NaN                NaN             NaN             NaN   \n",
       "\n",
       "    SP.RUR.TOTL.ZG  SP.RUR.TOTL.ZS  SP.URB.GROW  SP.URB.TOTL.IN.ZS  \\\n",
       "26       -0.580604          49.620    -0.641159             50.380   \n",
       "27       -1.269118          49.635    -1.330100             50.365   \n",
       "28       -1.202958          49.650    -1.263447             50.350   \n",
       "29       -0.042878          49.665    -0.104112             50.335   \n",
       "30        1.843551          49.681     1.780922             50.319   \n",
       "\n",
       "    SP.UWT.TFRT   gdp_country  \n",
       "26          NaN  4.054634e+08  \n",
       "27          NaN  4.876025e+08  \n",
       "28          NaN  5.964236e+08  \n",
       "29          NaN  6.953044e+08  \n",
       "30          NaN  7.648871e+08  \n",
       "\n",
       "[5 rows x 220 columns]"
      ]
     },
     "execution_count": 27,
     "metadata": {},
     "output_type": "execute_result"
    }
   ],
   "source": [
    "le = LabelEncoder()\n",
    "\n",
    "#fitting encoder on the country codes and transform them to int\n",
    "corr_gdp['Country Code'] = le.fit_transform(corr_gdp['Country Code'])\n",
    "corr_gdp.head(5)"
   ]
  },
  {
   "cell_type": "code",
   "execution_count": 28,
   "metadata": {},
   "outputs": [],
   "source": [
    "correlation_matrix = corr_gdp.corr()[\"gdp_country\"][0:-1]\n"
   ]
  },
  {
   "cell_type": "code",
   "execution_count": 29,
   "metadata": {},
   "outputs": [
    {
     "data": {
      "text/plain": [
       "Country Code            0.066568\n",
       "NY.GNP.PCAP.CD          0.202071\n",
       "SE.ADT.1524.LT.FM.ZS    0.082912\n",
       "SE.ADT.1524.LT.MA.ZS    0.080140\n",
       "SE.ADT.1524.LT.ZS       0.075641\n",
       "Name: gdp_country, dtype: float64"
      ]
     },
     "execution_count": 29,
     "metadata": {},
     "output_type": "execute_result"
    }
   ],
   "source": [
    "correlation_matrix.head(5)"
   ]
  },
  {
   "attachments": {},
   "cell_type": "markdown",
   "metadata": {},
   "source": [
    "The plot is too big to visualize, so we will find the absolute value of each value in correlation matrix and pick the most influential ones."
   ]
  },
  {
   "cell_type": "code",
   "execution_count": 30,
   "metadata": {},
   "outputs": [
    {
     "name": "stdout",
     "output_type": "stream",
     "text": [
      "Empty DataFrame\n",
      "Columns: [gdp_country]\n",
      "Index: []\n"
     ]
    }
   ],
   "source": [
    "corr_df = correlation_matrix.to_frame()\n",
    "mask = corr_df.isnull().any(axis=1)\n",
    "rows_with_nan = corr_df[mask]\n",
    "print(rows_with_nan)"
   ]
  },
  {
   "attachments": {},
   "cell_type": "markdown",
   "metadata": {},
   "source": [
    "We will sort the gdp values to make graphs easier to interpret. corr_df contains a gdp_country column, which is the absolute correlation of a particular attribute and its country's GDP. gdp_country_original has the raw value"
   ]
  },
  {
   "cell_type": "code",
   "execution_count": 31,
   "metadata": {},
   "outputs": [],
   "source": [
    "corr_df['gdp_country_original'] = corr_df['gdp_country'].copy()\n",
    "corr_df['gdp_country'] = corr_df['gdp_country'].apply(lambda x:abs(x))\n",
    "\n",
    "#unstacked = abs_val_corr.unstack()\n",
    "sorted_corr = corr_df.sort_values(by='gdp_country', kind=\"quicksort\", ascending=False)\n"
   ]
  },
  {
   "cell_type": "code",
   "execution_count": 32,
   "metadata": {},
   "outputs": [
    {
     "data": {
      "text/html": [
       "<div>\n",
       "<style scoped>\n",
       "    .dataframe tbody tr th:only-of-type {\n",
       "        vertical-align: middle;\n",
       "    }\n",
       "\n",
       "    .dataframe tbody tr th {\n",
       "        vertical-align: top;\n",
       "    }\n",
       "\n",
       "    .dataframe thead th {\n",
       "        text-align: right;\n",
       "    }\n",
       "</style>\n",
       "<table border=\"1\" class=\"dataframe\">\n",
       "  <thead>\n",
       "    <tr style=\"text-align: right;\">\n",
       "      <th></th>\n",
       "      <th>gdp_country</th>\n",
       "      <th>gdp_country_original</th>\n",
       "    </tr>\n",
       "  </thead>\n",
       "  <tbody>\n",
       "    <tr>\n",
       "      <th>SH.FPL.SATI.ZS</th>\n",
       "      <td>0.340277</td>\n",
       "      <td>0.340277</td>\n",
       "    </tr>\n",
       "    <tr>\n",
       "      <th>SP.POP.80UP.FE.5Y</th>\n",
       "      <td>0.320896</td>\n",
       "      <td>0.320896</td>\n",
       "    </tr>\n",
       "    <tr>\n",
       "      <th>SP.POP.80UP.MA.5Y</th>\n",
       "      <td>0.320179</td>\n",
       "      <td>0.320179</td>\n",
       "    </tr>\n",
       "    <tr>\n",
       "      <th>SH.XPD.PCAP.PP.KD</th>\n",
       "      <td>0.310141</td>\n",
       "      <td>0.310141</td>\n",
       "    </tr>\n",
       "    <tr>\n",
       "      <th>SH.XPD.PCAP</th>\n",
       "      <td>0.291871</td>\n",
       "      <td>0.291871</td>\n",
       "    </tr>\n",
       "    <tr>\n",
       "      <th>...</th>\n",
       "      <td>...</td>\n",
       "      <td>...</td>\n",
       "    </tr>\n",
       "    <tr>\n",
       "      <th>SH.STA.OWGH.FE.ZS</th>\n",
       "      <td>0.004889</td>\n",
       "      <td>0.004889</td>\n",
       "    </tr>\n",
       "    <tr>\n",
       "      <th>SH.STA.OWGH.MA.ZS</th>\n",
       "      <td>0.004379</td>\n",
       "      <td>-0.004379</td>\n",
       "    </tr>\n",
       "    <tr>\n",
       "      <th>SH.STA.BFED.ZS</th>\n",
       "      <td>0.004190</td>\n",
       "      <td>0.004190</td>\n",
       "    </tr>\n",
       "    <tr>\n",
       "      <th>SH.STA.DIAB.ZS</th>\n",
       "      <td>0.002568</td>\n",
       "      <td>-0.002568</td>\n",
       "    </tr>\n",
       "    <tr>\n",
       "      <th>SH.TBS.DTEC.ZS</th>\n",
       "      <td>0.001042</td>\n",
       "      <td>-0.001042</td>\n",
       "    </tr>\n",
       "  </tbody>\n",
       "</table>\n",
       "<p>218 rows × 2 columns</p>\n",
       "</div>"
      ],
      "text/plain": [
       "                   gdp_country  gdp_country_original\n",
       "SH.FPL.SATI.ZS        0.340277              0.340277\n",
       "SP.POP.80UP.FE.5Y     0.320896              0.320896\n",
       "SP.POP.80UP.MA.5Y     0.320179              0.320179\n",
       "SH.XPD.PCAP.PP.KD     0.310141              0.310141\n",
       "SH.XPD.PCAP           0.291871              0.291871\n",
       "...                        ...                   ...\n",
       "SH.STA.OWGH.FE.ZS     0.004889              0.004889\n",
       "SH.STA.OWGH.MA.ZS     0.004379             -0.004379\n",
       "SH.STA.BFED.ZS        0.004190              0.004190\n",
       "SH.STA.DIAB.ZS        0.002568             -0.002568\n",
       "SH.TBS.DTEC.ZS        0.001042             -0.001042\n",
       "\n",
       "[218 rows x 2 columns]"
      ]
     },
     "execution_count": 32,
     "metadata": {},
     "output_type": "execute_result"
    }
   ],
   "source": [
    "sorted_corr"
   ]
  },
  {
   "cell_type": "code",
   "execution_count": 33,
   "metadata": {},
   "outputs": [],
   "source": [
    "sorted_corr_filtered = sorted_corr[sorted_corr['gdp_country'] > 0.25]\n"
   ]
  },
  {
   "cell_type": "code",
   "execution_count": 34,
   "metadata": {},
   "outputs": [
    {
     "data": {
      "text/html": [
       "<div>\n",
       "<style scoped>\n",
       "    .dataframe tbody tr th:only-of-type {\n",
       "        vertical-align: middle;\n",
       "    }\n",
       "\n",
       "    .dataframe tbody tr th {\n",
       "        vertical-align: top;\n",
       "    }\n",
       "\n",
       "    .dataframe thead th {\n",
       "        text-align: right;\n",
       "    }\n",
       "</style>\n",
       "<table border=\"1\" class=\"dataframe\">\n",
       "  <thead>\n",
       "    <tr style=\"text-align: right;\">\n",
       "      <th></th>\n",
       "      <th>gdp_country</th>\n",
       "      <th>gdp_country_original</th>\n",
       "    </tr>\n",
       "  </thead>\n",
       "  <tbody>\n",
       "    <tr>\n",
       "      <th>SH.FPL.SATI.ZS</th>\n",
       "      <td>0.340277</td>\n",
       "      <td>0.340277</td>\n",
       "    </tr>\n",
       "    <tr>\n",
       "      <th>SP.POP.80UP.FE.5Y</th>\n",
       "      <td>0.320896</td>\n",
       "      <td>0.320896</td>\n",
       "    </tr>\n",
       "    <tr>\n",
       "      <th>SP.POP.80UP.MA.5Y</th>\n",
       "      <td>0.320179</td>\n",
       "      <td>0.320179</td>\n",
       "    </tr>\n",
       "    <tr>\n",
       "      <th>SH.XPD.PCAP.PP.KD</th>\n",
       "      <td>0.310141</td>\n",
       "      <td>0.310141</td>\n",
       "    </tr>\n",
       "    <tr>\n",
       "      <th>SH.XPD.PCAP</th>\n",
       "      <td>0.291871</td>\n",
       "      <td>0.291871</td>\n",
       "    </tr>\n",
       "  </tbody>\n",
       "</table>\n",
       "</div>"
      ],
      "text/plain": [
       "                   gdp_country  gdp_country_original\n",
       "SH.FPL.SATI.ZS        0.340277              0.340277\n",
       "SP.POP.80UP.FE.5Y     0.320896              0.320896\n",
       "SP.POP.80UP.MA.5Y     0.320179              0.320179\n",
       "SH.XPD.PCAP.PP.KD     0.310141              0.310141\n",
       "SH.XPD.PCAP           0.291871              0.291871"
      ]
     },
     "execution_count": 34,
     "metadata": {},
     "output_type": "execute_result"
    }
   ],
   "source": [
    "sorted_corr_filtered.head(5)"
   ]
  },
  {
   "cell_type": "code",
   "execution_count": 35,
   "metadata": {},
   "outputs": [],
   "source": [
    "sorted_corr_filtered = sorted_corr_filtered.dropna(axis=1, how='any')"
   ]
  },
  {
   "attachments": {},
   "cell_type": "markdown",
   "metadata": {},
   "source": [
    "We need the indicator codes to be a column:"
   ]
  },
  {
   "cell_type": "code",
   "execution_count": 36,
   "metadata": {},
   "outputs": [],
   "source": [
    "sort_melted = sorted_corr_filtered[['gdp_country_original']].T.melt(var_name='Indicator Code', value_name='Correlation')"
   ]
  },
  {
   "cell_type": "code",
   "execution_count": 37,
   "metadata": {},
   "outputs": [
    {
     "data": {
      "text/html": [
       "<div>\n",
       "<style scoped>\n",
       "    .dataframe tbody tr th:only-of-type {\n",
       "        vertical-align: middle;\n",
       "    }\n",
       "\n",
       "    .dataframe tbody tr th {\n",
       "        vertical-align: top;\n",
       "    }\n",
       "\n",
       "    .dataframe thead th {\n",
       "        text-align: right;\n",
       "    }\n",
       "</style>\n",
       "<table border=\"1\" class=\"dataframe\">\n",
       "  <thead>\n",
       "    <tr style=\"text-align: right;\">\n",
       "      <th></th>\n",
       "      <th>SH.FPL.SATI.ZS</th>\n",
       "      <th>SP.POP.80UP.FE.5Y</th>\n",
       "      <th>SP.POP.80UP.MA.5Y</th>\n",
       "      <th>SH.XPD.PCAP.PP.KD</th>\n",
       "      <th>SH.XPD.PCAP</th>\n",
       "      <th>SH.XPD.TOTL.ZS</th>\n",
       "      <th>SP.POP.7579.MA.5Y</th>\n",
       "      <th>SH.XPD.OOPC.ZS</th>\n",
       "      <th>SI.POV.NAHC</th>\n",
       "      <th>SP.POP.1014.FE.5Y</th>\n",
       "      <th>...</th>\n",
       "      <th>SP.POP.5559.FE.5Y</th>\n",
       "      <th>SP.POP.7579.FE.5Y</th>\n",
       "      <th>SP.POP.1014.MA.5Y</th>\n",
       "      <th>SP.POP.5054.FE.5Y</th>\n",
       "      <th>SP.POP.0509.FE.5Y</th>\n",
       "      <th>SP.POP.4549.MA.5Y</th>\n",
       "      <th>SP.POP.6064.FE.5Y</th>\n",
       "      <th>SP.POP.4549.FE.5Y</th>\n",
       "      <th>SP.POP.0509.MA.5Y</th>\n",
       "      <th>SH.SGR.PROC.P5</th>\n",
       "    </tr>\n",
       "  </thead>\n",
       "  <tbody>\n",
       "    <tr>\n",
       "      <th>gdp_country_original</th>\n",
       "      <td>0.340277</td>\n",
       "      <td>0.320896</td>\n",
       "      <td>0.320179</td>\n",
       "      <td>0.310141</td>\n",
       "      <td>0.291871</td>\n",
       "      <td>0.291433</td>\n",
       "      <td>0.288302</td>\n",
       "      <td>-0.287451</td>\n",
       "      <td>-0.275036</td>\n",
       "      <td>-0.273026</td>\n",
       "      <td>...</td>\n",
       "      <td>0.264199</td>\n",
       "      <td>0.262825</td>\n",
       "      <td>-0.262764</td>\n",
       "      <td>0.261764</td>\n",
       "      <td>-0.258239</td>\n",
       "      <td>0.256213</td>\n",
       "      <td>0.255979</td>\n",
       "      <td>0.254984</td>\n",
       "      <td>-0.254969</td>\n",
       "      <td>0.253091</td>\n",
       "    </tr>\n",
       "  </tbody>\n",
       "</table>\n",
       "<p>1 rows × 26 columns</p>\n",
       "</div>"
      ],
      "text/plain": [
       "                      SH.FPL.SATI.ZS  SP.POP.80UP.FE.5Y  SP.POP.80UP.MA.5Y  \\\n",
       "gdp_country_original        0.340277           0.320896           0.320179   \n",
       "\n",
       "                      SH.XPD.PCAP.PP.KD  SH.XPD.PCAP  SH.XPD.TOTL.ZS  \\\n",
       "gdp_country_original           0.310141     0.291871        0.291433   \n",
       "\n",
       "                      SP.POP.7579.MA.5Y  SH.XPD.OOPC.ZS  SI.POV.NAHC  \\\n",
       "gdp_country_original           0.288302       -0.287451    -0.275036   \n",
       "\n",
       "                      SP.POP.1014.FE.5Y  ...  SP.POP.5559.FE.5Y  \\\n",
       "gdp_country_original          -0.273026  ...           0.264199   \n",
       "\n",
       "                      SP.POP.7579.FE.5Y  SP.POP.1014.MA.5Y  SP.POP.5054.FE.5Y  \\\n",
       "gdp_country_original           0.262825          -0.262764           0.261764   \n",
       "\n",
       "                      SP.POP.0509.FE.5Y  SP.POP.4549.MA.5Y  SP.POP.6064.FE.5Y  \\\n",
       "gdp_country_original          -0.258239           0.256213           0.255979   \n",
       "\n",
       "                      SP.POP.4549.FE.5Y  SP.POP.0509.MA.5Y  SH.SGR.PROC.P5  \n",
       "gdp_country_original           0.254984          -0.254969        0.253091  \n",
       "\n",
       "[1 rows x 26 columns]"
      ]
     },
     "execution_count": 37,
     "metadata": {},
     "output_type": "execute_result"
    }
   ],
   "source": [
    "sorted_corr_filtered[['gdp_country_original']].T"
   ]
  },
  {
   "attachments": {},
   "cell_type": "markdown",
   "metadata": {},
   "source": [
    "Right now, the columns are in terms of Indicator Codes, which have no meaning to us. We will map the codes to the name of the indicators to make more sense of the results."
   ]
  },
  {
   "cell_type": "code",
   "execution_count": 38,
   "metadata": {},
   "outputs": [],
   "source": [
    "indicators_df =  melt_nutr_df[['Indicator Code', 'Indicator Name']]\n",
    "indicator_dict = dict(zip(indicators_df['Indicator Code'], indicators_df['Indicator Name']))\n",
    "correlation_ind_names = sorted_corr_filtered.T.rename(columns=indicator_dict)\n",
    "correlation_ind_names = correlation_ind_names.T[['gdp_country_original']].T.melt(var_name='Indicator Name', value_name='Correlation')"
   ]
  },
  {
   "cell_type": "code",
   "execution_count": 39,
   "metadata": {},
   "outputs": [
    {
     "data": {
      "text/html": [
       "<div>\n",
       "<style scoped>\n",
       "    .dataframe tbody tr th:only-of-type {\n",
       "        vertical-align: middle;\n",
       "    }\n",
       "\n",
       "    .dataframe tbody tr th {\n",
       "        vertical-align: top;\n",
       "    }\n",
       "\n",
       "    .dataframe thead th {\n",
       "        text-align: right;\n",
       "    }\n",
       "</style>\n",
       "<table border=\"1\" class=\"dataframe\">\n",
       "  <thead>\n",
       "    <tr style=\"text-align: right;\">\n",
       "      <th></th>\n",
       "      <th>Indicator Name</th>\n",
       "      <th>Correlation</th>\n",
       "    </tr>\n",
       "  </thead>\n",
       "  <tbody>\n",
       "    <tr>\n",
       "      <th>0</th>\n",
       "      <td>Demand for family planning satisfied by any me...</td>\n",
       "      <td>0.340277</td>\n",
       "    </tr>\n",
       "    <tr>\n",
       "      <th>1</th>\n",
       "      <td>Population ages 80 and older, female (% of fem...</td>\n",
       "      <td>0.320896</td>\n",
       "    </tr>\n",
       "    <tr>\n",
       "      <th>2</th>\n",
       "      <td>Population ages 80 and older, male (% of male ...</td>\n",
       "      <td>0.320179</td>\n",
       "    </tr>\n",
       "    <tr>\n",
       "      <th>3</th>\n",
       "      <td>Health expenditure per capita, PPP</td>\n",
       "      <td>0.310141</td>\n",
       "    </tr>\n",
       "    <tr>\n",
       "      <th>4</th>\n",
       "      <td>Health expenditure per capita (current US$)</td>\n",
       "      <td>0.291871</td>\n",
       "    </tr>\n",
       "  </tbody>\n",
       "</table>\n",
       "</div>"
      ],
      "text/plain": [
       "                                      Indicator Name  Correlation\n",
       "0  Demand for family planning satisfied by any me...     0.340277\n",
       "1  Population ages 80 and older, female (% of fem...     0.320896\n",
       "2  Population ages 80 and older, male (% of male ...     0.320179\n",
       "3                 Health expenditure per capita, PPP     0.310141\n",
       "4        Health expenditure per capita (current US$)     0.291871"
      ]
     },
     "execution_count": 39,
     "metadata": {},
     "output_type": "execute_result"
    }
   ],
   "source": [
    "correlation_ind_names.head(5)"
   ]
  },
  {
   "cell_type": "code",
   "execution_count": 40,
   "metadata": {},
   "outputs": [
    {
     "data": {
      "image/png": "[encoded data removed]",
      "text/plain": [
       "<Figure size 2160x1440 with 1 Axes>"
      ]
     },
     "metadata": {
      "needs_background": "light"
     },
     "output_type": "display_data"
    }
   ],
   "source": [
    "plt.figure(figsize=(30, 20))\n",
    "ax = sns.barplot(x='Indicator Name', y ='Correlation', data = correlation_ind_names[correlation_ind_names['Correlation'] > 0])\n",
    "plt.title('Indicator Name and Correlation to GDP')\n",
    "ax.set_xticklabels(ax.get_xticklabels(), rotation=45, ha=\"right\")\n",
    "\n",
    "plt.xlabel('Indicator Name')\n",
    "plt.ylabel('Correlation')\n",
    "\n",
    "plt.show()"
   ]
  },
  {
   "cell_type": "code",
   "execution_count": 41,
   "metadata": {},
   "outputs": [
    {
     "data": {
      "image/png": "[encoded data removed]",
      "text/plain": [
       "<Figure size 1440x720 with 1 Axes>"
      ]
     },
     "metadata": {
      "needs_background": "light"
     },
     "output_type": "display_data"
    }
   ],
   "source": [
    "plt.figure(figsize=(20, 10))\n",
    "\n",
    "ax = sns.barplot(x='Indicator Name', y ='Correlation', data =correlation_ind_names[correlation_ind_names['Correlation'] <=0], palette=sns.color_palette(\"husl\", 8))\n",
    "plt.title('Indicator Code and Correlation to GDP')\n",
    "ax.set_xticklabels(ax.get_xticklabels(), rotation=45, ha=\"right\")\n",
    "\n",
    "plt.xlabel('Indicator Name')\n",
    "plt.ylabel('Correlation')\n",
    "\n",
    "plt.show()"
   ]
  },
  {
   "attachments": {},
   "cell_type": "markdown",
   "metadata": {},
   "source": [
    "## Conclusion from gdp-country statitics: Correlation Matrix"
   ]
  },
  {
   "attachments": {},
   "cell_type": "markdown",
   "metadata": {},
   "source": [
    "#### Positive Correlations"
   ]
  },
  {
   "attachments": {},
   "cell_type": "markdown",
   "metadata": {},
   "source": [
    "Highest positive correlation was revealed to be demand for family planning satisfied by any methods. We would expect this to be positively correlated with gdp because when families are able to use family planning, they have more income they are able to invest into education and infrastructure."
   ]
  },
  {
   "attachments": {},
   "cell_type": "markdown",
   "metadata": {},
   "source": [
    "Many factors appear to involve population percentages of certain aged female and male populations. The population of specific ages can increase number of people who are able to work which increases the labor force of the country. The age that is most highly positively correlated with gdp is 80+, indicating that people in the country are healthier. "
   ]
  },
  {
   "attachments": {},
   "cell_type": "markdown",
   "metadata": {},
   "source": [
    "Health expenditure is also moderately correlated with gdp. This is expected because spending mroe on health leads to less premature deaths, which increases the working age and leads to a decrease in illnesses. Number of surgical procedures was also moderately correlated with gdp. This could be explaine by surgeries implying better healthcare available for people, so they are able to be sick less."
   ]
  },
  {
   "attachments": {},
   "cell_type": "markdown",
   "metadata": {},
   "source": [
    "#### Negative Correlations"
   ]
  },
  {
   "attachments": {},
   "cell_type": "markdown",
   "metadata": {},
   "source": [
    "Out of pocket health expenditure has a moderate negative correlation with gdp. This is expected because out-of-pocket expenditure may indicate poverty in the country so that the country is not able to cover some health services. Poeple would be spending a lot of their own money on health care and therefore will have no money left to invest into the country. "
   ]
  },
  {
   "attachments": {},
   "cell_type": "markdown",
   "metadata": {},
   "source": [
    "Poverty headcount ratio at national poverty line also have a moderate negative correlation with gdp. This is expected because when country does not have as many resources to give to people, more people will suffer from lower income and therefore poverty. "
   ]
  },
  {
   "attachments": {},
   "cell_type": "markdown",
   "metadata": {},
   "source": [
    "The last factors that had a moderate negative correlation with gdp were population ages younger than 19. This is expected because younger people do not have working expereince and some are too young to work. The country has to spend morer money into educating the children. Moreover, when a family grows, they will spend more income to take care of children rather than investing money and time into country's economic growth."
   ]
  },
  {
   "attachments": {},
   "cell_type": "markdown",
   "metadata": {},
   "source": [
    "# Correlation Matrix: all variables"
   ]
  },
  {
   "cell_type": "code",
   "execution_count": 42,
   "metadata": {},
   "outputs": [],
   "source": [
    "correlation_matrix = corr_gdp.corr()"
   ]
  },
  {
   "cell_type": "code",
   "execution_count": 43,
   "metadata": {},
   "outputs": [],
   "source": [
    "corr_abs = correlation_matrix.abs()\n",
    "\n",
    "#selecting upper triable of correlation matrix\n",
    "upper = corr_abs.where(np.triu(np.ones(corr_abs.shape), k=1).astype(bool))\n",
    "\n",
    "#will drop features that are highly correlated with each other:\n",
    "to_drop = [column for column in upper.columns if any(upper[column] > 0.95)]\n",
    "\n",
    "corr_gdp.drop(to_drop, axis=1, inplace=True)"
   ]
  },
  {
   "cell_type": "code",
   "execution_count": 44,
   "metadata": {},
   "outputs": [
    {
     "data": {
      "text/html": [
       "<div>\n",
       "<style scoped>\n",
       "    .dataframe tbody tr th:only-of-type {\n",
       "        vertical-align: middle;\n",
       "    }\n",
       "\n",
       "    .dataframe tbody tr th {\n",
       "        vertical-align: top;\n",
       "    }\n",
       "\n",
       "    .dataframe thead th {\n",
       "        text-align: right;\n",
       "    }\n",
       "</style>\n",
       "<table border=\"1\" class=\"dataframe\">\n",
       "  <thead>\n",
       "    <tr style=\"text-align: right;\">\n",
       "      <th></th>\n",
       "      <th>Country Code</th>\n",
       "      <th>Year</th>\n",
       "      <th>NY.GNP.PCAP.CD</th>\n",
       "      <th>SE.ADT.1524.LT.FM.ZS</th>\n",
       "      <th>SE.ADT.1524.LT.MA.ZS</th>\n",
       "      <th>SE.ADT.LITR.FE.ZS</th>\n",
       "      <th>SE.PRM.CMPT.FE.ZS</th>\n",
       "      <th>SE.PRM.CMPT.MA.ZS</th>\n",
       "      <th>SE.PRM.ENRR</th>\n",
       "      <th>SE.PRM.NENR</th>\n",
       "      <th>...</th>\n",
       "      <th>SP.POP.GROW</th>\n",
       "      <th>SP.POP.TOTL.FE.ZS</th>\n",
       "      <th>SP.REG.BRTH.RU.ZS</th>\n",
       "      <th>SP.REG.BRTH.UR.ZS</th>\n",
       "      <th>SP.REG.DTHS.ZS</th>\n",
       "      <th>SP.RUR.TOTL.ZG</th>\n",
       "      <th>SP.RUR.TOTL.ZS</th>\n",
       "      <th>SP.URB.GROW</th>\n",
       "      <th>SP.UWT.TFRT</th>\n",
       "      <th>gdp_country</th>\n",
       "    </tr>\n",
       "  </thead>\n",
       "  <tbody>\n",
       "    <tr>\n",
       "      <th>26</th>\n",
       "      <td>0</td>\n",
       "      <td>1986</td>\n",
       "      <td>NaN</td>\n",
       "      <td>NaN</td>\n",
       "      <td>NaN</td>\n",
       "      <td>NaN</td>\n",
       "      <td>NaN</td>\n",
       "      <td>NaN</td>\n",
       "      <td>NaN</td>\n",
       "      <td>NaN</td>\n",
       "      <td>...</td>\n",
       "      <td>-0.611117</td>\n",
       "      <td>51.166911</td>\n",
       "      <td>NaN</td>\n",
       "      <td>NaN</td>\n",
       "      <td>NaN</td>\n",
       "      <td>-0.580604</td>\n",
       "      <td>49.620</td>\n",
       "      <td>-0.641159</td>\n",
       "      <td>NaN</td>\n",
       "      <td>4.054634e+08</td>\n",
       "    </tr>\n",
       "    <tr>\n",
       "      <th>27</th>\n",
       "      <td>0</td>\n",
       "      <td>1987</td>\n",
       "      <td>NaN</td>\n",
       "      <td>NaN</td>\n",
       "      <td>NaN</td>\n",
       "      <td>NaN</td>\n",
       "      <td>NaN</td>\n",
       "      <td>NaN</td>\n",
       "      <td>NaN</td>\n",
       "      <td>NaN</td>\n",
       "      <td>...</td>\n",
       "      <td>-1.299836</td>\n",
       "      <td>51.053610</td>\n",
       "      <td>NaN</td>\n",
       "      <td>NaN</td>\n",
       "      <td>NaN</td>\n",
       "      <td>-1.269118</td>\n",
       "      <td>49.635</td>\n",
       "      <td>-1.330100</td>\n",
       "      <td>NaN</td>\n",
       "      <td>4.876025e+08</td>\n",
       "    </tr>\n",
       "    <tr>\n",
       "      <th>28</th>\n",
       "      <td>0</td>\n",
       "      <td>1988</td>\n",
       "      <td>NaN</td>\n",
       "      <td>NaN</td>\n",
       "      <td>NaN</td>\n",
       "      <td>NaN</td>\n",
       "      <td>NaN</td>\n",
       "      <td>NaN</td>\n",
       "      <td>NaN</td>\n",
       "      <td>NaN</td>\n",
       "      <td>...</td>\n",
       "      <td>-1.233418</td>\n",
       "      <td>50.919331</td>\n",
       "      <td>NaN</td>\n",
       "      <td>NaN</td>\n",
       "      <td>NaN</td>\n",
       "      <td>-1.202958</td>\n",
       "      <td>49.650</td>\n",
       "      <td>-1.263447</td>\n",
       "      <td>NaN</td>\n",
       "      <td>5.964236e+08</td>\n",
       "    </tr>\n",
       "    <tr>\n",
       "      <th>29</th>\n",
       "      <td>0</td>\n",
       "      <td>1989</td>\n",
       "      <td>NaN</td>\n",
       "      <td>NaN</td>\n",
       "      <td>NaN</td>\n",
       "      <td>NaN</td>\n",
       "      <td>NaN</td>\n",
       "      <td>NaN</td>\n",
       "      <td>NaN</td>\n",
       "      <td>NaN</td>\n",
       "      <td>...</td>\n",
       "      <td>-0.073705</td>\n",
       "      <td>50.784834</td>\n",
       "      <td>NaN</td>\n",
       "      <td>NaN</td>\n",
       "      <td>NaN</td>\n",
       "      <td>-0.042878</td>\n",
       "      <td>49.665</td>\n",
       "      <td>-0.104112</td>\n",
       "      <td>NaN</td>\n",
       "      <td>6.953044e+08</td>\n",
       "    </tr>\n",
       "    <tr>\n",
       "      <th>30</th>\n",
       "      <td>0</td>\n",
       "      <td>1990</td>\n",
       "      <td>NaN</td>\n",
       "      <td>NaN</td>\n",
       "      <td>NaN</td>\n",
       "      <td>NaN</td>\n",
       "      <td>NaN</td>\n",
       "      <td>NaN</td>\n",
       "      <td>NaN</td>\n",
       "      <td>NaN</td>\n",
       "      <td>...</td>\n",
       "      <td>1.812032</td>\n",
       "      <td>50.672588</td>\n",
       "      <td>NaN</td>\n",
       "      <td>NaN</td>\n",
       "      <td>NaN</td>\n",
       "      <td>1.843551</td>\n",
       "      <td>49.681</td>\n",
       "      <td>1.780922</td>\n",
       "      <td>NaN</td>\n",
       "      <td>7.648871e+08</td>\n",
       "    </tr>\n",
       "  </tbody>\n",
       "</table>\n",
       "<p>5 rows × 134 columns</p>\n",
       "</div>"
      ],
      "text/plain": [
       "    Country Code  Year  NY.GNP.PCAP.CD  SE.ADT.1524.LT.FM.ZS  \\\n",
       "26             0  1986             NaN                   NaN   \n",
       "27             0  1987             NaN                   NaN   \n",
       "28             0  1988             NaN                   NaN   \n",
       "29             0  1989             NaN                   NaN   \n",
       "30             0  1990             NaN                   NaN   \n",
       "\n",
       "    SE.ADT.1524.LT.MA.ZS  SE.ADT.LITR.FE.ZS  SE.PRM.CMPT.FE.ZS  \\\n",
       "26                   NaN                NaN                NaN   \n",
       "27                   NaN                NaN                NaN   \n",
       "28                   NaN                NaN                NaN   \n",
       "29                   NaN                NaN                NaN   \n",
       "30                   NaN                NaN                NaN   \n",
       "\n",
       "    SE.PRM.CMPT.MA.ZS  SE.PRM.ENRR  SE.PRM.NENR  ...  SP.POP.GROW  \\\n",
       "26                NaN          NaN          NaN  ...    -0.611117   \n",
       "27                NaN          NaN          NaN  ...    -1.299836   \n",
       "28                NaN          NaN          NaN  ...    -1.233418   \n",
       "29                NaN          NaN          NaN  ...    -0.073705   \n",
       "30                NaN          NaN          NaN  ...     1.812032   \n",
       "\n",
       "    SP.POP.TOTL.FE.ZS  SP.REG.BRTH.RU.ZS  SP.REG.BRTH.UR.ZS  SP.REG.DTHS.ZS  \\\n",
       "26          51.166911                NaN                NaN             NaN   \n",
       "27          51.053610                NaN                NaN             NaN   \n",
       "28          50.919331                NaN                NaN             NaN   \n",
       "29          50.784834                NaN                NaN             NaN   \n",
       "30          50.672588                NaN                NaN             NaN   \n",
       "\n",
       "    SP.RUR.TOTL.ZG  SP.RUR.TOTL.ZS  SP.URB.GROW  SP.UWT.TFRT   gdp_country  \n",
       "26       -0.580604          49.620    -0.641159          NaN  4.054634e+08  \n",
       "27       -1.269118          49.635    -1.330100          NaN  4.876025e+08  \n",
       "28       -1.202958          49.650    -1.263447          NaN  5.964236e+08  \n",
       "29       -0.042878          49.665    -0.104112          NaN  6.953044e+08  \n",
       "30        1.843551          49.681     1.780922          NaN  7.648871e+08  \n",
       "\n",
       "[5 rows x 134 columns]"
      ]
     },
     "execution_count": 44,
     "metadata": {},
     "output_type": "execute_result"
    }
   ],
   "source": [
    "corr_gdp.head()"
   ]
  },
  {
   "cell_type": "markdown",
   "metadata": {},
   "source": [
    "## Null values per feature"
   ]
  },
  {
   "cell_type": "code",
   "execution_count": 45,
   "metadata": {},
   "outputs": [],
   "source": [
    "nan_feature_df = pd.DataFrame()\n",
    "features=[]\n",
    "nan_counts=[]\n",
    "for feature in corr_gdp.columns:\n",
    "  features.append(str(feature))\n",
    "  nan_counts.append(corr_gdp[feature].isna().sum())\n",
    "\n",
    "nan_feature_df['feature']=features\n",
    "nan_feature_df['nan_count']=nan_counts"
   ]
  },
  {
   "cell_type": "code",
   "execution_count": 46,
   "metadata": {},
   "outputs": [
    {
     "data": {
      "image/png": "[encoded data removed]",
      "text/plain": [
       "<Figure size 864x576 with 1 Axes>"
      ]
     },
     "metadata": {
      "needs_background": "light"
     },
     "output_type": "display_data"
    }
   ],
   "source": [
    "fig, ax = plt.subplots(figsize=(12,8))\n",
    "nan_feature_df = nan_feature_df.sort_values(by = 'nan_count', ascending=False)\n",
    "nan_feature_df = nan_feature_df.head(20)\n",
    "sns.barplot(data=nan_feature_df, x='feature', y='nan_count')\n",
    "xticks=ax.xaxis.get_major_ticks()\n",
    "# for i in range(len(xticks)):\n",
    "#     if i%5!=0:\n",
    "#         xticks[i].set_visible(False)\n",
    "ax.set_xticklabels( nan_feature_df['feature'], rotation=45 )        \n",
    "\n",
    "plt.show()"
   ]
  },
  {
   "cell_type": "markdown",
   "metadata": {},
   "source": [
    "here is a graph of the percentage of nan values per feature"
   ]
  },
  {
   "cell_type": "code",
   "execution_count": null,
   "metadata": {},
   "outputs": [],
   "source": []
  },
  {
   "cell_type": "markdown",
   "metadata": {},
   "source": [
    "## Imputing Nan values"
   ]
  },
  {
   "cell_type": "markdown",
   "metadata": {},
   "source": [
    "As you can see in the graph above, there are a number of Nan values for each feature. To deal with this, we will be using K nearest neighbor imputing to assign Nan values an expected value based on how similar its other features are with data"
   ]
  },
  {
   "cell_type": "code",
   "execution_count": 47,
   "metadata": {},
   "outputs": [
    {
     "ename": "NameError",
     "evalue": "name 'KNNImputer' is not defined",
     "output_type": "error",
     "traceback": [
      "\u001b[0;31m---------------------------------------------------------------------------\u001b[0m",
      "\u001b[0;31mNameError\u001b[0m                                 Traceback (most recent call last)",
      "\u001b[0;32m/var/folders/3s/6h63ktl15h541pj1y1mgy8vw0000gn/T/ipykernel_57715/504100901.py\u001b[0m in \u001b[0;36m<module>\u001b[0;34m\u001b[0m\n\u001b[1;32m      1\u001b[0m \u001b[0;31m# Create a KNNImputer object\u001b[0m\u001b[0;34m\u001b[0m\u001b[0;34m\u001b[0m\u001b[0m\n\u001b[0;32m----> 2\u001b[0;31m \u001b[0mimputer\u001b[0m \u001b[0;34m=\u001b[0m \u001b[0mKNNImputer\u001b[0m\u001b[0;34m(\u001b[0m\u001b[0;34m)\u001b[0m\u001b[0;34m\u001b[0m\u001b[0;34m\u001b[0m\u001b[0m\n\u001b[0m\u001b[1;32m      3\u001b[0m \u001b[0;34m\u001b[0m\u001b[0m\n\u001b[1;32m      4\u001b[0m \u001b[0;31m# Create a parameter grid to search over\u001b[0m\u001b[0;34m\u001b[0m\u001b[0;34m\u001b[0m\u001b[0m\n\u001b[1;32m      5\u001b[0m \u001b[0mparam_grid\u001b[0m \u001b[0;34m=\u001b[0m \u001b[0;34m{\u001b[0m\u001b[0;34m'n_neighbors'\u001b[0m\u001b[0;34m:\u001b[0m \u001b[0;34m[\u001b[0m\u001b[0;36m3\u001b[0m\u001b[0;34m,\u001b[0m \u001b[0;36m5\u001b[0m\u001b[0;34m,\u001b[0m \u001b[0;36m7\u001b[0m\u001b[0;34m,\u001b[0m \u001b[0;36m9\u001b[0m\u001b[0;34m]\u001b[0m\u001b[0;34m}\u001b[0m\u001b[0;34m\u001b[0m\u001b[0;34m\u001b[0m\u001b[0m\n",
      "\u001b[0;31mNameError\u001b[0m: name 'KNNImputer' is not defined"
     ]
    }
   ],
   "source": [
    "# Create a KNNImputer object\n",
    "imputer = KNNImputer()\n",
    "\n",
    "# Create a parameter grid to search over\n",
    "param_grid = {'n_neighbors': [3, 5, 7, 9]}\n",
    "\n",
    "# Create a GridSearchCV object\n",
    "grid_search = GridSearchCV(imputer, param_grid, cv=5)\n",
    "\n",
    "# Fit the GridSearchCV object to the data\n",
    "grid_search.fit(X)\n",
    "\n",
    "# Print the best parameter setting\n",
    "print(grid_search.best_params_)"
   ]
  },
  {
   "cell_type": "code",
   "execution_count": 49,
   "metadata": {},
   "outputs": [],
   "source": [
    "from sklearn.datasets import load_iris\n",
    "from sklearn.feature_selection import SelectKBest\n",
    "from sklearn.feature_selection import chi2\n",
    "from sklearn.model_selection import train_test_split\n",
    "\n",
    "import numpy as np\n",
    "from sklearn.impute import KNNImputer\n",
    "\n",
    "X_train, X_test, y_train, y_test = train_test_split(corr_gdp.drop('gdp_country', axis=1), corr_gdp['gdp_country'], test_size=0.2, random_state=42)\n",
    "\n",
    "# Instantiate the KNNImputer class with k=3\n",
    "imputer = KNNImputer(n_neighbors=5)\n",
    "\n",
    "# Fit the imputer to the data\n",
    "X_train_imputed = imputer.fit_transform(X_train)\n",
    "X_test_imputed = imputer.transform(X_test)"
   ]
  },
  {
   "cell_type": "markdown",
   "metadata": {},
   "source": [
    "There are a number of Nan values in each row. We need to "
   ]
  },
  {
   "attachments": {},
   "cell_type": "markdown",
   "metadata": {},
   "source": [
    "## Linear Regression\n",
    "\n",
    "Define a linear regression model using the correlations of indicators as features and GDP as the label"
   ]
  },
  {
   "cell_type": "code",
   "execution_count": 50,
   "metadata": {},
   "outputs": [],
   "source": [
    "# TO-DO: Import required libraries\n",
    "from sklearn.linear_model import LinearRegression\n",
    "\n",
    "# TO-DO: Initialize model with default parameters and fit it on the training set\n",
    "reg = LinearRegression()\n",
    "reg.fit(X_train_imputed, y_train)\n",
    "\n",
    "# TO-DO: Use the model to predict on the test set and save these predictions as `y_pred`\n",
    "y_pred_log = reg.predict(X_test_imputed)"
   ]
  },
  {
   "cell_type": "code",
   "execution_count": 51,
   "metadata": {},
   "outputs": [],
   "source": [
    "from sklearn.metrics import r2_score\n",
    "from sklearn.metrics import mean_squared_error\n",
    "\n",
    "#get metrics to evaluate performance\n",
    "lin_reg_score = r2_score(y_test, y_pred_log)\n",
    "mse_score = mean_squared_error(y_test, y_pred_log)"
   ]
  },
  {
   "cell_type": "code",
   "execution_count": 52,
   "metadata": {},
   "outputs": [
    {
     "name": "stdout",
     "output_type": "stream",
     "text": [
      "0.31195759599073325\n",
      "1.3888780102453136e+25\n"
     ]
    }
   ],
   "source": [
    "print(lin_reg_score)\n",
    "print(mse_score)"
   ]
  },
  {
   "cell_type": "markdown",
   "metadata": {},
   "source": [
    "## Random Forest Regressor"
   ]
  },
  {
   "cell_type": "code",
   "execution_count": 53,
   "metadata": {},
   "outputs": [],
   "source": [
    "# TO-DO: Import required libraries\n",
    "import sklearn\n",
    "from sklearn.ensemble import RandomForestRegressor\n",
    "\n",
    "# TO-DO: Initialize model with default parameters and fit it on the training set\n",
    "reg_rf = RandomForestRegressor()\n",
    "reg_rf.fit(X_train_imputed, y_train)\n",
    "\n",
    "# TO-DO: Use the model to predict on the test set and save these predictions as `y_pred`\n",
    "y_pred_rfr = reg_rf.predict(X_test_imputed)"
   ]
  },
  {
   "cell_type": "code",
   "execution_count": 55,
   "metadata": {},
   "outputs": [
    {
     "name": "stdout",
     "output_type": "stream",
     "text": [
      "0.8938097956460792\n",
      "2.1435486951270858e+24\n"
     ]
    }
   ],
   "source": [
    "\n",
    "# TO-DO: Find the R-squared score and store the value in `rfr_score`\n",
    "rfr_score = r2_score(y_test, y_pred_rfr)\n",
    "mse_score = mean_squared_error(y_test, y_pred_rfr)\n",
    "print(rfr_score)\n",
    "print(mse_score)"
   ]
  },
  {
   "cell_type": "markdown",
   "metadata": {},
   "source": [
    "## PCA"
   ]
  },
  {
   "cell_type": "code",
   "execution_count": 54,
   "metadata": {},
   "outputs": [],
   "source": [
    "import sklearn "
   ]
  },
  {
   "cell_type": "markdown",
   "metadata": {},
   "source": [
    "## Support Vector Machine"
   ]
  },
  {
   "cell_type": "markdown",
   "metadata": {},
   "source": [
    "Unlike the regression models above, we will create a classification to classify the GDP \"category\" that a country will fall into. Categories are created by splitting the GDPs into "
   ]
  },
  {
   "cell_type": "code",
   "execution_count": null,
   "metadata": {},
   "outputs": [
    {
     "ename": "",
     "evalue": "",
     "output_type": "error",
     "traceback": [
      "\u001b[1;31mCanceled future for execute_request message before replies were done"
     ]
    }
   ],
   "source": [
    "# from sklearn.preprocessing import LabelEncoder\n",
    "# from sklearn.svm import SVC\n",
    "# from sklearn.metrics import accuracy_score\n",
    "\n",
    "# corr_df_classification = corr_df.copy()\n",
    "\n",
    "# # Create GDP categories based on quartiles\n",
    "# y_train_buckets = pd.qcut(y_train, q=4, labels=[\"Low\", \"Medium-Low\", \"Medium-High\", \"High\"])\n",
    "# y_test_buckets = pd.qcut(y_test, q=4, labels=[\"Low\", \"Medium-Low\", \"Medium-High\", \"High\"])\n",
    "\n",
    "# # Convert the GDP category labels to numerical values\n",
    "# label_encoder = LabelEncoder()\n",
    "# y_train_buckets = label_encoder.fit_transform(y_train_buckets)\n",
    "# y_test_buckets = label_encoder.fit_transform(y_test_buckets)\n",
    "\n",
    "# # Split the data into training and test sets\n",
    "# # X_train, X_test, y_train, y_test = train_test_split(corr_df_classification.drop(columns=[\"GDP\", \"GDP Category\"]), corr_df_classification[\"GDP Category\"], test_size=0.3, random_state=42)\n",
    "\n",
    "# # Create an SVM classifier with a linear kernel\n",
    "# clf = SVC(kernel='linear')\n",
    "\n",
    "# # Train the classifier on the training data\n",
    "# clf.fit(X_train_imputed, y_train_buckets)\n",
    "\n",
    "# # Make predictions on the test data\n",
    "# y_pred = clf.predict(X_test_imputed)\n",
    "\n",
    "# # Convert the numerical category labels back to string labels\n",
    "# y_test_str = label_encoder.inverse_transform(y_test_buckets)\n",
    "# y_pred_str = label_encoder.inverse_transform(y_pred)\n",
    "\n",
    "# # Calculate the accuracy of the classifier\n",
    "# accuracy = accuracy_score(y_test_buckets, y_pred)\n",
    "\n",
    "# # Print the accuracy\n",
    "# print(f\"Accuracy: {accuracy:.3f}\")"
   ]
  },
  {
   "cell_type": "code",
   "execution_count": null,
   "metadata": {},
   "outputs": [],
   "source": [
    "from sklearn import metrics\n",
    "svm_acc = metrics.accuracy_score(y_pred,y_test_buckets)"
   ]
  },
  {
   "cell_type": "markdown",
   "metadata": {},
   "source": [
    "## Map visualization"
   ]
  },
  {
   "cell_type": "code",
   "execution_count": 57,
   "metadata": {},
   "outputs": [
    {
     "name": "stdout",
     "output_type": "stream",
     "text": [
      "Collecting plotly\n",
      "  Downloading plotly-5.14.1-py2.py3-none-any.whl (15.3 MB)\n",
      "\u001b[K     |████████████████████████████████| 15.3 MB 985 kB/s eta 0:00:01\n",
      "\u001b[?25hRequirement already satisfied: packaging in /Users/aashvimanakiwala/opt/anaconda3/lib/python3.9/site-packages (from plotly) (21.0)\n",
      "Collecting tenacity>=6.2.0\n",
      "  Downloading tenacity-8.2.2-py3-none-any.whl (24 kB)\n",
      "Requirement already satisfied: pyparsing>=2.0.2 in /Users/aashvimanakiwala/opt/anaconda3/lib/python3.9/site-packages (from packaging->plotly) (3.0.4)\n",
      "Installing collected packages: tenacity, plotly\n",
      "Successfully installed plotly-5.14.1 tenacity-8.2.2\n"
     ]
    }
   ],
   "source": [
    "!pip install plotly"
   ]
  },
  {
   "cell_type": "code",
   "execution_count": 64,
   "metadata": {},
   "outputs": [
    {
     "data": {
      "application/vnd.plotly.v1+json": {
       "config": {
        "plotlyServerURL": "https://plot.ly"
       },
       "data": [
        {
         "coloraxis": "coloraxis",
         "geo": "geo",
         "hovertemplate": "<b>%{hovertext}</b><br><br>Country Code=%{location}<br>gdp_country=%{z}<extra></extra>",
         "hovertext": [],
         "locations": [],
         "name": "",
         "type": "choropleth",
         "z": []
        }
       ],
       "layout": {
        "coloraxis": {
         "colorbar": {
          "title": {
           "text": "gdp_country"
          }
         },
         "colorscale": [
          [
           0,
           "#0d0887"
          ],
          [
           0.1111111111111111,
           "#46039f"
          ],
          [
           0.2222222222222222,
           "#7201a8"
          ],
          [
           0.3333333333333333,
           "#9c179e"
          ],
          [
           0.4444444444444444,
           "#bd3786"
          ],
          [
           0.5555555555555556,
           "#d8576b"
          ],
          [
           0.6666666666666666,
           "#ed7953"
          ],
          [
           0.7777777777777778,
           "#fb9f3a"
          ],
          [
           0.8888888888888888,
           "#fdca26"
          ],
          [
           1,
           "#f0f921"
          ]
         ]
        },
        "geo": {
         "center": {},
         "domain": {
          "x": [
           0,
           1
          ],
          "y": [
           0,
           1
          ]
         },
         "projection": {
          "type": "natural earth"
         }
        },
        "legend": {
         "tracegroupgap": 0
        },
        "margin": {
         "t": 60
        },
        "template": {
         "data": {
          "bar": [
           {
            "error_x": {
             "color": "#2a3f5f"
            },
            "error_y": {
             "color": "#2a3f5f"
            },
            "marker": {
             "line": {
              "color": "#E5ECF6",
              "width": 0.5
             },
             "pattern": {
              "fillmode": "overlay",
              "size": 10,
              "solidity": 0.2
             }
            },
            "type": "bar"
           }
          ],
          "barpolar": [
           {
            "marker": {
             "line": {
              "color": "#E5ECF6",
              "width": 0.5
             },
             "pattern": {
              "fillmode": "overlay",
              "size": 10,
              "solidity": 0.2
             }
            },
            "type": "barpolar"
           }
          ],
          "carpet": [
           {
            "aaxis": {
             "endlinecolor": "#2a3f5f",
             "gridcolor": "white",
             "linecolor": "white",
             "minorgridcolor": "white",
             "startlinecolor": "#2a3f5f"
            },
            "baxis": {
             "endlinecolor": "#2a3f5f",
             "gridcolor": "white",
             "linecolor": "white",
             "minorgridcolor": "white",
             "startlinecolor": "#2a3f5f"
            },
            "type": "carpet"
           }
          ],
          "choropleth": [
           {
            "colorbar": {
             "outlinewidth": 0,
             "ticks": ""
            },
            "type": "choropleth"
           }
          ],
          "contour": [
           {
            "colorbar": {
             "outlinewidth": 0,
             "ticks": ""
            },
            "colorscale": [
             [
              0,
              "#0d0887"
             ],
             [
              0.1111111111111111,
              "#46039f"
             ],
             [
              0.2222222222222222,
              "#7201a8"
             ],
             [
              0.3333333333333333,
              "#9c179e"
             ],
             [
              0.4444444444444444,
              "#bd3786"
             ],
             [
              0.5555555555555556,
              "#d8576b"
             ],
             [
              0.6666666666666666,
              "#ed7953"
             ],
             [
              0.7777777777777778,
              "#fb9f3a"
             ],
             [
              0.8888888888888888,
              "#fdca26"
             ],
             [
              1,
              "#f0f921"
             ]
            ],
            "type": "contour"
           }
          ],
          "contourcarpet": [
           {
            "colorbar": {
             "outlinewidth": 0,
             "ticks": ""
            },
            "type": "contourcarpet"
           }
          ],
          "heatmap": [
           {
            "colorbar": {
             "outlinewidth": 0,
             "ticks": ""
            },
            "colorscale": [
             [
              0,
              "#0d0887"
             ],
             [
              0.1111111111111111,
              "#46039f"
             ],
             [
              0.2222222222222222,
              "#7201a8"
             ],
             [
              0.3333333333333333,
              "#9c179e"
             ],
             [
              0.4444444444444444,
              "#bd3786"
             ],
             [
              0.5555555555555556,
              "#d8576b"
             ],
             [
              0.6666666666666666,
              "#ed7953"
             ],
             [
              0.7777777777777778,
              "#fb9f3a"
             ],
             [
              0.8888888888888888,
              "#fdca26"
             ],
             [
              1,
              "#f0f921"
             ]
            ],
            "type": "heatmap"
           }
          ],
          "heatmapgl": [
           {
            "colorbar": {
             "outlinewidth": 0,
             "ticks": ""
            },
            "colorscale": [
             [
              0,
              "#0d0887"
             ],
             [
              0.1111111111111111,
              "#46039f"
             ],
             [
              0.2222222222222222,
              "#7201a8"
             ],
             [
              0.3333333333333333,
              "#9c179e"
             ],
             [
              0.4444444444444444,
              "#bd3786"
             ],
             [
              0.5555555555555556,
              "#d8576b"
             ],
             [
              0.6666666666666666,
              "#ed7953"
             ],
             [
              0.7777777777777778,
              "#fb9f3a"
             ],
             [
              0.8888888888888888,
              "#fdca26"
             ],
             [
              1,
              "#f0f921"
             ]
            ],
            "type": "heatmapgl"
           }
          ],
          "histogram": [
           {
            "marker": {
             "pattern": {
              "fillmode": "overlay",
              "size": 10,
              "solidity": 0.2
             }
            },
            "type": "histogram"
           }
          ],
          "histogram2d": [
           {
            "colorbar": {
             "outlinewidth": 0,
             "ticks": ""
            },
            "colorscale": [
             [
              0,
              "#0d0887"
             ],
             [
              0.1111111111111111,
              "#46039f"
             ],
             [
              0.2222222222222222,
              "#7201a8"
             ],
             [
              0.3333333333333333,
              "#9c179e"
             ],
             [
              0.4444444444444444,
              "#bd3786"
             ],
             [
              0.5555555555555556,
              "#d8576b"
             ],
             [
              0.6666666666666666,
              "#ed7953"
             ],
             [
              0.7777777777777778,
              "#fb9f3a"
             ],
             [
              0.8888888888888888,
              "#fdca26"
             ],
             [
              1,
              "#f0f921"
             ]
            ],
            "type": "histogram2d"
           }
          ],
          "histogram2dcontour": [
           {
            "colorbar": {
             "outlinewidth": 0,
             "ticks": ""
            },
            "colorscale": [
             [
              0,
              "#0d0887"
             ],
             [
              0.1111111111111111,
              "#46039f"
             ],
             [
              0.2222222222222222,
              "#7201a8"
             ],
             [
              0.3333333333333333,
              "#9c179e"
             ],
             [
              0.4444444444444444,
              "#bd3786"
             ],
             [
              0.5555555555555556,
              "#d8576b"
             ],
             [
              0.6666666666666666,
              "#ed7953"
             ],
             [
              0.7777777777777778,
              "#fb9f3a"
             ],
             [
              0.8888888888888888,
              "#fdca26"
             ],
             [
              1,
              "#f0f921"
             ]
            ],
            "type": "histogram2dcontour"
           }
          ],
          "mesh3d": [
           {
            "colorbar": {
             "outlinewidth": 0,
             "ticks": ""
            },
            "type": "mesh3d"
           }
          ],
          "parcoords": [
           {
            "line": {
             "colorbar": {
              "outlinewidth": 0,
              "ticks": ""
             }
            },
            "type": "parcoords"
           }
          ],
          "pie": [
           {
            "automargin": true,
            "type": "pie"
           }
          ],
          "scatter": [
           {
            "fillpattern": {
             "fillmode": "overlay",
             "size": 10,
             "solidity": 0.2
            },
            "type": "scatter"
           }
          ],
          "scatter3d": [
           {
            "line": {
             "colorbar": {
              "outlinewidth": 0,
              "ticks": ""
             }
            },
            "marker": {
             "colorbar": {
              "outlinewidth": 0,
              "ticks": ""
             }
            },
            "type": "scatter3d"
           }
          ],
          "scattercarpet": [
           {
            "marker": {
             "colorbar": {
              "outlinewidth": 0,
              "ticks": ""
             }
            },
            "type": "scattercarpet"
           }
          ],
          "scattergeo": [
           {
            "marker": {
             "colorbar": {
              "outlinewidth": 0,
              "ticks": ""
             }
            },
            "type": "scattergeo"
           }
          ],
          "scattergl": [
           {
            "marker": {
             "colorbar": {
              "outlinewidth": 0,
              "ticks": ""
             }
            },
            "type": "scattergl"
           }
          ],
          "scattermapbox": [
           {
            "marker": {
             "colorbar": {
              "outlinewidth": 0,
              "ticks": ""
             }
            },
            "type": "scattermapbox"
           }
          ],
          "scatterpolar": [
           {
            "marker": {
             "colorbar": {
              "outlinewidth": 0,
              "ticks": ""
             }
            },
            "type": "scatterpolar"
           }
          ],
          "scatterpolargl": [
           {
            "marker": {
             "colorbar": {
              "outlinewidth": 0,
              "ticks": ""
             }
            },
            "type": "scatterpolargl"
           }
          ],
          "scatterternary": [
           {
            "marker": {
             "colorbar": {
              "outlinewidth": 0,
              "ticks": ""
             }
            },
            "type": "scatterternary"
           }
          ],
          "surface": [
           {
            "colorbar": {
             "outlinewidth": 0,
             "ticks": ""
            },
            "colorscale": [
             [
              0,
              "#0d0887"
             ],
             [
              0.1111111111111111,
              "#46039f"
             ],
             [
              0.2222222222222222,
              "#7201a8"
             ],
             [
              0.3333333333333333,
              "#9c179e"
             ],
             [
              0.4444444444444444,
              "#bd3786"
             ],
             [
              0.5555555555555556,
              "#d8576b"
             ],
             [
              0.6666666666666666,
              "#ed7953"
             ],
             [
              0.7777777777777778,
              "#fb9f3a"
             ],
             [
              0.8888888888888888,
              "#fdca26"
             ],
             [
              1,
              "#f0f921"
             ]
            ],
            "type": "surface"
           }
          ],
          "table": [
           {
            "cells": {
             "fill": {
              "color": "#EBF0F8"
             },
             "line": {
              "color": "white"
             }
            },
            "header": {
             "fill": {
              "color": "#C8D4E3"
             },
             "line": {
              "color": "white"
             }
            },
            "type": "table"
           }
          ]
         },
         "layout": {
          "annotationdefaults": {
           "arrowcolor": "#2a3f5f",
           "arrowhead": 0,
           "arrowwidth": 1
          },
          "autotypenumbers": "strict",
          "coloraxis": {
           "colorbar": {
            "outlinewidth": 0,
            "ticks": ""
           }
          },
          "colorscale": {
           "diverging": [
            [
             0,
             "#8e0152"
            ],
            [
             0.1,
             "#c51b7d"
            ],
            [
             0.2,
             "#de77ae"
            ],
            [
             0.3,
             "#f1b6da"
            ],
            [
             0.4,
             "#fde0ef"
            ],
            [
             0.5,
             "#f7f7f7"
            ],
            [
             0.6,
             "#e6f5d0"
            ],
            [
             0.7,
             "#b8e186"
            ],
            [
             0.8,
             "#7fbc41"
            ],
            [
             0.9,
             "#4d9221"
            ],
            [
             1,
             "#276419"
            ]
           ],
           "sequential": [
            [
             0,
             "#0d0887"
            ],
            [
             0.1111111111111111,
             "#46039f"
            ],
            [
             0.2222222222222222,
             "#7201a8"
            ],
            [
             0.3333333333333333,
             "#9c179e"
            ],
            [
             0.4444444444444444,
             "#bd3786"
            ],
            [
             0.5555555555555556,
             "#d8576b"
            ],
            [
             0.6666666666666666,
             "#ed7953"
            ],
            [
             0.7777777777777778,
             "#fb9f3a"
            ],
            [
             0.8888888888888888,
             "#fdca26"
            ],
            [
             1,
             "#f0f921"
            ]
           ],
           "sequentialminus": [
            [
             0,
             "#0d0887"
            ],
            [
             0.1111111111111111,
             "#46039f"
            ],
            [
             0.2222222222222222,
             "#7201a8"
            ],
            [
             0.3333333333333333,
             "#9c179e"
            ],
            [
             0.4444444444444444,
             "#bd3786"
            ],
            [
             0.5555555555555556,
             "#d8576b"
            ],
            [
             0.6666666666666666,
             "#ed7953"
            ],
            [
             0.7777777777777778,
             "#fb9f3a"
            ],
            [
             0.8888888888888888,
             "#fdca26"
            ],
            [
             1,
             "#f0f921"
            ]
           ]
          },
          "colorway": [
           "#636efa",
           "#EF553B",
           "#00cc96",
           "#ab63fa",
           "#FFA15A",
           "#19d3f3",
           "#FF6692",
           "#B6E880",
           "#FF97FF",
           "#FECB52"
          ],
          "font": {
           "color": "#2a3f5f"
          },
          "geo": {
           "bgcolor": "white",
           "lakecolor": "white",
           "landcolor": "#E5ECF6",
           "showlakes": true,
           "showland": true,
           "subunitcolor": "white"
          },
          "hoverlabel": {
           "align": "left"
          },
          "hovermode": "closest",
          "mapbox": {
           "style": "light"
          },
          "paper_bgcolor": "white",
          "plot_bgcolor": "#E5ECF6",
          "polar": {
           "angularaxis": {
            "gridcolor": "white",
            "linecolor": "white",
            "ticks": ""
           },
           "bgcolor": "#E5ECF6",
           "radialaxis": {
            "gridcolor": "white",
            "linecolor": "white",
            "ticks": ""
           }
          },
          "scene": {
           "xaxis": {
            "backgroundcolor": "#E5ECF6",
            "gridcolor": "white",
            "gridwidth": 2,
            "linecolor": "white",
            "showbackground": true,
            "ticks": "",
            "zerolinecolor": "white"
           },
           "yaxis": {
            "backgroundcolor": "#E5ECF6",
            "gridcolor": "white",
            "gridwidth": 2,
            "linecolor": "white",
            "showbackground": true,
            "ticks": "",
            "zerolinecolor": "white"
           },
           "zaxis": {
            "backgroundcolor": "#E5ECF6",
            "gridcolor": "white",
            "gridwidth": 2,
            "linecolor": "white",
            "showbackground": true,
            "ticks": "",
            "zerolinecolor": "white"
           }
          },
          "shapedefaults": {
           "line": {
            "color": "#2a3f5f"
           }
          },
          "ternary": {
           "aaxis": {
            "gridcolor": "white",
            "linecolor": "white",
            "ticks": ""
           },
           "baxis": {
            "gridcolor": "white",
            "linecolor": "white",
            "ticks": ""
           },
           "bgcolor": "#E5ECF6",
           "caxis": {
            "gridcolor": "white",
            "linecolor": "white",
            "ticks": ""
           }
          },
          "title": {
           "x": 0.05
          },
          "xaxis": {
           "automargin": true,
           "gridcolor": "white",
           "linecolor": "white",
           "ticks": "",
           "title": {
            "standoff": 15
           },
           "zerolinecolor": "white",
           "zerolinewidth": 2
          },
          "yaxis": {
           "automargin": true,
           "gridcolor": "white",
           "linecolor": "white",
           "ticks": "",
           "title": {
            "standoff": 15
           },
           "zerolinecolor": "white",
           "zerolinewidth": 2
          }
         }
        }
       }
      }
     },
     "metadata": {},
     "output_type": "display_data"
    }
   ],
   "source": [
    "import plotly.express as px\n",
    "fig = px.choropleth(corr_gdp[corr_gdp['Year']==2015], locations=\"Country Code\", color='gdp_country', hover_name='Country Code', projection='natural earth')\n",
    "fig.show()"
   ]
  },
  {
   "cell_type": "code",
   "execution_count": null,
   "metadata": {},
   "outputs": [
    {
     "ename": "ValueError",
     "evalue": "Unknown label type: 'continuous'",
     "output_type": "error",
     "traceback": [
      "\u001b[0;31m---------------------------------------------------------------------------\u001b[0m",
      "\u001b[0;31mValueError\u001b[0m                                Traceback (most recent call last)",
      "\u001b[0;32m/var/folders/3s/6h63ktl15h541pj1y1mgy8vw0000gn/T/ipykernel_54309/1581375796.py\u001b[0m in \u001b[0;36m<module>\u001b[0;34m\u001b[0m\n\u001b[1;32m      6\u001b[0m \u001b[0;34m\u001b[0m\u001b[0m\n\u001b[1;32m      7\u001b[0m \u001b[0;31m# Train the classifier on the training data\u001b[0m\u001b[0;34m\u001b[0m\u001b[0;34m\u001b[0m\u001b[0m\n\u001b[0;32m----> 8\u001b[0;31m \u001b[0mclf\u001b[0m\u001b[0;34m.\u001b[0m\u001b[0mfit\u001b[0m\u001b[0;34m(\u001b[0m\u001b[0mX_train_imputed\u001b[0m\u001b[0;34m,\u001b[0m \u001b[0my_train\u001b[0m\u001b[0;34m)\u001b[0m\u001b[0;34m\u001b[0m\u001b[0;34m\u001b[0m\u001b[0m\n\u001b[0m\u001b[1;32m      9\u001b[0m \u001b[0;34m\u001b[0m\u001b[0m\n\u001b[1;32m     10\u001b[0m \u001b[0;31m# Make predictions on the test data\u001b[0m\u001b[0;34m\u001b[0m\u001b[0;34m\u001b[0m\u001b[0m\n",
      "\u001b[0;32m~/opt/anaconda3/lib/python3.9/site-packages/sklearn/svm/_base.py\u001b[0m in \u001b[0;36mfit\u001b[0;34m(self, X, y, sample_weight)\u001b[0m\n\u001b[1;32m    171\u001b[0m                                        accept_large_sparse=False)\n\u001b[1;32m    172\u001b[0m \u001b[0;34m\u001b[0m\u001b[0m\n\u001b[0;32m--> 173\u001b[0;31m         \u001b[0my\u001b[0m \u001b[0;34m=\u001b[0m \u001b[0mself\u001b[0m\u001b[0;34m.\u001b[0m\u001b[0m_validate_targets\u001b[0m\u001b[0;34m(\u001b[0m\u001b[0my\u001b[0m\u001b[0;34m)\u001b[0m\u001b[0;34m\u001b[0m\u001b[0;34m\u001b[0m\u001b[0m\n\u001b[0m\u001b[1;32m    174\u001b[0m \u001b[0;34m\u001b[0m\u001b[0m\n\u001b[1;32m    175\u001b[0m         sample_weight = np.asarray([]\n",
      "\u001b[0;32m~/opt/anaconda3/lib/python3.9/site-packages/sklearn/svm/_base.py\u001b[0m in \u001b[0;36m_validate_targets\u001b[0;34m(self, y)\u001b[0m\n\u001b[1;32m    551\u001b[0m     \u001b[0;32mdef\u001b[0m \u001b[0m_validate_targets\u001b[0m\u001b[0;34m(\u001b[0m\u001b[0mself\u001b[0m\u001b[0;34m,\u001b[0m \u001b[0my\u001b[0m\u001b[0;34m)\u001b[0m\u001b[0;34m:\u001b[0m\u001b[0;34m\u001b[0m\u001b[0;34m\u001b[0m\u001b[0m\n\u001b[1;32m    552\u001b[0m         \u001b[0my_\u001b[0m \u001b[0;34m=\u001b[0m \u001b[0mcolumn_or_1d\u001b[0m\u001b[0;34m(\u001b[0m\u001b[0my\u001b[0m\u001b[0;34m,\u001b[0m \u001b[0mwarn\u001b[0m\u001b[0;34m=\u001b[0m\u001b[0;32mTrue\u001b[0m\u001b[0;34m)\u001b[0m\u001b[0;34m\u001b[0m\u001b[0;34m\u001b[0m\u001b[0m\n\u001b[0;32m--> 553\u001b[0;31m         \u001b[0mcheck_classification_targets\u001b[0m\u001b[0;34m(\u001b[0m\u001b[0my\u001b[0m\u001b[0;34m)\u001b[0m\u001b[0;34m\u001b[0m\u001b[0;34m\u001b[0m\u001b[0m\n\u001b[0m\u001b[1;32m    554\u001b[0m         \u001b[0mcls\u001b[0m\u001b[0;34m,\u001b[0m \u001b[0my\u001b[0m \u001b[0;34m=\u001b[0m \u001b[0mnp\u001b[0m\u001b[0;34m.\u001b[0m\u001b[0munique\u001b[0m\u001b[0;34m(\u001b[0m\u001b[0my_\u001b[0m\u001b[0;34m,\u001b[0m \u001b[0mreturn_inverse\u001b[0m\u001b[0;34m=\u001b[0m\u001b[0;32mTrue\u001b[0m\u001b[0;34m)\u001b[0m\u001b[0;34m\u001b[0m\u001b[0;34m\u001b[0m\u001b[0m\n\u001b[1;32m    555\u001b[0m         self.class_weight_ = compute_class_weight(self.class_weight,\n",
      "\u001b[0;32m~/opt/anaconda3/lib/python3.9/site-packages/sklearn/utils/multiclass.py\u001b[0m in \u001b[0;36mcheck_classification_targets\u001b[0;34m(y)\u001b[0m\n\u001b[1;32m    181\u001b[0m     if y_type not in ['binary', 'multiclass', 'multiclass-multioutput',\n\u001b[1;32m    182\u001b[0m                       'multilabel-indicator', 'multilabel-sequences']:\n\u001b[0;32m--> 183\u001b[0;31m         \u001b[0;32mraise\u001b[0m \u001b[0mValueError\u001b[0m\u001b[0;34m(\u001b[0m\u001b[0;34m\"Unknown label type: %r\"\u001b[0m \u001b[0;34m%\u001b[0m \u001b[0my_type\u001b[0m\u001b[0;34m)\u001b[0m\u001b[0;34m\u001b[0m\u001b[0;34m\u001b[0m\u001b[0m\n\u001b[0m\u001b[1;32m    184\u001b[0m \u001b[0;34m\u001b[0m\u001b[0m\n\u001b[1;32m    185\u001b[0m \u001b[0;34m\u001b[0m\u001b[0m\n",
      "\u001b[0;31mValueError\u001b[0m: Unknown label type: 'continuous'"
     ]
    }
   ],
   "source": [
    "from sklearn.svm import SVC\n",
    "from sklearn.metrics import accuracy_score\n",
    "\n",
    "# Create an SVM classifier with a linear kernel\n",
    "clf = SVC(kernel='linear')\n",
    "\n",
    "# Train the classifier on the training data\n",
    "clf.fit(X_train_imputed, y_train)\n",
    "\n",
    "# Make predictions on the test data\n",
    "y_pred = clf.predict(X_test)\n",
    "\n",
    "# Calculate the accuracy of the classifier\n",
    "accuracy = accuracy_score(y_test, y_pred)\n",
    "\n",
    "# Print the accuracy\n",
    "print(f\"Accuracy: {accuracy:.3f}\")"
   ]
  },
  {
   "cell_type": "code",
   "execution_count": null,
   "metadata": {},
   "outputs": [],
   "source": [
    "from sklearn.linear_model import LinearRegression\n",
    "from sklearn.model_selection import train_test_split\n",
    "\n",
    "# Identify the indicators with high correlation with GDP\n",
    "corr_75th_percentile = np.percentile(abs(sort_melted['Correlation']), 75)\n",
    "high_corr_features = sort_melted[abs(sort_melted['Correlation']) > corr_75th_percentile]['Indicator Code']"
   ]
  },
  {
   "cell_type": "code",
   "execution_count": null,
   "metadata": {},
   "outputs": [
    {
     "ename": "ImportError",
     "evalue": "cannot import name 'HistGradientBoostingRegressor' from 'sklearn.ensemble' (/Users/aashvimanakiwala/opt/anaconda3/lib/python3.9/site-packages/sklearn/ensemble/__init__.py)",
     "output_type": "error",
     "traceback": [
      "\u001b[0;31m---------------------------------------------------------------------------\u001b[0m",
      "\u001b[0;31mImportError\u001b[0m                               Traceback (most recent call last)",
      "\u001b[0;32m/var/folders/3s/6h63ktl15h541pj1y1mgy8vw0000gn/T/ipykernel_54309/1776287189.py\u001b[0m in \u001b[0;36m<module>\u001b[0;34m\u001b[0m\n\u001b[0;32m----> 1\u001b[0;31m \u001b[0;32mfrom\u001b[0m \u001b[0msklearn\u001b[0m\u001b[0;34m.\u001b[0m\u001b[0mensemble\u001b[0m \u001b[0;32mimport\u001b[0m \u001b[0mHistGradientBoostingRegressor\u001b[0m\u001b[0;34m\u001b[0m\u001b[0;34m\u001b[0m\u001b[0m\n\u001b[0m\u001b[1;32m      2\u001b[0m \u001b[0;32mfrom\u001b[0m \u001b[0msklearn\u001b[0m\u001b[0;34m.\u001b[0m\u001b[0mmodel_selection\u001b[0m \u001b[0;32mimport\u001b[0m \u001b[0mtrain_test_split\u001b[0m\u001b[0;34m\u001b[0m\u001b[0;34m\u001b[0m\u001b[0m\n\u001b[1;32m      3\u001b[0m \u001b[0;32mfrom\u001b[0m \u001b[0msklearn\u001b[0m\u001b[0;34m.\u001b[0m\u001b[0mimpute\u001b[0m \u001b[0;32mimport\u001b[0m \u001b[0mSimpleImputer\u001b[0m\u001b[0;34m\u001b[0m\u001b[0;34m\u001b[0m\u001b[0m\n\u001b[1;32m      4\u001b[0m \u001b[0;34m\u001b[0m\u001b[0m\n\u001b[1;32m      5\u001b[0m \u001b[0;31m# Split the data into training and testing sets\u001b[0m\u001b[0;34m\u001b[0m\u001b[0;34m\u001b[0m\u001b[0m\n",
      "\u001b[0;31mImportError\u001b[0m: cannot import name 'HistGradientBoostingRegressor' from 'sklearn.ensemble' (/Users/aashvimanakiwala/opt/anaconda3/lib/python3.9/site-packages/sklearn/ensemble/__init__.py)"
     ]
    }
   ],
   "source": [
    "from sklearn.ensemble import HistGradientBoostingRegressor\n",
    "from sklearn.model_selection import train_test_split\n",
    "from sklearn.impute import SimpleImputer\n",
    "\n",
    "# Split the data into training and testing sets\n",
    "X_train, X_test, y_train, y_test = train_test_split(corr_gdp.drop('gdp_country', axis=1), corr_gdp['gdp_country'], test_size=0.2, random_state=42)\n",
    "\n",
    "# Impute missing values in the training and testing data\n",
    "imputer = SimpleImputer()\n",
    "X_train_imputed = imputer.fit_transform(X_train)\n",
    "X_test_imputed = imputer.transform(X_test)\n",
    "\n",
    "# Define the HistGradientBoostingRegressor model\n",
    "model = HistGradientBoostingRegressor()\n",
    "\n",
    "# Train the model using the imputed training data\n",
    "model.fit(X_train_imputed, y_train)\n",
    "\n",
    "# Evaluate the performance of the model on the imputed testing data\n",
    "score = model.score(X_test_imputed, y_test)\n",
    "print(\"R-squared:\", score)\n"
   ]
  },
  {
   "cell_type": "code",
   "execution_count": null,
   "metadata": {},
   "outputs": [
    {
     "data": {
      "image/png": "[encoded data removed]",
      "text/plain": [
       "<Figure size 640x480 with 1 Axes>"
      ]
     },
     "metadata": {},
     "output_type": "display_data"
    }
   ],
   "source": [
    "import matplotlib.pyplot as plt\n",
    "import seaborn as sns\n",
    "\n",
    "# Predict GDP using the trained model on the testing data\n",
    "y_pred = model.predict(X_test_imputed)\n",
    "\n",
    "# Create a scatter plot of actual vs predicted GDP values\n",
    "sns.scatterplot(x=y_test, y=y_pred)\n",
    "plt.xlabel('Actual GDP')\n",
    "plt.ylabel('Predicted GDP')\n",
    "plt.title('Actual vs Predicted GDP')\n",
    "plt.show()"
   ]
  },
  {
   "cell_type": "markdown",
   "metadata": {},
   "source": [
    "## Random Forest Regressor"
   ]
  },
  {
   "cell_type": "markdown",
   "metadata": {},
   "source": [
    "## Clustering\n",
    "\n",
    "Our last approach will be to use clustering to classify what bracket of GDP a country falls in. While this will not give an accurate GDP like the prediction models above, this fits the purpose of our project, which is to predict the welfare of a nation based on its socioeconomic and cultural metrics. It suffices to group certain ranges of GDPs and predict what group a particular country falls under"
   ]
  },
  {
   "cell_type": "code",
   "execution_count": null,
   "metadata": {},
   "outputs": [],
   "source": [
    "from sklearn.decomposition import PCA\n",
    "from sklearn.preprocessing import StandardScaler"
   ]
  },
  {
   "cell_type": "code",
   "execution_count": null,
   "metadata": {},
   "outputs": [],
   "source": [
    "# Extract the features we want to include in the PCA\n",
    "X = melt_nutr_df[['Year', 'Value']]"
   ]
  },
  {
   "cell_type": "code",
   "execution_count": null,
   "metadata": {},
   "outputs": [
    {
     "name": "stdout",
     "output_type": "stream",
     "text": [
      "[0.51810576 0.48189424]\n"
     ]
    }
   ],
   "source": [
    "# Standardize the features by subtracting the mean and scaling to unit variance\n",
    "scaler = StandardScaler()\n",
    "X_std = scaler.fit_transform(X)\n",
    "\n",
    "# Create a PCA object with 2 components\n",
    "pca = PCA(n_components=2)\n",
    "\n",
    "# Fit the PCA model to the standardized data\n",
    "pca.fit(X_std)\n",
    "\n",
    "# Transform the data to the new coordinate system\n",
    "X_pca = pca.transform(X_std)\n",
    "\n",
    "# Create a new DataFrame with the transformed data and the country labels\n",
    "df_pca = pd.DataFrame(X_pca, columns=['PC1', 'PC2'])\n",
    "df_pca['Country'] = melt_nutr_df['Country Name']\n",
    "\n",
    "# Print the explained variance of each principal component\n",
    "print(pca.explained_variance_ratio_)"
   ]
  },
  {
   "cell_type": "code",
   "execution_count": null,
   "metadata": {},
   "outputs": [],
   "source": [
    "import seaborn as sns\n",
    "import matplotlib.pyplot as plt"
   ]
  },
  {
   "cell_type": "code",
   "execution_count": null,
   "metadata": {},
   "outputs": [
    {
     "data": {
      "text/html": [
       "<div>\n",
       "<style scoped>\n",
       "    .dataframe tbody tr th:only-of-type {\n",
       "        vertical-align: middle;\n",
       "    }\n",
       "\n",
       "    .dataframe tbody tr th {\n",
       "        vertical-align: top;\n",
       "    }\n",
       "\n",
       "    .dataframe thead th {\n",
       "        text-align: right;\n",
       "    }\n",
       "</style>\n",
       "<table border=\"1\" class=\"dataframe\">\n",
       "  <thead>\n",
       "    <tr style=\"text-align: right;\">\n",
       "      <th></th>\n",
       "      <th>Indicator Name</th>\n",
       "      <th>Country Name</th>\n",
       "      <th>Value</th>\n",
       "    </tr>\n",
       "  </thead>\n",
       "  <tbody>\n",
       "    <tr>\n",
       "      <th>0</th>\n",
       "      <td>% of females ages 15-49 having comprehensive c...</td>\n",
       "      <td>Afghanistan</td>\n",
       "      <td>1.500000</td>\n",
       "    </tr>\n",
       "    <tr>\n",
       "      <th>1</th>\n",
       "      <td>% of females ages 15-49 having comprehensive c...</td>\n",
       "      <td>Albania</td>\n",
       "      <td>11.333333</td>\n",
       "    </tr>\n",
       "    <tr>\n",
       "      <th>2</th>\n",
       "      <td>% of females ages 15-49 having comprehensive c...</td>\n",
       "      <td>Algeria</td>\n",
       "      <td>10.700000</td>\n",
       "    </tr>\n",
       "    <tr>\n",
       "      <th>3</th>\n",
       "      <td>% of females ages 15-49 having comprehensive c...</td>\n",
       "      <td>Argentina</td>\n",
       "      <td>45.300000</td>\n",
       "    </tr>\n",
       "    <tr>\n",
       "      <th>4</th>\n",
       "      <td>% of females ages 15-49 having comprehensive c...</td>\n",
       "      <td>Armenia</td>\n",
       "      <td>19.033333</td>\n",
       "    </tr>\n",
       "    <tr>\n",
       "      <th>...</th>\n",
       "      <td>...</td>\n",
       "      <td>...</td>\n",
       "      <td>...</td>\n",
       "    </tr>\n",
       "    <tr>\n",
       "      <th>41798</th>\n",
       "      <td>Women's share of population ages 15+ living wi...</td>\n",
       "      <td>Vietnam</td>\n",
       "      <td>19.073451</td>\n",
       "    </tr>\n",
       "    <tr>\n",
       "      <th>41799</th>\n",
       "      <td>Women's share of population ages 15+ living wi...</td>\n",
       "      <td>World</td>\n",
       "      <td>49.354686</td>\n",
       "    </tr>\n",
       "    <tr>\n",
       "      <th>41800</th>\n",
       "      <td>Women's share of population ages 15+ living wi...</td>\n",
       "      <td>Yemen, Rep.</td>\n",
       "      <td>32.095671</td>\n",
       "    </tr>\n",
       "    <tr>\n",
       "      <th>41801</th>\n",
       "      <td>Women's share of population ages 15+ living wi...</td>\n",
       "      <td>Zambia</td>\n",
       "      <td>56.782600</td>\n",
       "    </tr>\n",
       "    <tr>\n",
       "      <th>41802</th>\n",
       "      <td>Women's share of population ages 15+ living wi...</td>\n",
       "      <td>Zimbabwe</td>\n",
       "      <td>57.110083</td>\n",
       "    </tr>\n",
       "  </tbody>\n",
       "</table>\n",
       "<p>41803 rows × 3 columns</p>\n",
       "</div>"
      ],
      "text/plain": [
       "                                          Indicator Name Country Name  \\\n",
       "0      % of females ages 15-49 having comprehensive c...  Afghanistan   \n",
       "1      % of females ages 15-49 having comprehensive c...      Albania   \n",
       "2      % of females ages 15-49 having comprehensive c...      Algeria   \n",
       "3      % of females ages 15-49 having comprehensive c...    Argentina   \n",
       "4      % of females ages 15-49 having comprehensive c...      Armenia   \n",
       "...                                                  ...          ...   \n",
       "41798  Women's share of population ages 15+ living wi...      Vietnam   \n",
       "41799  Women's share of population ages 15+ living wi...        World   \n",
       "41800  Women's share of population ages 15+ living wi...  Yemen, Rep.   \n",
       "41801  Women's share of population ages 15+ living wi...       Zambia   \n",
       "41802  Women's share of population ages 15+ living wi...     Zimbabwe   \n",
       "\n",
       "           Value  \n",
       "0       1.500000  \n",
       "1      11.333333  \n",
       "2      10.700000  \n",
       "3      45.300000  \n",
       "4      19.033333  \n",
       "...          ...  \n",
       "41798  19.073451  \n",
       "41799  49.354686  \n",
       "41800  32.095671  \n",
       "41801  56.782600  \n",
       "41802  57.110083  \n",
       "\n",
       "[41803 rows x 3 columns]"
      ]
     },
     "execution_count": 134,
     "metadata": {},
     "output_type": "execute_result"
    }
   ],
   "source": [
    "# Aggregate the values for duplicate entries\n",
    "melt_nutr_df_avg = melt_nutr_df.groupby(['Indicator Name', 'Country Name'])['Value'].mean().reset_index()\n",
    "melt_nutr_df_avg"
   ]
  }
 ],
 "metadata": {
  "interpreter": {
   "hash": "a76aa15ad5f66d07f8fa7b36d7189cac16456af6103f36d68dbd7eed65094372"
  },
  "kernelspec": {
   "display_name": "Python 3.9.7",
   "language": "python",
   "name": "python3"
  },
  "language_info": {
   "codemirror_mode": {
    "name": "ipython",
    "version": 3
   },
   "file_extension": ".py",
   "mimetype": "text/x-python",
   "name": "python",
   "nbconvert_exporter": "python",
   "pygments_lexer": "ipython3",
   "version": "3.9.7"
  },
  "orig_nbformat": 4,
  "vscode": {
   "interpreter": {
    "hash": "7e1998ff7f8aa20ada591c520b972326324e5ea05489af9e422744c7c09f6dad"
   }
  }
 },
 "nbformat": 4,
 "nbformat_minor": 2
}

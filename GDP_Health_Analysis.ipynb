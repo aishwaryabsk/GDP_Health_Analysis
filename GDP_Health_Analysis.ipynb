{
 "cells": [
  {
   "attachments": {},
   "cell_type": "markdown",
   "metadata": {},
   "source": [
    "# Relationship between health population and nutrition statistics of a country and its GDP"
   ]
  },
  {
   "cell_type": "markdown",
   "metadata": {},
   "source": [
    "## Data Exploration and Cleaning"
   ]
  },
  {
   "cell_type": "code",
   "execution_count": 4,
   "metadata": {},
   "outputs": [],
   "source": [
    "import pandas as pd\n",
    "\n",
    "# Read CSV file with low_memory=False\n",
    "nutr_df = pd.read_csv(\"../data.csv\", low_memory=False)"
   ]
  },
  {
   "cell_type": "code",
   "execution_count": 6,
   "metadata": {},
   "outputs": [
    {
     "data": {
      "text/plain": [
       "Country Name       object\n",
       "Country Code       object\n",
       "Indicator Name     object\n",
       "Indicator Code     object\n",
       "1960              float64\n",
       "                   ...   \n",
       "2012              float64\n",
       "2013              float64\n",
       "2014              float64\n",
       "2015              float64\n",
       "Unnamed: 60       float64\n",
       "Length: 61, dtype: object"
      ]
     },
     "execution_count": 6,
     "metadata": {},
     "output_type": "execute_result"
    }
   ],
   "source": [
    "nutr_df.dtypes"
   ]
  },
  {
   "cell_type": "code",
   "execution_count": 30,
   "metadata": {},
   "outputs": [
    {
     "data": {
      "text/html": [
       "<div>\n",
       "<style scoped>\n",
       "    .dataframe tbody tr th:only-of-type {\n",
       "        vertical-align: middle;\n",
       "    }\n",
       "\n",
       "    .dataframe tbody tr th {\n",
       "        vertical-align: top;\n",
       "    }\n",
       "\n",
       "    .dataframe thead th {\n",
       "        text-align: right;\n",
       "    }\n",
       "</style>\n",
       "<table border=\"1\" class=\"dataframe\">\n",
       "  <thead>\n",
       "    <tr style=\"text-align: right;\">\n",
       "      <th></th>\n",
       "      <th>Country Name</th>\n",
       "      <th>Country Code</th>\n",
       "      <th>Indicator Name</th>\n",
       "      <th>Indicator Code</th>\n",
       "      <th>1960</th>\n",
       "      <th>1961</th>\n",
       "      <th>1962</th>\n",
       "      <th>1963</th>\n",
       "      <th>1964</th>\n",
       "      <th>1965</th>\n",
       "      <th>...</th>\n",
       "      <th>2007</th>\n",
       "      <th>2008</th>\n",
       "      <th>2009</th>\n",
       "      <th>2010</th>\n",
       "      <th>2011</th>\n",
       "      <th>2012</th>\n",
       "      <th>2013</th>\n",
       "      <th>2014</th>\n",
       "      <th>2015</th>\n",
       "      <th>Unnamed: 60</th>\n",
       "    </tr>\n",
       "  </thead>\n",
       "  <tbody>\n",
       "    <tr>\n",
       "      <th>0</th>\n",
       "      <td>Arab World</td>\n",
       "      <td>ARB</td>\n",
       "      <td>% of females ages 15-49 having comprehensive c...</td>\n",
       "      <td>SH.HIV.KNOW.FE.ZS</td>\n",
       "      <td>NaN</td>\n",
       "      <td>NaN</td>\n",
       "      <td>NaN</td>\n",
       "      <td>NaN</td>\n",
       "      <td>NaN</td>\n",
       "      <td>NaN</td>\n",
       "      <td>...</td>\n",
       "      <td>NaN</td>\n",
       "      <td>NaN</td>\n",
       "      <td>NaN</td>\n",
       "      <td>NaN</td>\n",
       "      <td>NaN</td>\n",
       "      <td>NaN</td>\n",
       "      <td>NaN</td>\n",
       "      <td>NaN</td>\n",
       "      <td>NaN</td>\n",
       "      <td>NaN</td>\n",
       "    </tr>\n",
       "    <tr>\n",
       "      <th>1</th>\n",
       "      <td>Arab World</td>\n",
       "      <td>ARB</td>\n",
       "      <td>% of males ages 15-49 having comprehensive cor...</td>\n",
       "      <td>SH.HIV.KNOW.MA.ZS</td>\n",
       "      <td>NaN</td>\n",
       "      <td>NaN</td>\n",
       "      <td>NaN</td>\n",
       "      <td>NaN</td>\n",
       "      <td>NaN</td>\n",
       "      <td>NaN</td>\n",
       "      <td>...</td>\n",
       "      <td>NaN</td>\n",
       "      <td>NaN</td>\n",
       "      <td>NaN</td>\n",
       "      <td>NaN</td>\n",
       "      <td>NaN</td>\n",
       "      <td>NaN</td>\n",
       "      <td>NaN</td>\n",
       "      <td>NaN</td>\n",
       "      <td>NaN</td>\n",
       "      <td>NaN</td>\n",
       "    </tr>\n",
       "    <tr>\n",
       "      <th>2</th>\n",
       "      <td>Arab World</td>\n",
       "      <td>ARB</td>\n",
       "      <td>Adolescent fertility rate (births per 1,000 wo...</td>\n",
       "      <td>SP.ADO.TFRT</td>\n",
       "      <td>133.555013</td>\n",
       "      <td>134.159119</td>\n",
       "      <td>134.857912</td>\n",
       "      <td>134.504576</td>\n",
       "      <td>134.105211</td>\n",
       "      <td>133.569626</td>\n",
       "      <td>...</td>\n",
       "      <td>49.999851</td>\n",
       "      <td>49.887046</td>\n",
       "      <td>49.781207</td>\n",
       "      <td>49.672975</td>\n",
       "      <td>49.536047</td>\n",
       "      <td>49.383745</td>\n",
       "      <td>48.796558</td>\n",
       "      <td>48.196418</td>\n",
       "      <td>NaN</td>\n",
       "      <td>NaN</td>\n",
       "    </tr>\n",
       "    <tr>\n",
       "      <th>3</th>\n",
       "      <td>Arab World</td>\n",
       "      <td>ARB</td>\n",
       "      <td>Adults (ages 15+) and children (0-14 years) li...</td>\n",
       "      <td>SH.HIV.TOTL</td>\n",
       "      <td>NaN</td>\n",
       "      <td>NaN</td>\n",
       "      <td>NaN</td>\n",
       "      <td>NaN</td>\n",
       "      <td>NaN</td>\n",
       "      <td>NaN</td>\n",
       "      <td>...</td>\n",
       "      <td>NaN</td>\n",
       "      <td>NaN</td>\n",
       "      <td>NaN</td>\n",
       "      <td>NaN</td>\n",
       "      <td>NaN</td>\n",
       "      <td>NaN</td>\n",
       "      <td>NaN</td>\n",
       "      <td>NaN</td>\n",
       "      <td>NaN</td>\n",
       "      <td>NaN</td>\n",
       "    </tr>\n",
       "    <tr>\n",
       "      <th>4</th>\n",
       "      <td>Arab World</td>\n",
       "      <td>ARB</td>\n",
       "      <td>Adults (ages 15+) and children (ages 0-14) new...</td>\n",
       "      <td>SH.HIV.INCD.TL</td>\n",
       "      <td>NaN</td>\n",
       "      <td>NaN</td>\n",
       "      <td>NaN</td>\n",
       "      <td>NaN</td>\n",
       "      <td>NaN</td>\n",
       "      <td>NaN</td>\n",
       "      <td>...</td>\n",
       "      <td>NaN</td>\n",
       "      <td>NaN</td>\n",
       "      <td>NaN</td>\n",
       "      <td>NaN</td>\n",
       "      <td>NaN</td>\n",
       "      <td>NaN</td>\n",
       "      <td>NaN</td>\n",
       "      <td>NaN</td>\n",
       "      <td>NaN</td>\n",
       "      <td>NaN</td>\n",
       "    </tr>\n",
       "  </tbody>\n",
       "</table>\n",
       "<p>5 rows × 61 columns</p>\n",
       "</div>"
      ],
      "text/plain": [
       "  Country Name Country Code  \\\n",
       "0   Arab World          ARB   \n",
       "1   Arab World          ARB   \n",
       "2   Arab World          ARB   \n",
       "3   Arab World          ARB   \n",
       "4   Arab World          ARB   \n",
       "\n",
       "                                      Indicator Name     Indicator Code  \\\n",
       "0  % of females ages 15-49 having comprehensive c...  SH.HIV.KNOW.FE.ZS   \n",
       "1  % of males ages 15-49 having comprehensive cor...  SH.HIV.KNOW.MA.ZS   \n",
       "2  Adolescent fertility rate (births per 1,000 wo...        SP.ADO.TFRT   \n",
       "3  Adults (ages 15+) and children (0-14 years) li...        SH.HIV.TOTL   \n",
       "4  Adults (ages 15+) and children (ages 0-14) new...     SH.HIV.INCD.TL   \n",
       "\n",
       "         1960        1961        1962        1963        1964        1965  \\\n",
       "0         NaN         NaN         NaN         NaN         NaN         NaN   \n",
       "1         NaN         NaN         NaN         NaN         NaN         NaN   \n",
       "2  133.555013  134.159119  134.857912  134.504576  134.105211  133.569626   \n",
       "3         NaN         NaN         NaN         NaN         NaN         NaN   \n",
       "4         NaN         NaN         NaN         NaN         NaN         NaN   \n",
       "\n",
       "   ...       2007       2008       2009       2010       2011       2012  \\\n",
       "0  ...        NaN        NaN        NaN        NaN        NaN        NaN   \n",
       "1  ...        NaN        NaN        NaN        NaN        NaN        NaN   \n",
       "2  ...  49.999851  49.887046  49.781207  49.672975  49.536047  49.383745   \n",
       "3  ...        NaN        NaN        NaN        NaN        NaN        NaN   \n",
       "4  ...        NaN        NaN        NaN        NaN        NaN        NaN   \n",
       "\n",
       "        2013       2014  2015  Unnamed: 60  \n",
       "0        NaN        NaN   NaN          NaN  \n",
       "1        NaN        NaN   NaN          NaN  \n",
       "2  48.796558  48.196418   NaN          NaN  \n",
       "3        NaN        NaN   NaN          NaN  \n",
       "4        NaN        NaN   NaN          NaN  \n",
       "\n",
       "[5 rows x 61 columns]"
      ]
     },
     "execution_count": 30,
     "metadata": {},
     "output_type": "execute_result"
    }
   ],
   "source": [
    "nutr_df.head(5)"
   ]
  },
  {
   "cell_type": "code",
   "execution_count": 31,
   "metadata": {},
   "outputs": [
    {
     "name": "stdout",
     "output_type": "stream",
     "text": [
      "Index(['Country Name', 'Country Code', 'Indicator Name', 'Indicator Code',\n",
      "       '1960', '1961', '1962', '1963', '1964', '1965', '1966', '1967', '1968',\n",
      "       '1969', '1970', '1971', '1972', '1973', '1974', '1975', '1976', '1977',\n",
      "       '1978', '1979', '1980', '1981', '1982', '1983', '1984', '1985', '1986',\n",
      "       '1987', '1988', '1989', '1990', '1991', '1992', '1993', '1994', '1995',\n",
      "       '1996', '1997', '1998', '1999', '2000', '2001', '2002', '2003', '2004',\n",
      "       '2005', '2006', '2007', '2008', '2009', '2010', '2011', '2012', '2013',\n",
      "       '2014', '2015', 'Unnamed: 60'],\n",
      "      dtype='object')\n"
     ]
    }
   ],
   "source": [
    "print(nutr_df.columns)"
   ]
  },
  {
   "cell_type": "markdown",
   "metadata": {},
   "source": [
    "### Exploring Null Values"
   ]
  },
  {
   "cell_type": "markdown",
   "metadata": {},
   "source": [
    "The code below demonstrates that all 89010 rows contain null values. Therefore, it clearly does not make sense to drop rows with null values."
   ]
  },
  {
   "cell_type": "code",
   "execution_count": 32,
   "metadata": {},
   "outputs": [
    {
     "data": {
      "text/plain": [
       "89010"
      ]
     },
     "execution_count": 32,
     "metadata": {},
     "output_type": "execute_result"
    }
   ],
   "source": [
    "num_nulls = nutr_df.isna().any(axis=1).sum()\n",
    "num_nulls"
   ]
  },
  {
   "cell_type": "code",
   "execution_count": 14,
   "metadata": {},
   "outputs": [
    {
     "data": {
      "text/plain": [
       "(89010, 61)"
      ]
     },
     "execution_count": 14,
     "metadata": {},
     "output_type": "execute_result"
    }
   ],
   "source": [
    "nutr_df.shape"
   ]
  },
  {
   "cell_type": "code",
   "execution_count": 33,
   "metadata": {},
   "outputs": [
    {
     "data": {
      "text/plain": [
       "0"
      ]
     },
     "execution_count": 33,
     "metadata": {},
     "output_type": "execute_result"
    }
   ],
   "source": [
    "num_dups = nutr_df.duplicated().sum()\n",
    "num_dups"
   ]
  },
  {
   "cell_type": "markdown",
   "metadata": {},
   "source": [
    "We will now look into which columns primarily have null values"
   ]
  },
  {
   "cell_type": "code",
   "execution_count": 7,
   "metadata": {},
   "outputs": [],
   "source": [
    "#get the null counts for each year\n",
    "null_year_df = pd.DataFrame()\n",
    "years=[]\n",
    "null_counts=[]\n",
    "for year in range(1960, 2016):\n",
    "  years.append(str(year))\n",
    "  null_counts.append(nutr_df[str(year)].isna().sum())\n",
    "\n",
    "null_year_df['year']=years\n",
    "null_year_df['null_count']=null_counts"
   ]
  },
  {
   "cell_type": "code",
   "execution_count": 12,
   "metadata": {},
   "outputs": [
    {
     "name": "stderr",
     "output_type": "stream",
     "text": [
      "/var/folders/3s/6h63ktl15h541pj1y1mgy8vw0000gn/T/ipykernel_99148/40134989.py:9: UserWarning: FixedFormatter should only be used together with FixedLocator\n",
      "  ax.set_xticklabels( years, rotation=45 )\n"
     ]
    },
    {
     "data": {
      "image/png": "[encoded data removed]",
      "text/plain": [
       "<Figure size 432x288 with 1 Axes>"
      ]
     },
     "metadata": {
      "needs_background": "light"
     },
     "output_type": "display_data"
    }
   ],
   "source": [
    "from matplotlib import pyplot as plt\n",
    "import seaborn as sns\n",
    "fig, ax = plt.subplots()\n",
    "sns.lineplot(data=null_year_df, x='year', y='null_count')\n",
    "xticks=ax.xaxis.get_major_ticks()\n",
    "for i in range(len(xticks)):\n",
    "    if i%5!=0:\n",
    "        xticks[i].set_visible(False)\n",
    "ax.set_xticklabels( years, rotation=45 )        \n",
    "plt.show()"
   ]
  },
  {
   "cell_type": "markdown",
   "metadata": {},
   "source": [
    "From the graph above, we can see that the early years (1960-1985) primarily contain null values. This makes sense, as data collection was not as consistent back then."
   ]
  },
  {
   "cell_type": "markdown",
   "metadata": {},
   "source": [
    "### Pivoting the table\n",
    "\n",
    "We will pivot the indicators to the columns and years to the rows. \n",
    "We are pivoting indicators to columns to make future steps in training the model more straightforward. Having the indicators in columns will allow us to easily project the table to indicators of interest. We are pivoting the years to the rows to make it easier to remove None and Nan values by year rather than by row. In our EDA, we see that most rows contain at least one None/Nan value in the columns of early years since not much data was collected then."
   ]
  },
  {
   "cell_type": "code",
   "execution_count": 52,
   "metadata": {},
   "outputs": [],
   "source": [
    "nutr_df.columns\n",
    "nutr_df.drop(\"Unnamed: 60\", axis=1, inplace=True)"
   ]
  },
  {
   "cell_type": "code",
   "execution_count": 18,
   "metadata": {},
   "outputs": [],
   "source": [
    "melt_nutr_df = nutr_df.melt(id_vars=[\"Country Name\", \"Country Code\", \"Indicator Name\", \"Indicator Code\"], var_name=\"Year\", value_name=\"Value\")\n"
   ]
  },
  {
   "cell_type": "code",
   "execution_count": 20,
   "metadata": {},
   "outputs": [
    {
     "data": {
      "text/plain": [
       "Index(['Country Name', 'Country Code', 'Indicator Name', 'Indicator Code',\n",
       "       'Year', 'Value'],\n",
       "      dtype='object')"
      ]
     },
     "execution_count": 20,
     "metadata": {},
     "output_type": "execute_result"
    }
   ],
   "source": [
    "melt_nutr_df.columns"
   ]
  },
  {
   "cell_type": "code",
   "execution_count": 25,
   "metadata": {},
   "outputs": [],
   "source": [
    "unique_indicators = nutr_df['Indicator Name'].unique().tolist()"
   ]
  },
  {
   "cell_type": "code",
   "execution_count": 62,
   "metadata": {},
   "outputs": [
    {
     "name": "stderr",
     "output_type": "stream",
     "text": [
      "/var/folders/3s/6h63ktl15h541pj1y1mgy8vw0000gn/T/ipykernel_99148/420717011.py:4: PerformanceWarning: DataFrame is highly fragmented.  This is usually the result of calling `frame.insert` many times, which has poor performance.  Consider joining all columns at once using pd.concat(axis=1) instead.  To get a de-fragmented frame, use `newframe = frame.copy()`\n",
      "  pivoted_df[i]=melt_nutr_df[melt_nutr_df['Indicator Name']==i]['Value']\n"
     ]
    }
   ],
   "source": [
    "pivoted_df=pd.DataFrame()\n",
    "first=True\n",
    "for i in unique_indicators:\n",
    "    if first:\n",
    "        pivoted_df['Country Name']=melt_nutr_df[melt_nutr_df['Indicator Name']==i]['Country Name']\n",
    "        pivoted_df['Year']=melt_nutr_df[melt_nutr_df['Indicator Name']==i]['Year']\n",
    "        first=False\n",
    "    pivoted_df[i]=melt_nutr_df[melt_nutr_df['Indicator Name']==i]['Value']\n",
    "    "
   ]
  },
  {
   "cell_type": "code",
   "execution_count": 68,
   "metadata": {},
   "outputs": [
    {
     "data": {
      "text/html": [
       "<div>\n",
       "<style scoped>\n",
       "    .dataframe tbody tr th:only-of-type {\n",
       "        vertical-align: middle;\n",
       "    }\n",
       "\n",
       "    .dataframe tbody tr th {\n",
       "        vertical-align: top;\n",
       "    }\n",
       "\n",
       "    .dataframe thead th {\n",
       "        text-align: right;\n",
       "    }\n",
       "</style>\n",
       "<table border=\"1\" class=\"dataframe\">\n",
       "  <thead>\n",
       "    <tr style=\"text-align: right;\">\n",
       "      <th></th>\n",
       "      <th>Country Name</th>\n",
       "      <th>Year</th>\n",
       "      <th>% of females ages 15-49 having comprehensive correct knowledge about HIV (2 prevent ways and reject 3 misconceptions)</th>\n",
       "      <th>% of males ages 15-49 having comprehensive correct knowledge about HIV (2 prevent ways and reject 3 misconceptions)</th>\n",
       "      <th>Adolescent fertility rate (births per 1,000 women ages 15-19)</th>\n",
       "      <th>Adults (ages 15+) and children (0-14 years) living with HIV</th>\n",
       "      <th>Adults (ages 15+) and children (ages 0-14) newly infected with HIV</th>\n",
       "      <th>Adults (ages 15+) living with HIV</th>\n",
       "      <th>Adults (ages 15+) newly infected with HIV</th>\n",
       "      <th>Age at first marriage, female</th>\n",
       "      <th>...</th>\n",
       "      <th>Urban population</th>\n",
       "      <th>Urban population (% of total)</th>\n",
       "      <th>Urban population growth (annual %)</th>\n",
       "      <th>Urban poverty headcount ratio at national poverty lines (% of urban population)</th>\n",
       "      <th>Use of any antimalarial drug (% of pregnant women)</th>\n",
       "      <th>Use of insecticide-treated bed nets (% of under-5 population)</th>\n",
       "      <th>Use of Intermittent Preventive Treatment of malaria, 2+ doses of SP/Fansidar (% of pregnant women)</th>\n",
       "      <th>Vitamin A supplementation coverage rate (% of children ages 6-59 months)</th>\n",
       "      <th>Wanted fertility rate (births per woman)</th>\n",
       "      <th>Women's share of population ages 15+ living with HIV (%)</th>\n",
       "    </tr>\n",
       "  </thead>\n",
       "  <tbody>\n",
       "    <tr>\n",
       "      <th>0</th>\n",
       "      <td>Arab World</td>\n",
       "      <td>1960</td>\n",
       "      <td>NaN</td>\n",
       "      <td>NaN</td>\n",
       "      <td>NaN</td>\n",
       "      <td>NaN</td>\n",
       "      <td>NaN</td>\n",
       "      <td>NaN</td>\n",
       "      <td>NaN</td>\n",
       "      <td>NaN</td>\n",
       "      <td>...</td>\n",
       "      <td>NaN</td>\n",
       "      <td>NaN</td>\n",
       "      <td>NaN</td>\n",
       "      <td>NaN</td>\n",
       "      <td>NaN</td>\n",
       "      <td>NaN</td>\n",
       "      <td>NaN</td>\n",
       "      <td>NaN</td>\n",
       "      <td>NaN</td>\n",
       "      <td>NaN</td>\n",
       "    </tr>\n",
       "    <tr>\n",
       "      <th>345</th>\n",
       "      <td>Caribbean small states</td>\n",
       "      <td>1960</td>\n",
       "      <td>NaN</td>\n",
       "      <td>NaN</td>\n",
       "      <td>NaN</td>\n",
       "      <td>NaN</td>\n",
       "      <td>NaN</td>\n",
       "      <td>NaN</td>\n",
       "      <td>NaN</td>\n",
       "      <td>NaN</td>\n",
       "      <td>...</td>\n",
       "      <td>NaN</td>\n",
       "      <td>NaN</td>\n",
       "      <td>NaN</td>\n",
       "      <td>NaN</td>\n",
       "      <td>NaN</td>\n",
       "      <td>NaN</td>\n",
       "      <td>NaN</td>\n",
       "      <td>NaN</td>\n",
       "      <td>NaN</td>\n",
       "      <td>NaN</td>\n",
       "    </tr>\n",
       "    <tr>\n",
       "      <th>690</th>\n",
       "      <td>Central Europe and the Baltics</td>\n",
       "      <td>1960</td>\n",
       "      <td>NaN</td>\n",
       "      <td>NaN</td>\n",
       "      <td>NaN</td>\n",
       "      <td>NaN</td>\n",
       "      <td>NaN</td>\n",
       "      <td>NaN</td>\n",
       "      <td>NaN</td>\n",
       "      <td>NaN</td>\n",
       "      <td>...</td>\n",
       "      <td>NaN</td>\n",
       "      <td>NaN</td>\n",
       "      <td>NaN</td>\n",
       "      <td>NaN</td>\n",
       "      <td>NaN</td>\n",
       "      <td>NaN</td>\n",
       "      <td>NaN</td>\n",
       "      <td>NaN</td>\n",
       "      <td>NaN</td>\n",
       "      <td>NaN</td>\n",
       "    </tr>\n",
       "    <tr>\n",
       "      <th>1035</th>\n",
       "      <td>Early-demographic dividend</td>\n",
       "      <td>1960</td>\n",
       "      <td>NaN</td>\n",
       "      <td>NaN</td>\n",
       "      <td>NaN</td>\n",
       "      <td>NaN</td>\n",
       "      <td>NaN</td>\n",
       "      <td>NaN</td>\n",
       "      <td>NaN</td>\n",
       "      <td>NaN</td>\n",
       "      <td>...</td>\n",
       "      <td>NaN</td>\n",
       "      <td>NaN</td>\n",
       "      <td>NaN</td>\n",
       "      <td>NaN</td>\n",
       "      <td>NaN</td>\n",
       "      <td>NaN</td>\n",
       "      <td>NaN</td>\n",
       "      <td>NaN</td>\n",
       "      <td>NaN</td>\n",
       "      <td>NaN</td>\n",
       "    </tr>\n",
       "    <tr>\n",
       "      <th>1380</th>\n",
       "      <td>East Asia &amp; Pacific</td>\n",
       "      <td>1960</td>\n",
       "      <td>NaN</td>\n",
       "      <td>NaN</td>\n",
       "      <td>NaN</td>\n",
       "      <td>NaN</td>\n",
       "      <td>NaN</td>\n",
       "      <td>NaN</td>\n",
       "      <td>NaN</td>\n",
       "      <td>NaN</td>\n",
       "      <td>...</td>\n",
       "      <td>NaN</td>\n",
       "      <td>NaN</td>\n",
       "      <td>NaN</td>\n",
       "      <td>NaN</td>\n",
       "      <td>NaN</td>\n",
       "      <td>NaN</td>\n",
       "      <td>NaN</td>\n",
       "      <td>NaN</td>\n",
       "      <td>NaN</td>\n",
       "      <td>NaN</td>\n",
       "    </tr>\n",
       "  </tbody>\n",
       "</table>\n",
       "<p>5 rows × 347 columns</p>\n",
       "</div>"
      ],
      "text/plain": [
       "                        Country Name  Year  \\\n",
       "0                         Arab World  1960   \n",
       "345           Caribbean small states  1960   \n",
       "690   Central Europe and the Baltics  1960   \n",
       "1035      Early-demographic dividend  1960   \n",
       "1380             East Asia & Pacific  1960   \n",
       "\n",
       "      % of females ages 15-49 having comprehensive correct knowledge about HIV (2 prevent ways and reject 3 misconceptions)  \\\n",
       "0                                                   NaN                                                                       \n",
       "345                                                 NaN                                                                       \n",
       "690                                                 NaN                                                                       \n",
       "1035                                                NaN                                                                       \n",
       "1380                                                NaN                                                                       \n",
       "\n",
       "      % of males ages 15-49 having comprehensive correct knowledge about HIV (2 prevent ways and reject 3 misconceptions)  \\\n",
       "0                                                   NaN                                                                     \n",
       "345                                                 NaN                                                                     \n",
       "690                                                 NaN                                                                     \n",
       "1035                                                NaN                                                                     \n",
       "1380                                                NaN                                                                     \n",
       "\n",
       "      Adolescent fertility rate (births per 1,000 women ages 15-19)  \\\n",
       "0                                                   NaN               \n",
       "345                                                 NaN               \n",
       "690                                                 NaN               \n",
       "1035                                                NaN               \n",
       "1380                                                NaN               \n",
       "\n",
       "      Adults (ages 15+) and children (0-14 years) living with HIV  \\\n",
       "0                                                   NaN             \n",
       "345                                                 NaN             \n",
       "690                                                 NaN             \n",
       "1035                                                NaN             \n",
       "1380                                                NaN             \n",
       "\n",
       "      Adults (ages 15+) and children (ages 0-14) newly infected with HIV  \\\n",
       "0                                                   NaN                    \n",
       "345                                                 NaN                    \n",
       "690                                                 NaN                    \n",
       "1035                                                NaN                    \n",
       "1380                                                NaN                    \n",
       "\n",
       "      Adults (ages 15+) living with HIV  \\\n",
       "0                                   NaN   \n",
       "345                                 NaN   \n",
       "690                                 NaN   \n",
       "1035                                NaN   \n",
       "1380                                NaN   \n",
       "\n",
       "      Adults (ages 15+) newly infected with HIV  \\\n",
       "0                                           NaN   \n",
       "345                                         NaN   \n",
       "690                                         NaN   \n",
       "1035                                        NaN   \n",
       "1380                                        NaN   \n",
       "\n",
       "      Age at first marriage, female  ...  Urban population  \\\n",
       "0                               NaN  ...               NaN   \n",
       "345                             NaN  ...               NaN   \n",
       "690                             NaN  ...               NaN   \n",
       "1035                            NaN  ...               NaN   \n",
       "1380                            NaN  ...               NaN   \n",
       "\n",
       "      Urban population (% of total)  Urban population growth (annual %)  \\\n",
       "0                               NaN                                 NaN   \n",
       "345                             NaN                                 NaN   \n",
       "690                             NaN                                 NaN   \n",
       "1035                            NaN                                 NaN   \n",
       "1380                            NaN                                 NaN   \n",
       "\n",
       "      Urban poverty headcount ratio at national poverty lines (% of urban population)  \\\n",
       "0                                                   NaN                                 \n",
       "345                                                 NaN                                 \n",
       "690                                                 NaN                                 \n",
       "1035                                                NaN                                 \n",
       "1380                                                NaN                                 \n",
       "\n",
       "      Use of any antimalarial drug (% of pregnant women)  \\\n",
       "0                                                   NaN    \n",
       "345                                                 NaN    \n",
       "690                                                 NaN    \n",
       "1035                                                NaN    \n",
       "1380                                                NaN    \n",
       "\n",
       "      Use of insecticide-treated bed nets (% of under-5 population)  \\\n",
       "0                                                   NaN               \n",
       "345                                                 NaN               \n",
       "690                                                 NaN               \n",
       "1035                                                NaN               \n",
       "1380                                                NaN               \n",
       "\n",
       "      Use of Intermittent Preventive Treatment of malaria, 2+ doses of SP/Fansidar (% of pregnant women)  \\\n",
       "0                                                   NaN                                                    \n",
       "345                                                 NaN                                                    \n",
       "690                                                 NaN                                                    \n",
       "1035                                                NaN                                                    \n",
       "1380                                                NaN                                                    \n",
       "\n",
       "      Vitamin A supplementation coverage rate (% of children ages 6-59 months)  \\\n",
       "0                                                   NaN                          \n",
       "345                                                 NaN                          \n",
       "690                                                 NaN                          \n",
       "1035                                                NaN                          \n",
       "1380                                                NaN                          \n",
       "\n",
       "      Wanted fertility rate (births per woman)  \\\n",
       "0                                          NaN   \n",
       "345                                        NaN   \n",
       "690                                        NaN   \n",
       "1035                                       NaN   \n",
       "1380                                       NaN   \n",
       "\n",
       "      Women's share of population ages 15+ living with HIV (%)  \n",
       "0                                                   NaN         \n",
       "345                                                 NaN         \n",
       "690                                                 NaN         \n",
       "1035                                                NaN         \n",
       "1380                                                NaN         \n",
       "\n",
       "[5 rows x 347 columns]"
      ]
     },
     "execution_count": 68,
     "metadata": {},
     "output_type": "execute_result"
    }
   ],
   "source": [
    "pivoted_df.head(5)"
   ]
  },
  {
   "cell_type": "markdown",
   "metadata": {},
   "source": [
    "## Correlation Matrix\n",
    "In the following cells, we will determine which indicators have the greatest impact on a country's GDP. This will be done though by finding the correlation between the GDP and each indicator."
   ]
  },
  {
   "cell_type": "markdown",
   "metadata": {},
   "source": [
    "## Linear Regression\n",
    "\n",
    "Define a linear regerssion model using the indicators with high correlation as features and GDP as the label"
   ]
  },
  {
   "cell_type": "markdown",
   "metadata": {},
   "source": [
    "## Random Forest Regressor"
   ]
  },
  {
   "cell_type": "markdown",
   "metadata": {},
   "source": [
    "## Clustering\n",
    "\n",
    "Our last approach will be to use clustering to classify what bracket of GDP a country falls in. While this will not give an accurate GDP like the prediction models above, this fits the purpose of our project, which is to predict the welfare of a nation based on its socioeconomic and cultural metrics. It suffices to group certain ranges of GDPs and predict what group a particular country falls under"
   ]
  },
  {
   "cell_type": "code",
   "execution_count": null,
   "metadata": {},
   "outputs": [],
   "source": []
  },
  {
   "cell_type": "code",
   "execution_count": 16,
   "metadata": {},
   "outputs": [],
   "source": [
    "from sklearn.decomposition import PCA\n",
    "from sklearn.preprocessing import StandardScaler"
   ]
  },
  {
   "cell_type": "code",
   "execution_count": 17,
   "metadata": {},
   "outputs": [],
   "source": [
    "# Extract the features we want to include in the PCA\n",
    "X = melt_nutr_df[['Year', 'Value']]"
   ]
  },
  {
   "cell_type": "code",
   "execution_count": 18,
   "metadata": {},
   "outputs": [
    {
     "name": "stdout",
     "output_type": "stream",
     "text": [
      "[0.50326287 0.49673713]\n"
     ]
    }
   ],
   "source": [
    "# Standardize the features by subtracting the mean and scaling to unit variance\n",
    "scaler = StandardScaler()\n",
    "X_std = scaler.fit_transform(X)\n",
    "\n",
    "# Create a PCA object with 2 components\n",
    "pca = PCA(n_components=2)\n",
    "\n",
    "# Fit the PCA model to the standardized data\n",
    "pca.fit(X_std)\n",
    "\n",
    "# Transform the data to the new coordinate system\n",
    "X_pca = pca.transform(X_std)\n",
    "\n",
    "# Create a new DataFrame with the transformed data and the country labels\n",
    "df_pca = pd.DataFrame(X_pca, columns=['PC1', 'PC2'])\n",
    "df_pca['Country'] = melt_nutr_df['Country Name']\n",
    "\n",
    "# Print the explained variance of each principal component\n",
    "print(pca.explained_variance_ratio_)"
   ]
  },
  {
   "cell_type": "code",
   "execution_count": 24,
   "metadata": {},
   "outputs": [],
   "source": [
    "import seaborn as sns\n",
    "import matplotlib.pyplot as plt"
   ]
  },
  {
   "cell_type": "code",
   "execution_count": 32,
   "metadata": {},
   "outputs": [
    {
     "data": {
      "text/html": [
       "<div>\n",
       "<style scoped>\n",
       "    .dataframe tbody tr th:only-of-type {\n",
       "        vertical-align: middle;\n",
       "    }\n",
       "\n",
       "    .dataframe tbody tr th {\n",
       "        vertical-align: top;\n",
       "    }\n",
       "\n",
       "    .dataframe thead th {\n",
       "        text-align: right;\n",
       "    }\n",
       "</style>\n",
       "<table border=\"1\" class=\"dataframe\">\n",
       "  <thead>\n",
       "    <tr style=\"text-align: right;\">\n",
       "      <th></th>\n",
       "      <th>Indicator Name</th>\n",
       "      <th>Country Name</th>\n",
       "      <th>Value</th>\n",
       "    </tr>\n",
       "  </thead>\n",
       "  <tbody>\n",
       "    <tr>\n",
       "      <th>0</th>\n",
       "      <td>% of females ages 15-49 having comprehensive c...</td>\n",
       "      <td>Afghanistan</td>\n",
       "      <td>1.500000</td>\n",
       "    </tr>\n",
       "    <tr>\n",
       "      <th>1</th>\n",
       "      <td>% of females ages 15-49 having comprehensive c...</td>\n",
       "      <td>Albania</td>\n",
       "      <td>11.333333</td>\n",
       "    </tr>\n",
       "    <tr>\n",
       "      <th>2</th>\n",
       "      <td>% of females ages 15-49 having comprehensive c...</td>\n",
       "      <td>Algeria</td>\n",
       "      <td>10.700000</td>\n",
       "    </tr>\n",
       "    <tr>\n",
       "      <th>3</th>\n",
       "      <td>% of females ages 15-49 having comprehensive c...</td>\n",
       "      <td>Argentina</td>\n",
       "      <td>45.300000</td>\n",
       "    </tr>\n",
       "    <tr>\n",
       "      <th>4</th>\n",
       "      <td>% of females ages 15-49 having comprehensive c...</td>\n",
       "      <td>Armenia</td>\n",
       "      <td>19.033333</td>\n",
       "    </tr>\n",
       "    <tr>\n",
       "      <th>...</th>\n",
       "      <td>...</td>\n",
       "      <td>...</td>\n",
       "      <td>...</td>\n",
       "    </tr>\n",
       "    <tr>\n",
       "      <th>67995</th>\n",
       "      <td>Women's share of population ages 15+ living wi...</td>\n",
       "      <td>Vietnam</td>\n",
       "      <td>19.073451</td>\n",
       "    </tr>\n",
       "    <tr>\n",
       "      <th>67996</th>\n",
       "      <td>Women's share of population ages 15+ living wi...</td>\n",
       "      <td>World</td>\n",
       "      <td>49.354686</td>\n",
       "    </tr>\n",
       "    <tr>\n",
       "      <th>67997</th>\n",
       "      <td>Women's share of population ages 15+ living wi...</td>\n",
       "      <td>Yemen, Rep.</td>\n",
       "      <td>32.095671</td>\n",
       "    </tr>\n",
       "    <tr>\n",
       "      <th>67998</th>\n",
       "      <td>Women's share of population ages 15+ living wi...</td>\n",
       "      <td>Zambia</td>\n",
       "      <td>56.782600</td>\n",
       "    </tr>\n",
       "    <tr>\n",
       "      <th>67999</th>\n",
       "      <td>Women's share of population ages 15+ living wi...</td>\n",
       "      <td>Zimbabwe</td>\n",
       "      <td>57.110083</td>\n",
       "    </tr>\n",
       "  </tbody>\n",
       "</table>\n",
       "<p>68000 rows × 3 columns</p>\n",
       "</div>"
      ],
      "text/plain": [
       "                                          Indicator Name Country Name  \\\n",
       "0      % of females ages 15-49 having comprehensive c...  Afghanistan   \n",
       "1      % of females ages 15-49 having comprehensive c...      Albania   \n",
       "2      % of females ages 15-49 having comprehensive c...      Algeria   \n",
       "3      % of females ages 15-49 having comprehensive c...    Argentina   \n",
       "4      % of females ages 15-49 having comprehensive c...      Armenia   \n",
       "...                                                  ...          ...   \n",
       "67995  Women's share of population ages 15+ living wi...      Vietnam   \n",
       "67996  Women's share of population ages 15+ living wi...        World   \n",
       "67997  Women's share of population ages 15+ living wi...  Yemen, Rep.   \n",
       "67998  Women's share of population ages 15+ living wi...       Zambia   \n",
       "67999  Women's share of population ages 15+ living wi...     Zimbabwe   \n",
       "\n",
       "           Value  \n",
       "0       1.500000  \n",
       "1      11.333333  \n",
       "2      10.700000  \n",
       "3      45.300000  \n",
       "4      19.033333  \n",
       "...          ...  \n",
       "67995  19.073451  \n",
       "67996  49.354686  \n",
       "67997  32.095671  \n",
       "67998  56.782600  \n",
       "67999  57.110083  \n",
       "\n",
       "[68000 rows x 3 columns]"
      ]
     },
     "execution_count": 32,
     "metadata": {},
     "output_type": "execute_result"
    }
   ],
   "source": [
    "# Aggregate the values for duplicate entries\n",
    "melt_nutr_df_avg = melt_nutr_df.groupby(['Indicator Name', 'Country Name'])['Value'].mean().reset_index()\n",
    "melt_nutr_df_avg"
   ]
  }
 ],
 "metadata": {
  "interpreter": {
   "hash": "a76aa15ad5f66d07f8fa7b36d7189cac16456af6103f36d68dbd7eed65094372"
  },
  "kernelspec": {
   "display_name": "Python 3.9.7",
   "language": "python",
   "name": "python3"
  },
  "language_info": {
   "codemirror_mode": {
    "name": "ipython",
    "version": 3
   },
   "file_extension": ".py",
   "mimetype": "text/x-python",
   "name": "python",
   "nbconvert_exporter": "python",
   "pygments_lexer": "ipython3",
   "version": "3.9.7"
  },
  "orig_nbformat": 4,
  "vscode": {
   "interpreter": {
    "hash": "7e1998ff7f8aa20ada591c520b972326324e5ea05489af9e422744c7c09f6dad"
   }
  }
 },
 "nbformat": 4,
 "nbformat_minor": 2
}
